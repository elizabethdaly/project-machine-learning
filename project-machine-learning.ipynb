{
 "cells": [
  {
   "cell_type": "markdown",
   "metadata": {},
   "source": [
    "# Elizabeth Daly\n",
    "# HDip Data Analytics 2020\n",
    "## Machine Learning & Statistics Project\n",
    "***"
   ]
  },
  {
   "cell_type": "markdown",
   "metadata": {},
   "source": [
    "For the module project we must create a web service that uses machine learning to make predictions of wind turbine power output from wind speed values. The web service should respond with predicted power values based on wind speed values sent as HTTP requests. A Dockerfile will be used to build and run the web service in a container. "
   ]
  },
  {
   "cell_type": "markdown",
   "metadata": {},
   "source": [
    "The very first thing to do is to import required packages. I do them all here in one place."
   ]
  },
  {
   "cell_type": "code",
   "execution_count": 1,
   "metadata": {},
   "outputs": [],
   "source": [
    "# For data frames.\n",
    "import pandas as pd\n",
    "\n",
    "# For numerical arrays.\n",
    "import numpy as np\n",
    "\n",
    "# For plotting\n",
    "import matplotlib.pyplot as plt\n",
    "\n",
    "#For maths\n",
    "import math as m\n",
    "\n",
    "# Might use this.\n",
    "import seaborn as sns\n",
    "\n",
    "# For linear regression.\n",
    "from sklearn import linear_model\n",
    "\n",
    "# For evaluating model performance.\n",
    "from sklearn.metrics import mean_squared_error, r2_score\n",
    "\n",
    "# For generating polynomial features in the data.\n",
    "from sklearn.preprocessing import PolynomialFeatures\n",
    "\n",
    "# For splitting data into train / test sets.\n",
    "from sklearn.model_selection import train_test_split\n",
    "\n",
    "# For defining a pipeline. NOT USED\n",
    "# from sklearn.pipeline import Pipeline\n",
    "\n",
    "# For support vector machine regression.\n",
    "from sklearn.svm import SVR\n",
    "\n",
    "# Want to scale the input  for SVR.\n",
    "from sklearn.preprocessing import StandardScaler\n",
    "\n",
    "# For neural networks\n",
    "import tensorflow.keras as kr\n",
    "\n",
    "# For saving/restoring models using pickle\n",
    "import joblib"
   ]
  },
  {
   "cell_type": "code",
   "execution_count": 2,
   "metadata": {},
   "outputs": [],
   "source": [
    "plt.rcParams['figure.figsize'] = (8.0, 6.0) # Make nice big figures"
   ]
  },
  {
   "cell_type": "markdown",
   "metadata": {},
   "source": [
    "## Data exploration\n",
    "Reference <span style='color:red'> [1 Geron] </span> suggests a number of steps to follow when beginning a new machine learning project. The very first is to get the data and explore it, so now I'll import the **powerproduction** dataset provided and have a look at it. I'll also keep an intact copy of the original dataset in a dataframe called dforig. "
   ]
  },
  {
   "cell_type": "code",
   "execution_count": 3,
   "metadata": {},
   "outputs": [
    {
     "name": "stdout",
     "output_type": "stream",
     "text": [
      "Data frame shape (500, 2) r,c\n",
      "speed    500\n",
      "power    500\n",
      "dtype: int64\n"
     ]
    }
   ],
   "source": [
    "# File provided as a txt file. I saved it as a csv file.\n",
    "df = pd.read_csv(\"data\\powerproduction.csv\")\n",
    "\n",
    "# Make a copy of the original dataset in case we need it later.\n",
    "dforig = df\n",
    "\n",
    "# Size?\n",
    "shape = df.shape\n",
    "print(\"Data frame shape\", shape, \"r,c\")\n",
    "\n",
    "# Check for NaNs, missing values etc\n",
    "print(df.count())"
   ]
  },
  {
   "cell_type": "code",
   "execution_count": 4,
   "metadata": {
    "scrolled": true
   },
   "outputs": [
    {
     "data": {
      "text/html": [
       "<div>\n",
       "<style scoped>\n",
       "    .dataframe tbody tr th:only-of-type {\n",
       "        vertical-align: middle;\n",
       "    }\n",
       "\n",
       "    .dataframe tbody tr th {\n",
       "        vertical-align: top;\n",
       "    }\n",
       "\n",
       "    .dataframe thead th {\n",
       "        text-align: right;\n",
       "    }\n",
       "</style>\n",
       "<table border=\"1\" class=\"dataframe\">\n",
       "  <thead>\n",
       "    <tr style=\"text-align: right;\">\n",
       "      <th></th>\n",
       "      <th>speed</th>\n",
       "      <th>power</th>\n",
       "    </tr>\n",
       "  </thead>\n",
       "  <tbody>\n",
       "    <tr>\n",
       "      <th>0</th>\n",
       "      <td>0.000</td>\n",
       "      <td>0.0</td>\n",
       "    </tr>\n",
       "    <tr>\n",
       "      <th>1</th>\n",
       "      <td>0.125</td>\n",
       "      <td>0.0</td>\n",
       "    </tr>\n",
       "    <tr>\n",
       "      <th>2</th>\n",
       "      <td>0.150</td>\n",
       "      <td>0.0</td>\n",
       "    </tr>\n",
       "    <tr>\n",
       "      <th>3</th>\n",
       "      <td>0.225</td>\n",
       "      <td>0.0</td>\n",
       "    </tr>\n",
       "    <tr>\n",
       "      <th>4</th>\n",
       "      <td>0.275</td>\n",
       "      <td>0.0</td>\n",
       "    </tr>\n",
       "    <tr>\n",
       "      <th>...</th>\n",
       "      <td>...</td>\n",
       "      <td>...</td>\n",
       "    </tr>\n",
       "    <tr>\n",
       "      <th>495</th>\n",
       "      <td>24.775</td>\n",
       "      <td>0.0</td>\n",
       "    </tr>\n",
       "    <tr>\n",
       "      <th>496</th>\n",
       "      <td>24.850</td>\n",
       "      <td>0.0</td>\n",
       "    </tr>\n",
       "    <tr>\n",
       "      <th>497</th>\n",
       "      <td>24.875</td>\n",
       "      <td>0.0</td>\n",
       "    </tr>\n",
       "    <tr>\n",
       "      <th>498</th>\n",
       "      <td>24.950</td>\n",
       "      <td>0.0</td>\n",
       "    </tr>\n",
       "    <tr>\n",
       "      <th>499</th>\n",
       "      <td>25.000</td>\n",
       "      <td>0.0</td>\n",
       "    </tr>\n",
       "  </tbody>\n",
       "</table>\n",
       "<p>500 rows × 2 columns</p>\n",
       "</div>"
      ],
      "text/plain": [
       "      speed  power\n",
       "0     0.000    0.0\n",
       "1     0.125    0.0\n",
       "2     0.150    0.0\n",
       "3     0.225    0.0\n",
       "4     0.275    0.0\n",
       "..      ...    ...\n",
       "495  24.775    0.0\n",
       "496  24.850    0.0\n",
       "497  24.875    0.0\n",
       "498  24.950    0.0\n",
       "499  25.000    0.0\n",
       "\n",
       "[500 rows x 2 columns]"
      ]
     },
     "execution_count": 4,
     "metadata": {},
     "output_type": "execute_result"
    }
   ],
   "source": [
    "df"
   ]
  },
  {
   "cell_type": "markdown",
   "metadata": {},
   "source": [
    "The raw data contains a column of wind speed values (in increasing order of wind speed) and a column of associated power values. Looks like the first and last 5 lines contain zeros for power. Is this just a fluke? There's probably a reason for it: one can't generate power with low wind speeds and perhaps one can't operate the turbines at very high wind speeds? Check by printing more of the head of file. No units have been provided with the data, so I will assume units of wind speed are (m/s), and those of power are kilowatts (kW), as that's what seems to make sense for these numbers."
   ]
  },
  {
   "cell_type": "code",
   "execution_count": 5,
   "metadata": {},
   "outputs": [
    {
     "data": {
      "text/html": [
       "<div>\n",
       "<style scoped>\n",
       "    .dataframe tbody tr th:only-of-type {\n",
       "        vertical-align: middle;\n",
       "    }\n",
       "\n",
       "    .dataframe tbody tr th {\n",
       "        vertical-align: top;\n",
       "    }\n",
       "\n",
       "    .dataframe thead th {\n",
       "        text-align: right;\n",
       "    }\n",
       "</style>\n",
       "<table border=\"1\" class=\"dataframe\">\n",
       "  <thead>\n",
       "    <tr style=\"text-align: right;\">\n",
       "      <th></th>\n",
       "      <th>speed</th>\n",
       "      <th>power</th>\n",
       "    </tr>\n",
       "  </thead>\n",
       "  <tbody>\n",
       "    <tr>\n",
       "      <th>0</th>\n",
       "      <td>0.000</td>\n",
       "      <td>0.000</td>\n",
       "    </tr>\n",
       "    <tr>\n",
       "      <th>1</th>\n",
       "      <td>0.125</td>\n",
       "      <td>0.000</td>\n",
       "    </tr>\n",
       "    <tr>\n",
       "      <th>2</th>\n",
       "      <td>0.150</td>\n",
       "      <td>0.000</td>\n",
       "    </tr>\n",
       "    <tr>\n",
       "      <th>3</th>\n",
       "      <td>0.225</td>\n",
       "      <td>0.000</td>\n",
       "    </tr>\n",
       "    <tr>\n",
       "      <th>4</th>\n",
       "      <td>0.275</td>\n",
       "      <td>0.000</td>\n",
       "    </tr>\n",
       "    <tr>\n",
       "      <th>5</th>\n",
       "      <td>0.325</td>\n",
       "      <td>4.331</td>\n",
       "    </tr>\n",
       "    <tr>\n",
       "      <th>6</th>\n",
       "      <td>0.400</td>\n",
       "      <td>5.186</td>\n",
       "    </tr>\n",
       "    <tr>\n",
       "      <th>7</th>\n",
       "      <td>0.450</td>\n",
       "      <td>3.826</td>\n",
       "    </tr>\n",
       "    <tr>\n",
       "      <th>8</th>\n",
       "      <td>0.501</td>\n",
       "      <td>1.048</td>\n",
       "    </tr>\n",
       "    <tr>\n",
       "      <th>9</th>\n",
       "      <td>0.526</td>\n",
       "      <td>5.553</td>\n",
       "    </tr>\n",
       "  </tbody>\n",
       "</table>\n",
       "</div>"
      ],
      "text/plain": [
       "   speed  power\n",
       "0  0.000  0.000\n",
       "1  0.125  0.000\n",
       "2  0.150  0.000\n",
       "3  0.225  0.000\n",
       "4  0.275  0.000\n",
       "5  0.325  4.331\n",
       "6  0.400  5.186\n",
       "7  0.450  3.826\n",
       "8  0.501  1.048\n",
       "9  0.526  5.553"
      ]
     },
     "execution_count": 5,
     "metadata": {},
     "output_type": "execute_result"
    }
   ],
   "source": [
    "df.head(10)"
   ]
  },
  {
   "cell_type": "code",
   "execution_count": 6,
   "metadata": {},
   "outputs": [
    {
     "name": "stdout",
     "output_type": "stream",
     "text": [
      "            speed       power\n",
      "count  500.000000  500.000000\n",
      "mean    12.590398   48.014584\n",
      "std      7.224991   41.614572\n",
      "min      0.000000    0.000000\n",
      "25%      6.324750    5.288000\n",
      "50%     12.550500   41.645500\n",
      "75%     18.775250   93.537000\n",
      "max     25.000000  113.556000\n"
     ]
    }
   ],
   "source": [
    "# Look at some quick descriptive statistics of the numeric data.\n",
    "print(df.describe())"
   ]
  },
  {
   "cell_type": "markdown",
   "metadata": {},
   "source": [
    "Look at the distribution of wind speeds. Why? Our assignment in the Programming for Data Analysis module involved looking at the numpy.random package <span style='color:red'> [2 np random]</span>. I learned that, under certain conditions, wind speed has a Rayleigh distribution, which is not symmetrical. I wonder if the samples in our dataset follow a such distribution? The mean and variance of this distribution are calculated from the scale factor: $\\mu = \\sqrt{\\pi / 2} s$ and $\\sigma^2 = (4 - \\pi)/2 s^2$. This results in $\\mu \\approx 1.25 s$ and $\\sigma^2 \\approx 0.43 s$. From the descriptive statistics above we know that the mean wind speed is 12.6 m/s, so the scale factor to use is $s = \\mu/1.25 \\approx 10$."
   ]
  },
  {
   "cell_type": "code",
   "execution_count": 7,
   "metadata": {},
   "outputs": [
    {
     "name": "stdout",
     "output_type": "stream",
     "text": [
      "Average wind speed is 12.59 m/s\n"
     ]
    },
    {
     "data": {
      "image/png": "[encoded data removed]",
      "text/plain": [
       "<Figure size 576x432 with 1 Axes>"
      ]
     },
     "metadata": {
      "needs_background": "light"
     },
     "output_type": "display_data"
    }
   ],
   "source": [
    "# Wind speeds sampled from a Rayleigh distribution, mean=12.6 m/s\n",
    "# Default: numpy.random.rayleigh(scale=1.0, size=None)\n",
    "data = np.random.rayleigh(10, 1000) \n",
    "plt.hist(data, bins=30, alpha = 0.3, facecolor='blue', edgecolor='black', label=['Rayleigh'])\n",
    "\n",
    "bins = np.arange(0, 30, 2) # fixed bin size\n",
    "plt.hist(df['speed'], bins=bins, alpha=0.5, facecolor='red', label=['Data'])\n",
    "\n",
    "plt.xlabel('Wind speed (m/s)')\n",
    "plt.ylabel('Probability')\n",
    "plt.title('Histogram of wind speed: $\\mu=10 m/s$')\n",
    "plt.legend()\n",
    "w = df['speed'].mean(axis=0)\n",
    "print(f'Average wind speed is {w:.2f} m/s')"
   ]
  },
  {
   "cell_type": "markdown",
   "metadata": {},
   "source": [
    "Well, that was a dead end. Clearly the wind speeds provided do not follow a Rayleigh distribution, rather roughly a uniform distribution."
   ]
  },
  {
   "cell_type": "code",
   "execution_count": 8,
   "metadata": {},
   "outputs": [
    {
     "data": {
      "image/png": "[encoded data removed]",
      "text/plain": [
       "<Figure size 576x432 with 1 Axes>"
      ]
     },
     "metadata": {
      "needs_background": "light"
     },
     "output_type": "display_data"
    }
   ],
   "source": [
    "# Try plotting power as a function of wind speed to check for any obvious relationship between them.\n",
    "plt.plot(df['speed'], df['power'],  '.g')\n",
    "plt.title('Power vs wind speed', fontsize='14')\n",
    "plt.xlabel('speed (m/s)', fontsize='14')\n",
    "plt.ylabel('power', fontsize='14')\n",
    "plt.grid()"
   ]
  },
  {
   "cell_type": "markdown",
   "metadata": {},
   "source": [
    "Clearly there isn't a simple relationship between power and speed. It looks as if little power is generated until some threshold speed is achieved (about 7 m/s), then it increases nearly linearly in a range of wind speeds (10 - 15 m/s), before saturating above a certain wind speed (about 17 m/s). The plot would suggest there is a range of wind speeds where the power seems to increase linearly with wind speed, but we need to consider a model that works outside of this range also. Apart from the zero power values at the top and bottom (more here) of the dataset, there are very occasional zero values for power above about 10 m/s; to me they just look like anomalies."
   ]
  },
  {
   "cell_type": "markdown",
   "metadata": {},
   "source": [
    "### What do we expect?\n",
    "Is this the curve we should expect? I think so. The theoretical power curve for a turbine is specific to each turbine and site; see Figure 2 in <span style='color:red'> [3 WT curve] </span>. I'll include a screengrab here. On the figure:\n",
    "- The cut-in speed is the threshold wind speed that much be reached before the turbine will start to generate electricity. A typical value is about 3 m/s.\n",
    "- The rated output power is achieved at approximately 12 - 13 m/s.\n",
    "- The cut-out speed is the wind speed at which the turbine will stop producing electricity in order to avoid damage; typically 25 m/s."
   ]
  },
  {
   "cell_type": "markdown",
   "metadata": {},
   "source": [
    "<img src=\"img/P-wind-theory.JPG\" height=500 width=500>"
   ]
  },
  {
   "cell_type": "markdown",
   "metadata": {},
   "source": [
    "How is this theoretical curve calculated? I found some formulae which state that the extractable power from the wind is given by:\n",
    "$$P = \\frac{1}{2} \\rho A v^3 C_p$$\n",
    "where $\\rho$ is the density of air, $A$ is the area swept by the turbines, $v$ is the wind speed, and $C_p$ is the power coefficient <span style='color:red'> [4 WT calc] </span>. Looking at this formula I would expect power to depend on $v^3$. However, $C_p$ is not static as it depends on the ratio of blade tip speed to wind speed (called $\\lambda$). That function looks like this:"
   ]
  },
  {
   "cell_type": "markdown",
   "metadata": {},
   "source": [
    "<img src=\"img/Cp-lambda.JPG\">"
   ]
  },
  {
   "cell_type": "code",
   "execution_count": 9,
   "metadata": {},
   "outputs": [
    {
     "name": "stdout",
     "output_type": "stream",
     "text": [
      "Average wind speed in data is 12.59 m/s\n"
     ]
    },
    {
     "data": {
      "image/png": "[encoded data removed]",
      "text/plain": [
       "<Figure size 576x432 with 1 Axes>"
      ]
     },
     "metadata": {
      "needs_background": "light"
     },
     "output_type": "display_data"
    }
   ],
   "source": [
    "# So I would expect the power curve to be a product of $v^3$ and this bump above. I'll try to model it.\n",
    "# wind speed\n",
    "x = np.linspace(0, 25, 100)\n",
    "\n",
    "# speed ^3\n",
    "v = np.power(x, 3)\n",
    "\n",
    "# Try a Rayeigh distribution for the power coefficient, need scale factor sc.\n",
    "# w = mean wind speed from our dataset above\n",
    "print(f'Average wind speed in data is {w:.2f} m/s')\n",
    "\n",
    "sc = w / (m.sqrt((m.pi) / 2)) # mode or scale\n",
    "ray = lambda s, x: (x / s ** 2) * ( np.exp( (-x **2) / (2 * s **2) )  )\n",
    "\n",
    "# PLot the product v^3 * Rayleigh and scale it down.\n",
    "plt.plot(x, 0.5 * ray(sc, x)*v, color='b', label='Rayleigh * $v^3$')\n",
    "plt.title('Power curve formula', fontsize='14')\n",
    "plt.xlabel('speed (m/s)', fontsize='14')\n",
    "plt.ylabel('power', fontsize='14')\n",
    "plt.legend()\n",
    "plt.grid()"
   ]
  },
  {
   "cell_type": "markdown",
   "metadata": {},
   "source": [
    " So this is starting to look like our data but I feel it would be difficult to model exactly. I'll start with something simpler."
   ]
  },
  {
   "cell_type": "markdown",
   "metadata": {},
   "source": [
    "## Data preparation\n",
    "The next step in a project is to prepare the dataset <span style='color:red'> [1 Geron] </span>. The first thing I'll do is clean it by removing unwanted zeros. The easiest approach would be to remove all rows where power = 0. I don't really want to do that however, because I feel like the zero power values below about 10 m/s are part of the data, while the ones above about 24 m/s represent some sort of a limit of operation. I can't see how a model would be able to abruptly predict power = 0 at the very high end of speed values unless I hard coded it in as a condition, or constrained the allowed input speed values to a range. I might come back to this here, or place a limit on wind speed input values in the front end of the application.\n",
    "Other steps which could happen now include feature selection and feature scaling. Feature selection is used to drop inputs that provide no useful information; in our case we have only one input (speed) so that step isn't relevant. Feature scaling would be necessary if the scale of an input feature was very big or small compared to other features; again, not relevant here. "
   ]
  },
  {
   "cell_type": "code",
   "execution_count": 10,
   "metadata": {},
   "outputs": [
    {
     "data": {
      "image/png": "[encoded data removed]",
      "text/plain": [
       "<Figure size 576x432 with 1 Axes>"
      ]
     },
     "metadata": {
      "needs_background": "light"
     },
     "output_type": "display_data"
    }
   ],
   "source": [
    "# Where do all the zeros occur?\n",
    "dfz = df[df[\"power\"] == 0]\n",
    "# print(f'There are {dfz.shape} zero values for power')\n",
    "# print(dfz)\n",
    "\n",
    "# Want to keep all rows with power != 0 iff speed > 10\n",
    "# https://www.shanelynn.ie/select-pandas-dataframe-rows-and-columns-using-iloc-loc-and-ix/\n",
    "dfc = df.loc[(df.power == 0) & (df.speed > 10)] # indices where this is true\n",
    "dfc # check 14 rows\n",
    "# I want to remove these rows from my existing dataset.\n",
    "df.drop(df.loc[(df.power == 0) & (df.speed > 10)].index, inplace=True)\n",
    "\n",
    "plt.plot(df['speed'], df['power'],  '.b')\n",
    "plt.title('Power vs wind speed - cleaned', fontsize='14')\n",
    "plt.xlabel('speed (m/s)', fontsize='14')\n",
    "plt.ylabel('power (kW)', fontsize='14')\n",
    "plt.grid()"
   ]
  },
  {
   "cell_type": "markdown",
   "metadata": {},
   "source": [
    "## Identify promising models\n",
    "<span style='color:red'> [1 Geron] </span> now suggests shortlisting promising models. I'll have to think about it. This is a supervised learning problem because we have been provided with a training set which is labeled: we know the power output for each value of input wind speed. Furthermore, it is a regression problem because we have been asked to predict a target numeric value of power given an input wind speed. This is different to classification, where one would be asked to predict what class a particular input belongs to; for example, using the iris data set predict iris species using some/all of the inputs petal length, petal width, sepal length, and sepal width. Some supervised learning algorithms suitable for our task include linear regression, neural networks, and maybe some like Support Vector Machine (SVM) regression and decision trees. I'll probably try the first two and only do more if I have time.\n",
    "\n",
    "<span style='color:red'> [CourseML] </span> for some of these."
   ]
  },
  {
   "cell_type": "markdown",
   "metadata": {},
   "source": [
    "***\n",
    "### Model 0: Linear Regression\n",
    "Looking at the data, we could probably get away with fitting a straight line to it. That would likely do a very good job of predicting output power over a certain range of input wind speeds (around 10 - 15 m/s). However, it wouldn't do a great job around the places where the power is rising more slowly (< 10 m/s) or where it is leveling off (> 15 m/s). I think I'll start with a linear model and maybe move on to nonlinear regression afterwards. "
   ]
  },
  {
   "cell_type": "code",
   "execution_count": 11,
   "metadata": {},
   "outputs": [
    {
     "data": {
      "text/html": [
       "<div>\n",
       "<style scoped>\n",
       "    .dataframe tbody tr th:only-of-type {\n",
       "        vertical-align: middle;\n",
       "    }\n",
       "\n",
       "    .dataframe tbody tr th {\n",
       "        vertical-align: top;\n",
       "    }\n",
       "\n",
       "    .dataframe thead th {\n",
       "        text-align: right;\n",
       "    }\n",
       "</style>\n",
       "<table border=\"1\" class=\"dataframe\">\n",
       "  <thead>\n",
       "    <tr style=\"text-align: right;\">\n",
       "      <th></th>\n",
       "      <th>speed</th>\n",
       "      <th>power</th>\n",
       "    </tr>\n",
       "  </thead>\n",
       "  <tbody>\n",
       "    <tr>\n",
       "      <th>speed</th>\n",
       "      <td>1.000000</td>\n",
       "      <td>0.950026</td>\n",
       "    </tr>\n",
       "    <tr>\n",
       "      <th>power</th>\n",
       "      <td>0.950026</td>\n",
       "      <td>1.000000</td>\n",
       "    </tr>\n",
       "  </tbody>\n",
       "</table>\n",
       "</div>"
      ],
      "text/plain": [
       "          speed     power\n",
       "speed  1.000000  0.950026\n",
       "power  0.950026  1.000000"
      ]
     },
     "execution_count": 11,
     "metadata": {},
     "output_type": "execute_result"
    }
   ],
   "source": [
    "# Take a quick look at the correlation between the dataframe columns\n",
    "df.corr()"
   ]
  },
  {
   "cell_type": "markdown",
   "metadata": {},
   "source": [
    "<span style='color:red'> [Medium nlr] </span> states that a correlation coefficient > 0.7 suggests a strong linear tendency and a nonlinear model would be inappropriate. We see values > 0.9 for the correlation between power and speed, so a straight line might actually be fine. We'll see."
   ]
  },
  {
   "cell_type": "code",
   "execution_count": 12,
   "metadata": {},
   "outputs": [
    {
     "name": "stdout",
     "output_type": "stream",
     "text": [
      "(486, 1)\n",
      "(486,)\n",
      "Coefficients: \n",
      " [5.5509909]\n",
      "Mean squared error: 166.62\n",
      "Coefficient of determination: 0.90\n"
     ]
    },
    {
     "data": {
      "text/plain": [
       "<matplotlib.legend.Legend at 0x1da19d38c70>"
      ]
     },
     "execution_count": 12,
     "metadata": {},
     "output_type": "execute_result"
    },
    {
     "data": {
      "image/png": "[encoded data removed]",
      "text/plain": [
       "<Figure size 576x432 with 1 Axes>"
      ]
     },
     "metadata": {
      "needs_background": "light"
     },
     "output_type": "display_data"
    }
   ],
   "source": [
    "# From: https://scikit-learn.org/stable/modules/linear_model.html#ordinary-least-squares\n",
    "# and example from\n",
    "# https://scikit-learn.org/stable/auto_examples/linear_model/plot_ols.html#sphx-glr-auto-examples-linear-model-plot-ols-py\n",
    "\n",
    "# Create linear regression object\n",
    "reg = linear_model.LinearRegression()\n",
    "\n",
    "# Need x and y in correct format TO DO restrict x values to be 7-18 & reflect that in front-end that calls model\n",
    "X = df[[\"speed\"]] # note dimensions\n",
    "y = df[\"power\"]\n",
    "\n",
    "print(X.shape)\n",
    "print(y.shape)\n",
    "\n",
    "# Split into training and test sets TO DO LATER\n",
    "\n",
    "# Train the model using the training sets\n",
    "reg.fit(X, y)\n",
    "\n",
    "# Make predictions using the testing set\n",
    "y_pred = reg.predict(X)\n",
    "\n",
    "# The coefficients\n",
    "print('Coefficients: \\n', reg.coef_)\n",
    "\n",
    "# The mean squared error\n",
    "print('Mean squared error: %.2f' % mean_squared_error(y, y_pred))\n",
    "\n",
    "# The coefficient of determination: 1 is perfect prediction\n",
    "print('Coefficient of determination: %.2f' % r2_score(y, y_pred))\n",
    "\n",
    "# Inspect the fit\n",
    "plt.plot(df['speed'], df['power'],  '.b', label=\"data\")\n",
    "plt.plot(df['speed'], y_pred, 'k-', label=\"model\")\n",
    "plt.xlabel('speed (m/s)', fontsize='14')\n",
    "plt.ylabel('power (kW)', fontsize='14')\n",
    "plt.title(\"Linear model\")\n",
    "plt.grid()\n",
    "plt.legend()"
   ]
  },
  {
   "cell_type": "markdown",
   "metadata": {},
   "source": [
    "This is an example of *underfitting*, where the model is too simple to learn the structure of the data: a straight line is not a good fit to our data. One solution is to pick a more powerful model which has more parameters, so we will now try fitting a polynomial to our data. There are many possible nonlinear models <span style='color:red'> [5 Medium nlr] </span>. However, as we already know that $ power \\propto speed^3$, a third order polynomial might be a good place to start.\n",
    "\n",
    "First, I'll split the data set into a training and validation part (what we have been calling test) and look at the linear model as a function of training set size. The code that follows is taken directly from <span style='color:red'> [1 Geron] </span> (p. 132) with just some edits specific to this notebook. The plot below shows that the straight line is a good fit to the data (close to zero error) when there are only a few data points in the training set, but when more points are added to the training set, the error increases because a straight line is not a good fit to this data at all. The training error reaches a plateau. On the validation or test set, the model (having being trained on only a few training points) cannot generalize well at all to new data and the error is high. As more points are added to the training set, the model performs better and the validation error comes down, although it too tends towards the same limit. This learning curve is typical of a model that is underfitting. Adding more data will not help to bring down the error, but choosing a more complex model might <span style='color:red'> [6 CourseML] </span> (Week 6 lectures)."
   ]
  },
  {
   "cell_type": "code",
   "execution_count": 13,
   "metadata": {},
   "outputs": [
    {
     "data": {
      "image/png": "[encoded data removed]",
      "text/plain": [
       "<Figure size 576x432 with 1 Axes>"
      ]
     },
     "metadata": {
      "needs_background": "light"
     },
     "output_type": "display_data"
    }
   ],
   "source": [
    "def plot_learning_curves(model, X, y):\n",
    "    X_train, X_val, y_train, y_val = train_test_split(X, y, test_size = 0.2)\n",
    "    train_errors, val_errors = [], []\n",
    "    for m in range (1, len(X_train)):\n",
    "        model.fit(X_train[:m], y_train[:m])\n",
    "        y_train_predict = model.predict(X_train[:m])\n",
    "        y_val_predict = model.predict(X_val)\n",
    "        train_errors.append(mean_squared_error(y_train[:m], y_train_predict))\n",
    "        val_errors.append(mean_squared_error(y_val, y_val_predict))\n",
    "    plt.plot(np.sqrt(train_errors), \"r-+\", label=\"train\")\n",
    "    plt.plot(np.sqrt(val_errors), \"b-.\", label=\"validation\")\n",
    "    plt.legend()\n",
    "    plt.xlabel(\"Size of training set\")\n",
    "    plt.ylabel(\"Root mean squared error\")\n",
    "    plt.grid()\n",
    "    plt.xlim(-10, 100)\n",
    "\n",
    "lin_reg = linear_model.LinearRegression()\n",
    "plot_learning_curves(lin_reg, X, y)"
   ]
  },
  {
   "cell_type": "markdown",
   "metadata": {},
   "source": [
    "***\n",
    "### Model 1: Polynomial Regression"
   ]
  },
  {
   "cell_type": "markdown",
   "metadata": {},
   "source": [
    "We transform our simple linear model $$y = \\theta_0 + \\theta_1 x $$ into a nonlinear one $$ y = \\theta_0 + \\theta_1 (x) + \\theta_2 (x^2) + \\theta_3 (x^3)$$ We can still do linear regression using this model because it is linear in the model parameters $\\theta$: $\\theta_0$ is the bias term (intercept in a straight line) and the remaining $\\theta$ terms are feature weights. <span style='color:red'> [7 Medium polyReg] </span>. The $x$, $x^2$, and $x^3$ are our features, which we obtain by transforming the data we were given. We use the PolynomialFeatures class in Scikit-learn to do this by adding the square and cube of our data to create two new features <span style='color:red'> [1 Geron] </span> (p. 129). "
   ]
  },
  {
   "cell_type": "code",
   "execution_count": 41,
   "metadata": {},
   "outputs": [
    {
     "name": "stdout",
     "output_type": "stream",
     "text": [
      "(98, 3)\n",
      "Coefficients: [-9.24589875  1.46565494 -0.03899572]\n",
      "Intercept: 12.46\n",
      "Mean squared error: 49.25\n",
      "Coefficient of determination: 0.97\n"
     ]
    }
   ],
   "source": [
    "# Try polynomial order 3\n",
    "poly_features = PolynomialFeatures(degree=3, include_bias=False) #include_bias -> intercept\n",
    "\n",
    "# Split the data set into train/set.\n",
    "X_train, X_test, y_train, y_test = train_test_split(X, y, test_size = 0.2)\n",
    "\n",
    "# Generate the new features (powers of x) for the training data\n",
    "X_train_poly = poly_features.fit_transform(X_train)\n",
    "\n",
    "# Create an instance of the model & train it using the transformed training set.\n",
    "regP = linear_model.LinearRegression()\n",
    "regP.fit(X_train_poly, y_train)\n",
    "\n",
    "# Prediction for y using test data?\n",
    "X_test_poly = poly_features.fit_transform(X_test)\n",
    "print(X_test_poly.shape)\n",
    "y_predP = regP.predict(X_test_poly)\n",
    "\n",
    "# The coefficients of the fit.\n",
    "print(f'Coefficients: {regP.coef_}')\n",
    "# Don't forget about the intercept - I did initially.\n",
    "print(f'Intercept: {regP.intercept_:.2f}')\n",
    "\n",
    "# The mean squared error\n",
    "print(f'Mean squared error: {mean_squared_error(y_test, y_predP):.2f}')\n",
    "\n",
    "# The coefficient of determination: 1 is perfect prediction\n",
    "print(f'Coefficient of determination: {r2_score(y_test, y_predP):.2f}')"
   ]
  },
  {
   "cell_type": "code",
   "execution_count": 15,
   "metadata": {},
   "outputs": [
    {
     "name": "stdout",
     "output_type": "stream",
     "text": [
      "For wind speed: 20.00 polynomial regression predicts power  = 101.99\n"
     ]
    }
   ],
   "source": [
    "# Predict power for a single input speed\n",
    "xin = 20\n",
    "out = regP.intercept_ + regP.coef_[0]*xin + regP.coef_[1]*(xin**2) + regP.coef_[2]*(xin**3)\n",
    "print(f'For wind speed: {xin:.2f} polynomial regression predicts power  = {out:.2f}')\n",
    "\n",
    "# Inspect the fit - seems to have a y shift of about -13 (I was forgetting y intercept!)\n",
    "fit = regP.intercept_ + regP.coef_[0]*df['speed'] + regP.coef_[1]*(df['speed']**2) + regP.coef_[2]*(df['speed']**3)"
   ]
  },
  {
   "cell_type": "code",
   "execution_count": 16,
   "metadata": {},
   "outputs": [
    {
     "data": {
      "text/plain": [
       "<matplotlib.legend.Legend at 0x1da1a4f8190>"
      ]
     },
     "execution_count": 16,
     "metadata": {},
     "output_type": "execute_result"
    },
    {
     "data": {
      "image/png": "[encoded data removed]",
      "text/plain": [
       "<Figure size 576x432 with 1 Axes>"
      ]
     },
     "metadata": {
      "needs_background": "light"
     },
     "output_type": "display_data"
    }
   ],
   "source": [
    "plt.plot(df['speed'], df['power'],  'b.', label=\"data\")\n",
    "plt.plot(X_test, y_predP, 'k.', label=\"model on test set\")\n",
    "plt.plot(df['speed'], fit, 'r-', label=\"fit\")\n",
    "plt.xlabel('speed (m/s)', fontsize='14')\n",
    "plt.ylabel('power (kW)', fontsize='14')\n",
    "plt.title(\"Polynomial order=3\")\n",
    "plt.grid()\n",
    "plt.legend()"
   ]
  },
  {
   "cell_type": "markdown",
   "metadata": {},
   "source": [
    "This looks like a reasonably food fit with an $R^2$ value very close to 1. Despite the high $R^2$ value, we can see that the fit is a little off as speed approaches 10 m/s and is greater than about 15 m/s. I'll definitely use it in my final product. I can't plot the test data as a line because the X_test values are randomly selected from the data set so they are not in ascending order - I get a scribble for a curve if I try. I might restrict input values of wind speed in the front end, for example,\n",
    "- speed < 5, power = 0\n",
    "- speed > 20, power = take an average of last 20 values in cleaned data set perhaps.\n",
    "\n",
    "Our model for power output will be:\n",
    "$$ power = 14.13 - 9.65 speed + 1.48 speed^2 - 0.04 speed^3$$"
   ]
  },
  {
   "cell_type": "markdown",
   "metadata": {},
   "source": [
    "### Save the polynomial regression model "
   ]
  },
  {
   "cell_type": "code",
   "execution_count": 38,
   "metadata": {},
   "outputs": [
    {
     "name": "stdout",
     "output_type": "stream",
     "text": [
      "Polynomial regression model saved as poly-reg.pkl\n"
     ]
    }
   ],
   "source": [
    "joblib.dump(regP, \"poly-reg.pkl\")\n",
    "print(\"Polynomial regression model saved as poly-reg.pkl\")"
   ]
  },
  {
   "cell_type": "markdown",
   "metadata": {},
   "source": [
    "***\n",
    "### Model 2: Support Vector Machines\n",
    "\n",
    "I had come across the support vector machine (SVM) for detection of outliers and for logistic regression, where one is trying to do classification by finding a decision boundary which separates classes. SVM is a large margin classifier as it aims to find a decision boundary which has as large a margin as possible around the decision boundary, i.e, the margin does not contain any training data. SVM outputs a prediction (1 or 0) of whether or not an example belongs to a class, whereas logistic regression outputs a probability. Nonlinear decision boundaries can be tackled though choice of an appropriate kernal in the SVM - I'll explain later. I hadn't realised SVM could be used for regression, but Google tells me it can <span style='color:red'> [8 Medium SVRreg] </span>, so I'll give it a go. SVM regression works in the opposite way to what we have just described: the algorithm tries to fit as many training examples as possible inside the margin while limiting the number that fall outside it <span style='color:red'> [1 Geron] </span> (p. 162)."
   ]
  },
  {
   "cell_type": "markdown",
   "metadata": {},
   "source": [
    "### SVM kernels\n",
    "The documentation on SVM in Scikit-learn includes a good basic example of SVM regression performed using different kernels <span style='color:red'> [9 SVR, 10 SKLsvrKer] </span>. The function of the kernel is to transform the input data into the form required for a particular problem <span style='color:red'> [11 DFkernel] </span>. For example, if the decision boundary between two classes is not a simple straight line, one could try using a nonlinear kernel (like polynomial) to better fit the boundary between the classes. As I understand it, this is equivalent to transforming an input feature $x$ to generate polynomial features $x^2, x^3, ..$ as we did above in model 2. It is advisable to try a linear kernel first and then move to the Gaussian radial basis function (RBF) <span style='color:red'> [1 Geron] </span> (p. 161), a good general purpose kernel when there is no prior knowledge about the data <span style='color:red'> [11 DFkernel] </span>. The idea of this type of kernel is to compute new features based on the proximity of training examples to landmarks (their similarity), and the simplest thing to do is chose the landmarks to be the training examples themselves <span style='color:red'> [6 CourseML] </span> (Week 7). The Scikit-learn SVM regression algorithm must do this automatically. I'll play around with the various parameters to find a good fit to our data set.\n",
    "\n",
    "Another thing I see mentioned a lot is that SVMs are sensitive to scaling, so we'll probably have to apply some type of transformation to our input feature before training a model <span style='color:red'> [12 MLMscaler] </span>. "
   ]
  },
  {
   "cell_type": "markdown",
   "metadata": {},
   "source": [
    "I will try a linear kernel first and see how we get on. The parameter C is related to regularization, with default value = 1. Regularization is used to constrain a model to make it more simple, and thus avoiding overfitting. The amount of regularization is usually controlled by a parameter in the machine learning model. Here, small C means lots of regularization, which implies high bias and low variance, or a model that's too simple. Large C means very little regularization, which translates to overfitting as a result of low bias and high variance. I think, regardless of what C I pick below, a linear model will never fit the data which is clearly nonlinear."
   ]
  },
  {
   "cell_type": "code",
   "execution_count": 17,
   "metadata": {},
   "outputs": [
    {
     "data": {
      "text/plain": [
       "<matplotlib.legend.Legend at 0x1da19cd7c70>"
      ]
     },
     "execution_count": 17,
     "metadata": {},
     "output_type": "execute_result"
    },
    {
     "data": {
      "image/png": "[encoded data removed]",
      "text/plain": [
       "<Figure size 576x432 with 1 Axes>"
      ]
     },
     "metadata": {
      "needs_background": "light"
     },
     "output_type": "display_data"
    }
   ],
   "source": [
    "# Create an instance of the SVR class\n",
    "# C ~1/reg default = 1. Tiny C bad fit, Huge C over fit\n",
    "svr_lin = SVR(kernel='linear', C=1)\n",
    "\n",
    "# Scale X only\n",
    "sc_X = StandardScaler()\n",
    "X_scale = sc_X.fit_transform(X)\n",
    "\n",
    "# Train model with scaled X and y\n",
    "svr_lin.fit(X_scale, y)\n",
    "\n",
    "# What does the fit look like?\n",
    "plt.plot(X, y, 'm.', label=\"data\") # X, y data\n",
    "plt.plot(X, svr_lin.predict(X_scale), '-r', label=\"SVR linear\") # prediction using scaled X data\n",
    "plt.xlabel('speed (m/s)', fontsize='14')\n",
    "plt.ylabel('power (kW)', fontsize='14')\n",
    "plt.title(\"SVR\")\n",
    "plt.grid()\n",
    "plt.legend()"
   ]
  },
  {
   "cell_type": "markdown",
   "metadata": {},
   "source": [
    "This linear kernel produces much the same result as when we tried simple linear regression above. Lets try a polynomial kernel with degree = 3 as we know the power out has $v^3$ component. Feature x is already scaled from above. coeff0 is the independent term in the kernel function with default value 0. I got a very bad prediction with coef0=0 and found that coef0=1 worked well. Making it even bigger didn't appear to do much to the fit but it took the code a tiny bit longer to run. <span style='color:red'> [13 SVRpractical] </span> gives some explanation of the parameters - gamma defines how much influence a single training example has. The larger gamma is, the closer other examples must be to be affected. I'll leave it at the default value, and same for epsilon. I'll leave the regularization parameter C = 1. If I change C to be 0.1 or something small I end up with an almost linear prediction - so lots of regularization which translates into a too simple model. "
   ]
  },
  {
   "cell_type": "code",
   "execution_count": 18,
   "metadata": {},
   "outputs": [
    {
     "data": {
      "text/plain": [
       "<matplotlib.legend.Legend at 0x1da18bc91f0>"
      ]
     },
     "execution_count": 18,
     "metadata": {},
     "output_type": "execute_result"
    },
    {
     "data": {
      "image/png": "[encoded data removed]",
      "text/plain": [
       "<Figure size 576x432 with 1 Axes>"
      ]
     },
     "metadata": {
      "needs_background": "light"
     },
     "output_type": "display_data"
    }
   ],
   "source": [
    "# Create an instance of the SVR class\n",
    "svr_ply = SVR(kernel=\"poly\", degree=3, coef0=1, C=1, epsilon=0.1, gamma='auto') # OK like poly LR\n",
    "# coef0 is ..\n",
    "# epsilon is ..\n",
    "\n",
    "# Train model with scaled X and y\n",
    "svr_ply.fit(X_scale, y)\n",
    "\n",
    "# What does the fit look like?\n",
    "plt.plot(X, y, 'm.', label=\"data\") # X, y data\n",
    "plt.plot(X, svr_ply.predict(X_scale), '-b', label=\"SVR poly3\") # prediction using scaled X data\n",
    "plt.xlabel('speed (m/s)', fontsize='14')\n",
    "plt.ylabel('power (kW)', fontsize='14')\n",
    "plt.title(\"SVR\")\n",
    "plt.grid()\n",
    "plt.legend()"
   ]
  },
  {
   "cell_type": "markdown",
   "metadata": {},
   "source": [
    "Lastly, I'll try the RBF kernel and I'll play around with C. I found that C = 0.1 gives a very bad fit, and as C approaches 1 the fit gets better. I'll end up leaving it at the default of 1. "
   ]
  },
  {
   "cell_type": "code",
   "execution_count": 19,
   "metadata": {},
   "outputs": [
    {
     "name": "stdout",
     "output_type": "stream",
     "text": [
      "C = 0.1, R-squared = 0.5288\n",
      "C = 0.2, R-squared = 0.8592\n",
      "C = 0.5, R-squared = 0.9785\n",
      "C = 1, R-squared = 0.9860\n",
      "C = 5, R-squared = 0.9898\n",
      "C = 10, R-squared = 0.9901\n"
     ]
    }
   ],
   "source": [
    "#Few C values to try.\n",
    "c_vals = [0.1, 0.2, 0.5, 1, 5, 10]\n",
    "r2 = []\n",
    "for c in c_vals:\n",
    "    svr_c = SVR(kernel=\"rbf\", C=c, gamma='auto')\n",
    "    svr_c.fit(X_scale, y)\n",
    "    svr_c.predict(X_scale)\n",
    "    r2.append(svr_c.score(X_scale, y))\n",
    "    print(f'C = {c}, R-squared = {svr_c.score(X_scale, y):.4f}')"
   ]
  },
  {
   "cell_type": "code",
   "execution_count": 20,
   "metadata": {},
   "outputs": [
    {
     "data": {
      "image/png": "[encoded data removed]",
      "text/plain": [
       "<Figure size 576x432 with 1 Axes>"
      ]
     },
     "metadata": {
      "needs_background": "light"
     },
     "output_type": "display_data"
    }
   ],
   "source": [
    "plt.plot(c_vals, r2, 'r+')\n",
    "plt.xlabel('C parameter in rbf kernel', fontsize='14')\n",
    "plt.ylabel('$R^2$', fontsize='14')\n",
    "plt.title(\"Regularization $R^2$ relationship\")\n",
    "plt.grid()"
   ]
  },
  {
   "cell_type": "code",
   "execution_count": 21,
   "metadata": {},
   "outputs": [
    {
     "data": {
      "text/plain": [
       "<matplotlib.legend.Legend at 0x1da19cd5bb0>"
      ]
     },
     "execution_count": 21,
     "metadata": {},
     "output_type": "execute_result"
    },
    {
     "data": {
      "image/png": "[encoded data removed]",
      "text/plain": [
       "<Figure size 576x432 with 1 Axes>"
      ]
     },
     "metadata": {
      "needs_background": "light"
     },
     "output_type": "display_data"
    }
   ],
   "source": [
    "# Create an instance of the SVR class\n",
    "svr_kbf = SVR(kernel=\"rbf\", C=1, gamma='auto')\n",
    "\n",
    "# Train model with scaled X and y\n",
    "svr_kbf.fit(X_scale, y)\n",
    "\n",
    "# What does the fit look like?\n",
    "plt.plot(X, y, 'm.', label=\"data\") # X, y data\n",
    "plt.plot(X, svr_kbf.predict(X_scale), '-g', label=\"SVR rbf\") # prediction using scaled X data\n",
    "plt.xlabel('speed (m/s)', fontsize='14')\n",
    "plt.ylabel('power (kW)', fontsize='14')\n",
    "plt.title(\"SVR\")\n",
    "plt.grid()\n",
    "plt.legend()"
   ]
  },
  {
   "cell_type": "markdown",
   "metadata": {},
   "source": [
    "I think this is doing a slightly better job than polynomial SVM regression. Finally, I'll split the data set into a train / test part and evaluate the model on test data."
   ]
  },
  {
   "cell_type": "code",
   "execution_count": 22,
   "metadata": {},
   "outputs": [
    {
     "name": "stdout",
     "output_type": "stream",
     "text": [
      "R-squared on test data = 0.9823\n"
     ]
    },
    {
     "data": {
      "image/png": "[encoded data removed]",
      "text/plain": [
       "<Figure size 576x432 with 1 Axes>"
      ]
     },
     "metadata": {
      "needs_background": "light"
     },
     "output_type": "display_data"
    }
   ],
   "source": [
    "# Split the data set into train/set.  X already scaled but y is not\n",
    "X_train, X_test, y_train, y_test = train_test_split(X_scale, y, test_size = 0.2)\n",
    "\n",
    "# Create an instance of the SVR class\n",
    "svr_final = SVR(kernel=\"rbf\", C=1, gamma='auto')\n",
    "\n",
    "# Train model with training data scaled X and y.\n",
    "svr_final.fit(X_train, y_train)\n",
    "\n",
    "# Test it on test data.\n",
    "y_pred = svr_final.predict(X_test)\n",
    "\n",
    "# And plot.\n",
    "plt.plot(X_train, y_train, '.c', label=\"train\") # X, y training data\n",
    "plt.plot(X_test, y_pred, '.m', label=\"SVR rbf on test\") # prediction using scaled X_test data\n",
    "plt.xlabel('Scaled speed (m/s)', fontsize='14')\n",
    "plt.ylabel('power (kW)', fontsize='14')\n",
    "plt.title(\"SVR train/test\")\n",
    "plt.grid()\n",
    "plt.legend()\n",
    "\n",
    "# R-squared.\n",
    "print(f'R-squared on test data = {svr_final.score(X_test, y_test):.4f}')"
   ]
  },
  {
   "cell_type": "markdown",
   "metadata": {},
   "source": [
    "Note that the scaled speed is displayed on this plot. In order to make a prediction of power given wind speed, I'll have to apply the same scaling transform to the input speed before using the predict method."
   ]
  },
  {
   "cell_type": "code",
   "execution_count": 23,
   "metadata": {},
   "outputs": [
    {
     "name": "stdout",
     "output_type": "stream",
     "text": [
      "wind = 1, power = [97.94501072]\n",
      "wind = 15, power = 73.29609178653737\n"
     ]
    }
   ],
   "source": [
    "# Q. How to predict from a single value? A. Need x and the transformer sc_X\n",
    "# Scaling issue? As predictions for -1,0,1 seems to match power.\n",
    "print(f'wind = 1, power = {svr_final.predict([[1]])}')\n",
    "\n",
    "# Apply same scaler to the x value we want to test.\n",
    "xin = [[15]]\n",
    "xin_scale = sc_X.transform(xin)\n",
    "\n",
    "# Make a prediction for this scaled value - seems sensible.\n",
    "yout = svr_final.predict(xin_scale)\n",
    "print(f'wind = {xin[0][0]}, power = {yout[0]}')"
   ]
  },
  {
   "cell_type": "markdown",
   "metadata": {},
   "source": [
    "### Save the support vector machine regression model"
   ]
  },
  {
   "cell_type": "code",
   "execution_count": 37,
   "metadata": {},
   "outputs": [
    {
     "name": "stdout",
     "output_type": "stream",
     "text": [
      "Support vector machine regression model saved as svm-reg.pkl\n"
     ]
    }
   ],
   "source": [
    "joblib.dump(regP, \"svm-reg.pkl\")\n",
    "print(\"Support vector machine regression model saved as svm-reg.pkl\")"
   ]
  },
  {
   "cell_type": "markdown",
   "metadata": {},
   "source": [
    "***\n",
    "### Model 3: Neural Network\n",
    "\n",
    "Both polynomial and SVM regression are doing a reasonably good job of predicting power given wind speed. I think the SVM regression model with rbf kernel does best, but if you look closely, you can still see that the fit (prediction) doesn't always go through the data in a symmetric way. For example, in the last plot above you can see that the prediction is a tiny bit off for scaled speed in the range -1 to 0. I'm now going to investigate if a neural network will do a better job."
   ]
  },
  {
   "cell_type": "markdown",
   "metadata": {},
   "source": [
    "An artificial neural network, or just a neural network, is a machine learning model inspired by the networks of biological neurons found in human brains <span style='color:red'> [14 WikiANN] </span>. Each individual biological neuron is relatively simple, but because each one is connected to many thousands of others, they can perform complicated tasks when working together. With that idea replicated for machine learning, the idea of a an artificial neuron is that its output fires depending on the value of the inputs to it. This is what a *threshold logic unit* is based on: the output of such a unit is the weighted sum of its inputs multiplied by an step function, which acts like an on/off switch. A *perceptron* is a single layer of these units where each unit is connected to all the inputs. If each neuron in a layer is connected to all the neurons in a previous layer, that layer is a *dense* layer. A *bias* is also fed to each unit - I think of it like the intercept in a straight line as it allows one to apply a constant shift to the step function (or activation function in general terms).  Finally, A *multilayer perceptron* (MLP) is obtained by stacking multiple perceptrons. A MLP has a single input layer, one or more hidden layers, and a final output layer. This quick run thorough the terminology is based on Chapter 10 of <span style='color:red'> [1 Geron] </span>. I know this explanation is not necessary but I'm interested in it and don't mind spending a little time on it. For this project, we will use the Keras API to build and train our neural networks, with the heavy computation associated with neural networks done in a backend called TensorFlow [<span style='color:red'> [15 keras, 16 tf] </span>]. We can easily build a MLP model in Keras by stacking neural network layers sequentially. An image of such a neural network is shown below <span style='color:red'> [17 mediumANN] </span>. For neural networks with many hidden layers, each containing many neurons, the number of connections can be huge. The sizes of the weights matrices below reflect this: for example $W_1$ has size 4x5 because there are 5 neurons in hidden layer 1, each connected to four inputs."
   ]
  },
  {
   "cell_type": "markdown",
   "metadata": {},
   "source": [
    "<img src=\"img/ANN.png\" height=400 width=400>"
   ]
  },
  {
   "cell_type": "code",
   "execution_count": 24,
   "metadata": {},
   "outputs": [
    {
     "name": "stdout",
     "output_type": "stream",
     "text": [
      "(291, 1)\n",
      "(291,)\n",
      "(98, 1)\n",
      "(98,)\n",
      "(97, 1)\n",
      "(97,)\n"
     ]
    }
   ],
   "source": [
    "# Refresh our memory re. the data - looks good.\n",
    "#plt.plot(df['speed'], df['power'],  '.g')\n",
    "#plt.plot(X, y,  '-r')\n",
    "\n",
    "# Split the data set into train/set. (not yet using)\n",
    "X_train, X_test, y_train, y_test = train_test_split(X, y, test_size = 0.2)\n",
    "\n",
    "# Take some of the training set to be a validation set. \n",
    "# Want train:test:validation = 60:20:20\n",
    "X_train, X_val, y_train, y_val = train_test_split(X_train, y_train, test_size=0.25)\n",
    "print(X_train.shape)\n",
    "print(y_train.shape)\n",
    "print(X_test.shape)\n",
    "print(y_test.shape)\n",
    "print(X_val.shape)\n",
    "print(y_val.shape)"
   ]
  },
  {
   "cell_type": "markdown",
   "metadata": {},
   "source": [
    "Now we construct a neural network consisting of three layers: the input layer, a hidden layer with 50 neurons, and the output layer. The size of the input and output layers is determined by the data we have and what we want to predict. Having one hidden layer is a good default, but if there are more hidden layers, it's recommended to have the same number of neurons in each hidden layer <span style='color:red'> [6 CourseML] </span> (week 5). The more neurons there are in each hidden layer the better, but this must be balanced against increased computation time for more neurons. \n",
    "\n",
    "The steps involved in building such a neural network are outlined nicely here <span style='color:red'> [18 NNWhowto] </span> with a good explanation of sizes etc here <span style='color:red'> [19 SOkerasIP] </span>. \n",
    "- We have one hidden layer with 50 neurons and it's a dense layer. \n",
    "- The input to it is a one-dimensional tensor (like a matrix). \n",
    "- The method of initialization for the weights and biases is also chosen here. It's important that the weights are not all set to zero initially (kernel_initializer parameter). I'll explain this a little later.\n",
    "- The activation function is a sigmoid, like a smoothed out step function that we mentioned above. The fact that it's smooth means it has a derivative, which is important when it comes to calculating loss etc in a while.\n",
    "- Our output layer has just one neuron and the activation function is linear so that the output can have any range of values."
   ]
  },
  {
   "cell_type": "code",
   "execution_count": 25,
   "metadata": {},
   "outputs": [],
   "source": [
    "# Create a Sequential model incrementally via the add() method:\n",
    "# kernel_initializer=\"glorot_uniform\"\n",
    "model = kr.models.Sequential()\n",
    "model.add(kr.layers.Dense(50, input_shape=(1,), activation='sigmoid', kernel_initializer=\"glorot_uniform\", bias_initializer=\"zeros\"))\n",
    "model.add(kr.layers.Dense(1, activation='linear', kernel_initializer=\"glorot_uniform\", bias_initializer=\"glorot_uniform\"))"
   ]
  },
  {
   "cell_type": "markdown",
   "metadata": {},
   "source": [
    "Once the model is designed, we must compile it to specify the *learning rate* and *loss function*, the quantity we are trying to minimize in through training of the network. "
   ]
  },
  {
   "cell_type": "code",
   "execution_count": 26,
   "metadata": {},
   "outputs": [
    {
     "name": "stdout",
     "output_type": "stream",
     "text": [
      "Model: \"sequential\"\n",
      "_________________________________________________________________\n",
      "Layer (type)                 Output Shape              Param #   \n",
      "=================================================================\n",
      "dense (Dense)                (None, 50)                100       \n",
      "_________________________________________________________________\n",
      "dense_1 (Dense)              (None, 1)                 51        \n",
      "=================================================================\n",
      "Total params: 151\n",
      "Trainable params: 151\n",
      "Non-trainable params: 0\n",
      "_________________________________________________________________\n"
     ]
    }
   ],
   "source": [
    "# Compile the model and summarize it.\n",
    "model.compile(kr.optimizers.Adam(lr=0.001), loss=\"mean_squared_error\")\n",
    "model.summary()"
   ]
  },
  {
   "cell_type": "markdown",
   "metadata": {},
   "source": [
    "The hidden layer has 50 neurons plus 50 bias terms giving 100 parameters for this layer. The output layer has 1 neuron with one bias term and 50 inputs feeding to it, so 51 parameters in total. The network has 151 parameters. The aim is to train it and find *good* values for these 151 parameters. How is this training done? \n",
    "\n",
    "**Backpropagation**\n",
    "\n",
    "The algorithm used is called backpropagation, and consists of two passes through the network, one in the forward direction and one backward. Each training example (or batch of them) is passed through the each layer to the output, with the output of each layer being calculated at each stage. This is the forward pass. The output error is then calculated in the form of a loss function. The algorithm then goes through each layer in reverse, calculating how much of the error is contributed by each connection. The weights are then adjusted to reduce the error. In the backward pass the error gradient is propagated back through the network, and gradient descent is used to move in the direction of decreasing error in parameter space. The learning rate controls the step size in gradient descent.\n",
    "\n",
    "The sigmoid activation function is used because it has a gradient (unlike the step function) and so gradient descent can work. It is important that all weights are not initialized to zero (kernel_initializer model parameter above) because we want to break symmetry in the network: if all neurons had the same weight then backpropagation would see no difference between them and training would fail. Stochastic gradient descent (SGD) is kind of the default method used to minimize the loss function, but it requires more tuning of the learning rate. The Adam optimizer (extended from SGD) we have used above is an adaptive algorithm (in that it can change the learning rate during training) so we don't need to worry about setting it, just use the default value. Glorot initialization of weights is a technique to ensure that gradients neither vanish nor explode during backpropogation <span style='color:red'> [1 Geron p. 357, 333] </span>. "
   ]
  },
  {
   "cell_type": "markdown",
   "metadata": {},
   "source": [
    "If we apply the predict method to our input X at this stage, using initialized values of biases and weights, we are performing forward propagation of our inputs through an untrained neural network. The network has not learned anything and shouldn't be able to make a sensible prediction yet."
   ]
  },
  {
   "cell_type": "code",
   "execution_count": 27,
   "metadata": {},
   "outputs": [
    {
     "data": {
      "image/png": "[encoded data removed]",
      "text/plain": [
       "<Figure size 576x432 with 1 Axes>"
      ]
     },
     "metadata": {
      "needs_background": "light"
     },
     "output_type": "display_data"
    }
   ],
   "source": [
    "# Look at output with no training.\n",
    "plt.plot(X, y, 'co', label=\"data\")\n",
    "plt.plot(X, model.predict(X), 'b-', label=\"Untrained neural n/w\")\n",
    "plt.xlabel('Speed (m/s)', fontsize='14')\n",
    "plt.ylabel('power (kW)', fontsize='14')\n",
    "plt.title(\"Neural network forward propagation\")\n",
    "plt.legend()\n",
    "plt.grid()"
   ]
  },
  {
   "cell_type": "markdown",
   "metadata": {},
   "source": [
    "Now we train the network over 500 epochs - like number of iterations. We can speed up the training by doing so in batches. The parameter batch_size is the number of samples per gradient update. Gradient descent (or a variant of it) is an algorithm used to minimize the cost function at each epoch. Normal gradient descent involves all samples in the training set being used to calculate the gradient and cost function; it proceeds smoothly towards a minimum of the cost function in parameter space. SGD calculates the gradient and cost for each each epoch using one sample (randomly selected hence stochastic); it proceeds in a jagged way towards a minimum but it does so faster. Mini-batch SGD uses a small random subset of the training examples at each iteration, so it's somewhere in between gradient descent and SGD <span style='color:red'> [6 CourseML (week 10), x GDvsSGD] </span>. "
   ]
  },
  {
   "cell_type": "code",
   "execution_count": 28,
   "metadata": {},
   "outputs": [
    {
     "name": "stdout",
     "output_type": "stream",
     "text": [
      "Epoch 1/500\n",
      "30/30 [==============================] - 0s 16ms/step - loss: 4385.0352 - val_loss: 4108.3452\n",
      "Epoch 2/500\n",
      "30/30 [==============================] - 0s 3ms/step - loss: 4250.2925 - val_loss: 3982.1240\n",
      "Epoch 3/500\n",
      "30/30 [==============================] - 0s 5ms/step - loss: 4116.3223 - val_loss: 3855.8096\n",
      "Epoch 4/500\n",
      "30/30 [==============================] - 0s 6ms/step - loss: 3982.4778 - val_loss: 3734.2068\n",
      "Epoch 5/500\n",
      "30/30 [==============================] - 0s 5ms/step - loss: 3852.4224 - val_loss: 3609.3047\n",
      "Epoch 6/500\n",
      "30/30 [==============================] - 0s 3ms/step - loss: 3709.8687 - val_loss: 3471.2329\n",
      "Epoch 7/500\n",
      "30/30 [==============================] - 0s 3ms/step - loss: 3563.1863 - val_loss: 3339.5132\n",
      "Epoch 8/500\n",
      "30/30 [==============================] - 0s 3ms/step - loss: 3431.9512 - val_loss: 3229.0603\n",
      "Epoch 9/500\n",
      "30/30 [==============================] - 0s 4ms/step - loss: 3321.2029 - val_loss: 3131.6289\n",
      "Epoch 10/500\n",
      "30/30 [==============================] - 0s 4ms/step - loss: 3210.6167 - val_loss: 3018.6958\n",
      "Epoch 11/500\n",
      "30/30 [==============================] - 0s 4ms/step - loss: 3089.8386 - val_loss: 2910.6997\n",
      "Epoch 12/500\n",
      "30/30 [==============================] - 0s 4ms/step - loss: 2978.5605 - val_loss: 2816.0884\n",
      "Epoch 13/500\n",
      "30/30 [==============================] - 0s 4ms/step - loss: 2884.1504 - val_loss: 2738.0637\n",
      "Epoch 14/500\n",
      "30/30 [==============================] - 0s 6ms/step - loss: 2800.2388 - val_loss: 2663.5176\n",
      "Epoch 15/500\n",
      "30/30 [==============================] - 0s 5ms/step - loss: 2720.3655 - val_loss: 2593.0198\n",
      "Epoch 16/500\n",
      "30/30 [==============================] - 0s 4ms/step - loss: 2642.5605 - val_loss: 2519.3293\n",
      "Epoch 17/500\n",
      "30/30 [==============================] - 0s 5ms/step - loss: 2564.7039 - val_loss: 2452.5181\n",
      "Epoch 18/500\n",
      "30/30 [==============================] - 0s 5ms/step - loss: 2491.3706 - val_loss: 2390.3677\n",
      "Epoch 19/500\n",
      "30/30 [==============================] - 0s 6ms/step - loss: 2426.4155 - val_loss: 2334.0435\n",
      "Epoch 20/500\n",
      "30/30 [==============================] - 0s 6ms/step - loss: 2365.9009 - val_loss: 2276.6138\n",
      "Epoch 21/500\n",
      "30/30 [==============================] - 0s 4ms/step - loss: 2304.4333 - val_loss: 2223.5750\n",
      "Epoch 22/500\n",
      "30/30 [==============================] - 0s 7ms/step - loss: 2245.0422 - val_loss: 2172.6841\n",
      "Epoch 23/500\n",
      "30/30 [==============================] - 0s 5ms/step - loss: 2192.4565 - val_loss: 2124.0376\n",
      "Epoch 24/500\n",
      "30/30 [==============================] - 0s 6ms/step - loss: 2138.7244 - val_loss: 2076.9766\n",
      "Epoch 25/500\n",
      "30/30 [==============================] - 0s 3ms/step - loss: 2086.6172 - val_loss: 2031.4581\n",
      "Epoch 26/500\n",
      "30/30 [==============================] - 0s 6ms/step - loss: 2038.3176 - val_loss: 1988.5917\n",
      "Epoch 27/500\n",
      "30/30 [==============================] - 0s 3ms/step - loss: 1991.6001 - val_loss: 1946.9501\n",
      "Epoch 28/500\n",
      "30/30 [==============================] - 0s 5ms/step - loss: 1944.6527 - val_loss: 1903.8593\n",
      "Epoch 29/500\n",
      "30/30 [==============================] - 0s 6ms/step - loss: 1896.7755 - val_loss: 1861.1437\n",
      "Epoch 30/500\n",
      "30/30 [==============================] - 0s 3ms/step - loss: 1849.5657 - val_loss: 1818.7424\n",
      "Epoch 31/500\n",
      "30/30 [==============================] - 0s 6ms/step - loss: 1806.4991 - val_loss: 1781.9185\n",
      "Epoch 32/500\n",
      "30/30 [==============================] - 0s 4ms/step - loss: 1765.2667 - val_loss: 1742.1204\n",
      "Epoch 33/500\n",
      "30/30 [==============================] - 0s 4ms/step - loss: 1723.0861 - val_loss: 1705.4517\n",
      "Epoch 34/500\n",
      "30/30 [==============================] - 0s 3ms/step - loss: 1683.9760 - val_loss: 1672.2186\n",
      "Epoch 35/500\n",
      "30/30 [==============================] - 0s 4ms/step - loss: 1648.0186 - val_loss: 1637.6587\n",
      "Epoch 36/500\n",
      "30/30 [==============================] - 0s 6ms/step - loss: 1610.6083 - val_loss: 1603.6951\n",
      "Epoch 37/500\n",
      "30/30 [==============================] - 0s 6ms/step - loss: 1575.5415 - val_loss: 1571.8254\n",
      "Epoch 38/500\n",
      "30/30 [==============================] - 0s 3ms/step - loss: 1542.3494 - val_loss: 1541.9274\n",
      "Epoch 39/500\n",
      "30/30 [==============================] - 0s 7ms/step - loss: 1509.3627 - val_loss: 1512.3680\n",
      "Epoch 40/500\n",
      "30/30 [==============================] - 0s 7ms/step - loss: 1476.0159 - val_loss: 1480.7178\n",
      "Epoch 41/500\n",
      "30/30 [==============================] - 0s 7ms/step - loss: 1443.3717 - val_loss: 1450.5482\n",
      "Epoch 42/500\n",
      "30/30 [==============================] - 0s 7ms/step - loss: 1412.2964 - val_loss: 1420.9341\n",
      "Epoch 43/500\n",
      "30/30 [==============================] - 0s 6ms/step - loss: 1382.5353 - val_loss: 1392.7334\n",
      "Epoch 44/500\n",
      "30/30 [==============================] - 0s 3ms/step - loss: 1353.6727 - val_loss: 1365.3915\n",
      "Epoch 45/500\n",
      "30/30 [==============================] - 0s 3ms/step - loss: 1323.5083 - val_loss: 1337.7246\n",
      "Epoch 46/500\n",
      "30/30 [==============================] - 0s 3ms/step - loss: 1293.7264 - val_loss: 1309.7261\n",
      "Epoch 47/500\n",
      "30/30 [==============================] - 0s 3ms/step - loss: 1265.9294 - val_loss: 1283.5060\n",
      "Epoch 48/500\n",
      "30/30 [==============================] - 0s 6ms/step - loss: 1238.5511 - val_loss: 1258.4004\n",
      "Epoch 49/500\n",
      "30/30 [==============================] - 0s 6ms/step - loss: 1211.4030 - val_loss: 1231.8087\n",
      "Epoch 50/500\n",
      "30/30 [==============================] - 0s 3ms/step - loss: 1185.0870 - val_loss: 1205.3512\n",
      "Epoch 51/500\n",
      "30/30 [==============================] - 0s 3ms/step - loss: 1158.3690 - val_loss: 1180.2222\n",
      "Epoch 52/500\n",
      "30/30 [==============================] - 0s 4ms/step - loss: 1132.4030 - val_loss: 1155.2489\n",
      "Epoch 53/500\n",
      "30/30 [==============================] - 0s 7ms/step - loss: 1107.5555 - val_loss: 1131.0100\n",
      "Epoch 54/500\n",
      "30/30 [==============================] - 0s 6ms/step - loss: 1083.5889 - val_loss: 1106.6581\n",
      "Epoch 55/500\n",
      "30/30 [==============================] - 0s 6ms/step - loss: 1060.3890 - val_loss: 1084.0079\n",
      "Epoch 56/500\n",
      "30/30 [==============================] - 0s 6ms/step - loss: 1036.4147 - val_loss: 1061.3419\n",
      "Epoch 57/500\n",
      "30/30 [==============================] - 0s 7ms/step - loss: 1013.3805 - val_loss: 1038.9789\n",
      "Epoch 58/500\n",
      "30/30 [==============================] - 0s 6ms/step - loss: 991.5882 - val_loss: 1016.3192\n",
      "Epoch 59/500\n",
      "30/30 [==============================] - 0s 6ms/step - loss: 969.9415 - val_loss: 996.2119\n",
      "Epoch 60/500\n",
      "30/30 [==============================] - 0s 5ms/step - loss: 948.8153 - val_loss: 975.4442\n",
      "Epoch 61/500\n",
      "30/30 [==============================] - 0s 5ms/step - loss: 928.0491 - val_loss: 954.4922\n",
      "Epoch 62/500\n",
      "30/30 [==============================] - 0s 3ms/step - loss: 906.8350 - val_loss: 934.7026\n",
      "Epoch 63/500\n",
      "30/30 [==============================] - 0s 6ms/step - loss: 886.4747 - val_loss: 914.3037\n",
      "Epoch 64/500\n",
      "30/30 [==============================] - 0s 5ms/step - loss: 865.7074 - val_loss: 892.6085\n",
      "Epoch 65/500\n",
      "30/30 [==============================] - 0s 3ms/step - loss: 845.0914 - val_loss: 872.2819\n",
      "Epoch 66/500\n",
      "30/30 [==============================] - 0s 3ms/step - loss: 826.6296 - val_loss: 854.1181\n",
      "Epoch 67/500\n",
      "30/30 [==============================] - 0s 4ms/step - loss: 806.7761 - val_loss: 834.8738\n",
      "Epoch 68/500\n",
      "30/30 [==============================] - 0s 6ms/step - loss: 787.5806 - val_loss: 816.4587\n",
      "Epoch 69/500\n",
      "30/30 [==============================] - 0s 4ms/step - loss: 770.0256 - val_loss: 798.0119\n",
      "Epoch 70/500\n",
      "30/30 [==============================] - 0s 3ms/step - loss: 752.5558 - val_loss: 779.5897\n",
      "Epoch 71/500\n",
      "30/30 [==============================] - 0s 3ms/step - loss: 734.7272 - val_loss: 762.7606\n",
      "Epoch 72/500\n",
      "30/30 [==============================] - 0s 7ms/step - loss: 716.9464 - val_loss: 743.3608\n",
      "Epoch 73/500\n",
      "30/30 [==============================] - 0s 6ms/step - loss: 699.6882 - val_loss: 725.4004\n",
      "Epoch 74/500\n",
      "30/30 [==============================] - 0s 7ms/step - loss: 681.3223 - val_loss: 708.2069\n",
      "Epoch 75/500\n",
      "30/30 [==============================] - 0s 7ms/step - loss: 666.2645 - val_loss: 692.3161\n",
      "Epoch 76/500\n",
      "30/30 [==============================] - 0s 6ms/step - loss: 649.8729 - val_loss: 675.6920\n",
      "Epoch 77/500\n",
      "30/30 [==============================] - 0s 7ms/step - loss: 634.7596 - val_loss: 659.4995\n",
      "Epoch 78/500\n",
      "30/30 [==============================] - 0s 7ms/step - loss: 618.4748 - val_loss: 643.7092\n",
      "Epoch 79/500\n",
      "30/30 [==============================] - 0s 5ms/step - loss: 604.5987 - val_loss: 628.5885\n",
      "Epoch 80/500\n",
      "30/30 [==============================] - 0s 4ms/step - loss: 589.7717 - val_loss: 614.0746\n",
      "Epoch 81/500\n",
      "30/30 [==============================] - 0s 4ms/step - loss: 574.5797 - val_loss: 598.0215\n",
      "Epoch 82/500\n",
      "30/30 [==============================] - 0s 4ms/step - loss: 559.2755 - val_loss: 583.2516\n",
      "Epoch 83/500\n",
      "30/30 [==============================] - 0s 4ms/step - loss: 546.1456 - val_loss: 569.2737\n",
      "Epoch 84/500\n",
      "30/30 [==============================] - 0s 3ms/step - loss: 531.6731 - val_loss: 555.8928\n",
      "Epoch 85/500\n",
      "30/30 [==============================] - 0s 3ms/step - loss: 519.2319 - val_loss: 542.3011\n",
      "Epoch 86/500\n",
      "30/30 [==============================] - 0s 3ms/step - loss: 506.4442 - val_loss: 528.0651\n",
      "Epoch 87/500\n",
      "30/30 [==============================] - 0s 3ms/step - loss: 493.7523 - val_loss: 515.6459\n",
      "Epoch 88/500\n",
      "30/30 [==============================] - 0s 3ms/step - loss: 482.3385 - val_loss: 502.8001\n",
      "Epoch 89/500\n",
      "30/30 [==============================] - 0s 4ms/step - loss: 470.2076 - val_loss: 490.0529\n",
      "Epoch 90/500\n",
      "30/30 [==============================] - 0s 5ms/step - loss: 458.6055 - val_loss: 478.2644\n",
      "Epoch 91/500\n",
      "30/30 [==============================] - 0s 2ms/step - loss: 446.3557 - val_loss: 467.5857\n",
      "Epoch 92/500\n",
      "30/30 [==============================] - 0s 1ms/step - loss: 436.1300 - val_loss: 455.2360\n",
      "Epoch 93/500\n",
      "30/30 [==============================] - 0s 1ms/step - loss: 424.9788 - val_loss: 443.7362\n",
      "Epoch 94/500\n",
      "30/30 [==============================] - 0s 1ms/step - loss: 413.9107 - val_loss: 432.9239\n",
      "Epoch 95/500\n",
      "30/30 [==============================] - 0s 1ms/step - loss: 404.0939 - val_loss: 421.9949\n",
      "Epoch 96/500\n",
      "30/30 [==============================] - 0s 1ms/step - loss: 394.3216 - val_loss: 410.5650\n",
      "Epoch 97/500\n",
      "30/30 [==============================] - 0s 2ms/step - loss: 385.1975 - val_loss: 401.0350\n",
      "Epoch 98/500\n",
      "30/30 [==============================] - 0s 2ms/step - loss: 374.8622 - val_loss: 391.1914\n",
      "Epoch 99/500\n",
      "30/30 [==============================] - 0s 3ms/step - loss: 365.1106 - val_loss: 380.8383\n",
      "Epoch 100/500\n",
      "30/30 [==============================] - 0s 4ms/step - loss: 355.6315 - val_loss: 371.2613\n",
      "Epoch 101/500\n",
      "30/30 [==============================] - 0s 6ms/step - loss: 345.9656 - val_loss: 361.7316\n",
      "Epoch 102/500\n",
      "30/30 [==============================] - 0s 6ms/step - loss: 337.5227 - val_loss: 352.7396\n",
      "Epoch 103/500\n",
      "30/30 [==============================] - 0s 4ms/step - loss: 329.2084 - val_loss: 343.9145\n",
      "Epoch 104/500\n",
      "30/30 [==============================] - 0s 3ms/step - loss: 321.4059 - val_loss: 335.3404\n",
      "Epoch 105/500\n",
      "30/30 [==============================] - 0s 6ms/step - loss: 313.9535 - val_loss: 326.9307\n",
      "Epoch 106/500\n",
      "30/30 [==============================] - 0s 7ms/step - loss: 305.4061 - val_loss: 318.5474\n",
      "Epoch 107/500\n",
      "30/30 [==============================] - 0s 6ms/step - loss: 297.6699 - val_loss: 310.1870\n",
      "Epoch 108/500\n",
      "30/30 [==============================] - 0s 3ms/step - loss: 289.9955 - val_loss: 302.3918\n",
      "Epoch 109/500\n",
      "30/30 [==============================] - 0s 6ms/step - loss: 284.4541 - val_loss: 294.5691\n",
      "Epoch 110/500\n",
      "30/30 [==============================] - 0s 3ms/step - loss: 276.6980 - val_loss: 287.3798\n",
      "Epoch 111/500\n",
      "30/30 [==============================] - 0s 3ms/step - loss: 268.4490 - val_loss: 279.6911\n",
      "Epoch 112/500\n",
      "30/30 [==============================] - 0s 6ms/step - loss: 261.5781 - val_loss: 272.6309\n",
      "Epoch 113/500\n",
      "30/30 [==============================] - 0s 7ms/step - loss: 255.0748 - val_loss: 265.6865\n",
      "Epoch 114/500\n",
      "30/30 [==============================] - 0s 5ms/step - loss: 248.5999 - val_loss: 258.9580\n",
      "Epoch 115/500\n",
      "30/30 [==============================] - 0s 3ms/step - loss: 244.0429 - val_loss: 252.7705\n",
      "Epoch 116/500\n",
      "30/30 [==============================] - 0s 2ms/step - loss: 237.4566 - val_loss: 246.4704\n",
      "Epoch 117/500\n",
      "30/30 [==============================] - 0s 1ms/step - loss: 231.7461 - val_loss: 240.6221\n",
      "Epoch 118/500\n",
      "30/30 [==============================] - 0s 1ms/step - loss: 226.5659 - val_loss: 234.8846\n",
      "Epoch 119/500\n",
      "30/30 [==============================] - 0s 1ms/step - loss: 220.6087 - val_loss: 229.0158\n",
      "Epoch 120/500\n",
      "30/30 [==============================] - 0s 2ms/step - loss: 215.8447 - val_loss: 223.6121\n",
      "Epoch 121/500\n",
      "30/30 [==============================] - 0s 5ms/step - loss: 211.4437 - val_loss: 218.3332\n",
      "Epoch 122/500\n",
      "30/30 [==============================] - 0s 3ms/step - loss: 205.6864 - val_loss: 212.8629\n",
      "Epoch 123/500\n",
      "30/30 [==============================] - 0s 4ms/step - loss: 200.2650 - val_loss: 207.8906\n",
      "Epoch 124/500\n",
      "30/30 [==============================] - 0s 7ms/step - loss: 195.3689 - val_loss: 202.3486\n",
      "Epoch 125/500\n",
      "30/30 [==============================] - 0s 3ms/step - loss: 190.5414 - val_loss: 197.4494\n",
      "Epoch 126/500\n",
      "30/30 [==============================] - 0s 3ms/step - loss: 187.5111 - val_loss: 192.6549\n",
      "Epoch 127/500\n",
      "30/30 [==============================] - 0s 3ms/step - loss: 181.8783 - val_loss: 188.3988\n",
      "Epoch 128/500\n",
      "30/30 [==============================] - 0s 3ms/step - loss: 178.0948 - val_loss: 184.1232\n",
      "Epoch 129/500\n",
      "30/30 [==============================] - 0s 4ms/step - loss: 173.9073 - val_loss: 179.7615\n",
      "Epoch 130/500\n",
      "30/30 [==============================] - 0s 7ms/step - loss: 170.1728 - val_loss: 175.6084\n",
      "Epoch 131/500\n",
      "30/30 [==============================] - 0s 7ms/step - loss: 166.4467 - val_loss: 171.5134\n",
      "Epoch 132/500\n",
      "30/30 [==============================] - 0s 6ms/step - loss: 162.7811 - val_loss: 168.1514\n",
      "Epoch 133/500\n",
      "30/30 [==============================] - 0s 6ms/step - loss: 159.2680 - val_loss: 163.9710\n",
      "Epoch 134/500\n",
      "30/30 [==============================] - 0s 3ms/step - loss: 155.8246 - val_loss: 160.5651\n",
      "Epoch 135/500\n",
      "30/30 [==============================] - 0s 5ms/step - loss: 152.8913 - val_loss: 157.2218\n",
      "Epoch 136/500\n",
      "30/30 [==============================] - 0s 6ms/step - loss: 150.0025 - val_loss: 153.6872\n",
      "Epoch 137/500\n",
      "30/30 [==============================] - 0s 5ms/step - loss: 146.3753 - val_loss: 150.4604\n",
      "Epoch 138/500\n",
      "30/30 [==============================] - 0s 7ms/step - loss: 143.6997 - val_loss: 146.9050\n",
      "Epoch 139/500\n",
      "30/30 [==============================] - 0s 6ms/step - loss: 142.2002 - val_loss: 143.7465\n",
      "Epoch 140/500\n",
      "30/30 [==============================] - 0s 5ms/step - loss: 137.1556 - val_loss: 140.8905\n",
      "Epoch 141/500\n",
      "30/30 [==============================] - 0s 5ms/step - loss: 135.0982 - val_loss: 137.6464\n",
      "Epoch 142/500\n",
      "30/30 [==============================] - 0s 5ms/step - loss: 132.0817 - val_loss: 135.9219\n",
      "Epoch 143/500\n",
      "30/30 [==============================] - 0s 6ms/step - loss: 129.2782 - val_loss: 131.8645\n",
      "Epoch 144/500\n",
      "30/30 [==============================] - 0s 6ms/step - loss: 127.0794 - val_loss: 129.2732\n",
      "Epoch 145/500\n",
      "30/30 [==============================] - 0s 6ms/step - loss: 124.3909 - val_loss: 126.5242\n",
      "Epoch 146/500\n",
      "30/30 [==============================] - 0s 3ms/step - loss: 122.3462 - val_loss: 124.0722\n",
      "Epoch 147/500\n",
      "30/30 [==============================] - 0s 4ms/step - loss: 119.9548 - val_loss: 121.6611\n",
      "Epoch 148/500\n",
      "30/30 [==============================] - 0s 5ms/step - loss: 117.7648 - val_loss: 119.0199\n",
      "Epoch 149/500\n",
      "30/30 [==============================] - 0s 5ms/step - loss: 115.4414 - val_loss: 116.9423\n",
      "Epoch 150/500\n",
      "30/30 [==============================] - 0s 5ms/step - loss: 113.3006 - val_loss: 114.6345\n",
      "Epoch 151/500\n",
      "30/30 [==============================] - 0s 6ms/step - loss: 111.4987 - val_loss: 113.0521\n",
      "Epoch 152/500\n",
      "30/30 [==============================] - 0s 6ms/step - loss: 109.7130 - val_loss: 110.8734\n",
      "Epoch 153/500\n",
      "30/30 [==============================] - 0s 5ms/step - loss: 107.7721 - val_loss: 108.8764\n",
      "Epoch 154/500\n",
      "30/30 [==============================] - 0s 3ms/step - loss: 106.1831 - val_loss: 107.3094\n",
      "Epoch 155/500\n",
      "30/30 [==============================] - 0s 4ms/step - loss: 104.5574 - val_loss: 104.9239\n",
      "Epoch 156/500\n"
     ]
    },
    {
     "name": "stdout",
     "output_type": "stream",
     "text": [
      "30/30 [==============================] - 0s 6ms/step - loss: 102.7866 - val_loss: 103.2459\n",
      "Epoch 157/500\n",
      "30/30 [==============================] - 0s 5ms/step - loss: 101.0900 - val_loss: 102.0570\n",
      "Epoch 158/500\n",
      "30/30 [==============================] - 0s 3ms/step - loss: 100.2811 - val_loss: 100.2208\n",
      "Epoch 159/500\n",
      "30/30 [==============================] - 0s 3ms/step - loss: 99.9771 - val_loss: 98.7200\n",
      "Epoch 160/500\n",
      "30/30 [==============================] - 0s 5ms/step - loss: 97.7917 - val_loss: 97.1302\n",
      "Epoch 161/500\n",
      "30/30 [==============================] - 0s 5ms/step - loss: 95.5613 - val_loss: 95.6326\n",
      "Epoch 162/500\n",
      "30/30 [==============================] - 0s 4ms/step - loss: 94.2983 - val_loss: 94.0839\n",
      "Epoch 163/500\n",
      "30/30 [==============================] - 0s 5ms/step - loss: 93.1536 - val_loss: 93.4908\n",
      "Epoch 164/500\n",
      "30/30 [==============================] - 0s 5ms/step - loss: 91.3593 - val_loss: 91.2830\n",
      "Epoch 165/500\n",
      "30/30 [==============================] - 0s 5ms/step - loss: 90.4874 - val_loss: 90.1519\n",
      "Epoch 166/500\n",
      "30/30 [==============================] - 0s 3ms/step - loss: 89.5901 - val_loss: 88.8018\n",
      "Epoch 167/500\n",
      "30/30 [==============================] - 0s 6ms/step - loss: 89.2730 - val_loss: 87.9834\n",
      "Epoch 168/500\n",
      "30/30 [==============================] - 0s 7ms/step - loss: 88.0149 - val_loss: 86.1489\n",
      "Epoch 169/500\n",
      "30/30 [==============================] - 0s 6ms/step - loss: 85.8521 - val_loss: 85.2051\n",
      "Epoch 170/500\n",
      "30/30 [==============================] - 0s 5ms/step - loss: 85.0559 - val_loss: 84.3365\n",
      "Epoch 171/500\n",
      "30/30 [==============================] - 0s 4ms/step - loss: 84.7883 - val_loss: 83.3625\n",
      "Epoch 172/500\n",
      "30/30 [==============================] - 0s 6ms/step - loss: 83.0126 - val_loss: 82.5854\n",
      "Epoch 173/500\n",
      "30/30 [==============================] - 0s 3ms/step - loss: 82.1870 - val_loss: 81.1960\n",
      "Epoch 174/500\n",
      "30/30 [==============================] - 0s 3ms/step - loss: 81.1026 - val_loss: 79.9437\n",
      "Epoch 175/500\n",
      "30/30 [==============================] - 0s 6ms/step - loss: 80.5150 - val_loss: 79.0193\n",
      "Epoch 176/500\n",
      "30/30 [==============================] - 0s 3ms/step - loss: 80.1711 - val_loss: 78.2267\n",
      "Epoch 177/500\n",
      "30/30 [==============================] - 0s 6ms/step - loss: 78.7413 - val_loss: 77.3937\n",
      "Epoch 178/500\n",
      "30/30 [==============================] - 0s 5ms/step - loss: 77.9664 - val_loss: 76.6050\n",
      "Epoch 179/500\n",
      "30/30 [==============================] - 0s 3ms/step - loss: 77.1641 - val_loss: 75.7531\n",
      "Epoch 180/500\n",
      "30/30 [==============================] - 0s 5ms/step - loss: 77.0576 - val_loss: 74.8943\n",
      "Epoch 181/500\n",
      "30/30 [==============================] - 0s 5ms/step - loss: 76.2816 - val_loss: 74.5062\n",
      "Epoch 182/500\n",
      "30/30 [==============================] - 0s 4ms/step - loss: 76.3274 - val_loss: 73.3251\n",
      "Epoch 183/500\n",
      "30/30 [==============================] - 0s 5ms/step - loss: 74.4985 - val_loss: 72.9227\n",
      "Epoch 184/500\n",
      "30/30 [==============================] - 0s 5ms/step - loss: 73.9121 - val_loss: 72.2573\n",
      "Epoch 185/500\n",
      "30/30 [==============================] - 0s 5ms/step - loss: 73.2366 - val_loss: 71.7048\n",
      "Epoch 186/500\n",
      "30/30 [==============================] - 0s 6ms/step - loss: 73.0588 - val_loss: 70.8096\n",
      "Epoch 187/500\n",
      "30/30 [==============================] - 0s 6ms/step - loss: 72.2858 - val_loss: 70.2737\n",
      "Epoch 188/500\n",
      "30/30 [==============================] - 0s 5ms/step - loss: 71.6732 - val_loss: 70.0300\n",
      "Epoch 189/500\n",
      "30/30 [==============================] - 0s 5ms/step - loss: 71.7623 - val_loss: 69.2919\n",
      "Epoch 190/500\n",
      "30/30 [==============================] - 0s 5ms/step - loss: 70.9546 - val_loss: 68.2392\n",
      "Epoch 191/500\n",
      "30/30 [==============================] - 0s 3ms/step - loss: 70.5815 - val_loss: 68.4247\n",
      "Epoch 192/500\n",
      "30/30 [==============================] - 0s 4ms/step - loss: 69.8304 - val_loss: 67.0807\n",
      "Epoch 193/500\n",
      "30/30 [==============================] - 0s 5ms/step - loss: 70.1959 - val_loss: 66.7489\n",
      "Epoch 194/500\n",
      "30/30 [==============================] - 0s 7ms/step - loss: 68.5907 - val_loss: 66.0924\n",
      "Epoch 195/500\n",
      "30/30 [==============================] - 0s 6ms/step - loss: 68.8732 - val_loss: 65.6606\n",
      "Epoch 196/500\n",
      "30/30 [==============================] - 0s 3ms/step - loss: 68.0749 - val_loss: 65.4507\n",
      "Epoch 197/500\n",
      "30/30 [==============================] - 0s 3ms/step - loss: 67.7444 - val_loss: 64.7826\n",
      "Epoch 198/500\n",
      "30/30 [==============================] - 0s 3ms/step - loss: 67.7431 - val_loss: 64.4742\n",
      "Epoch 199/500\n",
      "30/30 [==============================] - 0s 5ms/step - loss: 67.0283 - val_loss: 64.2492\n",
      "Epoch 200/500\n",
      "30/30 [==============================] - 0s 5ms/step - loss: 66.5568 - val_loss: 63.6040\n",
      "Epoch 201/500\n",
      "30/30 [==============================] - 0s 3ms/step - loss: 66.4016 - val_loss: 64.2064\n",
      "Epoch 202/500\n",
      "30/30 [==============================] - 0s 6ms/step - loss: 65.6813 - val_loss: 63.0426\n",
      "Epoch 203/500\n",
      "30/30 [==============================] - 0s 3ms/step - loss: 66.4871 - val_loss: 62.5394\n",
      "Epoch 204/500\n",
      "30/30 [==============================] - 0s 4ms/step - loss: 66.2768 - val_loss: 62.5163\n",
      "Epoch 205/500\n",
      "30/30 [==============================] - 0s 6ms/step - loss: 65.2598 - val_loss: 61.7936\n",
      "Epoch 206/500\n",
      "30/30 [==============================] - 0s 4ms/step - loss: 64.3227 - val_loss: 61.9776\n",
      "Epoch 207/500\n",
      "30/30 [==============================] - 0s 5ms/step - loss: 64.7135 - val_loss: 61.2207\n",
      "Epoch 208/500\n",
      "30/30 [==============================] - 0s 5ms/step - loss: 64.0778 - val_loss: 60.7933\n",
      "Epoch 209/500\n",
      "30/30 [==============================] - 0s 4ms/step - loss: 63.5130 - val_loss: 60.6720\n",
      "Epoch 210/500\n",
      "30/30 [==============================] - 0s 6ms/step - loss: 63.4364 - val_loss: 60.4698\n",
      "Epoch 211/500\n",
      "30/30 [==============================] - 0s 4ms/step - loss: 63.0812 - val_loss: 59.9723\n",
      "Epoch 212/500\n",
      "30/30 [==============================] - 0s 7ms/step - loss: 64.2539 - val_loss: 59.5897\n",
      "Epoch 213/500\n",
      "30/30 [==============================] - 0s 7ms/step - loss: 63.3608 - val_loss: 59.5626\n",
      "Epoch 214/500\n",
      "30/30 [==============================] - 0s 8ms/step - loss: 62.2870 - val_loss: 59.1994\n",
      "Epoch 215/500\n",
      "30/30 [==============================] - 0s 6ms/step - loss: 62.8414 - val_loss: 58.9329\n",
      "Epoch 216/500\n",
      "30/30 [==============================] - 0s 4ms/step - loss: 62.1144 - val_loss: 58.5691\n",
      "Epoch 217/500\n",
      "30/30 [==============================] - 0s 3ms/step - loss: 61.8265 - val_loss: 58.4869\n",
      "Epoch 218/500\n",
      "30/30 [==============================] - 0s 6ms/step - loss: 61.7962 - val_loss: 58.0051\n",
      "Epoch 219/500\n",
      "30/30 [==============================] - 0s 4ms/step - loss: 61.5960 - val_loss: 57.9494\n",
      "Epoch 220/500\n",
      "30/30 [==============================] - 0s 4ms/step - loss: 60.8412 - val_loss: 57.9812\n",
      "Epoch 221/500\n",
      "30/30 [==============================] - 0s 5ms/step - loss: 60.5690 - val_loss: 57.4579\n",
      "Epoch 222/500\n",
      "30/30 [==============================] - 0s 3ms/step - loss: 60.9974 - val_loss: 57.5633\n",
      "Epoch 223/500\n",
      "30/30 [==============================] - 0s 2ms/step - loss: 60.9346 - val_loss: 56.9767\n",
      "Epoch 224/500\n",
      "30/30 [==============================] - 0s 2ms/step - loss: 59.9958 - val_loss: 57.5321\n",
      "Epoch 225/500\n",
      "30/30 [==============================] - 0s 3ms/step - loss: 60.2186 - val_loss: 56.6994\n",
      "Epoch 226/500\n",
      "30/30 [==============================] - 0s 4ms/step - loss: 59.9036 - val_loss: 56.2545\n",
      "Epoch 227/500\n",
      "30/30 [==============================] - 0s 7ms/step - loss: 59.8910 - val_loss: 56.1545\n",
      "Epoch 228/500\n",
      "30/30 [==============================] - 0s 4ms/step - loss: 59.1256 - val_loss: 56.0352\n",
      "Epoch 229/500\n",
      "30/30 [==============================] - 0s 4ms/step - loss: 59.1026 - val_loss: 55.9418\n",
      "Epoch 230/500\n",
      "30/30 [==============================] - 0s 4ms/step - loss: 58.8713 - val_loss: 55.7730\n",
      "Epoch 231/500\n",
      "30/30 [==============================] - 0s 5ms/step - loss: 58.7435 - val_loss: 55.0758\n",
      "Epoch 232/500\n",
      "30/30 [==============================] - 0s 4ms/step - loss: 58.8433 - val_loss: 55.0959\n",
      "Epoch 233/500\n",
      "30/30 [==============================] - 0s 4ms/step - loss: 58.4309 - val_loss: 55.0264\n",
      "Epoch 234/500\n",
      "30/30 [==============================] - 0s 4ms/step - loss: 58.2660 - val_loss: 54.4574\n",
      "Epoch 235/500\n",
      "30/30 [==============================] - 0s 3ms/step - loss: 58.0431 - val_loss: 54.7131\n",
      "Epoch 236/500\n",
      "30/30 [==============================] - 0s 3ms/step - loss: 57.8762 - val_loss: 54.4092\n",
      "Epoch 237/500\n",
      "30/30 [==============================] - 0s 3ms/step - loss: 58.9700 - val_loss: 54.0703\n",
      "Epoch 238/500\n",
      "30/30 [==============================] - 0s 6ms/step - loss: 57.1071 - val_loss: 53.6419\n",
      "Epoch 239/500\n",
      "30/30 [==============================] - 0s 6ms/step - loss: 56.9778 - val_loss: 53.3940\n",
      "Epoch 240/500\n",
      "30/30 [==============================] - 0s 3ms/step - loss: 56.6911 - val_loss: 53.3572\n",
      "Epoch 241/500\n",
      "30/30 [==============================] - 0s 3ms/step - loss: 56.6182 - val_loss: 53.1583\n",
      "Epoch 242/500\n",
      "30/30 [==============================] - 0s 6ms/step - loss: 56.6538 - val_loss: 52.9047\n",
      "Epoch 243/500\n",
      "30/30 [==============================] - 0s 4ms/step - loss: 57.1206 - val_loss: 52.6448\n",
      "Epoch 244/500\n",
      "30/30 [==============================] - 0s 6ms/step - loss: 56.1437 - val_loss: 52.7087\n",
      "Epoch 245/500\n",
      "30/30 [==============================] - 0s 4ms/step - loss: 55.9937 - val_loss: 52.5974\n",
      "Epoch 246/500\n",
      "30/30 [==============================] - 0s 3ms/step - loss: 55.5135 - val_loss: 52.0276\n",
      "Epoch 247/500\n",
      "30/30 [==============================] - 0s 2ms/step - loss: 55.4287 - val_loss: 51.7953\n",
      "Epoch 248/500\n",
      "30/30 [==============================] - 0s 7ms/step - loss: 55.0483 - val_loss: 51.9501\n",
      "Epoch 249/500\n",
      "30/30 [==============================] - 0s 8ms/step - loss: 55.0005 - val_loss: 51.5186\n",
      "Epoch 250/500\n",
      "30/30 [==============================] - 0s 6ms/step - loss: 54.7659 - val_loss: 51.3884\n",
      "Epoch 251/500\n",
      "30/30 [==============================] - 0s 5ms/step - loss: 55.3810 - val_loss: 50.6766\n",
      "Epoch 252/500\n",
      "30/30 [==============================] - 0s 8ms/step - loss: 54.2327 - val_loss: 50.9330\n",
      "Epoch 253/500\n",
      "30/30 [==============================] - 0s 7ms/step - loss: 54.0354 - val_loss: 50.4456\n",
      "Epoch 254/500\n",
      "30/30 [==============================] - 0s 7ms/step - loss: 53.9043 - val_loss: 50.1781\n",
      "Epoch 255/500\n",
      "30/30 [==============================] - 0s 6ms/step - loss: 53.5214 - val_loss: 49.9939\n",
      "Epoch 256/500\n",
      "30/30 [==============================] - 0s 5ms/step - loss: 53.6222 - val_loss: 50.5569\n",
      "Epoch 257/500\n",
      "30/30 [==============================] - 0s 3ms/step - loss: 53.5569 - val_loss: 49.4347\n",
      "Epoch 258/500\n",
      "30/30 [==============================] - 0s 3ms/step - loss: 52.6419 - val_loss: 49.5569\n",
      "Epoch 259/500\n",
      "30/30 [==============================] - 0s 3ms/step - loss: 52.5813 - val_loss: 49.0697\n",
      "Epoch 260/500\n",
      "30/30 [==============================] - 0s 4ms/step - loss: 52.6574 - val_loss: 48.8727\n",
      "Epoch 261/500\n",
      "30/30 [==============================] - 0s 8ms/step - loss: 52.5498 - val_loss: 48.5655\n",
      "Epoch 262/500\n",
      "30/30 [==============================] - 0s 5ms/step - loss: 52.1569 - val_loss: 48.6057\n",
      "Epoch 263/500\n",
      "30/30 [==============================] - 0s 4ms/step - loss: 51.5706 - val_loss: 48.3334\n",
      "Epoch 264/500\n",
      "30/30 [==============================] - 0s 4ms/step - loss: 51.7774 - val_loss: 48.3052\n",
      "Epoch 265/500\n",
      "30/30 [==============================] - 0s 4ms/step - loss: 51.1459 - val_loss: 47.7715\n",
      "Epoch 266/500\n",
      "30/30 [==============================] - 0s 3ms/step - loss: 50.9166 - val_loss: 47.6853\n",
      "Epoch 267/500\n",
      "30/30 [==============================] - 0s 2ms/step - loss: 50.5220 - val_loss: 47.4250\n",
      "Epoch 268/500\n",
      "30/30 [==============================] - 0s 3ms/step - loss: 50.2285 - val_loss: 47.4630\n",
      "Epoch 269/500\n",
      "30/30 [==============================] - 0s 3ms/step - loss: 50.2969 - val_loss: 47.0194\n",
      "Epoch 270/500\n",
      "30/30 [==============================] - 0s 4ms/step - loss: 49.7928 - val_loss: 47.8542\n",
      "Epoch 271/500\n",
      "30/30 [==============================] - 0s 3ms/step - loss: 50.6011 - val_loss: 46.8049\n",
      "Epoch 272/500\n",
      "30/30 [==============================] - 0s 3ms/step - loss: 49.7489 - val_loss: 46.0511\n",
      "Epoch 273/500\n",
      "30/30 [==============================] - 0s 4ms/step - loss: 49.3690 - val_loss: 46.1408\n",
      "Epoch 274/500\n",
      "30/30 [==============================] - 0s 7ms/step - loss: 48.9330 - val_loss: 45.6085\n",
      "Epoch 275/500\n",
      "30/30 [==============================] - 0s 4ms/step - loss: 48.4971 - val_loss: 45.6403\n",
      "Epoch 276/500\n",
      "30/30 [==============================] - 0s 3ms/step - loss: 48.2510 - val_loss: 45.2734\n",
      "Epoch 277/500\n",
      "30/30 [==============================] - 0s 4ms/step - loss: 48.4104 - val_loss: 45.1662\n",
      "Epoch 278/500\n",
      "30/30 [==============================] - 0s 4ms/step - loss: 48.1688 - val_loss: 44.7160\n",
      "Epoch 279/500\n",
      "30/30 [==============================] - 0s 4ms/step - loss: 48.2171 - val_loss: 44.3920\n",
      "Epoch 280/500\n",
      "30/30 [==============================] - 0s 4ms/step - loss: 47.3356 - val_loss: 44.1466\n",
      "Epoch 281/500\n",
      "30/30 [==============================] - 0s 4ms/step - loss: 47.0165 - val_loss: 44.5682\n",
      "Epoch 282/500\n",
      "30/30 [==============================] - 0s 3ms/step - loss: 46.7850 - val_loss: 44.0299\n",
      "Epoch 283/500\n",
      "30/30 [==============================] - 0s 3ms/step - loss: 46.3463 - val_loss: 43.3872\n",
      "Epoch 284/500\n",
      "30/30 [==============================] - 0s 3ms/step - loss: 46.1847 - val_loss: 43.5386\n",
      "Epoch 285/500\n",
      "30/30 [==============================] - 0s 3ms/step - loss: 46.0357 - val_loss: 42.9871\n",
      "Epoch 286/500\n",
      "30/30 [==============================] - 0s 4ms/step - loss: 45.8507 - val_loss: 42.8395\n",
      "Epoch 287/500\n",
      "30/30 [==============================] - 0s 2ms/step - loss: 45.9601 - val_loss: 42.7634\n",
      "Epoch 288/500\n",
      "30/30 [==============================] - 0s 2ms/step - loss: 45.3109 - val_loss: 42.5492\n",
      "Epoch 289/500\n",
      "30/30 [==============================] - 0s 2ms/step - loss: 45.0054 - val_loss: 42.2137\n",
      "Epoch 290/500\n",
      "30/30 [==============================] - 0s 3ms/step - loss: 44.5973 - val_loss: 42.3625\n",
      "Epoch 291/500\n",
      "30/30 [==============================] - 0s 3ms/step - loss: 44.5853 - val_loss: 41.6502\n",
      "Epoch 292/500\n",
      "30/30 [==============================] - 0s 3ms/step - loss: 44.6785 - val_loss: 41.4724\n",
      "Epoch 293/500\n",
      "30/30 [==============================] - 0s 3ms/step - loss: 44.3133 - val_loss: 41.2849\n",
      "Epoch 294/500\n",
      "30/30 [==============================] - 0s 3ms/step - loss: 43.7562 - val_loss: 41.1085\n",
      "Epoch 295/500\n",
      "30/30 [==============================] - 0s 4ms/step - loss: 43.5404 - val_loss: 40.8264\n",
      "Epoch 296/500\n",
      "30/30 [==============================] - 0s 3ms/step - loss: 43.2267 - val_loss: 40.9584\n",
      "Epoch 297/500\n",
      "30/30 [==============================] - 0s 3ms/step - loss: 43.2486 - val_loss: 40.4157\n",
      "Epoch 298/500\n",
      "30/30 [==============================] - 0s 3ms/step - loss: 42.7767 - val_loss: 40.5922\n",
      "Epoch 299/500\n",
      "30/30 [==============================] - 0s 3ms/step - loss: 43.0593 - val_loss: 40.0046\n",
      "Epoch 300/500\n",
      "30/30 [==============================] - 0s 3ms/step - loss: 42.2875 - val_loss: 39.9631\n",
      "Epoch 301/500\n",
      "30/30 [==============================] - 0s 3ms/step - loss: 42.1958 - val_loss: 39.7182\n",
      "Epoch 302/500\n",
      "30/30 [==============================] - 0s 3ms/step - loss: 42.1318 - val_loss: 39.3266\n",
      "Epoch 303/500\n",
      "30/30 [==============================] - 0s 3ms/step - loss: 42.3543 - val_loss: 39.1193\n",
      "Epoch 304/500\n",
      "30/30 [==============================] - 0s 3ms/step - loss: 41.9528 - val_loss: 38.9628\n",
      "Epoch 305/500\n",
      "30/30 [==============================] - 0s 3ms/step - loss: 41.3701 - val_loss: 38.8498\n",
      "Epoch 306/500\n",
      "30/30 [==============================] - 0s 3ms/step - loss: 41.0836 - val_loss: 38.8350\n",
      "Epoch 307/500\n",
      "30/30 [==============================] - 0s 2ms/step - loss: 40.7408 - val_loss: 38.4531\n",
      "Epoch 308/500\n",
      "30/30 [==============================] - 0s 2ms/step - loss: 40.6106 - val_loss: 38.5267\n",
      "Epoch 309/500\n",
      "30/30 [==============================] - 0s 2ms/step - loss: 40.3008 - val_loss: 38.3082\n",
      "Epoch 310/500\n",
      "30/30 [==============================] - 0s 1ms/step - loss: 40.3010 - val_loss: 37.9362\n",
      "Epoch 311/500\n",
      "30/30 [==============================] - 0s 1ms/step - loss: 40.0413 - val_loss: 37.8375\n",
      "Epoch 312/500\n",
      "30/30 [==============================] - 0s 1ms/step - loss: 39.9815 - val_loss: 37.6191\n",
      "Epoch 313/500\n",
      "30/30 [==============================] - 0s 2ms/step - loss: 39.8263 - val_loss: 37.1356\n",
      "Epoch 314/500\n"
     ]
    },
    {
     "name": "stdout",
     "output_type": "stream",
     "text": [
      "30/30 [==============================] - 0s 3ms/step - loss: 39.6269 - val_loss: 36.9627\n",
      "Epoch 315/500\n",
      "30/30 [==============================] - 0s 6ms/step - loss: 39.1781 - val_loss: 36.9457\n",
      "Epoch 316/500\n",
      "30/30 [==============================] - 0s 4ms/step - loss: 39.0892 - val_loss: 36.7650\n",
      "Epoch 317/500\n",
      "30/30 [==============================] - 0s 6ms/step - loss: 38.8461 - val_loss: 36.5425\n",
      "Epoch 318/500\n",
      "30/30 [==============================] - 0s 6ms/step - loss: 38.7402 - val_loss: 36.3813\n",
      "Epoch 319/500\n",
      "30/30 [==============================] - 0s 5ms/step - loss: 38.1916 - val_loss: 36.1985\n",
      "Epoch 320/500\n",
      "30/30 [==============================] - 0s 3ms/step - loss: 38.4168 - val_loss: 36.1545\n",
      "Epoch 321/500\n",
      "30/30 [==============================] - 0s 5ms/step - loss: 37.9481 - val_loss: 35.7985\n",
      "Epoch 322/500\n",
      "30/30 [==============================] - 0s 4ms/step - loss: 37.8444 - val_loss: 35.5655\n",
      "Epoch 323/500\n",
      "30/30 [==============================] - 0s 4ms/step - loss: 37.5698 - val_loss: 35.3493\n",
      "Epoch 324/500\n",
      "30/30 [==============================] - 0s 3ms/step - loss: 37.3176 - val_loss: 35.0656\n",
      "Epoch 325/500\n",
      "30/30 [==============================] - 0s 3ms/step - loss: 37.1965 - val_loss: 34.8890\n",
      "Epoch 326/500\n",
      "30/30 [==============================] - 0s 4ms/step - loss: 37.1518 - val_loss: 34.8199\n",
      "Epoch 327/500\n",
      "30/30 [==============================] - 0s 6ms/step - loss: 36.8828 - val_loss: 34.4539\n",
      "Epoch 328/500\n",
      "30/30 [==============================] - 0s 3ms/step - loss: 36.4561 - val_loss: 34.9159\n",
      "Epoch 329/500\n",
      "30/30 [==============================] - 0s 4ms/step - loss: 36.5577 - val_loss: 34.9960\n",
      "Epoch 330/500\n",
      "30/30 [==============================] - 0s 7ms/step - loss: 36.3661 - val_loss: 34.1508\n",
      "Epoch 331/500\n",
      "30/30 [==============================] - 0s 5ms/step - loss: 36.1872 - val_loss: 33.7417\n",
      "Epoch 332/500\n",
      "30/30 [==============================] - 0s 4ms/step - loss: 35.6768 - val_loss: 33.7369\n",
      "Epoch 333/500\n",
      "30/30 [==============================] - 0s 5ms/step - loss: 35.6360 - val_loss: 33.6441\n",
      "Epoch 334/500\n",
      "30/30 [==============================] - 0s 5ms/step - loss: 35.4409 - val_loss: 33.3467\n",
      "Epoch 335/500\n",
      "30/30 [==============================] - 0s 3ms/step - loss: 35.2647 - val_loss: 33.2236\n",
      "Epoch 336/500\n",
      "30/30 [==============================] - 0s 3ms/step - loss: 35.1491 - val_loss: 32.9716\n",
      "Epoch 337/500\n",
      "30/30 [==============================] - 0s 5ms/step - loss: 34.9541 - val_loss: 32.6516\n",
      "Epoch 338/500\n",
      "30/30 [==============================] - 0s 6ms/step - loss: 34.7048 - val_loss: 32.6373\n",
      "Epoch 339/500\n",
      "30/30 [==============================] - 0s 6ms/step - loss: 34.4538 - val_loss: 32.4253\n",
      "Epoch 340/500\n",
      "30/30 [==============================] - 0s 6ms/step - loss: 34.8837 - val_loss: 32.3121\n",
      "Epoch 341/500\n",
      "30/30 [==============================] - 0s 6ms/step - loss: 34.5460 - val_loss: 31.9377\n",
      "Epoch 342/500\n",
      "30/30 [==============================] - 0s 6ms/step - loss: 34.0827 - val_loss: 32.0199\n",
      "Epoch 343/500\n",
      "30/30 [==============================] - 0s 5ms/step - loss: 33.8816 - val_loss: 32.0688\n",
      "Epoch 344/500\n",
      "30/30 [==============================] - 0s 4ms/step - loss: 33.5693 - val_loss: 31.6299\n",
      "Epoch 345/500\n",
      "30/30 [==============================] - 0s 5ms/step - loss: 34.0162 - val_loss: 31.3763\n",
      "Epoch 346/500\n",
      "30/30 [==============================] - 0s 6ms/step - loss: 33.3220 - val_loss: 31.1620\n",
      "Epoch 347/500\n",
      "30/30 [==============================] - 0s 7ms/step - loss: 33.0570 - val_loss: 31.1282\n",
      "Epoch 348/500\n",
      "30/30 [==============================] - 0s 7ms/step - loss: 33.2833 - val_loss: 31.1412\n",
      "Epoch 349/500\n",
      "30/30 [==============================] - 0s 5ms/step - loss: 32.9415 - val_loss: 30.8860\n",
      "Epoch 350/500\n",
      "30/30 [==============================] - 0s 3ms/step - loss: 32.6320 - val_loss: 30.8714\n",
      "Epoch 351/500\n",
      "30/30 [==============================] - 0s 5ms/step - loss: 32.5493 - val_loss: 30.5455\n",
      "Epoch 352/500\n",
      "30/30 [==============================] - 0s 6ms/step - loss: 32.2932 - val_loss: 30.2310\n",
      "Epoch 353/500\n",
      "30/30 [==============================] - 0s 5ms/step - loss: 32.8853 - val_loss: 30.0861\n",
      "Epoch 354/500\n",
      "30/30 [==============================] - 0s 5ms/step - loss: 32.0664 - val_loss: 30.0024\n",
      "Epoch 355/500\n",
      "30/30 [==============================] - 0s 5ms/step - loss: 32.1714 - val_loss: 29.7991\n",
      "Epoch 356/500\n",
      "30/30 [==============================] - 0s 4ms/step - loss: 32.1959 - val_loss: 29.9180\n",
      "Epoch 357/500\n",
      "30/30 [==============================] - 0s 2ms/step - loss: 31.6106 - val_loss: 29.5477\n",
      "Epoch 358/500\n",
      "30/30 [==============================] - 0s 2ms/step - loss: 31.5637 - val_loss: 29.2537\n",
      "Epoch 359/500\n",
      "30/30 [==============================] - 0s 2ms/step - loss: 31.3768 - val_loss: 29.3737\n",
      "Epoch 360/500\n",
      "30/30 [==============================] - 0s 3ms/step - loss: 31.3907 - val_loss: 29.2318\n",
      "Epoch 361/500\n",
      "30/30 [==============================] - 0s 4ms/step - loss: 31.0738 - val_loss: 28.6890\n",
      "Epoch 362/500\n",
      "30/30 [==============================] - 0s 6ms/step - loss: 30.9467 - val_loss: 28.7187\n",
      "Epoch 363/500\n",
      "30/30 [==============================] - 0s 5ms/step - loss: 30.7426 - val_loss: 28.7273\n",
      "Epoch 364/500\n",
      "30/30 [==============================] - 0s 5ms/step - loss: 30.8734 - val_loss: 28.7211\n",
      "Epoch 365/500\n",
      "30/30 [==============================] - 0s 4ms/step - loss: 30.7882 - val_loss: 28.3410\n",
      "Epoch 366/500\n",
      "30/30 [==============================] - 0s 5ms/step - loss: 30.3984 - val_loss: 28.2381\n",
      "Epoch 367/500\n",
      "30/30 [==============================] - 0s 3ms/step - loss: 30.4012 - val_loss: 28.1926\n",
      "Epoch 368/500\n",
      "30/30 [==============================] - 0s 5ms/step - loss: 30.6446 - val_loss: 28.0251\n",
      "Epoch 369/500\n",
      "30/30 [==============================] - 0s 3ms/step - loss: 29.9113 - val_loss: 28.0176\n",
      "Epoch 370/500\n",
      "30/30 [==============================] - 0s 3ms/step - loss: 30.0049 - val_loss: 27.8474\n",
      "Epoch 371/500\n",
      "30/30 [==============================] - 0s 3ms/step - loss: 29.7346 - val_loss: 27.7389\n",
      "Epoch 372/500\n",
      "30/30 [==============================] - 0s 5ms/step - loss: 30.0332 - val_loss: 27.9048\n",
      "Epoch 373/500\n",
      "30/30 [==============================] - 0s 5ms/step - loss: 29.7021 - val_loss: 27.3839\n",
      "Epoch 374/500\n",
      "30/30 [==============================] - 0s 6ms/step - loss: 29.9228 - val_loss: 27.1368\n",
      "Epoch 375/500\n",
      "30/30 [==============================] - 0s 6ms/step - loss: 29.1010 - val_loss: 27.2454\n",
      "Epoch 376/500\n",
      "30/30 [==============================] - 0s 4ms/step - loss: 29.0073 - val_loss: 27.0174\n",
      "Epoch 377/500\n",
      "30/30 [==============================] - 0s 4ms/step - loss: 29.0712 - val_loss: 26.8749\n",
      "Epoch 378/500\n",
      "30/30 [==============================] - 0s 5ms/step - loss: 28.8093 - val_loss: 26.9228\n",
      "Epoch 379/500\n",
      "30/30 [==============================] - 0s 3ms/step - loss: 28.8278 - val_loss: 26.8775\n",
      "Epoch 380/500\n",
      "30/30 [==============================] - 0s 5ms/step - loss: 28.5631 - val_loss: 26.7715\n",
      "Epoch 381/500\n",
      "30/30 [==============================] - 0s 4ms/step - loss: 28.4547 - val_loss: 26.6580\n",
      "Epoch 382/500\n",
      "30/30 [==============================] - 0s 7ms/step - loss: 28.6620 - val_loss: 26.3962\n",
      "Epoch 383/500\n",
      "30/30 [==============================] - 0s 7ms/step - loss: 28.2427 - val_loss: 26.2157\n",
      "Epoch 384/500\n",
      "30/30 [==============================] - 0s 7ms/step - loss: 28.0465 - val_loss: 26.1012\n",
      "Epoch 385/500\n",
      "30/30 [==============================] - 0s 5ms/step - loss: 28.4555 - val_loss: 26.3868\n",
      "Epoch 386/500\n",
      "30/30 [==============================] - 0s 4ms/step - loss: 27.9854 - val_loss: 25.8322\n",
      "Epoch 387/500\n",
      "30/30 [==============================] - 0s 6ms/step - loss: 27.7186 - val_loss: 25.8935\n",
      "Epoch 388/500\n",
      "30/30 [==============================] - 0s 6ms/step - loss: 27.6338 - val_loss: 25.8248\n",
      "Epoch 389/500\n",
      "30/30 [==============================] - 0s 3ms/step - loss: 27.7914 - val_loss: 25.6715\n",
      "Epoch 390/500\n",
      "30/30 [==============================] - 0s 3ms/step - loss: 27.4371 - val_loss: 25.4875\n",
      "Epoch 391/500\n",
      "30/30 [==============================] - 0s 6ms/step - loss: 27.4013 - val_loss: 25.2740\n",
      "Epoch 392/500\n",
      "30/30 [==============================] - 0s 6ms/step - loss: 27.2515 - val_loss: 25.2364\n",
      "Epoch 393/500\n",
      "30/30 [==============================] - 0s 6ms/step - loss: 27.3692 - val_loss: 25.0184\n",
      "Epoch 394/500\n",
      "30/30 [==============================] - 0s 6ms/step - loss: 26.9254 - val_loss: 24.9818\n",
      "Epoch 395/500\n",
      "30/30 [==============================] - 0s 5ms/step - loss: 27.4471 - val_loss: 25.2273\n",
      "Epoch 396/500\n",
      "30/30 [==============================] - 0s 3ms/step - loss: 26.9414 - val_loss: 24.7936\n",
      "Epoch 397/500\n",
      "30/30 [==============================] - 0s 5ms/step - loss: 26.7749 - val_loss: 24.8482\n",
      "Epoch 398/500\n",
      "30/30 [==============================] - 0s 5ms/step - loss: 27.1334 - val_loss: 24.6244\n",
      "Epoch 399/500\n",
      "30/30 [==============================] - 0s 5ms/step - loss: 26.4833 - val_loss: 24.4587\n",
      "Epoch 400/500\n",
      "30/30 [==============================] - 0s 3ms/step - loss: 26.4802 - val_loss: 24.4047\n",
      "Epoch 401/500\n",
      "30/30 [==============================] - 0s 3ms/step - loss: 26.3109 - val_loss: 24.2714\n",
      "Epoch 402/500\n",
      "30/30 [==============================] - 0s 3ms/step - loss: 26.4016 - val_loss: 24.1747\n",
      "Epoch 403/500\n",
      "30/30 [==============================] - 0s 5ms/step - loss: 26.4133 - val_loss: 24.1428\n",
      "Epoch 404/500\n",
      "30/30 [==============================] - 0s 4ms/step - loss: 26.1236 - val_loss: 24.1612\n",
      "Epoch 405/500\n",
      "30/30 [==============================] - 0s 5ms/step - loss: 26.0118 - val_loss: 24.2037\n",
      "Epoch 406/500\n",
      "30/30 [==============================] - 0s 5ms/step - loss: 26.0160 - val_loss: 23.9271\n",
      "Epoch 407/500\n",
      "30/30 [==============================] - 0s 5ms/step - loss: 25.9021 - val_loss: 24.1009\n",
      "Epoch 408/500\n",
      "30/30 [==============================] - 0s 3ms/step - loss: 25.9164 - val_loss: 23.7693\n",
      "Epoch 409/500\n",
      "30/30 [==============================] - 0s 5ms/step - loss: 25.6488 - val_loss: 23.9848\n",
      "Epoch 410/500\n",
      "30/30 [==============================] - 0s 5ms/step - loss: 25.7057 - val_loss: 23.6846\n",
      "Epoch 411/500\n",
      "30/30 [==============================] - 0s 4ms/step - loss: 25.6491 - val_loss: 23.7135\n",
      "Epoch 412/500\n",
      "30/30 [==============================] - 0s 7ms/step - loss: 27.2007 - val_loss: 23.3135\n",
      "Epoch 413/500\n",
      "30/30 [==============================] - 0s 7ms/step - loss: 25.7141 - val_loss: 23.2113\n",
      "Epoch 414/500\n",
      "30/30 [==============================] - 0s 5ms/step - loss: 25.4675 - val_loss: 23.5263\n",
      "Epoch 415/500\n",
      "30/30 [==============================] - 0s 5ms/step - loss: 25.4467 - val_loss: 23.1452\n",
      "Epoch 416/500\n",
      "30/30 [==============================] - 0s 3ms/step - loss: 25.2849 - val_loss: 23.1871\n",
      "Epoch 417/500\n",
      "30/30 [==============================] - 0s 6ms/step - loss: 26.0014 - val_loss: 23.0955\n",
      "Epoch 418/500\n",
      "30/30 [==============================] - 0s 5ms/step - loss: 25.0937 - val_loss: 23.1421\n",
      "Epoch 419/500\n",
      "30/30 [==============================] - 0s 3ms/step - loss: 24.9896 - val_loss: 22.9556\n",
      "Epoch 420/500\n",
      "30/30 [==============================] - 0s 4ms/step - loss: 25.0154 - val_loss: 23.0572\n",
      "Epoch 421/500\n",
      "30/30 [==============================] - 0s 6ms/step - loss: 24.8801 - val_loss: 22.9968\n",
      "Epoch 422/500\n",
      "30/30 [==============================] - 0s 3ms/step - loss: 24.8730 - val_loss: 22.7723\n",
      "Epoch 423/500\n",
      "30/30 [==============================] - 0s 6ms/step - loss: 24.8117 - val_loss: 22.8103\n",
      "Epoch 424/500\n",
      "30/30 [==============================] - 0s 7ms/step - loss: 24.7765 - val_loss: 22.8589\n",
      "Epoch 425/500\n",
      "30/30 [==============================] - 0s 6ms/step - loss: 24.7344 - val_loss: 22.6562\n",
      "Epoch 426/500\n",
      "30/30 [==============================] - 0s 6ms/step - loss: 24.5088 - val_loss: 22.7168\n",
      "Epoch 427/500\n",
      "30/30 [==============================] - 0s 3ms/step - loss: 24.6047 - val_loss: 22.6079\n",
      "Epoch 428/500\n",
      "30/30 [==============================] - 0s 3ms/step - loss: 24.5990 - val_loss: 22.5252\n",
      "Epoch 429/500\n",
      "30/30 [==============================] - 0s 3ms/step - loss: 24.4815 - val_loss: 22.5964\n",
      "Epoch 430/500\n",
      "30/30 [==============================] - 0s 5ms/step - loss: 24.2881 - val_loss: 22.3679\n",
      "Epoch 431/500\n",
      "30/30 [==============================] - 0s 5ms/step - loss: 24.2655 - val_loss: 22.4517\n",
      "Epoch 432/500\n",
      "30/30 [==============================] - 0s 5ms/step - loss: 24.1561 - val_loss: 22.4019\n",
      "Epoch 433/500\n",
      "30/30 [==============================] - 0s 3ms/step - loss: 24.1620 - val_loss: 22.2851\n",
      "Epoch 434/500\n",
      "30/30 [==============================] - 0s 5ms/step - loss: 24.2040 - val_loss: 22.3201\n",
      "Epoch 435/500\n",
      "30/30 [==============================] - 0s 5ms/step - loss: 24.2239 - val_loss: 22.2114\n",
      "Epoch 436/500\n",
      "30/30 [==============================] - 0s 3ms/step - loss: 24.0652 - val_loss: 22.4216\n",
      "Epoch 437/500\n",
      "30/30 [==============================] - 0s 4ms/step - loss: 23.9083 - val_loss: 22.2765\n",
      "Epoch 438/500\n",
      "30/30 [==============================] - 0s 6ms/step - loss: 23.8500 - val_loss: 22.0978\n",
      "Epoch 439/500\n",
      "30/30 [==============================] - 0s 6ms/step - loss: 23.9437 - val_loss: 22.0879\n",
      "Epoch 440/500\n",
      "30/30 [==============================] - 0s 6ms/step - loss: 23.9041 - val_loss: 21.9184\n",
      "Epoch 441/500\n",
      "30/30 [==============================] - 0s 5ms/step - loss: 23.7508 - val_loss: 21.9896\n",
      "Epoch 442/500\n",
      "30/30 [==============================] - 0s 3ms/step - loss: 23.6659 - val_loss: 21.8716\n",
      "Epoch 443/500\n",
      "30/30 [==============================] - 0s 5ms/step - loss: 23.8816 - val_loss: 21.8163\n",
      "Epoch 444/500\n",
      "30/30 [==============================] - 0s 7ms/step - loss: 23.5144 - val_loss: 21.7253\n",
      "Epoch 445/500\n",
      "30/30 [==============================] - 0s 5ms/step - loss: 23.4509 - val_loss: 21.6346\n",
      "Epoch 446/500\n",
      "30/30 [==============================] - 0s 3ms/step - loss: 23.8991 - val_loss: 21.4717\n",
      "Epoch 447/500\n",
      "30/30 [==============================] - 0s 3ms/step - loss: 23.5023 - val_loss: 21.5627\n",
      "Epoch 448/500\n",
      "30/30 [==============================] - 0s 5ms/step - loss: 23.5456 - val_loss: 21.4476\n",
      "Epoch 449/500\n",
      "30/30 [==============================] - 0s 5ms/step - loss: 23.2413 - val_loss: 21.5431\n",
      "Epoch 450/500\n",
      "30/30 [==============================] - 0s 3ms/step - loss: 23.4996 - val_loss: 21.4226\n",
      "Epoch 451/500\n",
      "30/30 [==============================] - 0s 3ms/step - loss: 23.3357 - val_loss: 21.4150\n",
      "Epoch 452/500\n",
      "30/30 [==============================] - 0s 3ms/step - loss: 23.3000 - val_loss: 21.3425\n",
      "Epoch 453/500\n",
      "30/30 [==============================] - 0s 3ms/step - loss: 23.7826 - val_loss: 21.2474\n",
      "Epoch 454/500\n",
      "30/30 [==============================] - 0s 3ms/step - loss: 23.0269 - val_loss: 21.1953\n",
      "Epoch 455/500\n",
      "30/30 [==============================] - 0s 6ms/step - loss: 23.0960 - val_loss: 21.1140\n",
      "Epoch 456/500\n",
      "30/30 [==============================] - 0s 5ms/step - loss: 23.2717 - val_loss: 21.1200\n",
      "Epoch 457/500\n",
      "30/30 [==============================] - 0s 4ms/step - loss: 23.1452 - val_loss: 21.0446\n",
      "Epoch 458/500\n",
      "30/30 [==============================] - 0s 5ms/step - loss: 22.8818 - val_loss: 21.1472\n",
      "Epoch 459/500\n",
      "30/30 [==============================] - 0s 3ms/step - loss: 22.7947 - val_loss: 21.0545\n",
      "Epoch 460/500\n",
      "30/30 [==============================] - 0s 3ms/step - loss: 23.0566 - val_loss: 21.0161\n",
      "Epoch 461/500\n",
      "30/30 [==============================] - 0s 3ms/step - loss: 23.1055 - val_loss: 21.0706\n",
      "Epoch 462/500\n",
      "30/30 [==============================] - 0s 5ms/step - loss: 22.7898 - val_loss: 21.1517\n",
      "Epoch 463/500\n",
      "30/30 [==============================] - 0s 3ms/step - loss: 23.0169 - val_loss: 20.9382\n",
      "Epoch 464/500\n",
      "30/30 [==============================] - 0s 3ms/step - loss: 23.2654 - val_loss: 20.8803\n",
      "Epoch 465/500\n",
      "30/30 [==============================] - 0s 5ms/step - loss: 22.6539 - val_loss: 20.8103\n",
      "Epoch 466/500\n",
      "30/30 [==============================] - 0s 3ms/step - loss: 22.6424 - val_loss: 20.7608\n",
      "Epoch 467/500\n",
      "30/30 [==============================] - 0s 5ms/step - loss: 22.7124 - val_loss: 20.6438\n",
      "Epoch 468/500\n",
      "30/30 [==============================] - 0s 5ms/step - loss: 22.5177 - val_loss: 20.7161\n",
      "Epoch 469/500\n",
      "30/30 [==============================] - 0s 3ms/step - loss: 22.4203 - val_loss: 20.6011\n",
      "Epoch 470/500\n",
      "30/30 [==============================] - 0s 5ms/step - loss: 22.4340 - val_loss: 20.5350\n",
      "Epoch 471/500\n",
      "30/30 [==============================] - 0s 5ms/step - loss: 22.4640 - val_loss: 20.4784\n",
      "Epoch 472/500\n"
     ]
    },
    {
     "name": "stdout",
     "output_type": "stream",
     "text": [
      "30/30 [==============================] - 0s 3ms/step - loss: 22.3131 - val_loss: 20.4721\n",
      "Epoch 473/500\n",
      "30/30 [==============================] - 0s 5ms/step - loss: 22.4212 - val_loss: 20.5051\n",
      "Epoch 474/500\n",
      "30/30 [==============================] - 0s 5ms/step - loss: 22.2347 - val_loss: 20.4826\n",
      "Epoch 475/500\n",
      "30/30 [==============================] - 0s 5ms/step - loss: 22.2468 - val_loss: 20.5958\n",
      "Epoch 476/500\n",
      "30/30 [==============================] - 0s 5ms/step - loss: 22.2262 - val_loss: 20.4921\n",
      "Epoch 477/500\n",
      "30/30 [==============================] - 0s 3ms/step - loss: 22.3118 - val_loss: 20.4248\n",
      "Epoch 478/500\n",
      "30/30 [==============================] - 0s 3ms/step - loss: 22.1368 - val_loss: 20.4347\n",
      "Epoch 479/500\n",
      "30/30 [==============================] - 0s 3ms/step - loss: 22.1557 - val_loss: 20.4167\n",
      "Epoch 480/500\n",
      "30/30 [==============================] - 0s 5ms/step - loss: 22.1335 - val_loss: 20.3628\n",
      "Epoch 481/500\n",
      "30/30 [==============================] - 0s 5ms/step - loss: 22.2270 - val_loss: 20.2422\n",
      "Epoch 482/500\n",
      "30/30 [==============================] - 0s 3ms/step - loss: 22.1133 - val_loss: 20.2879\n",
      "Epoch 483/500\n",
      "30/30 [==============================] - 0s 5ms/step - loss: 21.9829 - val_loss: 20.2155\n",
      "Epoch 484/500\n",
      "30/30 [==============================] - 0s 3ms/step - loss: 21.9462 - val_loss: 20.1864\n",
      "Epoch 485/500\n",
      "30/30 [==============================] - 0s 3ms/step - loss: 22.0195 - val_loss: 20.1074\n",
      "Epoch 486/500\n",
      "30/30 [==============================] - 0s 6ms/step - loss: 21.8583 - val_loss: 20.0758\n",
      "Epoch 487/500\n",
      "30/30 [==============================] - 0s 7ms/step - loss: 21.8676 - val_loss: 20.1888\n",
      "Epoch 488/500\n",
      "30/30 [==============================] - 0s 6ms/step - loss: 21.7838 - val_loss: 20.1360\n",
      "Epoch 489/500\n",
      "30/30 [==============================] - 0s 5ms/step - loss: 21.8463 - val_loss: 20.1837\n",
      "Epoch 490/500\n",
      "30/30 [==============================] - 0s 3ms/step - loss: 21.7255 - val_loss: 20.0535\n",
      "Epoch 491/500\n",
      "30/30 [==============================] - 0s 3ms/step - loss: 21.7622 - val_loss: 19.9992\n",
      "Epoch 492/500\n",
      "30/30 [==============================] - 0s 3ms/step - loss: 21.6702 - val_loss: 19.8871\n",
      "Epoch 493/500\n",
      "30/30 [==============================] - 0s 5ms/step - loss: 21.9444 - val_loss: 19.9448\n",
      "Epoch 494/500\n",
      "30/30 [==============================] - 0s 5ms/step - loss: 21.6319 - val_loss: 19.9983\n",
      "Epoch 495/500\n",
      "30/30 [==============================] - 0s 5ms/step - loss: 21.6434 - val_loss: 19.8713\n",
      "Epoch 496/500\n",
      "30/30 [==============================] - 0s 6ms/step - loss: 21.9624 - val_loss: 19.8198\n",
      "Epoch 497/500\n",
      "30/30 [==============================] - 0s 6ms/step - loss: 21.8492 - val_loss: 19.9890\n",
      "Epoch 498/500\n",
      "30/30 [==============================] - 0s 5ms/step - loss: 21.8053 - val_loss: 19.7608\n",
      "Epoch 499/500\n",
      "30/30 [==============================] - 0s 3ms/step - loss: 22.0055 - val_loss: 19.6977\n",
      "Epoch 500/500\n",
      "30/30 [==============================] - 0s 3ms/step - loss: 21.4504 - val_loss: 19.6342\n"
     ]
    },
    {
     "data": {
      "text/plain": [
       "<tensorflow.python.keras.callbacks.History at 0x1da1bba1df0>"
      ]
     },
     "execution_count": 28,
     "metadata": {},
     "output_type": "execute_result"
    }
   ],
   "source": [
    "# Train the network using the training data.\n",
    "# Keep track of loss for validation data too - not being used in training.\n",
    "# Could do history = model.fit(X_train, y_train, epochs=500, batch_size=10, validation_data=(X_val, y_val))\n",
    "model.fit(X_train, y_train, epochs=500, batch_size=10, validation_data=(X_val, y_val))"
   ]
  },
  {
   "cell_type": "markdown",
   "metadata": {},
   "source": [
    "Ideally, the loss calculated from the training data should be close to that calculated using the validation data (which was not used in training the model). If they differ significantly, that's a sign that something is up. Some parameters may need to be changed. If the validation error is still reducing, the model hasn't converged yet and one can continue training by just running the above cell again. I hadn't fully appreciated the difference between the train/test data and the validation data, but I see it now: the training data is used to train the model, the validation data is used to measure loss during model training to see if there are problems like under or overfitting. If there are, parameters can be changed and the model re-trained. Finally, after training and tuning of parameters, the test data is used to make predictions. It has had no input to the model training."
   ]
  },
  {
   "cell_type": "code",
   "execution_count": 29,
   "metadata": {},
   "outputs": [
    {
     "data": {
      "text/plain": [
       "<matplotlib.legend.Legend at 0x1da1bf23520>"
      ]
     },
     "execution_count": 29,
     "metadata": {},
     "output_type": "execute_result"
    },
    {
     "data": {
      "image/png": "[encoded data removed]",
      "text/plain": [
       "<Figure size 576x432 with 1 Axes>"
      ]
     },
     "metadata": {
      "needs_background": "light"
     },
     "output_type": "display_data"
    }
   ],
   "source": [
    "# Look at prediction for the test data - was not used in training.\n",
    "plt.plot(X, y, 'co', label=\"data\")\n",
    "plt.plot(X_test, model.predict(X_test), 'k.', label=\"neural n/w\")\n",
    "plt.xlabel('Speed (m/s)', fontsize='14')\n",
    "plt.ylabel('power (kW)', fontsize='14')\n",
    "plt.title(\"Neural network prediction on test data\")\n",
    "plt.grid()\n",
    "plt.legend()"
   ]
  },
  {
   "cell_type": "markdown",
   "metadata": {},
   "source": [
    "This is doing an excellent job, and to be honest, it seems like magic to me. Without knowing a thing about the data - why it looks like it does - we can make predictions. I'm more used to knowing what a quantity should look like in theory, and then fitting experimental data to that theory in order to measure error. "
   ]
  },
  {
   "cell_type": "code",
   "execution_count": 35,
   "metadata": {},
   "outputs": [
    {
     "name": "stdout",
     "output_type": "stream",
     "text": [
      "[[101.71603]]\n"
     ]
    }
   ],
   "source": [
    "# Predict from a single input value - seems sensible.\n",
    "wind = [[23]]\n",
    "print(model.predict(wind))"
   ]
  },
  {
   "cell_type": "markdown",
   "metadata": {},
   "source": [
    "### Save this neural network model"
   ]
  },
  {
   "cell_type": "code",
   "execution_count": 36,
   "metadata": {},
   "outputs": [
    {
     "name": "stdout",
     "output_type": "stream",
     "text": [
      "Neural network model saved as neural-nw.h5\n"
     ]
    }
   ],
   "source": [
    "model.save(\"neural-nw.h5\")\n",
    "print(\"Neural network model saved as neural-nw.h5\")"
   ]
  },
  {
   "cell_type": "markdown",
   "metadata": {},
   "source": [
    "## References\n",
    "<span style='color:red'> [1 Geron] </span> Aurelien Geron, *Hands-on Machine Learning with Scikit-Learn, Keras & TensorFlow*, **2019**, 2nd Edition, O'Reilly Media, Inc., CA\n",
    "\n",
    "<span style='color:red'> [2 np random] </span> numpy.random.rayleigh, NumPy v1.19 Manual, https://numpy.org/doc/stable/reference/random/generated/numpy.random.rayleigh.html\n",
    "\n",
    "<span style='color:red'> [3 WT curve] </span> Wind Energy Basics, New York Wind Energy Guide for Local Decision Makers, www.nyserda.ny.gov/-/media/Files/Publications/Research/Biomass-Solar-Wind/NY-Wind-Energy-Guide-1.pdf, (Accessed 9 Nov. 2020).\n",
    "\n",
    "<span style='color:red'> [4 WT calc] </span> Wind Turbine Power Calculations, RWE npower renewables, https://docplayer.net/17802133-Wind-turbine-power-calculations.html, (Accessed 21 Oct. 2020).\n",
    "\n",
    "<span style='color:red'> [5 Medium nlr] </span> Medium.com, Understanding Non-Linear Regression, https://medium.com/towards-artificial-intelligence/understanding-non-linear-regression-fbef9a396b71 (Accessed 1 Dec. 2020).\n",
    "\n",
    "<span style='color:red'> [6 CourseML] </span> Andrew Ng, Coursera Machine Learning offered by Stanford, https://www.coursera.org/learn/machine-learning, (Completed & certified Sept. 2020).\n",
    "\n",
    "<span style='color:red'> [7 Medium polyReg] </span> Medium.com, Polynomial Regression, https://towardsdatascience.com/polynomial-regression-bbe8b9d97491 (Accessed 7 Dec. 2020).\n",
    "\n",
    "<span style='color:red'> [8 Medium SVRreg] </span> Medium.com, Support Vector Regression in 6 Steps with Python, https://medium.com/pursuitnotes/support-vector-regression-in-6-steps-with-python-c4569acd062d (Accessed 9 Dec. 2020).\n",
    "\n",
    "<span style='color:red'> [9 SVR] </span> Scikit-learn, 1.4. Support Vector Machines, https://scikit-learn.org/stable/modules/svm.html#regression (Accessed 12 Dec. 2020).\n",
    "\n",
    "<span style='color:red'> [10 SKLsvrKer] </span> Scikit-learn, Support Vector Regression (SVR) using linear and non-linear kernels, https://ogrisel.github.io/scikit-learn.org/sklearn-tutorial/auto_examples/svm/plot_svm_regression.html (Accessed 12 Dec. 2020).\n",
    "\n",
    "<span style='color:red'> [11 DFkernel] </span> Data Flair, Kernel Functions-Introduction to SVM Kernel & Examples, https://data-flair.training/blogs/svm-kernel-functions/#:~:text=SVM%20Kernel%20Functions&text=The%20function%20of%20kernel%20is,(RBF)%2C%20and%20sigmoid. (Accessed 12 Dec. 2020).\n",
    "\n",
    "<span style='color:red'> [12 MLMscaler] </span> Machine Learning Mastery, How to Use StandardScaler and MinMaxScaler Transforms in Python, https://machinelearningmastery.com/standardscaler-and-minmaxscaler-transforms-in-python/ (Accessed 12 Dec. 2020).\n",
    "\n",
    "<span style='color:red'> [13 SVRpractical] </span> Scikit-learn, 1.4.5. Tips on Practical Use, https://scikit-learn.org/stable/modules/svm.html#tips-on-practical-use (Accessed 12 Dec. 2020).\n",
    "\n",
    "<span style='color:red'> [14 WikiANN] </span> Wikipedia, Artificial neural network, https://en.wikipedia.org/wiki/Artificial_neural_network (Accessed 16 Dec. 2020).\n",
    "\n",
    "<span style='color:red'> [15 keras] </span> Keras, Introduction to Keras for Engineers, https://keras.io/getting_started/intro_to_keras_for_engineers/ (Accessed 16 Dec. 2020).\n",
    "\n",
    "<span style='color:red'> [16 tf] </span> TensorFlow, https://www.tensorflow.org/ (Accessed 16 Dec. 2020).\n",
    "\n",
    "<span style='color:red'> [17 mediumANN] </span> Medium.com, The Artificial Neural Networks handbook: Part 1, https://medium.com/coinmonks/the-artificial-neural-networks-handbook-part-1-f9ceb0e376b4 (Accessed 17 Dec. 2020).\n",
    "\n",
    "<span style='color:red'> [18 NNWhowto] </span> Machine Learning Mastery, How To Build Multi-Layer Perceptron Neural Network Models with Keras, https://machinelearningmastery.com/build-multi-layer-perceptron-neural-network-models-keras/ (Accessed 16 Dec. 2020).\n",
    "\n",
    "<span style='color:red'> [19 SOkerasIP] </span> Stack Overflow, Keras input explanation: input_shape, units, batch_size, dim, etc, https://stackoverflow.com/questions/44747343/keras-input-explanation-input-shape-units-batch-size-dim-etc (Accessed 17 Dec. 2020).\n",
    "\n",
    "https://machinelearningmastery.com/save-load-keras-deep-learning-models/ GOOD\n",
    "\n",
    "\n",
    "\n",
    "https://srnghn.medium.com/machine-learning-trying-to-predict-a-numerical-value-8aafb9ad4d36\n",
    "\n",
    "https://stackoverflow.blog/2020/10/12/how-to-put-machine-learning-models-into-production/\n",
    "\n",
    "https://towardsdatascience.com/simple-way-to-deploy-machine-learning-models-to-cloud-fd58b771fdcf\n",
    "\n",
    "Not used directly:\n",
    "***\n",
    "<span style='color:red'> [WT FAQ] </span> Wind Turbine FAQ, ENERPOWER Total Energy Solutions, https://enerpower.ie/portfolio/wind-turbine-faq-ireland/, (Accessed 21 Oct. 2020).\n",
    "\n",
    "<span style='color:red'> [MLM select] </span> Machine Learning Mastery, A Gentle Introduction to Model Selection for Machine Learning, https://machinelearningmastery.com/a-gentle-introduction-to-model-selection-for-machine-learning/ (Accessed 30 Nov. 2020)\n",
    "\n",
    "<span style='color:red'> [x GDvsSGD] </span> Stack Exchange, What is the difference between Gradient Descent and Stochastic Gradient Descent?, https://datascience.stackexchange.com/questions/36450/what-is-the-difference-between-gradient-descent-and-stochastic-gradient-descent#:~:text=In%20Gradient%20Descent%20or%20Batch,of%20training%20data%20per%20epoch (Accessed 16 Dec. 2020)."
   ]
  },
  {
   "cell_type": "markdown",
   "metadata": {},
   "source": [
    "To do:\n",
    "- saving models"
   ]
  },
  {
   "cell_type": "markdown",
   "metadata": {},
   "source": [
    "<br>\n",
    "\n",
    "### End"
   ]
  }
 ],
 "metadata": {
  "kernelspec": {
   "display_name": "Python 3",
   "language": "python",
   "name": "python3"
  },
  "language_info": {
   "codemirror_mode": {
    "name": "ipython",
    "version": 3
   },
   "file_extension": ".py",
   "mimetype": "text/x-python",
   "name": "python",
   "nbconvert_exporter": "python",
   "pygments_lexer": "ipython3",
   "version": "3.8.5"
  }
 },
 "nbformat": 4,
 "nbformat_minor": 4
}
