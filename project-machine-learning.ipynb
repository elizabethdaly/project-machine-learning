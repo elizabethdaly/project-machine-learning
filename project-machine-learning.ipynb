{
 "cells": [
  {
   "cell_type": "markdown",
   "metadata": {},
   "source": [
    "# Elizabeth Daly\n",
    "# HDip Data Analytics 2020\n",
    "## Machine Learning & Statistics Project\n",
    "***"
   ]
  },
  {
   "cell_type": "markdown",
   "metadata": {},
   "source": [
    "For the module project we must create a web service that uses machine learning to make predictions of wind turbine power output from wind speed values. The web service should respond with predicted power values based on wind speed values sent as HTTP requests. A Dockerfile will be used to build and run the web service in a container. "
   ]
  },
  {
   "cell_type": "markdown",
   "metadata": {},
   "source": [
    "The very first thing to do is to import required packages. I do them all here in one place."
   ]
  },
  {
   "cell_type": "code",
   "execution_count": 1,
   "metadata": {},
   "outputs": [],
   "source": [
    "# For data frames.\n",
    "import pandas as pd\n",
    "\n",
    "# For numerical arrays.\n",
    "import numpy as np\n",
    "\n",
    "# For plotting\n",
    "import matplotlib.pyplot as plt\n",
    "\n",
    "#For maths\n",
    "import math as m\n",
    "\n",
    "# Might use this.\n",
    "import seaborn as sns\n",
    "\n",
    "# For linear regression.\n",
    "from sklearn import linear_model\n",
    "\n",
    "# For evaluating model performance.\n",
    "from sklearn.metrics import mean_squared_error, r2_score\n",
    "\n",
    "# For generating polynomial features in the data.\n",
    "from sklearn.preprocessing import PolynomialFeatures\n",
    "\n",
    "# For splitting data into train / test sets.\n",
    "from sklearn.model_selection import train_test_split\n",
    "\n",
    "# For defining a pipeline. NOT USED\n",
    "# from sklearn.pipeline import Pipeline\n",
    "\n",
    "# For support vector machine regression.\n",
    "from sklearn.svm import SVR\n",
    "\n",
    "# Want to scale the input  for SVR.\n",
    "from sklearn.preprocessing import StandardScaler\n",
    "\n",
    "# For neural networks\n",
    "import tensorflow.keras as kr\n",
    "\n",
    "# For saving/restoring models using pickle\n",
    "import joblib"
   ]
  },
  {
   "cell_type": "code",
   "execution_count": 2,
   "metadata": {},
   "outputs": [],
   "source": [
    "plt.rcParams['figure.figsize'] = (8.0, 6.0) # Make nice big figures"
   ]
  },
  {
   "cell_type": "markdown",
   "metadata": {},
   "source": [
    "## Data exploration\n",
    "Reference <span style='color:red'> [1 Geron] </span> suggests a number of steps to follow when beginning a new machine learning project. The very first is to get the data and explore it, so now I'll import the **powerproduction** dataset provided and have a look at it. I'll also keep an intact copy of the original dataset in a dataframe called dforig. "
   ]
  },
  {
   "cell_type": "code",
   "execution_count": 3,
   "metadata": {},
   "outputs": [
    {
     "name": "stdout",
     "output_type": "stream",
     "text": [
      "Data frame shape (500, 2) r,c\n",
      "speed    500\n",
      "power    500\n",
      "dtype: int64\n"
     ]
    }
   ],
   "source": [
    "# File provided as a txt file. I saved it as a csv file.\n",
    "df = pd.read_csv(\"data\\powerproduction.csv\")\n",
    "\n",
    "# Make a copy of the original dataset in case we need it later.\n",
    "dforig = df\n",
    "\n",
    "# Size?\n",
    "shape = df.shape\n",
    "print(\"Data frame shape\", shape, \"r,c\")\n",
    "\n",
    "# Check for NaNs, missing values etc\n",
    "print(df.count())"
   ]
  },
  {
   "cell_type": "code",
   "execution_count": 4,
   "metadata": {
    "scrolled": true
   },
   "outputs": [
    {
     "data": {
      "text/html": [
       "<div>\n",
       "<style scoped>\n",
       "    .dataframe tbody tr th:only-of-type {\n",
       "        vertical-align: middle;\n",
       "    }\n",
       "\n",
       "    .dataframe tbody tr th {\n",
       "        vertical-align: top;\n",
       "    }\n",
       "\n",
       "    .dataframe thead th {\n",
       "        text-align: right;\n",
       "    }\n",
       "</style>\n",
       "<table border=\"1\" class=\"dataframe\">\n",
       "  <thead>\n",
       "    <tr style=\"text-align: right;\">\n",
       "      <th></th>\n",
       "      <th>speed</th>\n",
       "      <th>power</th>\n",
       "    </tr>\n",
       "  </thead>\n",
       "  <tbody>\n",
       "    <tr>\n",
       "      <th>0</th>\n",
       "      <td>0.000</td>\n",
       "      <td>0.0</td>\n",
       "    </tr>\n",
       "    <tr>\n",
       "      <th>1</th>\n",
       "      <td>0.125</td>\n",
       "      <td>0.0</td>\n",
       "    </tr>\n",
       "    <tr>\n",
       "      <th>2</th>\n",
       "      <td>0.150</td>\n",
       "      <td>0.0</td>\n",
       "    </tr>\n",
       "    <tr>\n",
       "      <th>3</th>\n",
       "      <td>0.225</td>\n",
       "      <td>0.0</td>\n",
       "    </tr>\n",
       "    <tr>\n",
       "      <th>4</th>\n",
       "      <td>0.275</td>\n",
       "      <td>0.0</td>\n",
       "    </tr>\n",
       "    <tr>\n",
       "      <th>...</th>\n",
       "      <td>...</td>\n",
       "      <td>...</td>\n",
       "    </tr>\n",
       "    <tr>\n",
       "      <th>495</th>\n",
       "      <td>24.775</td>\n",
       "      <td>0.0</td>\n",
       "    </tr>\n",
       "    <tr>\n",
       "      <th>496</th>\n",
       "      <td>24.850</td>\n",
       "      <td>0.0</td>\n",
       "    </tr>\n",
       "    <tr>\n",
       "      <th>497</th>\n",
       "      <td>24.875</td>\n",
       "      <td>0.0</td>\n",
       "    </tr>\n",
       "    <tr>\n",
       "      <th>498</th>\n",
       "      <td>24.950</td>\n",
       "      <td>0.0</td>\n",
       "    </tr>\n",
       "    <tr>\n",
       "      <th>499</th>\n",
       "      <td>25.000</td>\n",
       "      <td>0.0</td>\n",
       "    </tr>\n",
       "  </tbody>\n",
       "</table>\n",
       "<p>500 rows × 2 columns</p>\n",
       "</div>"
      ],
      "text/plain": [
       "      speed  power\n",
       "0     0.000    0.0\n",
       "1     0.125    0.0\n",
       "2     0.150    0.0\n",
       "3     0.225    0.0\n",
       "4     0.275    0.0\n",
       "..      ...    ...\n",
       "495  24.775    0.0\n",
       "496  24.850    0.0\n",
       "497  24.875    0.0\n",
       "498  24.950    0.0\n",
       "499  25.000    0.0\n",
       "\n",
       "[500 rows x 2 columns]"
      ]
     },
     "execution_count": 4,
     "metadata": {},
     "output_type": "execute_result"
    }
   ],
   "source": [
    "df"
   ]
  },
  {
   "cell_type": "markdown",
   "metadata": {},
   "source": [
    "The raw data contains a column of wind speed values (in increasing order of wind speed) and a column of associated power values. Looks like the first and last 5 lines contain zeros for power. Is this just a fluke? There's probably a reason for it: one can't generate power with low wind speeds and perhaps one can't operate the turbines at very high wind speeds? Check by printing more of the head of file. No units have been provided with the data, so I will assume units of wind speed are (m/s), and those of power are kilowatts (kW), as that's what seems to make sense for these numbers."
   ]
  },
  {
   "cell_type": "code",
   "execution_count": 5,
   "metadata": {},
   "outputs": [
    {
     "data": {
      "text/html": [
       "<div>\n",
       "<style scoped>\n",
       "    .dataframe tbody tr th:only-of-type {\n",
       "        vertical-align: middle;\n",
       "    }\n",
       "\n",
       "    .dataframe tbody tr th {\n",
       "        vertical-align: top;\n",
       "    }\n",
       "\n",
       "    .dataframe thead th {\n",
       "        text-align: right;\n",
       "    }\n",
       "</style>\n",
       "<table border=\"1\" class=\"dataframe\">\n",
       "  <thead>\n",
       "    <tr style=\"text-align: right;\">\n",
       "      <th></th>\n",
       "      <th>speed</th>\n",
       "      <th>power</th>\n",
       "    </tr>\n",
       "  </thead>\n",
       "  <tbody>\n",
       "    <tr>\n",
       "      <th>0</th>\n",
       "      <td>0.000</td>\n",
       "      <td>0.000</td>\n",
       "    </tr>\n",
       "    <tr>\n",
       "      <th>1</th>\n",
       "      <td>0.125</td>\n",
       "      <td>0.000</td>\n",
       "    </tr>\n",
       "    <tr>\n",
       "      <th>2</th>\n",
       "      <td>0.150</td>\n",
       "      <td>0.000</td>\n",
       "    </tr>\n",
       "    <tr>\n",
       "      <th>3</th>\n",
       "      <td>0.225</td>\n",
       "      <td>0.000</td>\n",
       "    </tr>\n",
       "    <tr>\n",
       "      <th>4</th>\n",
       "      <td>0.275</td>\n",
       "      <td>0.000</td>\n",
       "    </tr>\n",
       "    <tr>\n",
       "      <th>5</th>\n",
       "      <td>0.325</td>\n",
       "      <td>4.331</td>\n",
       "    </tr>\n",
       "    <tr>\n",
       "      <th>6</th>\n",
       "      <td>0.400</td>\n",
       "      <td>5.186</td>\n",
       "    </tr>\n",
       "    <tr>\n",
       "      <th>7</th>\n",
       "      <td>0.450</td>\n",
       "      <td>3.826</td>\n",
       "    </tr>\n",
       "    <tr>\n",
       "      <th>8</th>\n",
       "      <td>0.501</td>\n",
       "      <td>1.048</td>\n",
       "    </tr>\n",
       "    <tr>\n",
       "      <th>9</th>\n",
       "      <td>0.526</td>\n",
       "      <td>5.553</td>\n",
       "    </tr>\n",
       "  </tbody>\n",
       "</table>\n",
       "</div>"
      ],
      "text/plain": [
       "   speed  power\n",
       "0  0.000  0.000\n",
       "1  0.125  0.000\n",
       "2  0.150  0.000\n",
       "3  0.225  0.000\n",
       "4  0.275  0.000\n",
       "5  0.325  4.331\n",
       "6  0.400  5.186\n",
       "7  0.450  3.826\n",
       "8  0.501  1.048\n",
       "9  0.526  5.553"
      ]
     },
     "execution_count": 5,
     "metadata": {},
     "output_type": "execute_result"
    }
   ],
   "source": [
    "df.head(10)"
   ]
  },
  {
   "cell_type": "code",
   "execution_count": 6,
   "metadata": {},
   "outputs": [
    {
     "name": "stdout",
     "output_type": "stream",
     "text": [
      "            speed       power\n",
      "count  500.000000  500.000000\n",
      "mean    12.590398   48.014584\n",
      "std      7.224991   41.614572\n",
      "min      0.000000    0.000000\n",
      "25%      6.324750    5.288000\n",
      "50%     12.550500   41.645500\n",
      "75%     18.775250   93.537000\n",
      "max     25.000000  113.556000\n"
     ]
    }
   ],
   "source": [
    "# Look at some quick descriptive statistics of the numeric data.\n",
    "print(df.describe())"
   ]
  },
  {
   "cell_type": "markdown",
   "metadata": {},
   "source": [
    "Look at the distribution of wind speeds. Why? Our assignment in the Programming for Data Analysis module involved looking at the numpy.random package <span style='color:red'> [2 np random]</span>. I learned that, under certain conditions, wind speed has a Rayleigh distribution, which is not symmetrical. I wonder if the samples in our dataset follow a such distribution? The mean and variance of this distribution are calculated from the scale factor: $\\mu = \\sqrt{\\pi / 2} s$ and $\\sigma^2 = (4 - \\pi)/2 s^2$. This results in $\\mu \\approx 1.25 s$ and $\\sigma^2 \\approx 0.43 s$. From the descriptive statistics above we know that the mean wind speed is 12.6 m/s, so the scale factor to use is $s = \\mu/1.25 \\approx 10$."
   ]
  },
  {
   "cell_type": "code",
   "execution_count": 7,
   "metadata": {},
   "outputs": [
    {
     "name": "stdout",
     "output_type": "stream",
     "text": [
      "Average wind speed is 12.59 m/s\n"
     ]
    },
    {
     "data": {
      "image/png": "[encoded data removed]",
      "text/plain": [
       "<Figure size 576x432 with 1 Axes>"
      ]
     },
     "metadata": {
      "needs_background": "light"
     },
     "output_type": "display_data"
    }
   ],
   "source": [
    "# Wind speeds sampled from a Rayleigh distribution, mean=12.6 m/s\n",
    "# Default: numpy.random.rayleigh(scale=1.0, size=None)\n",
    "data = np.random.rayleigh(10, 1000) \n",
    "plt.hist(data, bins=30, alpha = 0.3, facecolor='blue', edgecolor='black', label=['Rayleigh'])\n",
    "\n",
    "bins = np.arange(0, 30, 2) # fixed bin size\n",
    "plt.hist(df['speed'], bins=bins, alpha=0.5, facecolor='red', label=['Data'])\n",
    "\n",
    "plt.xlabel('Wind speed (m/s)')\n",
    "plt.ylabel('Probability')\n",
    "plt.title('Histogram of wind speed: $\\mu=10 m/s$')\n",
    "plt.legend()\n",
    "w = df['speed'].mean(axis=0)\n",
    "print(f'Average wind speed is {w:.2f} m/s')"
   ]
  },
  {
   "cell_type": "markdown",
   "metadata": {},
   "source": [
    "Well, that was a dead end. Clearly the wind speeds provided do not follow a Rayleigh distribution, rather roughly a uniform distribution."
   ]
  },
  {
   "cell_type": "code",
   "execution_count": 8,
   "metadata": {},
   "outputs": [
    {
     "data": {
      "image/png": "[encoded data removed]",
      "text/plain": [
       "<Figure size 576x432 with 1 Axes>"
      ]
     },
     "metadata": {
      "needs_background": "light"
     },
     "output_type": "display_data"
    }
   ],
   "source": [
    "# Try plotting power as a function of wind speed to check for any obvious relationship between them.\n",
    "plt.plot(df['speed'], df['power'],  '.g')\n",
    "plt.title('Power vs wind speed', fontsize='14')\n",
    "plt.xlabel('speed (m/s)', fontsize='14')\n",
    "plt.ylabel('power', fontsize='14')\n",
    "plt.grid()"
   ]
  },
  {
   "cell_type": "markdown",
   "metadata": {},
   "source": [
    "Clearly there isn't a simple relationship between power and speed. It looks as if little power is generated until some threshold speed is achieved (about 7 m/s), then it increases nearly linearly in a range of wind speeds (10 - 15 m/s), before saturating above a certain wind speed (about 17 m/s). The plot would suggest there is a range of wind speeds where the power seems to increase linearly with wind speed, but we need to consider a model that works outside of this range also. Apart from the zero power values at the top and bottom (more here) of the dataset, there are very occasional zero values for power above about 10 m/s; to me they just look like anomalies."
   ]
  },
  {
   "cell_type": "markdown",
   "metadata": {},
   "source": [
    "### What do we expect?\n",
    "Is this the curve we should expect? I think so. The theoretical power curve for a turbine is specific to each turbine and site; see Figure 2 in <span style='color:red'> [3 WT curve] </span>. I'll include a screengrab here. On the figure:\n",
    "- The cut-in speed is the threshold wind speed that much be reached before the turbine will start to generate electricity. A typical value is about 3 m/s.\n",
    "- The rated output power is achieved at approximately 12 - 13 m/s.\n",
    "- The cut-out speed is the wind speed at which the turbine will stop producing electricity in order to avoid damage; typically 25 m/s."
   ]
  },
  {
   "cell_type": "markdown",
   "metadata": {},
   "source": [
    "<img src=\"img/P-wind-theory.JPG\" height=500 width=500>"
   ]
  },
  {
   "cell_type": "markdown",
   "metadata": {},
   "source": [
    "How is this theoretical curve calculated? I found some formulae which state that the extractable power from the wind is given by:\n",
    "$$P = \\frac{1}{2} \\rho A v^3 C_p$$\n",
    "where $\\rho$ is the density of air, $A$ is the area swept by the turbines, $v$ is the wind speed, and $C_p$ is the power coefficient <span style='color:red'> [4 WT calc] </span>. Looking at this formula I would expect power to depend on $v^3$. However, $C_p$ is not static as it depends on the ratio of blade tip speed to wind speed (called $\\lambda$). That function looks like this:"
   ]
  },
  {
   "cell_type": "markdown",
   "metadata": {},
   "source": [
    "<img src=\"img/Cp-lambda.JPG\">"
   ]
  },
  {
   "cell_type": "markdown",
   "metadata": {},
   "source": [
    "So I would expect the power curve to be a product of $v^3$ and this bump above. I'll try to model it."
   ]
  },
  {
   "cell_type": "code",
   "execution_count": 9,
   "metadata": {},
   "outputs": [
    {
     "name": "stdout",
     "output_type": "stream",
     "text": [
      "Average wind speed in data is 12.59 m/s\n"
     ]
    },
    {
     "data": {
      "image/png": "[encoded data removed]",
      "text/plain": [
       "<Figure size 576x432 with 1 Axes>"
      ]
     },
     "metadata": {
      "needs_background": "light"
     },
     "output_type": "display_data"
    }
   ],
   "source": [
    "# # wind speed\n",
    "x = np.linspace(0, 25, 100)\n",
    "\n",
    "# speed ^3\n",
    "v = np.power(x, 3)\n",
    "\n",
    "# Try a Rayeigh distribution for the power coefficient, need scale factor sc.\n",
    "# w = mean wind speed from our dataset above\n",
    "print(f'Average wind speed in data is {w:.2f} m/s')\n",
    "\n",
    "sc = w / (m.sqrt((m.pi) / 2)) # mode or scale\n",
    "ray = lambda s, x: (x / s ** 2) * ( np.exp( (-x **2) / (2 * s **2) )  )\n",
    "\n",
    "# PLot the product v^3 * Rayleigh and scale it down.\n",
    "plt.plot(x, 0.5 * ray(sc, x)*v, color='b', label='Rayleigh * $v^3$')\n",
    "plt.title('Power curve formula', fontsize='14')\n",
    "plt.xlabel('speed (m/s)', fontsize='14')\n",
    "plt.ylabel('power', fontsize='14')\n",
    "plt.legend()\n",
    "plt.grid()"
   ]
  },
  {
   "cell_type": "markdown",
   "metadata": {},
   "source": [
    " So this is starting to look like our data but I feel it would be difficult to model exactly. I'll start with something simpler."
   ]
  },
  {
   "cell_type": "markdown",
   "metadata": {},
   "source": [
    "## Data preparation\n",
    "The next step in a project is to prepare the dataset <span style='color:red'> [1 Geron] </span>. The first thing I'll do is clean it by removing unwanted zeros. The easiest approach would be to remove all rows where power = 0. I don't really want to do that however, because I feel like the zero power values below about 10 m/s are part of the data, while the ones above about 24 m/s represent some sort of a limit of operation. I can't see how a model would be able to abruptly predict power = 0 at the very high end of speed values unless I hard coded it in as a condition, or constrained the allowed input speed values to a range. I might come back to this here, or place a limit on wind speed input values in the front end of the application.\n",
    "Other steps which could happen now include feature selection and feature scaling. Feature selection is used to drop inputs that provide no useful information; in our case we have only one input (speed) so that step isn't relevant. Feature scaling would be necessary if the scale of an input feature was very big or small compared to other features; again, not relevant here. "
   ]
  },
  {
   "cell_type": "code",
   "execution_count": 10,
   "metadata": {},
   "outputs": [
    {
     "data": {
      "image/png": "[encoded data removed]",
      "text/plain": [
       "<Figure size 576x432 with 1 Axes>"
      ]
     },
     "metadata": {
      "needs_background": "light"
     },
     "output_type": "display_data"
    }
   ],
   "source": [
    "# Where do all the zeros occur?\n",
    "dfz = df[df[\"power\"] == 0]\n",
    "# print(f'There are {dfz.shape} zero values for power')\n",
    "# print(dfz)\n",
    "\n",
    "# Want to keep all rows with power != 0 iff speed > 10\n",
    "# https://www.shanelynn.ie/select-pandas-dataframe-rows-and-columns-using-iloc-loc-and-ix/\n",
    "dfc = df.loc[(df.power == 0) & (df.speed > 10)] # indices where this is true\n",
    "dfc # check 14 rows\n",
    "# I want to remove these rows from my existing dataset.\n",
    "df.drop(df.loc[(df.power == 0) & (df.speed > 10)].index, inplace=True)\n",
    "\n",
    "plt.plot(df['speed'], df['power'],  '.b')\n",
    "plt.title('Power vs wind speed - cleaned', fontsize='14')\n",
    "plt.xlabel('speed (m/s)', fontsize='14')\n",
    "plt.ylabel('power (kW)', fontsize='14')\n",
    "plt.grid()"
   ]
  },
  {
   "cell_type": "markdown",
   "metadata": {},
   "source": [
    "## Identify promising models\n",
    "<span style='color:red'> [1 Geron] </span> now suggests shortlisting promising models. I'll have to think about it. This is a supervised learning problem because we have been provided with a training set which is labeled: we know the power output for each value of input wind speed. Furthermore, it is a regression problem because we have been asked to predict a target numeric value of power given an input wind speed. This is different to classification, where one would be asked to predict what class a particular input belongs to; for example, using the iris data set predict iris species using some/all of the inputs petal length, petal width, sepal length, and sepal width. Some supervised learning algorithms suitable for our task include linear regression, neural networks, and maybe some like Support Vector Machine (SVM) regression and decision trees. I'll probably try the first two and only do more if I have time."
   ]
  },
  {
   "cell_type": "markdown",
   "metadata": {},
   "source": [
    "***\n",
    "### Model 0: Linear Regression\n",
    "Looking at the data, we could probably get away with fitting a straight line to it. That would likely do a very good job of predicting output power over a certain range of input wind speeds (around 10 - 15 m/s). However, it wouldn't do a great job around the places where the power is rising more slowly (< 10 m/s) or where it is leveling off (> 15 m/s). I think I'll start with a linear model and maybe move on to polynomial regression afterwards. "
   ]
  },
  {
   "cell_type": "code",
   "execution_count": 11,
   "metadata": {},
   "outputs": [
    {
     "data": {
      "text/html": [
       "<div>\n",
       "<style scoped>\n",
       "    .dataframe tbody tr th:only-of-type {\n",
       "        vertical-align: middle;\n",
       "    }\n",
       "\n",
       "    .dataframe tbody tr th {\n",
       "        vertical-align: top;\n",
       "    }\n",
       "\n",
       "    .dataframe thead th {\n",
       "        text-align: right;\n",
       "    }\n",
       "</style>\n",
       "<table border=\"1\" class=\"dataframe\">\n",
       "  <thead>\n",
       "    <tr style=\"text-align: right;\">\n",
       "      <th></th>\n",
       "      <th>speed</th>\n",
       "      <th>power</th>\n",
       "    </tr>\n",
       "  </thead>\n",
       "  <tbody>\n",
       "    <tr>\n",
       "      <th>speed</th>\n",
       "      <td>1.000000</td>\n",
       "      <td>0.950026</td>\n",
       "    </tr>\n",
       "    <tr>\n",
       "      <th>power</th>\n",
       "      <td>0.950026</td>\n",
       "      <td>1.000000</td>\n",
       "    </tr>\n",
       "  </tbody>\n",
       "</table>\n",
       "</div>"
      ],
      "text/plain": [
       "          speed     power\n",
       "speed  1.000000  0.950026\n",
       "power  0.950026  1.000000"
      ]
     },
     "execution_count": 11,
     "metadata": {},
     "output_type": "execute_result"
    }
   ],
   "source": [
    "# Take a quick look at the correlation between the dataframe columns\n",
    "df.corr()"
   ]
  },
  {
   "cell_type": "markdown",
   "metadata": {},
   "source": [
    "<span style='color:red'> [Medium nlr] </span> states that a correlation coefficient > 0.7 suggests a strong linear tendency and a nonlinear model would be inappropriate. We see values > 0.9 for the correlation between power and speed, so a straight line might actually be fine. We'll see."
   ]
  },
  {
   "cell_type": "code",
   "execution_count": 12,
   "metadata": {},
   "outputs": [
    {
     "name": "stdout",
     "output_type": "stream",
     "text": [
      "(486, 1)\n",
      "(486,)\n",
      "Coefficients: \n",
      " [5.5509909]\n",
      "Mean squared error: 166.62\n",
      "Coefficient of determination: 0.90\n"
     ]
    },
    {
     "data": {
      "text/plain": [
       "<matplotlib.legend.Legend at 0x1a624f863a0>"
      ]
     },
     "execution_count": 12,
     "metadata": {},
     "output_type": "execute_result"
    },
    {
     "data": {
      "image/png": "[encoded data removed]",
      "text/plain": [
       "<Figure size 576x432 with 1 Axes>"
      ]
     },
     "metadata": {
      "needs_background": "light"
     },
     "output_type": "display_data"
    }
   ],
   "source": [
    "# From: https://scikit-learn.org/stable/modules/linear_model.html#ordinary-least-squares\n",
    "# and example from\n",
    "# https://scikit-learn.org/stable/auto_examples/linear_model/plot_ols.html#sphx-glr-auto-examples-linear-model-plot-ols-py\n",
    "\n",
    "# Create linear regression object\n",
    "reg = linear_model.LinearRegression()\n",
    "\n",
    "# Need x and y in correct format.\n",
    "X = df[[\"speed\"]] # note dimensions\n",
    "y = df[\"power\"]\n",
    "\n",
    "print(X.shape)\n",
    "print(y.shape)\n",
    "\n",
    "# Split into training and test sets TO DO LATER\n",
    "\n",
    "# Train the model using the training sets\n",
    "reg.fit(X, y)\n",
    "\n",
    "# Make predictions using the testing set\n",
    "y_pred = reg.predict(X)\n",
    "\n",
    "# The coefficients\n",
    "print('Coefficients: \\n', reg.coef_)\n",
    "\n",
    "# The mean squared error\n",
    "print('Mean squared error: %.2f' % mean_squared_error(y, y_pred))\n",
    "\n",
    "# The coefficient of determination: 1 is perfect prediction\n",
    "print('Coefficient of determination: %.2f' % r2_score(y, y_pred))\n",
    "\n",
    "# Inspect the fit\n",
    "plt.plot(df['speed'], df['power'],  '.b', label=\"data\")\n",
    "plt.plot(df['speed'], y_pred, 'k-', label=\"model\")\n",
    "plt.xlabel('speed (m/s)', fontsize='14')\n",
    "plt.ylabel('power (kW)', fontsize='14')\n",
    "plt.title(\"Linear model\")\n",
    "plt.grid()\n",
    "plt.legend()"
   ]
  },
  {
   "cell_type": "markdown",
   "metadata": {},
   "source": [
    "This is an example of *underfitting*, where the model is too simple to learn the structure of the data: a straight line is not a good fit to our data. One solution is to pick a more powerful model which has more parameters, so we will now try fitting a polynomial to our data. There are many possible nonlinear models <span style='color:red'> [5 Medium nlr] </span>. However, as we already know that $ power \\propto speed^3$, a third order polynomial might be a good place to start.\n",
    "\n",
    "First, I'll split the data set into a training and validation part (what we have been calling test) and look at the linear model as a function of training set size. The code that follows is taken directly from <span style='color:red'> [1 Geron] </span> (p. 132) with just some edits specific to this notebook. The plot below shows that the straight line is a good fit to the data (close to zero error) when there are only a few data points in the training set, but when more points are added to the training set, the error increases because a straight line is not a good fit to this data at all. The training error reaches a plateau. On the validation or test set, the model (having being trained on only a few training points) cannot generalize well at all to new data and the error is high. As more points are added to the training set, the model performs better and the validation error comes down, although it too tends towards the same limit. This learning curve is typical of a model that is underfitting. Adding more data will not help to bring down the error, but choosing a more complex model might <span style='color:red'> [6 CourseML] </span> (Week 6 lectures)."
   ]
  },
  {
   "cell_type": "code",
   "execution_count": 13,
   "metadata": {},
   "outputs": [
    {
     "data": {
      "image/png": "[encoded data removed]",
      "text/plain": [
       "<Figure size 576x432 with 1 Axes>"
      ]
     },
     "metadata": {
      "needs_background": "light"
     },
     "output_type": "display_data"
    }
   ],
   "source": [
    "def plot_learning_curves(model, X, y):\n",
    "    X_train, X_val, y_train, y_val = train_test_split(X, y, test_size = 0.2)\n",
    "    train_errors, val_errors = [], []\n",
    "    for m in range (1, len(X_train)):\n",
    "        model.fit(X_train[:m], y_train[:m])\n",
    "        y_train_predict = model.predict(X_train[:m])\n",
    "        y_val_predict = model.predict(X_val)\n",
    "        train_errors.append(mean_squared_error(y_train[:m], y_train_predict))\n",
    "        val_errors.append(mean_squared_error(y_val, y_val_predict))\n",
    "    plt.plot(np.sqrt(train_errors), \"r-+\", label=\"train\")\n",
    "    plt.plot(np.sqrt(val_errors), \"b-.\", label=\"validation\")\n",
    "    plt.legend()\n",
    "    plt.xlabel(\"Size of training set\")\n",
    "    plt.ylabel(\"Root mean squared error\")\n",
    "    plt.grid()\n",
    "    plt.xlim(-10, 100)\n",
    "\n",
    "lin_reg = linear_model.LinearRegression()\n",
    "plot_learning_curves(lin_reg, X, y)"
   ]
  },
  {
   "cell_type": "markdown",
   "metadata": {},
   "source": [
    "***\n",
    "### Model 1: Polynomial Regression"
   ]
  },
  {
   "cell_type": "markdown",
   "metadata": {},
   "source": [
    "We transform our simple linear model $$y = \\theta_0 + \\theta_1 x $$ into a nonlinear one $$ y = \\theta_0 + \\theta_1 (x) + \\theta_2 (x^2) + \\theta_3 (x^3)$$ We can still do linear regression using this model because it is linear in the model parameters $\\theta$: $\\theta_0$ is the bias term (intercept in a straight line) and the remaining $\\theta$ terms are feature weights. <span style='color:red'> [7 Medium polyReg] </span>. The $x$, $x^2$, and $x^3$ are our features, which we obtain by transforming the data we were given. We use the PolynomialFeatures class in Scikit-learn to do this by adding the square and cube of our data to create the two new features <span style='color:red'> [1 Geron] </span> (p. 129). "
   ]
  },
  {
   "cell_type": "code",
   "execution_count": 14,
   "metadata": {},
   "outputs": [
    {
     "name": "stdout",
     "output_type": "stream",
     "text": [
      "(98, 3)\n",
      "Coefficients: [-9.42244769  1.4686013  -0.03884286]\n",
      "Intercept: 13.38\n",
      "Mean squared error: 35.13\n",
      "Coefficient of determination: 0.98\n"
     ]
    }
   ],
   "source": [
    "# Try polynomial order 3\n",
    "poly_features = PolynomialFeatures(degree=3, include_bias=False) #include_bias -> intercept\n",
    "\n",
    "# Split the data set into train/set.\n",
    "X_train, X_test, y_train, y_test = train_test_split(X, y, test_size = 0.2)\n",
    "\n",
    "# Generate the new features (powers of x) for the training data\n",
    "X_train_poly = poly_features.fit_transform(X_train)\n",
    "\n",
    "# Create an instance of the model & train it using the transformed training set.\n",
    "regP = linear_model.LinearRegression()\n",
    "regP.fit(X_train_poly, y_train)\n",
    "\n",
    "# Prediction for y using test data? Transform X_test first.\n",
    "X_test_poly = poly_features.fit_transform(X_test)\n",
    "print(X_test_poly.shape)\n",
    "y_predP = regP.predict(X_test_poly)\n",
    "#print(y_predP)\n",
    "\n",
    "# The coefficients of the fit.\n",
    "print(f'Coefficients: {regP.coef_}')\n",
    "# Don't forget about the intercept - I did initially.\n",
    "print(f'Intercept: {regP.intercept_:.2f}')\n",
    "\n",
    "# The mean squared error\n",
    "print(f'Mean squared error: {mean_squared_error(y_test, y_predP):.2f}')\n",
    "\n",
    "# The coefficient of determination: 1 is perfect prediction\n",
    "print(f'Coefficient of determination: {r2_score(y_test, y_predP):.2f}')"
   ]
  },
  {
   "cell_type": "code",
   "execution_count": 15,
   "metadata": {},
   "outputs": [
    {
     "name": "stdout",
     "output_type": "stream",
     "text": [
      "[  19.845       393.824025   7815.43777612]\n",
      "393.82402499999995\n",
      "7815.437776124999\n"
     ]
    }
   ],
   "source": [
    "# Check X_train_poly to see if it's really x, x^2, x^3?\n",
    "# Will need to generate these poly features when calling the model through the front end.\n",
    "print(X_train_poly[0])\n",
    "print(X_train_poly[0][0]**2)\n",
    "print(X_train_poly[0][0]**3)"
   ]
  },
  {
   "cell_type": "code",
   "execution_count": 16,
   "metadata": {},
   "outputs": [
    {
     "name": "stdout",
     "output_type": "stream",
     "text": [
      "[101.6277365]\n",
      "For wind speed: 20.00 polynomial regression predicts power  = 101.63\n"
     ]
    }
   ],
   "source": [
    "# Predict power for a single input speed\n",
    "xin = 20\n",
    "out = regP.predict([[xin, xin ** 2, xin ** 3]])\n",
    "print(out)\n",
    "#out = regP.intercept_ + regP.coef_[0]*xin + regP.coef_[1]*(xin**2) + regP.coef_[2]*(xin**3)\n",
    "print(f'For wind speed: {xin:.2f} polynomial regression predicts power  = {out[0]:.2f}')\n",
    "\n",
    "# Inspect the fit - seems to have a y shift of about -13 (I was forgetting y intercept!)\n",
    "fit = regP.intercept_ + regP.coef_[0]*df['speed'] + regP.coef_[1]*(df['speed']**2) + regP.coef_[2]*(df['speed']**3)"
   ]
  },
  {
   "cell_type": "code",
   "execution_count": 17,
   "metadata": {},
   "outputs": [
    {
     "data": {
      "text/plain": [
       "<matplotlib.legend.Legend at 0x1a62570f1f0>"
      ]
     },
     "execution_count": 17,
     "metadata": {},
     "output_type": "execute_result"
    },
    {
     "data": {
      "image/png": "[encoded data removed]",
      "text/plain": [
       "<Figure size 576x432 with 1 Axes>"
      ]
     },
     "metadata": {
      "needs_background": "light"
     },
     "output_type": "display_data"
    }
   ],
   "source": [
    "plt.plot(df['speed'], df['power'],  'b.', label=\"data\")\n",
    "plt.plot(X_test, y_predP, 'k.', label=\"model on test set\")\n",
    "plt.plot(df['speed'], fit, 'r-', label=\"fit\")\n",
    "plt.xlabel('speed (m/s)', fontsize='14')\n",
    "plt.ylabel('power (kW)', fontsize='14')\n",
    "plt.title(\"Polynomial order=3\")\n",
    "plt.grid()\n",
    "plt.legend()\n",
    "#plt.savefig(\"img/poly3.png\")"
   ]
  },
  {
   "cell_type": "markdown",
   "metadata": {},
   "source": [
    "This looks like a reasonably food fit with an $R^2$ value very close to 1. Despite the high $R^2$ value, we can see that the fit is a little off as speed approaches 10 m/s and is greater than about 15 m/s. I'll definitely use it in my final product. I can't plot the test data as a line because the X_test values are randomly selected from the data set so they are not in ascending order - I get a scribble for a curve if I try. I might restrict input values of wind speed in the front end, for example,\n",
    "- speed < 5, power = 0\n",
    "- speed > 20, power = take an average of last 20 values in cleaned data set perhaps.\n",
    "\n",
    "Our model for power output will be:\n",
    "$$ power = 14.13 - 9.65 speed + 1.48 speed^2 - 0.04 speed^3$$"
   ]
  },
  {
   "cell_type": "markdown",
   "metadata": {},
   "source": [
    "### Save the polynomial regression model"
   ]
  },
  {
   "cell_type": "code",
   "execution_count": 18,
   "metadata": {},
   "outputs": [
    {
     "name": "stdout",
     "output_type": "stream",
     "text": [
      "Polynomial regression model saved as poly-reg.pkl\n"
     ]
    }
   ],
   "source": [
    "#joblib.dump(regP, \"models/poly-reg.pkl\")\n",
    "print(\"Polynomial regression model saved as poly-reg.pkl\")"
   ]
  },
  {
   "cell_type": "markdown",
   "metadata": {},
   "source": [
    "***\n",
    "### Model 2: Support Vector Machines\n",
    "\n",
    "I had come across the support vector machine (SVM) for detection of outliers and for logistic regression, where one is trying to do classification by finding a decision boundary which separates classes. SVM is a large margin classifier as it aims to find a decision boundary which has as large a margin as possible around the decision boundary, i.e, the margin does not contain any training data. SVM outputs a prediction (1 or 0) of whether or not an example belongs to a class, whereas logistic regression outputs a probability. Nonlinear decision boundaries can be tackled though choice of an appropriate kernal in the SVM - I'll explain later. I hadn't realised SVM could be used for regression, but Google tells me it can <span style='color:red'> [8 Medium SVRreg] </span>, so I'll give it a go. SVM regression works in the opposite way to what we have just described: the algorithm tries to fit as many training examples as possible inside the margin while limiting the number that fall outside it <span style='color:red'> [1 Geron] </span> (p. 162)."
   ]
  },
  {
   "cell_type": "markdown",
   "metadata": {},
   "source": [
    "### SVM kernels\n",
    "The documentation on SVM in Scikit-learn includes a good basic example of SVM regression performed using different kernels <span style='color:red'> [9 SVR, 10 SKLsvrKer] </span>. The function of the kernel is to transform the input data into the form required for a particular problem <span style='color:red'> [11 DFkernel] </span>. For example, if the decision boundary between two classes is not a simple straight line, one could try using a nonlinear kernel (like polynomial) to better fit the boundary between the classes. As I understand it, this is equivalent to transforming an input feature $x$ to generate polynomial features $x^2, x^3, ..$ as we did above in model 1. It is advisable to try a linear kernel first and then move to the Gaussian radial basis function (RBF) <span style='color:red'> [1 Geron] </span> (p. 161), a good general purpose kernel when there is no prior knowledge about the data <span style='color:red'> [11 DFkernel] </span>. The idea of this type of kernel is to compute new features based on the proximity of training examples to landmarks (their similarity), and the simplest thing to do is chose the landmarks to be the training examples themselves <span style='color:red'> [6 CourseML] </span> (Week 7). The Scikit-learn SVM regression algorithm must do this automatically. I'll play around with the various parameters to find a good fit to our data set.\n",
    "\n",
    "Another thing I see mentioned a lot is that SVMs are sensitive to scaling, so we'll probably have to apply some type of transformation to our input feature before training a model <span style='color:red'> [12 MLMscaler] </span>. "
   ]
  },
  {
   "cell_type": "markdown",
   "metadata": {},
   "source": [
    "I will try a linear kernel first and see how we get on. The parameter C is related to regularization, with default value = 1. Regularization is used to constrain a model to make it more simple, and thus avoiding overfitting. The amount of regularization is usually controlled by a parameter in the machine learning model. Here, small C means lots of regularization, which implies high bias and low variance, or a model that's too simple. Large C means very little regularization, which translates to overfitting as a result of low bias and high variance. I think, regardless of what C I pick below, a linear model will never fit our data, which is clearly nonlinear."
   ]
  },
  {
   "cell_type": "code",
   "execution_count": 19,
   "metadata": {},
   "outputs": [
    {
     "data": {
      "text/plain": [
       "<matplotlib.legend.Legend at 0x1a6257c4220>"
      ]
     },
     "execution_count": 19,
     "metadata": {},
     "output_type": "execute_result"
    },
    {
     "data": {
      "image/png": "[encoded data removed]",
      "text/plain": [
       "<Figure size 576x432 with 1 Axes>"
      ]
     },
     "metadata": {
      "needs_background": "light"
     },
     "output_type": "display_data"
    }
   ],
   "source": [
    "# Create an instance of the SVR class\n",
    "# C ~1/reg default = 1. Tiny C bad fit, huge C over fit.\n",
    "svr_lin = SVR(kernel='linear', C=1)\n",
    "\n",
    "# Scale X only\n",
    "sc_X = StandardScaler()\n",
    "X_scale = sc_X.fit_transform(X)\n",
    "\n",
    "# Train model with scaled X and y\n",
    "svr_lin.fit(X_scale, y)\n",
    "\n",
    "# What does the fit look like?\n",
    "plt.plot(X, y, 'm.', label=\"data\") # X, y data\n",
    "plt.plot(X, svr_lin.predict(X_scale), '-r', label=\"SVR linear\") # prediction using scaled X data\n",
    "plt.xlabel('speed (m/s)', fontsize='14')\n",
    "plt.ylabel('power (kW)', fontsize='14')\n",
    "plt.title(\"SVR\")\n",
    "plt.grid()\n",
    "plt.legend()"
   ]
  },
  {
   "cell_type": "markdown",
   "metadata": {},
   "source": [
    "This linear kernel produces much the same result as when we tried simple linear regression above. Lets try a polynomial kernel with degree = 3 as we know the power out has $v^3$ component. Feature x is already scaled from above. coeff0 is the independent term in the kernel function with default value 0. I got a very bad prediction with coef0=0 and found that coef0=1 worked well. Making it even bigger didn't appear to do much to the fit but it took the code a tiny bit longer to run. <span style='color:red'> [13 SVRpractical] </span> gives some explanation of the parameters - gamma defines how much influence a single training example has. The larger gamma is, the closer other examples must be to be affected. I'll leave it at the default value, and same for epsilon. I'll leave the regularization parameter C = 1. If I change C to be 0.1 or something small I end up with an almost linear prediction - so lots of regularization which translates into a too simple model. "
   ]
  },
  {
   "cell_type": "code",
   "execution_count": 20,
   "metadata": {},
   "outputs": [
    {
     "data": {
      "text/plain": [
       "<matplotlib.legend.Legend at 0x1a62582d2e0>"
      ]
     },
     "execution_count": 20,
     "metadata": {},
     "output_type": "execute_result"
    },
    {
     "data": {
      "image/png": "[encoded data removed]",
      "text/plain": [
       "<Figure size 576x432 with 1 Axes>"
      ]
     },
     "metadata": {
      "needs_background": "light"
     },
     "output_type": "display_data"
    }
   ],
   "source": [
    "# Create an instance of the SVR class\n",
    "svr_ply = SVR(kernel=\"poly\", degree=3, coef0=1, C=1, epsilon=0.1, gamma='auto') # OK like poly LR\n",
    "# coef0 is ..\n",
    "# epsilon is ..\n",
    "\n",
    "# Train model with scaled X and y\n",
    "svr_ply.fit(X_scale, y)\n",
    "\n",
    "# What does the fit look like?\n",
    "plt.plot(X, y, 'm.', label=\"data\") # X, y data\n",
    "plt.plot(X, svr_ply.predict(X_scale), '-b', label=\"SVR poly3\") # prediction using scaled X data\n",
    "plt.xlabel('speed (m/s)', fontsize='14')\n",
    "plt.ylabel('power (kW)', fontsize='14')\n",
    "plt.title(\"SVR\")\n",
    "plt.grid()\n",
    "plt.legend()"
   ]
  },
  {
   "cell_type": "markdown",
   "metadata": {},
   "source": [
    "Lastly, I'll try the RBF kernel and I'll play around with C. I found that C = 0.1 gives a very bad fit, and as C approaches 1 the fit gets better. I'll end up leaving it at the default of 1. "
   ]
  },
  {
   "cell_type": "code",
   "execution_count": 21,
   "metadata": {},
   "outputs": [
    {
     "name": "stdout",
     "output_type": "stream",
     "text": [
      "C = 0.1, R-squared = 0.5288\n",
      "C = 0.2, R-squared = 0.8592\n",
      "C = 0.5, R-squared = 0.9785\n",
      "C = 1, R-squared = 0.9860\n",
      "C = 5, R-squared = 0.9898\n",
      "C = 10, R-squared = 0.9901\n"
     ]
    }
   ],
   "source": [
    "#Few C values to try.\n",
    "c_vals = [0.1, 0.2, 0.5, 1, 5, 10]\n",
    "r2 = []\n",
    "for c in c_vals:\n",
    "    svr_c = SVR(kernel=\"rbf\", C=c, gamma='auto')\n",
    "    svr_c.fit(X_scale, y)\n",
    "    svr_c.predict(X_scale)\n",
    "    r2.append(svr_c.score(X_scale, y))\n",
    "    print(f'C = {c}, R-squared = {svr_c.score(X_scale, y):.4f}')"
   ]
  },
  {
   "cell_type": "code",
   "execution_count": 22,
   "metadata": {},
   "outputs": [
    {
     "data": {
      "image/png": "[encoded data removed]",
      "text/plain": [
       "<Figure size 576x432 with 1 Axes>"
      ]
     },
     "metadata": {
      "needs_background": "light"
     },
     "output_type": "display_data"
    }
   ],
   "source": [
    "plt.plot(c_vals, r2, 'r+')\n",
    "plt.xlabel('C parameter in rbf kernel', fontsize='14')\n",
    "plt.ylabel('$R^2$', fontsize='14')\n",
    "plt.title(\"Regularization $R^2$ relationship\")\n",
    "plt.grid()"
   ]
  },
  {
   "cell_type": "code",
   "execution_count": 23,
   "metadata": {},
   "outputs": [
    {
     "data": {
      "text/plain": [
       "<matplotlib.legend.Legend at 0x1a6258e2b80>"
      ]
     },
     "execution_count": 23,
     "metadata": {},
     "output_type": "execute_result"
    },
    {
     "data": {
      "image/png": "[encoded data removed]",
      "text/plain": [
       "<Figure size 576x432 with 1 Axes>"
      ]
     },
     "metadata": {
      "needs_background": "light"
     },
     "output_type": "display_data"
    }
   ],
   "source": [
    "# Create an instance of the SVR class\n",
    "svr_rbf = SVR(kernel=\"rbf\", C=1, gamma='auto')\n",
    "\n",
    "# Train model with scaled X and y\n",
    "svr_rbf.fit(X_scale, y)\n",
    "\n",
    "# What does the fit look like?\n",
    "plt.plot(X, y, 'm.', label=\"data\") # X, y data\n",
    "plt.plot(X, svr_rbf.predict(X_scale), '-g', label=\"SVR rbf\") # prediction using scaled X data\n",
    "plt.xlabel('speed (m/s)', fontsize='14')\n",
    "plt.ylabel('power (kW)', fontsize='14')\n",
    "plt.title(\"SVR\")\n",
    "plt.grid()\n",
    "plt.legend()\n",
    "#plt.savefig(\"img/SVRrbf.png\")"
   ]
  },
  {
   "cell_type": "markdown",
   "metadata": {},
   "source": [
    "I think this is doing a slightly better job than polynomial SVM regression. Finally, I'll split the data set into a train / test part and evaluate the model on test data."
   ]
  },
  {
   "cell_type": "code",
   "execution_count": 24,
   "metadata": {},
   "outputs": [
    {
     "name": "stdout",
     "output_type": "stream",
     "text": [
      "R-squared on test data = 0.9816\n"
     ]
    },
    {
     "data": {
      "image/png": "[encoded data removed]",
      "text/plain": [
       "<Figure size 576x432 with 1 Axes>"
      ]
     },
     "metadata": {
      "needs_background": "light"
     },
     "output_type": "display_data"
    }
   ],
   "source": [
    "# Split the data set into train/set.  X already scaled but y is not\n",
    "X_train, X_test, y_train, y_test = train_test_split(X_scale, y, test_size = 0.2)\n",
    "\n",
    "# Create an instance of the SVR class\n",
    "svr_final = SVR(kernel=\"rbf\", C=1, gamma='auto')\n",
    "\n",
    "# Train model with training data: y and scaled X.\n",
    "svr_final.fit(X_train, y_train)\n",
    "\n",
    "# Test it on test data, which has been scaled.\n",
    "y_pred = svr_final.predict(X_test)\n",
    "\n",
    "# And plot.\n",
    "plt.plot(X_train, y_train, '.c', label=\"train\") # X, y training data\n",
    "plt.plot(X_test, y_pred, '.m', label=\"SVR rbf on test\") # prediction using scaled X_test data\n",
    "plt.xlabel('Scaled speed (m/s)', fontsize='14')\n",
    "plt.ylabel('power (kW)', fontsize='14')\n",
    "plt.title(\"SVR train/test\")\n",
    "plt.grid()\n",
    "plt.legend()\n",
    "\n",
    "# R-squared.\n",
    "print(f'R-squared on test data = {svr_final.score(X_test, y_test):.4f}')"
   ]
  },
  {
   "cell_type": "markdown",
   "metadata": {},
   "source": [
    "Note that the scaled speed is displayed on this plot. In order to make a prediction of power given wind speed, I'll have to apply the same scaling transform to the input speed before using the predict method."
   ]
  },
  {
   "cell_type": "code",
   "execution_count": 25,
   "metadata": {},
   "outputs": [
    {
     "name": "stdout",
     "output_type": "stream",
     "text": [
      "wind = 1, power = [98.35190508]\n",
      "wind = 23, power = 96.20873517784293\n"
     ]
    }
   ],
   "source": [
    "# Q. How to predict from a single value? A. Need x and the transformer sc_X\n",
    "# Scaling issue? As predictions for -1,0,1 seems to match power.\n",
    "print(f'wind = 1, power = {svr_final.predict([[1]])}')\n",
    "\n",
    "# Apply same scaler to the x value we want to test.\n",
    "xin = [[23]]\n",
    "xin_scale = sc_X.transform(xin)\n",
    "\n",
    "# Make a prediction for this scaled value - seems sensible.\n",
    "yout = svr_final.predict(xin_scale)\n",
    "print(f'wind = {xin[0][0]}, power = {yout[0]}')"
   ]
  },
  {
   "cell_type": "markdown",
   "metadata": {},
   "source": [
    "### Save the support vector machine regression model & scaling preprocessor"
   ]
  },
  {
   "cell_type": "code",
   "execution_count": 26,
   "metadata": {},
   "outputs": [
    {
     "name": "stdout",
     "output_type": "stream",
     "text": [
      "Support vector machine regression model saved as svm-reg.pkl\n",
      "Support vector machine regression X scaler saved as scalerX.pkl\n"
     ]
    }
   ],
   "source": [
    "#joblib.dump(svr_final, \"models/svm-reg.pkl\")\n",
    "print(\"Support vector machine regression model saved as svm-reg.pkl\")\n",
    "\n",
    "#joblib.dump(sc_X, \"models/scalerX.pkl\")\n",
    "print(\"Support vector machine regression X scaler saved as scalerX.pkl\")"
   ]
  },
  {
   "cell_type": "markdown",
   "metadata": {},
   "source": [
    "***\n",
    "### Model 3: Neural Network\n",
    "\n",
    "Both polynomial and SVM regression are doing a reasonably good job of predicting power given wind speed. I think the SVM regression model with rbf kernel does best, but if you look closely, you can still see that the fit (prediction) doesn't always go through the data in a symmetric way. For example, in the last plot above you can see that the prediction is a tiny bit off for scaled speed in the range -1 to 0. I'm now going to investigate if a neural network will do a better job."
   ]
  },
  {
   "cell_type": "markdown",
   "metadata": {},
   "source": [
    "An artificial neural network, or just a neural network, is a machine learning model inspired by the networks of biological neurons found in human brains <span style='color:red'> [14 WikiANN] </span>. Each individual biological neuron is relatively simple, but because each one is connected to many thousands of others, they can perform complicated tasks when working together. With that idea replicated for machine learning, the idea of a an artificial neuron is that its output fires depending on the value of the inputs to it. This is what a *threshold logic unit* is based on: the output of such a unit is the weighted sum of its inputs multiplied by an step function, which acts like an on/off switch. A *perceptron* is a single layer of these units where each unit is connected to all the inputs. If each neuron in a layer is connected to all the neurons in a previous layer, that layer is a *dense* layer. A *bias* is also fed to each unit - I think of it like the intercept in a straight line as it allows one to apply a constant shift to the step function (or activation function in general terms).  Finally, A *multilayer perceptron* (MLP) is obtained by stacking multiple perceptrons. A MLP has a single input layer, one or more hidden layers, and a final output layer. This quick run thorough the terminology is based on Chapter 10 of <span style='color:red'> [1 Geron] </span>. I know this explanation is not necessary but I'm interested in it and don't mind spending a little time on it. \n",
    "\n",
    "For this project, we will use the Keras API to build and train our neural networks, with the heavy computation associated with neural networks done in a backend called TensorFlow [<span style='color:red'> [15 keras, 16 tf] </span>]. We can easily build a MLP model in Keras by stacking neural network layers sequentially. An image of such a neural network is shown below <span style='color:red'> [17 mediumANN] </span>. For neural networks with many hidden layers, each containing many neurons, the number of connections can be huge. The sizes of the weights matrices below reflect this: for example $W_1$ has size 4x5 because there are 5 neurons in hidden layer 1, each connected to four inputs."
   ]
  },
  {
   "cell_type": "markdown",
   "metadata": {},
   "source": [
    "<img src=\"img/ANN.png\" height=400 width=400>"
   ]
  },
  {
   "cell_type": "code",
   "execution_count": 27,
   "metadata": {},
   "outputs": [
    {
     "name": "stdout",
     "output_type": "stream",
     "text": [
      "(291, 1)\n",
      "(291,)\n",
      "(98, 1)\n",
      "(98,)\n",
      "(97, 1)\n",
      "(97,)\n"
     ]
    }
   ],
   "source": [
    "# Refresh our memory re. the data - looks good.\n",
    "#plt.plot(df['speed'], df['power'],  '.g')\n",
    "#plt.plot(X, y,  '-r')\n",
    "\n",
    "# Split the data set into train/set. 80:20 split\n",
    "X_train, X_test, y_train, y_test = train_test_split(X, y, test_size = 0.2)\n",
    "\n",
    "# Take some of the training set to be a validation set. 25% of 80 = 60 \n",
    "# Want train:test:validation = 60:20:20\n",
    "X_train, X_val, y_train, y_val = train_test_split(X_train, y_train, test_size=0.25)\n",
    "print(X_train.shape)\n",
    "print(y_train.shape)\n",
    "print(X_test.shape)\n",
    "print(y_test.shape)\n",
    "print(X_val.shape)\n",
    "print(y_val.shape)"
   ]
  },
  {
   "cell_type": "markdown",
   "metadata": {},
   "source": [
    "Now we construct a neural network consisting of three layers: the input layer, a hidden layer with 50 neurons, and the output layer. The size of the input and output layers is determined by the data we have and what we want to predict. Having one hidden layer is a good default, but if there are more hidden layers, it's recommended to have the same number of neurons in each hidden layer <span style='color:red'> [6 CourseML] </span> (week 5). The more neurons there are in each hidden layer the better, but this must be balanced against increased computation time for more neurons. \n",
    "\n",
    "The steps involved in building such a neural network are outlined nicely here <span style='color:red'> [18 NNWhowto] </span> with a good explanation of sizes etc here <span style='color:red'> [19 SOkerasIP] </span>. \n",
    "- We have one hidden layer with 50 neurons and it's a dense layer. \n",
    "- The input to it is a one-dimensional tensor (like a matrix). \n",
    "- The method of initialization for the weights and biases is also chosen here. It's important that the weights are not all set to zero initially (kernel_initializer parameter). I'll explain this a little later.\n",
    "- The activation function is a sigmoid, like a smoothed out step function that we mentioned above. The fact that it's smooth means it has a derivative, which is important when it comes to calculating loss etc in a while.\n",
    "- Our output layer has just one neuron and the activation function is linear so that the output can have any range of values."
   ]
  },
  {
   "cell_type": "code",
   "execution_count": 28,
   "metadata": {},
   "outputs": [],
   "source": [
    "# Create a Sequential model incrementally via the add() method:\n",
    "# kernel_initializer=\"glorot_uniform\"\n",
    "model = kr.models.Sequential()\n",
    "model.add(kr.layers.Dense(50, input_shape=(1,), activation='sigmoid', kernel_initializer=\"glorot_uniform\", bias_initializer=\"zeros\"))\n",
    "model.add(kr.layers.Dense(1, activation='linear', kernel_initializer=\"glorot_uniform\", bias_initializer=\"glorot_uniform\"))"
   ]
  },
  {
   "cell_type": "markdown",
   "metadata": {},
   "source": [
    "Once the model is designed, we must compile it to specify the *learning rate* and *loss function*, the quantity we are trying to minimize in through training of the network. "
   ]
  },
  {
   "cell_type": "code",
   "execution_count": 29,
   "metadata": {},
   "outputs": [
    {
     "name": "stdout",
     "output_type": "stream",
     "text": [
      "Model: \"sequential\"\n",
      "_________________________________________________________________\n",
      "Layer (type)                 Output Shape              Param #   \n",
      "=================================================================\n",
      "dense (Dense)                (None, 50)                100       \n",
      "_________________________________________________________________\n",
      "dense_1 (Dense)              (None, 1)                 51        \n",
      "=================================================================\n",
      "Total params: 151\n",
      "Trainable params: 151\n",
      "Non-trainable params: 0\n",
      "_________________________________________________________________\n"
     ]
    }
   ],
   "source": [
    "# Compile the model and summarize it.\n",
    "model.compile(kr.optimizers.Adam(lr=0.001), loss=\"mean_squared_error\")\n",
    "model.summary()"
   ]
  },
  {
   "cell_type": "markdown",
   "metadata": {},
   "source": [
    "The hidden layer has 50 neurons plus 50 bias terms giving 100 parameters for this layer. The output layer has 1 neuron with one bias term and 50 inputs feeding to it, so 51 parameters in total. The network has 151 parameters. The aim is to train it and find *good* values for these 151 parameters. How is this training done? \n",
    "\n",
    "**Backpropagation**\n",
    "\n",
    "The algorithm used is called backpropagation, and consists of two passes through the network, one in the forward direction and one backward. Each training example (or batch of them) is passed through each layer to the output, with the output of each layer being calculated at each stage. This is the forward pass. The output error is then calculated in the form of a loss function. The algorithm then goes through each layer in reverse, calculating how much of the error is contributed by each connection. The weights are then adjusted to reduce the error. In the backward pass the error gradient is propagated back through the network, and gradient descent is used to move in the direction of decreasing error in parameter space. The learning rate controls the step size in gradient descent.\n",
    "\n",
    "The sigmoid activation function is used because it has a gradient (unlike the step function) and so gradient descent can work. It is important that all weights are not initialized to zero (kernel_initializer model parameter above) because we want to break symmetry in the network: if all neurons had the same weight then backpropagation would see no difference between them and training would fail. Stochastic gradient descent (SGD) is kind of the default method used to minimize the loss function, but it requires more tuning of the learning rate. The Adam optimizer (extended from SGD) we have used above is an adaptive algorithm (in that it can change the learning rate during training) so we don't need to worry about setting it, just use the default value. Glorot initialization of weights is a technique to ensure that gradients neither vanish nor explode during backpropogation <span style='color:red'> [1 Geron p. 357, 333] </span>. "
   ]
  },
  {
   "cell_type": "markdown",
   "metadata": {},
   "source": [
    "If we apply the predict method to our input X at this stage, using initialized values of biases and weights, we are performing forward propagation of our inputs through an untrained neural network. The network has not learned anything and shouldn't be able to make a sensible prediction yet."
   ]
  },
  {
   "cell_type": "code",
   "execution_count": 30,
   "metadata": {},
   "outputs": [
    {
     "data": {
      "image/png": "[encoded data removed]",
      "text/plain": [
       "<Figure size 576x432 with 1 Axes>"
      ]
     },
     "metadata": {
      "needs_background": "light"
     },
     "output_type": "display_data"
    }
   ],
   "source": [
    "# Look at output with no training.\n",
    "plt.plot(X, y, 'co', label=\"data\")\n",
    "plt.plot(X, model.predict(X), 'b-', label=\"Untrained neural n/w\")\n",
    "plt.xlabel('Speed (m/s)', fontsize='14')\n",
    "plt.ylabel('power (kW)', fontsize='14')\n",
    "plt.title(\"Neural network forward propagation\")\n",
    "plt.legend()\n",
    "plt.grid()"
   ]
  },
  {
   "cell_type": "markdown",
   "metadata": {},
   "source": [
    "Now we train the network over 500 epochs - like number of iterations. We can speed up the training by doing so in batches. The parameter batch_size is the number of samples per gradient update. Gradient descent (or a variant of it) is an algorithm used to minimize the cost function at each epoch. Normal gradient descent involves all samples in the training set being used to calculate the gradient and cost function; it proceeds smoothly towards a minimum of the cost function in parameter space. SGD calculates the gradient and cost for each each epoch using one sample (randomly selected hence stochastic); it proceeds in a jagged way towards a minimum but it does so faster. Mini-batch SGD uses a small random subset of the training examples at each iteration, so it's somewhere in between gradient descent and SGD <span style='color:red'> [6 CourseML (week 10), 20 GDvsSGD] </span>. "
   ]
  },
  {
   "cell_type": "code",
   "execution_count": 35,
   "metadata": {},
   "outputs": [
    {
     "name": "stdout",
     "output_type": "stream",
     "text": [
      "Epoch 1/500\n",
      "30/30 [==============================] - 0s 4ms/step - loss: 20.7147 - val_loss: 22.9807\n",
      "Epoch 2/500\n",
      "30/30 [==============================] - 0s 2ms/step - loss: 20.5999 - val_loss: 23.0476\n",
      "Epoch 3/500\n",
      "30/30 [==============================] - 0s 2ms/step - loss: 20.5808 - val_loss: 23.0272\n",
      "Epoch 4/500\n",
      "30/30 [==============================] - 0s 2ms/step - loss: 21.1591 - val_loss: 22.8281\n",
      "Epoch 5/500\n",
      "30/30 [==============================] - 0s 2ms/step - loss: 20.4898 - val_loss: 22.7685\n",
      "Epoch 6/500\n",
      "30/30 [==============================] - 0s 2ms/step - loss: 20.3572 - val_loss: 22.8700\n",
      "Epoch 7/500\n",
      "30/30 [==============================] - 0s 2ms/step - loss: 20.3303 - val_loss: 22.8418\n",
      "Epoch 8/500\n",
      "30/30 [==============================] - 0s 2ms/step - loss: 20.5849 - val_loss: 22.9014\n",
      "Epoch 9/500\n",
      "30/30 [==============================] - 0s 2ms/step - loss: 20.4140 - val_loss: 22.7919\n",
      "Epoch 10/500\n",
      "30/30 [==============================] - 0s 2ms/step - loss: 20.2349 - val_loss: 22.7005\n",
      "Epoch 11/500\n",
      "30/30 [==============================] - 0s 2ms/step - loss: 20.2433 - val_loss: 22.8735\n",
      "Epoch 12/500\n",
      "30/30 [==============================] - 0s 2ms/step - loss: 20.1195 - val_loss: 22.5610\n",
      "Epoch 13/500\n",
      "30/30 [==============================] - 0s 2ms/step - loss: 20.0870 - val_loss: 22.5181\n",
      "Epoch 14/500\n",
      "30/30 [==============================] - 0s 3ms/step - loss: 20.1268 - val_loss: 22.6563\n",
      "Epoch 15/500\n",
      "30/30 [==============================] - 0s 2ms/step - loss: 20.0055 - val_loss: 22.5951\n",
      "Epoch 16/500\n",
      "30/30 [==============================] - 0s 2ms/step - loss: 20.0472 - val_loss: 22.3759\n",
      "Epoch 17/500\n",
      "30/30 [==============================] - 0s 2ms/step - loss: 19.9193 - val_loss: 22.4402\n",
      "Epoch 18/500\n",
      "30/30 [==============================] - 0s 2ms/step - loss: 20.3932 - val_loss: 22.1595\n",
      "Epoch 19/500\n",
      "30/30 [==============================] - 0s 2ms/step - loss: 19.9021 - val_loss: 22.2922\n",
      "Epoch 20/500\n",
      "30/30 [==============================] - 0s 3ms/step - loss: 19.8927 - val_loss: 22.2212\n",
      "Epoch 21/500\n",
      "30/30 [==============================] - 0s 2ms/step - loss: 19.8284 - val_loss: 22.1029\n",
      "Epoch 22/500\n",
      "30/30 [==============================] - 0s 2ms/step - loss: 19.8005 - val_loss: 22.0461\n",
      "Epoch 23/500\n",
      "30/30 [==============================] - 0s 2ms/step - loss: 19.8138 - val_loss: 21.8893\n",
      "Epoch 24/500\n",
      "30/30 [==============================] - 0s 2ms/step - loss: 19.8999 - val_loss: 21.9046\n",
      "Epoch 25/500\n",
      "30/30 [==============================] - 0s 2ms/step - loss: 19.6173 - val_loss: 21.9425\n",
      "Epoch 26/500\n",
      "30/30 [==============================] - 0s 2ms/step - loss: 19.6393 - val_loss: 22.2418\n",
      "Epoch 27/500\n",
      "30/30 [==============================] - 0s 2ms/step - loss: 19.5732 - val_loss: 22.0669\n",
      "Epoch 28/500\n",
      "30/30 [==============================] - 0s 2ms/step - loss: 19.7121 - val_loss: 22.0618\n",
      "Epoch 29/500\n",
      "30/30 [==============================] - ETA: 0s - loss: 22.48 - 0s 2ms/step - loss: 19.8619 - val_loss: 21.9431\n",
      "Epoch 30/500\n",
      "30/30 [==============================] - 0s 2ms/step - loss: 19.7542 - val_loss: 21.8364\n",
      "Epoch 31/500\n",
      "30/30 [==============================] - 0s 2ms/step - loss: 19.5861 - val_loss: 22.0062\n",
      "Epoch 32/500\n",
      "30/30 [==============================] - 0s 2ms/step - loss: 19.4604 - val_loss: 21.7163\n",
      "Epoch 33/500\n",
      "30/30 [==============================] - ETA: 0s - loss: 24.06 - 0s 2ms/step - loss: 19.4998 - val_loss: 21.9737\n",
      "Epoch 34/500\n",
      "30/30 [==============================] - 0s 2ms/step - loss: 19.3895 - val_loss: 21.7722\n",
      "Epoch 35/500\n",
      "30/30 [==============================] - 0s 2ms/step - loss: 19.4728 - val_loss: 21.8283\n",
      "Epoch 36/500\n",
      "30/30 [==============================] - 0s 2ms/step - loss: 19.3987 - val_loss: 21.7983\n",
      "Epoch 37/500\n",
      "30/30 [==============================] - ETA: 0s - loss: 11.33 - 0s 2ms/step - loss: 19.5799 - val_loss: 21.8550\n",
      "Epoch 38/500\n",
      "30/30 [==============================] - 0s 2ms/step - loss: 19.5641 - val_loss: 22.2107\n",
      "Epoch 39/500\n",
      "30/30 [==============================] - 0s 2ms/step - loss: 19.3904 - val_loss: 21.6089\n",
      "Epoch 40/500\n",
      "30/30 [==============================] - 0s 2ms/step - loss: 19.1527 - val_loss: 21.8304\n",
      "Epoch 41/500\n",
      "30/30 [==============================] - 0s 2ms/step - loss: 20.0499 - val_loss: 21.6108\n",
      "Epoch 42/500\n",
      "30/30 [==============================] - 0s 2ms/step - loss: 19.4033 - val_loss: 21.4656\n",
      "Epoch 43/500\n",
      "30/30 [==============================] - 0s 2ms/step - loss: 19.1868 - val_loss: 21.8339\n",
      "Epoch 44/500\n",
      "30/30 [==============================] - 0s 2ms/step - loss: 19.4297 - val_loss: 21.3365\n",
      "Epoch 45/500\n",
      "30/30 [==============================] - 0s 2ms/step - loss: 19.0488 - val_loss: 21.3829\n",
      "Epoch 46/500\n",
      "30/30 [==============================] - 0s 2ms/step - loss: 19.0390 - val_loss: 21.5299\n",
      "Epoch 47/500\n",
      "30/30 [==============================] - 0s 2ms/step - loss: 19.0931 - val_loss: 21.4705\n",
      "Epoch 48/500\n",
      "30/30 [==============================] - 0s 2ms/step - loss: 19.0910 - val_loss: 21.3069\n",
      "Epoch 49/500\n",
      "30/30 [==============================] - 0s 2ms/step - loss: 19.1299 - val_loss: 21.5150\n",
      "Epoch 50/500\n",
      "30/30 [==============================] - 0s 2ms/step - loss: 19.1149 - val_loss: 21.1338\n",
      "Epoch 51/500\n",
      "30/30 [==============================] - 0s 2ms/step - loss: 19.1551 - val_loss: 21.2034\n",
      "Epoch 52/500\n",
      "30/30 [==============================] - 0s 2ms/step - loss: 19.0759 - val_loss: 21.3248\n",
      "Epoch 53/500\n",
      "30/30 [==============================] - 0s 3ms/step - loss: 18.8691 - val_loss: 21.2423\n",
      "Epoch 54/500\n",
      "30/30 [==============================] - 0s 2ms/step - loss: 18.9369 - val_loss: 21.1134\n",
      "Epoch 55/500\n",
      "30/30 [==============================] - 0s 2ms/step - loss: 18.7858 - val_loss: 21.2485\n",
      "Epoch 56/500\n",
      "30/30 [==============================] - 0s 2ms/step - loss: 18.7700 - val_loss: 21.0688\n",
      "Epoch 57/500\n",
      "30/30 [==============================] - 0s 2ms/step - loss: 19.0108 - val_loss: 21.5084\n",
      "Epoch 58/500\n",
      "30/30 [==============================] - 0s 2ms/step - loss: 18.8118 - val_loss: 21.1646\n",
      "Epoch 59/500\n",
      "30/30 [==============================] - 0s 2ms/step - loss: 18.8993 - val_loss: 21.1304\n",
      "Epoch 60/500\n",
      "30/30 [==============================] - 0s 2ms/step - loss: 18.6806 - val_loss: 21.1433\n",
      "Epoch 61/500\n",
      "30/30 [==============================] - 0s 2ms/step - loss: 18.6885 - val_loss: 21.0485\n",
      "Epoch 62/500\n",
      "30/30 [==============================] - 0s 2ms/step - loss: 18.7688 - val_loss: 21.2655\n",
      "Epoch 63/500\n",
      "30/30 [==============================] - 0s 2ms/step - loss: 18.6655 - val_loss: 21.1995\n",
      "Epoch 64/500\n",
      "30/30 [==============================] - 0s 2ms/step - loss: 18.8659 - val_loss: 21.0779\n",
      "Epoch 65/500\n",
      "30/30 [==============================] - 0s 2ms/step - loss: 19.2650 - val_loss: 20.9084\n",
      "Epoch 66/500\n",
      "30/30 [==============================] - 0s 2ms/step - loss: 18.6232 - val_loss: 20.9057\n",
      "Epoch 67/500\n",
      "30/30 [==============================] - 0s 2ms/step - loss: 18.5882 - val_loss: 21.0159\n",
      "Epoch 68/500\n",
      "30/30 [==============================] - 0s 2ms/step - loss: 18.7549 - val_loss: 21.1663\n",
      "Epoch 69/500\n",
      "30/30 [==============================] - 0s 2ms/step - loss: 18.4800 - val_loss: 20.6396\n",
      "Epoch 70/500\n",
      "30/30 [==============================] - ETA: 0s - loss: 19.30 - 0s 2ms/step - loss: 18.5321 - val_loss: 20.9173\n",
      "Epoch 71/500\n",
      "30/30 [==============================] - 0s 2ms/step - loss: 18.8553 - val_loss: 20.6852\n",
      "Epoch 72/500\n",
      "30/30 [==============================] - ETA: 0s - loss: 8.632 - 0s 2ms/step - loss: 18.6316 - val_loss: 20.7346\n",
      "Epoch 73/500\n",
      "30/30 [==============================] - 0s 2ms/step - loss: 18.6039 - val_loss: 20.4589\n",
      "Epoch 74/500\n",
      "30/30 [==============================] - 0s 2ms/step - loss: 18.4120 - val_loss: 20.6646\n",
      "Epoch 75/500\n",
      "30/30 [==============================] - 0s 2ms/step - loss: 18.2913 - val_loss: 20.5516\n",
      "Epoch 76/500\n",
      "30/30 [==============================] - 0s 2ms/step - loss: 18.5972 - val_loss: 20.8809\n",
      "Epoch 77/500\n",
      "30/30 [==============================] - 0s 2ms/step - loss: 18.4181 - val_loss: 20.5927\n",
      "Epoch 78/500\n",
      "30/30 [==============================] - 0s 2ms/step - loss: 18.2798 - val_loss: 20.6583\n",
      "Epoch 79/500\n",
      "30/30 [==============================] - 0s 2ms/step - loss: 18.3258 - val_loss: 20.8651\n",
      "Epoch 80/500\n"
     ]
    },
    {
     "name": "stdout",
     "output_type": "stream",
     "text": [
      "30/30 [==============================] - 0s 2ms/step - loss: 18.3524 - val_loss: 20.6411\n",
      "Epoch 81/500\n",
      "30/30 [==============================] - ETA: 0s - loss: 19.69 - 0s 2ms/step - loss: 18.2002 - val_loss: 20.6947\n",
      "Epoch 82/500\n",
      "30/30 [==============================] - 0s 2ms/step - loss: 18.6212 - val_loss: 20.5291\n",
      "Epoch 83/500\n",
      "30/30 [==============================] - 0s 2ms/step - loss: 18.3192 - val_loss: 20.5883\n",
      "Epoch 84/500\n",
      "30/30 [==============================] - 0s 2ms/step - loss: 18.4365 - val_loss: 20.7422\n",
      "Epoch 85/500\n",
      "30/30 [==============================] - 0s 2ms/step - loss: 18.3101 - val_loss: 20.7425\n",
      "Epoch 86/500\n",
      "30/30 [==============================] - 0s 2ms/step - loss: 18.2929 - val_loss: 20.7949\n",
      "Epoch 87/500\n",
      "30/30 [==============================] - 0s 2ms/step - loss: 18.0934 - val_loss: 20.7729\n",
      "Epoch 88/500\n",
      "30/30 [==============================] - 0s 2ms/step - loss: 18.1038 - val_loss: 20.5030\n",
      "Epoch 89/500\n",
      "30/30 [==============================] - 0s 2ms/step - loss: 18.0039 - val_loss: 20.9748\n",
      "Epoch 90/500\n",
      "30/30 [==============================] - 0s 2ms/step - loss: 18.2290 - val_loss: 20.5333\n",
      "Epoch 91/500\n",
      "30/30 [==============================] - 0s 2ms/step - loss: 17.9813 - val_loss: 20.5991\n",
      "Epoch 92/500\n",
      "30/30 [==============================] - 0s 2ms/step - loss: 18.1471 - val_loss: 20.4733\n",
      "Epoch 93/500\n",
      "30/30 [==============================] - 0s 2ms/step - loss: 18.0899 - val_loss: 20.4501\n",
      "Epoch 94/500\n",
      "30/30 [==============================] - 0s 2ms/step - loss: 17.9500 - val_loss: 20.5866\n",
      "Epoch 95/500\n",
      "30/30 [==============================] - 0s 2ms/step - loss: 17.9593 - val_loss: 20.2875\n",
      "Epoch 96/500\n",
      "30/30 [==============================] - 0s 2ms/step - loss: 17.8976 - val_loss: 20.4443\n",
      "Epoch 97/500\n",
      "30/30 [==============================] - 0s 2ms/step - loss: 17.9326 - val_loss: 20.2396\n",
      "Epoch 98/500\n",
      "30/30 [==============================] - 0s 2ms/step - loss: 17.9314 - val_loss: 20.2176\n",
      "Epoch 99/500\n",
      "30/30 [==============================] - 0s 2ms/step - loss: 17.9987 - val_loss: 20.1810\n",
      "Epoch 100/500\n",
      "30/30 [==============================] - 0s 2ms/step - loss: 18.0469 - val_loss: 20.1712\n",
      "Epoch 101/500\n",
      "30/30 [==============================] - 0s 2ms/step - loss: 18.2387 - val_loss: 20.5753\n",
      "Epoch 102/500\n",
      "30/30 [==============================] - 0s 2ms/step - loss: 17.9652 - val_loss: 20.3271\n",
      "Epoch 103/500\n",
      "30/30 [==============================] - 0s 2ms/step - loss: 17.8725 - val_loss: 20.0733\n",
      "Epoch 104/500\n",
      "30/30 [==============================] - 0s 2ms/step - loss: 17.7776 - val_loss: 20.1577\n",
      "Epoch 105/500\n",
      "30/30 [==============================] - 0s 2ms/step - loss: 17.7714 - val_loss: 20.2067\n",
      "Epoch 106/500\n",
      "30/30 [==============================] - 0s 2ms/step - loss: 17.7963 - val_loss: 20.5148\n",
      "Epoch 107/500\n",
      "30/30 [==============================] - 0s 2ms/step - loss: 18.2140 - val_loss: 20.1386\n",
      "Epoch 108/500\n",
      "30/30 [==============================] - 0s 2ms/step - loss: 17.6891 - val_loss: 20.1700\n",
      "Epoch 109/500\n",
      "30/30 [==============================] - 0s 2ms/step - loss: 17.7236 - val_loss: 20.1496\n",
      "Epoch 110/500\n",
      "30/30 [==============================] - 0s 2ms/step - loss: 17.8676 - val_loss: 20.4382\n",
      "Epoch 111/500\n",
      "30/30 [==============================] - 0s 2ms/step - loss: 17.7343 - val_loss: 20.1827\n",
      "Epoch 112/500\n",
      "30/30 [==============================] - 0s 2ms/step - loss: 17.7607 - val_loss: 20.1781\n",
      "Epoch 113/500\n",
      "30/30 [==============================] - 0s 2ms/step - loss: 17.6872 - val_loss: 20.0809\n",
      "Epoch 114/500\n",
      "30/30 [==============================] - 0s 2ms/step - loss: 17.6405 - val_loss: 20.0441\n",
      "Epoch 115/500\n",
      "30/30 [==============================] - 0s 2ms/step - loss: 17.7260 - val_loss: 20.4460\n",
      "Epoch 116/500\n",
      "30/30 [==============================] - 0s 2ms/step - loss: 17.6716 - val_loss: 20.0229\n",
      "Epoch 117/500\n",
      "30/30 [==============================] - 0s 2ms/step - loss: 17.7398 - val_loss: 19.9876\n",
      "Epoch 118/500\n",
      "30/30 [==============================] - 0s 2ms/step - loss: 17.7488 - val_loss: 20.0444\n",
      "Epoch 119/500\n",
      "30/30 [==============================] - 0s 2ms/step - loss: 17.6855 - val_loss: 20.2425\n",
      "Epoch 120/500\n",
      "30/30 [==============================] - 0s 2ms/step - loss: 17.9118 - val_loss: 19.8090\n",
      "Epoch 121/500\n",
      "30/30 [==============================] - 0s 2ms/step - loss: 17.7853 - val_loss: 19.8383\n",
      "Epoch 122/500\n",
      "30/30 [==============================] - 0s 2ms/step - loss: 17.7916 - val_loss: 20.0494\n",
      "Epoch 123/500\n",
      "30/30 [==============================] - 0s 2ms/step - loss: 17.8437 - val_loss: 19.9396\n",
      "Epoch 124/500\n",
      "30/30 [==============================] - 0s 2ms/step - loss: 17.5434 - val_loss: 20.1528\n",
      "Epoch 125/500\n",
      "30/30 [==============================] - 0s 2ms/step - loss: 17.5513 - val_loss: 19.8875\n",
      "Epoch 126/500\n",
      "30/30 [==============================] - 0s 2ms/step - loss: 17.6603 - val_loss: 20.0240\n",
      "Epoch 127/500\n",
      "30/30 [==============================] - 0s 2ms/step - loss: 17.4246 - val_loss: 20.0797\n",
      "Epoch 128/500\n",
      "30/30 [==============================] - 0s 2ms/step - loss: 17.4531 - val_loss: 20.1525\n",
      "Epoch 129/500\n",
      "30/30 [==============================] - 0s 2ms/step - loss: 17.3634 - val_loss: 19.8604\n",
      "Epoch 130/500\n",
      "30/30 [==============================] - 0s 2ms/step - loss: 17.8337 - val_loss: 19.9004\n",
      "Epoch 131/500\n",
      "30/30 [==============================] - 0s 2ms/step - loss: 17.7010 - val_loss: 20.0806\n",
      "Epoch 132/500\n",
      "30/30 [==============================] - 0s 2ms/step - loss: 17.9493 - val_loss: 19.8751\n",
      "Epoch 133/500\n",
      "30/30 [==============================] - 0s 2ms/step - loss: 17.3613 - val_loss: 19.7520\n",
      "Epoch 134/500\n",
      "30/30 [==============================] - 0s 2ms/step - loss: 17.3621 - val_loss: 19.8391\n",
      "Epoch 135/500\n",
      "30/30 [==============================] - 0s 2ms/step - loss: 17.6609 - val_loss: 19.7380\n",
      "Epoch 136/500\n",
      "30/30 [==============================] - 0s 2ms/step - loss: 17.3328 - val_loss: 19.8341\n",
      "Epoch 137/500\n",
      "30/30 [==============================] - 0s 2ms/step - loss: 17.4518 - val_loss: 19.7715\n",
      "Epoch 138/500\n",
      "30/30 [==============================] - 0s 2ms/step - loss: 18.0038 - val_loss: 19.8775\n",
      "Epoch 139/500\n",
      "30/30 [==============================] - 0s 2ms/step - loss: 17.3452 - val_loss: 19.7623\n",
      "Epoch 140/500\n",
      "30/30 [==============================] - 0s 2ms/step - loss: 17.8491 - val_loss: 19.6297\n",
      "Epoch 141/500\n",
      "30/30 [==============================] - 0s 2ms/step - loss: 17.3437 - val_loss: 19.7161\n",
      "Epoch 142/500\n",
      "30/30 [==============================] - 0s 2ms/step - loss: 17.3861 - val_loss: 19.6571\n",
      "Epoch 143/500\n",
      "30/30 [==============================] - 0s 2ms/step - loss: 17.5597 - val_loss: 19.7127\n",
      "Epoch 144/500\n",
      "30/30 [==============================] - 0s 2ms/step - loss: 17.3270 - val_loss: 19.8262\n",
      "Epoch 145/500\n",
      "30/30 [==============================] - 0s 2ms/step - loss: 17.3843 - val_loss: 19.9362\n",
      "Epoch 146/500\n",
      "30/30 [==============================] - 0s 2ms/step - loss: 17.3173 - val_loss: 19.7229\n",
      "Epoch 147/500\n",
      "30/30 [==============================] - ETA: 0s - loss: 11.79 - 0s 2ms/step - loss: 17.3865 - val_loss: 19.6861\n",
      "Epoch 148/500\n",
      "30/30 [==============================] - 0s 2ms/step - loss: 17.4105 - val_loss: 19.6091\n",
      "Epoch 149/500\n",
      "30/30 [==============================] - 0s 2ms/step - loss: 17.1806 - val_loss: 19.5980\n",
      "Epoch 150/500\n",
      "30/30 [==============================] - 0s 2ms/step - loss: 17.1815 - val_loss: 19.7354\n",
      "Epoch 151/500\n",
      "30/30 [==============================] - 0s 2ms/step - loss: 17.3019 - val_loss: 19.7399\n",
      "Epoch 152/500\n",
      "30/30 [==============================] - 0s 2ms/step - loss: 17.2165 - val_loss: 19.5830\n",
      "Epoch 153/500\n",
      "30/30 [==============================] - 0s 2ms/step - loss: 17.1873 - val_loss: 19.5095\n",
      "Epoch 154/500\n",
      "30/30 [==============================] - 0s 2ms/step - loss: 17.3839 - val_loss: 19.6481\n",
      "Epoch 155/500\n",
      "30/30 [==============================] - 0s 2ms/step - loss: 17.1785 - val_loss: 19.5026\n",
      "Epoch 156/500\n",
      "30/30 [==============================] - 0s 2ms/step - loss: 17.3395 - val_loss: 19.4124\n",
      "Epoch 157/500\n",
      "30/30 [==============================] - 0s 2ms/step - loss: 17.1314 - val_loss: 19.6130\n",
      "Epoch 158/500\n",
      "30/30 [==============================] - 0s 2ms/step - loss: 17.3201 - val_loss: 19.5291\n",
      "Epoch 159/500\n"
     ]
    },
    {
     "name": "stdout",
     "output_type": "stream",
     "text": [
      "30/30 [==============================] - 0s 2ms/step - loss: 17.2603 - val_loss: 19.6741\n",
      "Epoch 160/500\n",
      "30/30 [==============================] - 0s 2ms/step - loss: 17.2092 - val_loss: 19.6741\n",
      "Epoch 161/500\n",
      "30/30 [==============================] - 0s 2ms/step - loss: 17.0895 - val_loss: 19.5548\n",
      "Epoch 162/500\n",
      "30/30 [==============================] - 0s 2ms/step - loss: 17.0279 - val_loss: 19.4380\n",
      "Epoch 163/500\n",
      "30/30 [==============================] - 0s 2ms/step - loss: 17.2366 - val_loss: 19.7142\n",
      "Epoch 164/500\n",
      "30/30 [==============================] - 0s 2ms/step - loss: 17.2451 - val_loss: 19.7395\n",
      "Epoch 165/500\n",
      "30/30 [==============================] - 0s 2ms/step - loss: 17.1314 - val_loss: 19.5980\n",
      "Epoch 166/500\n",
      "30/30 [==============================] - 0s 2ms/step - loss: 17.0663 - val_loss: 19.6437\n",
      "Epoch 167/500\n",
      "30/30 [==============================] - 0s 2ms/step - loss: 17.1161 - val_loss: 19.5934\n",
      "Epoch 168/500\n",
      "30/30 [==============================] - 0s 2ms/step - loss: 17.0780 - val_loss: 19.4788\n",
      "Epoch 169/500\n",
      "30/30 [==============================] - 0s 2ms/step - loss: 16.9849 - val_loss: 19.6869\n",
      "Epoch 170/500\n",
      "30/30 [==============================] - 0s 2ms/step - loss: 17.0117 - val_loss: 19.5240\n",
      "Epoch 171/500\n",
      "30/30 [==============================] - 0s 2ms/step - loss: 17.0949 - val_loss: 19.9670\n",
      "Epoch 172/500\n",
      "30/30 [==============================] - 0s 2ms/step - loss: 17.0671 - val_loss: 19.6911\n",
      "Epoch 173/500\n",
      "30/30 [==============================] - 0s 2ms/step - loss: 17.3221 - val_loss: 19.7393\n",
      "Epoch 174/500\n",
      "30/30 [==============================] - 0s 2ms/step - loss: 17.1040 - val_loss: 19.8738\n",
      "Epoch 175/500\n",
      "30/30 [==============================] - 0s 2ms/step - loss: 17.0377 - val_loss: 19.5886\n",
      "Epoch 176/500\n",
      "30/30 [==============================] - 0s 2ms/step - loss: 16.9705 - val_loss: 19.6962\n",
      "Epoch 177/500\n",
      "30/30 [==============================] - 0s 2ms/step - loss: 17.0442 - val_loss: 19.5943\n",
      "Epoch 178/500\n",
      "30/30 [==============================] - 0s 2ms/step - loss: 16.9799 - val_loss: 19.4879\n",
      "Epoch 179/500\n",
      "30/30 [==============================] - 0s 2ms/step - loss: 16.8497 - val_loss: 19.6420\n",
      "Epoch 180/500\n",
      "30/30 [==============================] - 0s 2ms/step - loss: 17.1295 - val_loss: 19.6495\n",
      "Epoch 181/500\n",
      "30/30 [==============================] - 0s 2ms/step - loss: 17.2937 - val_loss: 19.6377\n",
      "Epoch 182/500\n",
      "30/30 [==============================] - 0s 2ms/step - loss: 17.0692 - val_loss: 19.4842\n",
      "Epoch 183/500\n",
      "30/30 [==============================] - 0s 2ms/step - loss: 16.9308 - val_loss: 19.4976\n",
      "Epoch 184/500\n",
      "30/30 [==============================] - 0s 2ms/step - loss: 17.6782 - val_loss: 19.3009\n",
      "Epoch 185/500\n",
      "30/30 [==============================] - 0s 2ms/step - loss: 16.9038 - val_loss: 19.2741\n",
      "Epoch 186/500\n",
      "30/30 [==============================] - 0s 2ms/step - loss: 16.9033 - val_loss: 19.3837\n",
      "Epoch 187/500\n",
      "30/30 [==============================] - 0s 2ms/step - loss: 17.0358 - val_loss: 19.3307\n",
      "Epoch 188/500\n",
      "30/30 [==============================] - 0s 2ms/step - loss: 16.9267 - val_loss: 19.1990\n",
      "Epoch 189/500\n",
      "30/30 [==============================] - 0s 2ms/step - loss: 16.8277 - val_loss: 19.6092\n",
      "Epoch 190/500\n",
      "30/30 [==============================] - ETA: 0s - loss: 9.620 - 0s 2ms/step - loss: 17.8470 - val_loss: 19.2498\n",
      "Epoch 191/500\n",
      "30/30 [==============================] - 0s 2ms/step - loss: 16.7970 - val_loss: 19.2889\n",
      "Epoch 192/500\n",
      "30/30 [==============================] - 0s 2ms/step - loss: 16.9298 - val_loss: 19.2534\n",
      "Epoch 193/500\n",
      "30/30 [==============================] - 0s 2ms/step - loss: 16.7916 - val_loss: 19.2494\n",
      "Epoch 194/500\n",
      "30/30 [==============================] - 0s 2ms/step - loss: 16.8190 - val_loss: 19.1369\n",
      "Epoch 195/500\n",
      "30/30 [==============================] - 0s 2ms/step - loss: 17.0864 - val_loss: 19.3436\n",
      "Epoch 196/500\n",
      "30/30 [==============================] - 0s 2ms/step - loss: 17.0969 - val_loss: 19.2965\n",
      "Epoch 197/500\n",
      "30/30 [==============================] - 0s 2ms/step - loss: 17.2791 - val_loss: 19.2839\n",
      "Epoch 198/500\n",
      "30/30 [==============================] - 0s 2ms/step - loss: 16.7925 - val_loss: 19.1648\n",
      "Epoch 199/500\n",
      "30/30 [==============================] - 0s 2ms/step - loss: 16.7953 - val_loss: 19.1631\n",
      "Epoch 200/500\n",
      "30/30 [==============================] - 0s 2ms/step - loss: 16.9032 - val_loss: 19.0386\n",
      "Epoch 201/500\n",
      "30/30 [==============================] - 0s 2ms/step - loss: 16.9549 - val_loss: 19.2710\n",
      "Epoch 202/500\n",
      "30/30 [==============================] - 0s 2ms/step - loss: 16.7740 - val_loss: 19.3154\n",
      "Epoch 203/500\n",
      "30/30 [==============================] - 0s 2ms/step - loss: 16.7089 - val_loss: 19.2418\n",
      "Epoch 204/500\n",
      "30/30 [==============================] - 0s 2ms/step - loss: 16.7146 - val_loss: 19.1555\n",
      "Epoch 205/500\n",
      "30/30 [==============================] - 0s 2ms/step - loss: 16.7787 - val_loss: 19.2508\n",
      "Epoch 206/500\n",
      "30/30 [==============================] - 0s 2ms/step - loss: 16.7268 - val_loss: 19.2226\n",
      "Epoch 207/500\n",
      "30/30 [==============================] - 0s 2ms/step - loss: 16.9330 - val_loss: 19.3052\n",
      "Epoch 208/500\n",
      "30/30 [==============================] - 0s 2ms/step - loss: 16.8575 - val_loss: 19.3057\n",
      "Epoch 209/500\n",
      "30/30 [==============================] - 0s 2ms/step - loss: 16.6691 - val_loss: 19.3702\n",
      "Epoch 210/500\n",
      "30/30 [==============================] - 0s 2ms/step - loss: 16.7588 - val_loss: 19.2936\n",
      "Epoch 211/500\n",
      "30/30 [==============================] - 0s 2ms/step - loss: 16.8383 - val_loss: 19.3087\n",
      "Epoch 212/500\n",
      "30/30 [==============================] - 0s 2ms/step - loss: 16.9240 - val_loss: 19.2320\n",
      "Epoch 213/500\n",
      "30/30 [==============================] - 0s 2ms/step - loss: 16.8012 - val_loss: 19.1719\n",
      "Epoch 214/500\n",
      "30/30 [==============================] - 0s 2ms/step - loss: 16.7914 - val_loss: 19.3302\n",
      "Epoch 215/500\n",
      "30/30 [==============================] - ETA: 0s - loss: 9.165 - 0s 2ms/step - loss: 16.6386 - val_loss: 19.1054\n",
      "Epoch 216/500\n",
      "30/30 [==============================] - 0s 2ms/step - loss: 17.0611 - val_loss: 19.1147\n",
      "Epoch 217/500\n",
      "30/30 [==============================] - 0s 2ms/step - loss: 16.7015 - val_loss: 18.9590\n",
      "Epoch 218/500\n",
      "30/30 [==============================] - 0s 2ms/step - loss: 16.6931 - val_loss: 18.9296\n",
      "Epoch 219/500\n",
      "30/30 [==============================] - 0s 2ms/step - loss: 16.6635 - val_loss: 18.9748\n",
      "Epoch 220/500\n",
      "30/30 [==============================] - 0s 2ms/step - loss: 16.8271 - val_loss: 19.0583\n",
      "Epoch 221/500\n",
      "30/30 [==============================] - 0s 2ms/step - loss: 16.8054 - val_loss: 19.0656\n",
      "Epoch 222/500\n",
      "30/30 [==============================] - 0s 2ms/step - loss: 16.7047 - val_loss: 19.0797\n",
      "Epoch 223/500\n",
      "30/30 [==============================] - 0s 2ms/step - loss: 16.7476 - val_loss: 19.1053\n",
      "Epoch 224/500\n",
      "30/30 [==============================] - 0s 2ms/step - loss: 16.6288 - val_loss: 19.1416\n",
      "Epoch 225/500\n",
      "30/30 [==============================] - 0s 2ms/step - loss: 16.6305 - val_loss: 19.1224\n",
      "Epoch 226/500\n",
      "30/30 [==============================] - 0s 2ms/step - loss: 16.5852 - val_loss: 19.2065\n",
      "Epoch 227/500\n",
      "30/30 [==============================] - 0s 2ms/step - loss: 16.7386 - val_loss: 19.2197\n",
      "Epoch 228/500\n",
      "30/30 [==============================] - 0s 2ms/step - loss: 16.8219 - val_loss: 19.2662\n",
      "Epoch 229/500\n",
      "30/30 [==============================] - 0s 2ms/step - loss: 16.8589 - val_loss: 19.3528\n",
      "Epoch 230/500\n",
      "30/30 [==============================] - 0s 2ms/step - loss: 16.6143 - val_loss: 19.1339\n",
      "Epoch 231/500\n",
      "30/30 [==============================] - 0s 2ms/step - loss: 16.5736 - val_loss: 19.1899\n",
      "Epoch 232/500\n",
      "30/30 [==============================] - 0s 2ms/step - loss: 16.7976 - val_loss: 19.1723\n",
      "Epoch 233/500\n",
      "30/30 [==============================] - 0s 2ms/step - loss: 16.6295 - val_loss: 19.1314\n",
      "Epoch 234/500\n",
      "30/30 [==============================] - 0s 2ms/step - loss: 16.5873 - val_loss: 19.3668\n",
      "Epoch 235/500\n",
      "30/30 [==============================] - 0s 2ms/step - loss: 16.6483 - val_loss: 19.1911\n",
      "Epoch 236/500\n",
      "30/30 [==============================] - 0s 2ms/step - loss: 16.7089 - val_loss: 19.1094\n",
      "Epoch 237/500\n",
      "30/30 [==============================] - 0s 2ms/step - loss: 17.0318 - val_loss: 19.0615\n",
      "Epoch 238/500\n"
     ]
    },
    {
     "name": "stdout",
     "output_type": "stream",
     "text": [
      "30/30 [==============================] - 0s 2ms/step - loss: 16.9181 - val_loss: 19.0003\n",
      "Epoch 239/500\n",
      "30/30 [==============================] - 0s 2ms/step - loss: 16.6434 - val_loss: 18.9543\n",
      "Epoch 240/500\n",
      "30/30 [==============================] - 0s 2ms/step - loss: 16.5695 - val_loss: 18.9992\n",
      "Epoch 241/500\n",
      "30/30 [==============================] - 0s 2ms/step - loss: 16.5454 - val_loss: 19.0060\n",
      "Epoch 242/500\n",
      "30/30 [==============================] - 0s 2ms/step - loss: 17.0275 - val_loss: 19.0346\n",
      "Epoch 243/500\n",
      "30/30 [==============================] - 0s 2ms/step - loss: 16.5296 - val_loss: 19.0098\n",
      "Epoch 244/500\n",
      "30/30 [==============================] - 0s 2ms/step - loss: 16.5290 - val_loss: 19.1045\n",
      "Epoch 245/500\n",
      "30/30 [==============================] - 0s 2ms/step - loss: 16.5338 - val_loss: 19.0609\n",
      "Epoch 246/500\n",
      "30/30 [==============================] - 0s 2ms/step - loss: 16.4915 - val_loss: 19.1115\n",
      "Epoch 247/500\n",
      "30/30 [==============================] - 0s 2ms/step - loss: 16.4593 - val_loss: 19.0464\n",
      "Epoch 248/500\n",
      "30/30 [==============================] - 0s 2ms/step - loss: 16.4847 - val_loss: 19.0728\n",
      "Epoch 249/500\n",
      "30/30 [==============================] - 0s 2ms/step - loss: 16.5059 - val_loss: 18.9096\n",
      "Epoch 250/500\n",
      "30/30 [==============================] - 0s 2ms/step - loss: 16.7089 - val_loss: 19.4535\n",
      "Epoch 251/500\n",
      "30/30 [==============================] - 0s 2ms/step - loss: 16.6013 - val_loss: 18.9605\n",
      "Epoch 252/500\n",
      "30/30 [==============================] - 0s 2ms/step - loss: 16.4698 - val_loss: 19.0425\n",
      "Epoch 253/500\n",
      "30/30 [==============================] - 0s 2ms/step - loss: 16.7440 - val_loss: 18.8605\n",
      "Epoch 254/500\n",
      "30/30 [==============================] - 0s 2ms/step - loss: 16.9783 - val_loss: 18.7805\n",
      "Epoch 255/500\n",
      "30/30 [==============================] - 0s 2ms/step - loss: 16.6500 - val_loss: 18.8931\n",
      "Epoch 256/500\n",
      "30/30 [==============================] - 0s 2ms/step - loss: 16.6716 - val_loss: 18.9771\n",
      "Epoch 257/500\n",
      "30/30 [==============================] - 0s 2ms/step - loss: 16.5366 - val_loss: 18.9177\n",
      "Epoch 258/500\n",
      "30/30 [==============================] - 0s 2ms/step - loss: 16.5401 - val_loss: 18.9684\n",
      "Epoch 259/500\n",
      "30/30 [==============================] - 0s 2ms/step - loss: 16.4253 - val_loss: 18.8730\n",
      "Epoch 260/500\n",
      "30/30 [==============================] - 0s 2ms/step - loss: 16.5462 - val_loss: 19.0408\n",
      "Epoch 261/500\n",
      "30/30 [==============================] - 0s 2ms/step - loss: 16.5895 - val_loss: 18.8610\n",
      "Epoch 262/500\n",
      "30/30 [==============================] - 0s 2ms/step - loss: 16.4897 - val_loss: 19.0707\n",
      "Epoch 263/500\n",
      "30/30 [==============================] - 0s 2ms/step - loss: 16.7716 - val_loss: 19.2288\n",
      "Epoch 264/500\n",
      "30/30 [==============================] - 0s 2ms/step - loss: 16.4210 - val_loss: 19.1782\n",
      "Epoch 265/500\n",
      "30/30 [==============================] - 0s 2ms/step - loss: 16.6263 - val_loss: 19.2404\n",
      "Epoch 266/500\n",
      "30/30 [==============================] - 0s 2ms/step - loss: 16.6187 - val_loss: 19.0516\n",
      "Epoch 267/500\n",
      "30/30 [==============================] - 0s 2ms/step - loss: 16.4193 - val_loss: 19.1757\n",
      "Epoch 268/500\n",
      "30/30 [==============================] - 0s 2ms/step - loss: 16.5183 - val_loss: 19.0633\n",
      "Epoch 269/500\n",
      "30/30 [==============================] - 0s 2ms/step - loss: 16.4397 - val_loss: 19.1055\n",
      "Epoch 270/500\n",
      "30/30 [==============================] - 0s 2ms/step - loss: 16.3987 - val_loss: 18.9615\n",
      "Epoch 271/500\n",
      "30/30 [==============================] - 0s 2ms/step - loss: 16.6884 - val_loss: 18.8070\n",
      "Epoch 272/500\n",
      "30/30 [==============================] - 0s 2ms/step - loss: 16.6203 - val_loss: 18.8653\n",
      "Epoch 273/500\n",
      "30/30 [==============================] - 0s 2ms/step - loss: 16.4275 - val_loss: 18.8704\n",
      "Epoch 274/500\n",
      "30/30 [==============================] - 0s 2ms/step - loss: 16.4260 - val_loss: 18.8447\n",
      "Epoch 275/500\n",
      "30/30 [==============================] - 0s 2ms/step - loss: 16.3369 - val_loss: 18.8583\n",
      "Epoch 276/500\n",
      "30/30 [==============================] - 0s 2ms/step - loss: 16.4328 - val_loss: 18.8142\n",
      "Epoch 277/500\n",
      "30/30 [==============================] - 0s 2ms/step - loss: 16.5606 - val_loss: 18.9649\n",
      "Epoch 278/500\n",
      "30/30 [==============================] - 0s 2ms/step - loss: 16.4171 - val_loss: 18.8617\n",
      "Epoch 279/500\n",
      "30/30 [==============================] - 0s 2ms/step - loss: 16.3471 - val_loss: 18.8295\n",
      "Epoch 280/500\n",
      "30/30 [==============================] - 0s 2ms/step - loss: 16.3317 - val_loss: 19.0146\n",
      "Epoch 281/500\n",
      "30/30 [==============================] - 0s 2ms/step - loss: 16.7154 - val_loss: 18.9874\n",
      "Epoch 282/500\n",
      "30/30 [==============================] - 0s 2ms/step - loss: 16.7825 - val_loss: 19.0302\n",
      "Epoch 283/500\n",
      "30/30 [==============================] - 0s 2ms/step - loss: 16.3192 - val_loss: 19.0499\n",
      "Epoch 284/500\n",
      "30/30 [==============================] - 0s 2ms/step - loss: 16.6603 - val_loss: 18.9318\n",
      "Epoch 285/500\n",
      "30/30 [==============================] - 0s 2ms/step - loss: 16.5345 - val_loss: 18.9166\n",
      "Epoch 286/500\n",
      "30/30 [==============================] - 0s 2ms/step - loss: 16.2664 - val_loss: 18.8423\n",
      "Epoch 287/500\n",
      "30/30 [==============================] - 0s 2ms/step - loss: 17.0193 - val_loss: 18.9424\n",
      "Epoch 288/500\n",
      "30/30 [==============================] - 0s 2ms/step - loss: 16.4328 - val_loss: 18.9705\n",
      "Epoch 289/500\n",
      "30/30 [==============================] - 0s 2ms/step - loss: 16.3047 - val_loss: 18.9083\n",
      "Epoch 290/500\n",
      "30/30 [==============================] - 0s 2ms/step - loss: 16.3214 - val_loss: 18.9052\n",
      "Epoch 291/500\n",
      "30/30 [==============================] - 0s 2ms/step - loss: 16.3544 - val_loss: 18.8897\n",
      "Epoch 292/500\n",
      "30/30 [==============================] - 0s 2ms/step - loss: 16.4629 - val_loss: 18.7883\n",
      "Epoch 293/500\n",
      "30/30 [==============================] - 0s 2ms/step - loss: 16.6297 - val_loss: 18.7668\n",
      "Epoch 294/500\n",
      "30/30 [==============================] - 0s 2ms/step - loss: 16.3850 - val_loss: 18.6515\n",
      "Epoch 295/500\n",
      "30/30 [==============================] - 0s 2ms/step - loss: 16.3872 - val_loss: 18.5900\n",
      "Epoch 296/500\n",
      "30/30 [==============================] - 0s 2ms/step - loss: 16.3012 - val_loss: 18.6066\n",
      "Epoch 297/500\n",
      "30/30 [==============================] - 0s 2ms/step - loss: 16.3059 - val_loss: 18.7232\n",
      "Epoch 298/500\n",
      "30/30 [==============================] - 0s 2ms/step - loss: 16.4700 - val_loss: 19.0501\n",
      "Epoch 299/500\n",
      "30/30 [==============================] - 0s 2ms/step - loss: 16.2940 - val_loss: 18.8299\n",
      "Epoch 300/500\n",
      "30/30 [==============================] - 0s 2ms/step - loss: 16.9031 - val_loss: 18.7331\n",
      "Epoch 301/500\n",
      "30/30 [==============================] - 0s 2ms/step - loss: 16.2932 - val_loss: 18.7262\n",
      "Epoch 302/500\n",
      "30/30 [==============================] - 0s 2ms/step - loss: 16.3100 - val_loss: 18.6941\n",
      "Epoch 303/500\n",
      "30/30 [==============================] - 0s 2ms/step - loss: 16.4737 - val_loss: 18.6840\n",
      "Epoch 304/500\n",
      "30/30 [==============================] - 0s 2ms/step - loss: 16.2755 - val_loss: 18.8805\n",
      "Epoch 305/500\n",
      "30/30 [==============================] - 0s 2ms/step - loss: 16.3148 - val_loss: 18.8887\n",
      "Epoch 306/500\n",
      "30/30 [==============================] - 0s 2ms/step - loss: 16.3769 - val_loss: 18.8847\n",
      "Epoch 307/500\n",
      "30/30 [==============================] - 0s 2ms/step - loss: 16.6026 - val_loss: 19.0525\n",
      "Epoch 308/500\n",
      "30/30 [==============================] - 0s 2ms/step - loss: 16.7479 - val_loss: 18.8234\n",
      "Epoch 309/500\n",
      "30/30 [==============================] - 0s 2ms/step - loss: 16.2956 - val_loss: 18.9048\n",
      "Epoch 310/500\n",
      "30/30 [==============================] - 0s 2ms/step - loss: 16.4889 - val_loss: 18.7889\n",
      "Epoch 311/500\n",
      "30/30 [==============================] - 0s 2ms/step - loss: 16.4467 - val_loss: 18.9431\n",
      "Epoch 312/500\n",
      "30/30 [==============================] - 0s 2ms/step - loss: 16.2385 - val_loss: 19.0391\n",
      "Epoch 313/500\n",
      "30/30 [==============================] - 0s 2ms/step - loss: 16.2059 - val_loss: 18.9501\n",
      "Epoch 314/500\n",
      "30/30 [==============================] - ETA: 0s - loss: 14.89 - 0s 2ms/step - loss: 16.2005 - val_loss: 18.9310\n",
      "Epoch 315/500\n",
      "30/30 [==============================] - 0s 2ms/step - loss: 16.2375 - val_loss: 18.7729\n",
      "Epoch 316/500\n",
      "30/30 [==============================] - 0s 2ms/step - loss: 16.2684 - val_loss: 18.7563\n",
      "Epoch 317/500\n"
     ]
    },
    {
     "name": "stdout",
     "output_type": "stream",
     "text": [
      "30/30 [==============================] - 0s 2ms/step - loss: 16.3370 - val_loss: 18.6900\n",
      "Epoch 318/500\n",
      "30/30 [==============================] - 0s 2ms/step - loss: 16.2068 - val_loss: 18.8379\n",
      "Epoch 319/500\n",
      "30/30 [==============================] - 0s 2ms/step - loss: 16.2974 - val_loss: 18.7539\n",
      "Epoch 320/500\n",
      "30/30 [==============================] - 0s 2ms/step - loss: 16.2902 - val_loss: 18.6609\n",
      "Epoch 321/500\n",
      "30/30 [==============================] - 0s 2ms/step - loss: 16.4499 - val_loss: 18.7470\n",
      "Epoch 322/500\n",
      "30/30 [==============================] - 0s 2ms/step - loss: 16.3994 - val_loss: 18.7047\n",
      "Epoch 323/500\n",
      "30/30 [==============================] - 0s 2ms/step - loss: 16.2753 - val_loss: 18.7545\n",
      "Epoch 324/500\n",
      "30/30 [==============================] - 0s 2ms/step - loss: 16.2566 - val_loss: 18.8129\n",
      "Epoch 325/500\n",
      "30/30 [==============================] - 0s 2ms/step - loss: 16.1851 - val_loss: 18.7243\n",
      "Epoch 326/500\n",
      "30/30 [==============================] - 0s 2ms/step - loss: 16.2592 - val_loss: 18.8525\n",
      "Epoch 327/500\n",
      "30/30 [==============================] - 0s 2ms/step - loss: 16.3624 - val_loss: 18.8081\n",
      "Epoch 328/500\n",
      "30/30 [==============================] - 0s 2ms/step - loss: 16.4331 - val_loss: 18.8264\n",
      "Epoch 329/500\n",
      "30/30 [==============================] - 0s 2ms/step - loss: 16.5262 - val_loss: 18.8096\n",
      "Epoch 330/500\n",
      "30/30 [==============================] - 0s 2ms/step - loss: 16.2671 - val_loss: 18.8004\n",
      "Epoch 331/500\n",
      "30/30 [==============================] - 0s 2ms/step - loss: 16.2495 - val_loss: 18.7895\n",
      "Epoch 332/500\n",
      "30/30 [==============================] - 0s 2ms/step - loss: 16.1640 - val_loss: 18.6853\n",
      "Epoch 333/500\n",
      "30/30 [==============================] - 0s 2ms/step - loss: 16.1575 - val_loss: 18.7310\n",
      "Epoch 334/500\n",
      "30/30 [==============================] - 0s 2ms/step - loss: 16.5203 - val_loss: 18.8599\n",
      "Epoch 335/500\n",
      "30/30 [==============================] - 0s 2ms/step - loss: 16.2528 - val_loss: 18.7020\n",
      "Epoch 336/500\n",
      "30/30 [==============================] - 0s 2ms/step - loss: 16.1502 - val_loss: 18.7280\n",
      "Epoch 337/500\n",
      "30/30 [==============================] - 0s 2ms/step - loss: 16.2650 - val_loss: 19.0621\n",
      "Epoch 338/500\n",
      "30/30 [==============================] - 0s 2ms/step - loss: 16.2172 - val_loss: 18.8144\n",
      "Epoch 339/500\n",
      "30/30 [==============================] - 0s 2ms/step - loss: 16.1715 - val_loss: 18.8018\n",
      "Epoch 340/500\n",
      "30/30 [==============================] - 0s 2ms/step - loss: 16.1541 - val_loss: 18.8371\n",
      "Epoch 341/500\n",
      "30/30 [==============================] - 0s 2ms/step - loss: 16.1156 - val_loss: 18.7374\n",
      "Epoch 342/500\n",
      "30/30 [==============================] - 0s 2ms/step - loss: 16.1525 - val_loss: 18.7755\n",
      "Epoch 343/500\n",
      "30/30 [==============================] - 0s 2ms/step - loss: 16.1505 - val_loss: 18.8209\n",
      "Epoch 344/500\n",
      "30/30 [==============================] - 0s 2ms/step - loss: 16.4121 - val_loss: 18.9294\n",
      "Epoch 345/500\n",
      "30/30 [==============================] - 0s 2ms/step - loss: 16.3334 - val_loss: 18.6500\n",
      "Epoch 346/500\n",
      "30/30 [==============================] - 0s 2ms/step - loss: 16.5756 - val_loss: 18.6335\n",
      "Epoch 347/500\n",
      "30/30 [==============================] - 0s 2ms/step - loss: 16.3988 - val_loss: 18.5934\n",
      "Epoch 348/500\n",
      "30/30 [==============================] - 0s 2ms/step - loss: 16.4184 - val_loss: 18.5972\n",
      "Epoch 349/500\n",
      "30/30 [==============================] - 0s 2ms/step - loss: 16.2070 - val_loss: 18.6289\n",
      "Epoch 350/500\n",
      "30/30 [==============================] - 0s 2ms/step - loss: 16.0924 - val_loss: 18.6645\n",
      "Epoch 351/500\n",
      "30/30 [==============================] - 0s 2ms/step - loss: 16.1975 - val_loss: 18.6763\n",
      "Epoch 352/500\n",
      "30/30 [==============================] - 0s 2ms/step - loss: 16.2157 - val_loss: 18.6166\n",
      "Epoch 353/500\n",
      "30/30 [==============================] - 0s 2ms/step - loss: 16.0518 - val_loss: 18.6594\n",
      "Epoch 354/500\n",
      "30/30 [==============================] - 0s 2ms/step - loss: 16.1285 - val_loss: 18.6651\n",
      "Epoch 355/500\n",
      "30/30 [==============================] - 0s 2ms/step - loss: 16.0624 - val_loss: 18.6958\n",
      "Epoch 356/500\n",
      "30/30 [==============================] - ETA: 0s - loss: 17.69 - 0s 2ms/step - loss: 16.0458 - val_loss: 18.7343\n",
      "Epoch 357/500\n",
      "30/30 [==============================] - 0s 6ms/step - loss: 16.0816 - val_loss: 18.7624\n",
      "Epoch 358/500\n",
      "30/30 [==============================] - 0s 2ms/step - loss: 16.1794 - val_loss: 18.7164\n",
      "Epoch 359/500\n",
      "30/30 [==============================] - 0s 2ms/step - loss: 16.1511 - val_loss: 18.7169\n",
      "Epoch 360/500\n",
      "30/30 [==============================] - 0s 2ms/step - loss: 16.1185 - val_loss: 18.6695\n",
      "Epoch 361/500\n",
      "30/30 [==============================] - 0s 2ms/step - loss: 16.3086 - val_loss: 18.8730\n",
      "Epoch 362/500\n",
      "30/30 [==============================] - 0s 2ms/step - loss: 16.2430 - val_loss: 18.7084\n",
      "Epoch 363/500\n",
      "30/30 [==============================] - 0s 2ms/step - loss: 16.3157 - val_loss: 18.6902\n",
      "Epoch 364/500\n",
      "30/30 [==============================] - 0s 2ms/step - loss: 16.1304 - val_loss: 18.8509\n",
      "Epoch 365/500\n",
      "30/30 [==============================] - 0s 2ms/step - loss: 16.0773 - val_loss: 18.8610\n",
      "Epoch 366/500\n",
      "30/30 [==============================] - 0s 2ms/step - loss: 16.1448 - val_loss: 18.9555\n",
      "Epoch 367/500\n",
      "30/30 [==============================] - 0s 2ms/step - loss: 16.3346 - val_loss: 18.8137\n",
      "Epoch 368/500\n",
      "30/30 [==============================] - 0s 2ms/step - loss: 16.1566 - val_loss: 18.8137\n",
      "Epoch 369/500\n",
      "30/30 [==============================] - 0s 2ms/step - loss: 16.0794 - val_loss: 18.8822\n",
      "Epoch 370/500\n",
      "30/30 [==============================] - 0s 2ms/step - loss: 16.2957 - val_loss: 18.8513\n",
      "Epoch 371/500\n",
      "30/30 [==============================] - 0s 2ms/step - loss: 16.1212 - val_loss: 18.6737\n",
      "Epoch 372/500\n",
      "30/30 [==============================] - 0s 2ms/step - loss: 16.1016 - val_loss: 18.6964\n",
      "Epoch 373/500\n",
      "30/30 [==============================] - 0s 2ms/step - loss: 16.0672 - val_loss: 18.7490\n",
      "Epoch 374/500\n",
      "30/30 [==============================] - 0s 2ms/step - loss: 16.0591 - val_loss: 18.5969\n",
      "Epoch 375/500\n",
      "30/30 [==============================] - 0s 2ms/step - loss: 16.2232 - val_loss: 18.6874\n",
      "Epoch 376/500\n",
      "30/30 [==============================] - 0s 2ms/step - loss: 16.0811 - val_loss: 18.5586\n",
      "Epoch 377/500\n",
      "30/30 [==============================] - 0s 2ms/step - loss: 16.8406 - val_loss: 18.5960\n",
      "Epoch 378/500\n",
      "30/30 [==============================] - 0s 2ms/step - loss: 16.0924 - val_loss: 18.6554\n",
      "Epoch 379/500\n",
      "30/30 [==============================] - 0s 2ms/step - loss: 16.0189 - val_loss: 18.6753\n",
      "Epoch 380/500\n",
      "30/30 [==============================] - 0s 2ms/step - loss: 16.3352 - val_loss: 18.6016\n",
      "Epoch 381/500\n",
      "30/30 [==============================] - 0s 2ms/step - loss: 16.3626 - val_loss: 18.7113\n",
      "Epoch 382/500\n",
      "30/30 [==============================] - 0s 2ms/step - loss: 16.0564 - val_loss: 18.8353\n",
      "Epoch 383/500\n",
      "30/30 [==============================] - 0s 2ms/step - loss: 16.2371 - val_loss: 18.6474\n",
      "Epoch 384/500\n",
      "30/30 [==============================] - 0s 2ms/step - loss: 15.9884 - val_loss: 18.7325\n",
      "Epoch 385/500\n",
      "30/30 [==============================] - 0s 2ms/step - loss: 16.1009 - val_loss: 18.6152\n",
      "Epoch 386/500\n",
      "30/30 [==============================] - 0s 2ms/step - loss: 16.0371 - val_loss: 18.6092\n",
      "Epoch 387/500\n",
      "30/30 [==============================] - 0s 2ms/step - loss: 16.4012 - val_loss: 18.5517\n",
      "Epoch 388/500\n",
      "30/30 [==============================] - 0s 2ms/step - loss: 16.6268 - val_loss: 18.5909\n",
      "Epoch 389/500\n",
      "30/30 [==============================] - 0s 2ms/step - loss: 16.0427 - val_loss: 18.7393\n",
      "Epoch 390/500\n",
      "30/30 [==============================] - 0s 2ms/step - loss: 15.9744 - val_loss: 18.7251\n",
      "Epoch 391/500\n",
      "30/30 [==============================] - 0s 2ms/step - loss: 16.1165 - val_loss: 18.6644\n",
      "Epoch 392/500\n",
      "30/30 [==============================] - 0s 2ms/step - loss: 16.0750 - val_loss: 18.6801\n",
      "Epoch 393/500\n",
      "30/30 [==============================] - 0s 2ms/step - loss: 15.9804 - val_loss: 18.7511\n",
      "Epoch 394/500\n",
      "30/30 [==============================] - 0s 2ms/step - loss: 16.0643 - val_loss: 18.6038\n",
      "Epoch 395/500\n",
      "30/30 [==============================] - 0s 2ms/step - loss: 16.0964 - val_loss: 18.6072\n",
      "Epoch 396/500\n"
     ]
    },
    {
     "name": "stdout",
     "output_type": "stream",
     "text": [
      "30/30 [==============================] - 0s 2ms/step - loss: 16.0286 - val_loss: 18.5567\n",
      "Epoch 397/500\n",
      "30/30 [==============================] - 0s 2ms/step - loss: 15.9715 - val_loss: 18.6265\n",
      "Epoch 398/500\n",
      "30/30 [==============================] - 0s 2ms/step - loss: 16.1905 - val_loss: 18.7356\n",
      "Epoch 399/500\n",
      "30/30 [==============================] - 0s 2ms/step - loss: 16.1708 - val_loss: 18.7669\n",
      "Epoch 400/500\n",
      "30/30 [==============================] - 0s 2ms/step - loss: 15.9775 - val_loss: 18.6397\n",
      "Epoch 401/500\n",
      "30/30 [==============================] - 0s 2ms/step - loss: 15.9656 - val_loss: 18.6370\n",
      "Epoch 402/500\n",
      "30/30 [==============================] - ETA: 0s - loss: 22.10 - 0s 2ms/step - loss: 16.1640 - val_loss: 18.5927\n",
      "Epoch 403/500\n",
      "30/30 [==============================] - 0s 2ms/step - loss: 16.0101 - val_loss: 18.6070\n",
      "Epoch 404/500\n",
      "30/30 [==============================] - 0s 2ms/step - loss: 15.9370 - val_loss: 18.5802\n",
      "Epoch 405/500\n",
      "30/30 [==============================] - 0s 2ms/step - loss: 16.0969 - val_loss: 18.7284\n",
      "Epoch 406/500\n",
      "30/30 [==============================] - 0s 2ms/step - loss: 15.9527 - val_loss: 18.7160\n",
      "Epoch 407/500\n",
      "30/30 [==============================] - 0s 2ms/step - loss: 16.0590 - val_loss: 18.8339\n",
      "Epoch 408/500\n",
      "30/30 [==============================] - 0s 2ms/step - loss: 15.9412 - val_loss: 18.6086\n",
      "Epoch 409/500\n",
      "30/30 [==============================] - 0s 2ms/step - loss: 15.9696 - val_loss: 18.6823\n",
      "Epoch 410/500\n",
      "30/30 [==============================] - 0s 2ms/step - loss: 16.0110 - val_loss: 18.5714\n",
      "Epoch 411/500\n",
      "30/30 [==============================] - 0s 2ms/step - loss: 16.0717 - val_loss: 18.6364\n",
      "Epoch 412/500\n",
      "30/30 [==============================] - 0s 2ms/step - loss: 15.9934 - val_loss: 18.7583\n",
      "Epoch 413/500\n",
      "30/30 [==============================] - 0s 2ms/step - loss: 15.9853 - val_loss: 18.6358\n",
      "Epoch 414/500\n",
      "30/30 [==============================] - ETA: 0s - loss: 11.66 - 0s 2ms/step - loss: 16.1989 - val_loss: 18.6586\n",
      "Epoch 415/500\n",
      "30/30 [==============================] - 0s 2ms/step - loss: 15.9735 - val_loss: 18.6998\n",
      "Epoch 416/500\n",
      "30/30 [==============================] - 0s 2ms/step - loss: 15.9348 - val_loss: 18.7358\n",
      "Epoch 417/500\n",
      "30/30 [==============================] - 0s 2ms/step - loss: 16.1746 - val_loss: 18.6018\n",
      "Epoch 418/500\n",
      "30/30 [==============================] - 0s 2ms/step - loss: 16.0695 - val_loss: 18.4755\n",
      "Epoch 419/500\n",
      "30/30 [==============================] - 0s 2ms/step - loss: 16.1805 - val_loss: 18.4937\n",
      "Epoch 420/500\n",
      "30/30 [==============================] - 0s 2ms/step - loss: 15.8742 - val_loss: 18.6573\n",
      "Epoch 421/500\n",
      "30/30 [==============================] - 0s 2ms/step - loss: 15.9713 - val_loss: 18.5670\n",
      "Epoch 422/500\n",
      "30/30 [==============================] - 0s 2ms/step - loss: 16.0565 - val_loss: 18.6760\n",
      "Epoch 423/500\n",
      "30/30 [==============================] - 0s 2ms/step - loss: 16.1265 - val_loss: 18.6005\n",
      "Epoch 424/500\n",
      "30/30 [==============================] - 0s 2ms/step - loss: 15.9303 - val_loss: 18.4813\n",
      "Epoch 425/500\n",
      "30/30 [==============================] - 0s 2ms/step - loss: 16.0819 - val_loss: 18.6742\n",
      "Epoch 426/500\n",
      "30/30 [==============================] - 0s 2ms/step - loss: 15.9818 - val_loss: 18.5689\n",
      "Epoch 427/500\n",
      "30/30 [==============================] - 0s 2ms/step - loss: 16.1726 - val_loss: 18.7717\n",
      "Epoch 428/500\n",
      "30/30 [==============================] - 0s 2ms/step - loss: 16.1086 - val_loss: 18.5014\n",
      "Epoch 429/500\n",
      "30/30 [==============================] - 0s 2ms/step - loss: 15.9494 - val_loss: 18.5047\n",
      "Epoch 430/500\n",
      "30/30 [==============================] - ETA: 0s - loss: 20.56 - 0s 2ms/step - loss: 15.9583 - val_loss: 18.5295\n",
      "Epoch 431/500\n",
      "30/30 [==============================] - 0s 2ms/step - loss: 15.9377 - val_loss: 18.5877\n",
      "Epoch 432/500\n",
      "30/30 [==============================] - 0s 2ms/step - loss: 15.8994 - val_loss: 18.4865\n",
      "Epoch 433/500\n",
      "30/30 [==============================] - 0s 2ms/step - loss: 16.0355 - val_loss: 18.5168\n",
      "Epoch 434/500\n",
      "30/30 [==============================] - 0s 2ms/step - loss: 15.9755 - val_loss: 18.5630\n",
      "Epoch 435/500\n",
      "30/30 [==============================] - 0s 2ms/step - loss: 15.9303 - val_loss: 18.5340\n",
      "Epoch 436/500\n",
      "30/30 [==============================] - ETA: 0s - loss: 20.78 - 0s 2ms/step - loss: 16.1872 - val_loss: 18.7101\n",
      "Epoch 437/500\n",
      "30/30 [==============================] - 0s 2ms/step - loss: 15.7770 - val_loss: 18.5394\n",
      "Epoch 438/500\n",
      "30/30 [==============================] - 0s 2ms/step - loss: 16.3501 - val_loss: 18.5263\n",
      "Epoch 439/500\n",
      "30/30 [==============================] - 0s 2ms/step - loss: 16.1776 - val_loss: 18.6909\n",
      "Epoch 440/500\n",
      "30/30 [==============================] - 0s 2ms/step - loss: 15.9554 - val_loss: 18.4690\n",
      "Epoch 441/500\n",
      "30/30 [==============================] - 0s 2ms/step - loss: 16.1341 - val_loss: 18.5470\n",
      "Epoch 442/500\n",
      "30/30 [==============================] - 0s 2ms/step - loss: 16.1247 - val_loss: 18.5545\n",
      "Epoch 443/500\n",
      "30/30 [==============================] - 0s 2ms/step - loss: 15.9795 - val_loss: 18.6639\n",
      "Epoch 444/500\n",
      "30/30 [==============================] - 0s 2ms/step - loss: 15.9476 - val_loss: 18.4787\n",
      "Epoch 445/500\n",
      "30/30 [==============================] - 0s 2ms/step - loss: 16.0369 - val_loss: 18.4511\n",
      "Epoch 446/500\n",
      "30/30 [==============================] - 0s 2ms/step - loss: 16.1871 - val_loss: 18.5714\n",
      "Epoch 447/500\n",
      "30/30 [==============================] - 0s 2ms/step - loss: 15.9527 - val_loss: 18.6208\n",
      "Epoch 448/500\n",
      "30/30 [==============================] - 0s 2ms/step - loss: 15.8880 - val_loss: 18.5737\n",
      "Epoch 449/500\n",
      "30/30 [==============================] - 0s 2ms/step - loss: 15.9199 - val_loss: 18.5394\n",
      "Epoch 450/500\n",
      "30/30 [==============================] - 0s 2ms/step - loss: 15.8637 - val_loss: 18.6342\n",
      "Epoch 451/500\n",
      "30/30 [==============================] - 0s 2ms/step - loss: 16.3067 - val_loss: 18.6290\n",
      "Epoch 452/500\n",
      "30/30 [==============================] - 0s 2ms/step - loss: 15.9490 - val_loss: 18.5680\n",
      "Epoch 453/500\n",
      "30/30 [==============================] - 0s 2ms/step - loss: 15.8967 - val_loss: 18.5362\n",
      "Epoch 454/500\n",
      "30/30 [==============================] - 0s 2ms/step - loss: 16.2258 - val_loss: 18.5765\n",
      "Epoch 455/500\n",
      "30/30 [==============================] - 0s 2ms/step - loss: 15.9807 - val_loss: 18.5079\n",
      "Epoch 456/500\n",
      "30/30 [==============================] - 0s 2ms/step - loss: 16.1585 - val_loss: 18.6923\n",
      "Epoch 457/500\n",
      "30/30 [==============================] - 0s 2ms/step - loss: 16.2343 - val_loss: 18.6742\n",
      "Epoch 458/500\n",
      "30/30 [==============================] - 0s 2ms/step - loss: 15.9629 - val_loss: 18.5481\n",
      "Epoch 459/500\n",
      "30/30 [==============================] - 0s 2ms/step - loss: 15.8372 - val_loss: 18.4300\n",
      "Epoch 460/500\n",
      "30/30 [==============================] - 0s 2ms/step - loss: 16.2152 - val_loss: 18.8502\n",
      "Epoch 461/500\n",
      "30/30 [==============================] - 0s 2ms/step - loss: 16.3140 - val_loss: 18.3075\n",
      "Epoch 462/500\n",
      "30/30 [==============================] - ETA: 0s - loss: 15.40 - 0s 2ms/step - loss: 16.0769 - val_loss: 18.4663\n",
      "Epoch 463/500\n",
      "30/30 [==============================] - 0s 2ms/step - loss: 15.9461 - val_loss: 18.3984\n",
      "Epoch 464/500\n",
      "30/30 [==============================] - 0s 2ms/step - loss: 15.9605 - val_loss: 18.5395\n",
      "Epoch 465/500\n",
      "30/30 [==============================] - 0s 2ms/step - loss: 15.9668 - val_loss: 18.5126\n",
      "Epoch 466/500\n",
      "30/30 [==============================] - 0s 2ms/step - loss: 15.9500 - val_loss: 18.5003\n",
      "Epoch 467/500\n",
      "30/30 [==============================] - 0s 2ms/step - loss: 15.7680 - val_loss: 18.6429\n",
      "Epoch 468/500\n",
      "30/30 [==============================] - 0s 2ms/step - loss: 15.9458 - val_loss: 18.6246\n",
      "Epoch 469/500\n",
      "30/30 [==============================] - 0s 2ms/step - loss: 15.8424 - val_loss: 18.6634\n",
      "Epoch 470/500\n",
      "30/30 [==============================] - 0s 2ms/step - loss: 15.8158 - val_loss: 18.5730\n",
      "Epoch 471/500\n",
      "30/30 [==============================] - 0s 2ms/step - loss: 15.8702 - val_loss: 18.5135\n",
      "Epoch 472/500\n",
      "30/30 [==============================] - 0s 2ms/step - loss: 16.0668 - val_loss: 18.7299\n",
      "Epoch 473/500\n",
      "30/30 [==============================] - 0s 2ms/step - loss: 16.7639 - val_loss: 18.6771\n",
      "Epoch 474/500\n"
     ]
    },
    {
     "name": "stdout",
     "output_type": "stream",
     "text": [
      "30/30 [==============================] - 0s 2ms/step - loss: 15.9065 - val_loss: 18.7399\n",
      "Epoch 475/500\n",
      "30/30 [==============================] - 0s 2ms/step - loss: 15.8672 - val_loss: 18.7876\n",
      "Epoch 476/500\n",
      "30/30 [==============================] - 0s 2ms/step - loss: 15.8824 - val_loss: 18.6823\n",
      "Epoch 477/500\n",
      "30/30 [==============================] - 0s 2ms/step - loss: 15.8339 - val_loss: 18.6055\n",
      "Epoch 478/500\n",
      "30/30 [==============================] - 0s 2ms/step - loss: 15.8134 - val_loss: 18.5643\n",
      "Epoch 479/500\n",
      "30/30 [==============================] - 0s 2ms/step - loss: 15.8894 - val_loss: 18.4664\n",
      "Epoch 480/500\n",
      "30/30 [==============================] - 0s 2ms/step - loss: 15.8290 - val_loss: 18.5098\n",
      "Epoch 481/500\n",
      "30/30 [==============================] - 0s 2ms/step - loss: 15.9056 - val_loss: 18.4141\n",
      "Epoch 482/500\n",
      "30/30 [==============================] - 0s 2ms/step - loss: 16.0828 - val_loss: 18.3948\n",
      "Epoch 483/500\n",
      "30/30 [==============================] - 0s 2ms/step - loss: 15.8521 - val_loss: 18.3563\n",
      "Epoch 484/500\n",
      "30/30 [==============================] - 0s 2ms/step - loss: 16.3323 - val_loss: 18.2960\n",
      "Epoch 485/500\n",
      "30/30 [==============================] - 0s 2ms/step - loss: 15.8816 - val_loss: 18.4263\n",
      "Epoch 486/500\n",
      "30/30 [==============================] - 0s 2ms/step - loss: 16.1675 - val_loss: 18.3329\n",
      "Epoch 487/500\n",
      "30/30 [==============================] - 0s 2ms/step - loss: 15.9895 - val_loss: 18.3612\n",
      "Epoch 488/500\n",
      "30/30 [==============================] - 0s 2ms/step - loss: 16.3328 - val_loss: 18.4480\n",
      "Epoch 489/500\n",
      "30/30 [==============================] - 0s 2ms/step - loss: 15.8403 - val_loss: 18.3084\n",
      "Epoch 490/500\n",
      "30/30 [==============================] - 0s 2ms/step - loss: 16.0199 - val_loss: 18.3998\n",
      "Epoch 491/500\n",
      "30/30 [==============================] - 0s 2ms/step - loss: 15.9608 - val_loss: 18.6213\n",
      "Epoch 492/500\n",
      "30/30 [==============================] - 0s 2ms/step - loss: 15.9135 - val_loss: 18.4081\n",
      "Epoch 493/500\n",
      "30/30 [==============================] - 0s 2ms/step - loss: 15.9492 - val_loss: 18.4796\n",
      "Epoch 494/500\n",
      "30/30 [==============================] - 0s 2ms/step - loss: 15.8818 - val_loss: 18.3849\n",
      "Epoch 495/500\n",
      "30/30 [==============================] - 0s 2ms/step - loss: 15.9523 - val_loss: 18.3880\n",
      "Epoch 496/500\n",
      "30/30 [==============================] - 0s 2ms/step - loss: 15.8070 - val_loss: 18.3119\n",
      "Epoch 497/500\n",
      "30/30 [==============================] - 0s 2ms/step - loss: 15.8193 - val_loss: 18.4901\n",
      "Epoch 498/500\n",
      "30/30 [==============================] - 0s 2ms/step - loss: 15.8530 - val_loss: 18.4229\n",
      "Epoch 499/500\n",
      "30/30 [==============================] - 0s 2ms/step - loss: 16.1695 - val_loss: 18.4623\n",
      "Epoch 500/500\n",
      "30/30 [==============================] - 0s 2ms/step - loss: 15.8257 - val_loss: 18.5346\n"
     ]
    },
    {
     "data": {
      "text/plain": [
       "<tensorflow.python.keras.callbacks.History at 0x1a628644490>"
      ]
     },
     "execution_count": 35,
     "metadata": {},
     "output_type": "execute_result"
    }
   ],
   "source": [
    "# Train the network using the training data.\n",
    "# Keep track of loss for validation data too - not being used in training.\n",
    "# Could do history = model.fit(X_train, y_train, epochs=500, batch_size=10, validation_data=(X_val, y_val))\n",
    "model.fit(X_train, y_train, epochs=500, batch_size=10, validation_data=(X_val, y_val))"
   ]
  },
  {
   "cell_type": "markdown",
   "metadata": {},
   "source": [
    "Ideally, the loss calculated from the training data should be close to that calculated using the validation data (which is not used in training the model). If they differ significantly, that's a sign that something is up and some parameters may need to be changed. If the validation error is still reducing, the model hasn't converged yet and one can continue training by just running the above cell again ( I usually ran this cell twice). I hadn't fully appreciated the difference between the train/test data and the validation data, but I see it now: the training data is used to train the model, the validation data is used to measure loss during model training to see if there are problems like under or overfitting. If there are, parameters can be changed and the model re-trained. Finally, after training and tuning of parameters, the test data is used to make predictions. It has had no input to the model training or parameter tuning."
   ]
  },
  {
   "cell_type": "code",
   "execution_count": 32,
   "metadata": {},
   "outputs": [
    {
     "data": {
      "image/png": "[encoded data removed]",
      "text/plain": [
       "<Figure size 576x432 with 1 Axes>"
      ]
     },
     "metadata": {
      "needs_background": "light"
     },
     "output_type": "display_data"
    }
   ],
   "source": [
    "# Look at prediction for the test data - was not used in training.\n",
    "plt.plot(X, y, 'co', label=\"data\")\n",
    "plt.plot(X_test, model.predict(X_test), 'k.', label=\"neural n/w\")\n",
    "plt.xlabel('Speed (m/s)', fontsize='14')\n",
    "plt.ylabel('power (kW)', fontsize='14')\n",
    "plt.title(\"Neural network prediction on test data\")\n",
    "plt.grid()\n",
    "plt.legend()\n",
    "plt.savefig(\"img/neuralnw.png\")"
   ]
  },
  {
   "cell_type": "markdown",
   "metadata": {},
   "source": [
    "This is doing an excellent job, and to be honest, it seems like magic to me. Without knowing a thing about the data - why it looks like it does - we can make predictions. I'm more used to knowing what a quantity should look like in theory, and then fitting experimental data to that theory in order to measure error. "
   ]
  },
  {
   "cell_type": "code",
   "execution_count": 33,
   "metadata": {},
   "outputs": [
    {
     "name": "stdout",
     "output_type": "stream",
     "text": [
      "[[102.44372]]\n"
     ]
    }
   ],
   "source": [
    "# Predict from a single input value - seems sensible.\n",
    "wind = [[23]]\n",
    "print(model.predict(wind))"
   ]
  },
  {
   "cell_type": "markdown",
   "metadata": {},
   "source": [
    "### Save this neural network model"
   ]
  },
  {
   "cell_type": "code",
   "execution_count": 34,
   "metadata": {},
   "outputs": [
    {
     "name": "stdout",
     "output_type": "stream",
     "text": [
      "Neural network model saved as neural-nw.h5\n"
     ]
    }
   ],
   "source": [
    "#model.save(\"models/neural-nw.h5\")\n",
    "print(\"Neural network model saved as neural-nw.h5\")"
   ]
  },
  {
   "cell_type": "markdown",
   "metadata": {},
   "source": [
    "## References\n",
    "<span style='color:red'> [1 Geron] </span> Aurelien Geron, *Hands-on Machine Learning with Scikit-Learn, Keras & TensorFlow*, **2019**, 2nd Edition, O'Reilly Media, Inc., CA\n",
    "\n",
    "<span style='color:red'> [2 np random] </span> numpy.random.rayleigh, NumPy v1.19 Manual, https://numpy.org/doc/stable/reference/random/generated/numpy.random.rayleigh.html\n",
    "\n",
    "<span style='color:red'> [3 WT curve] </span> Wind Energy Basics, New York Wind Energy Guide for Local Decision Makers, www.nyserda.ny.gov/-/media/Files/Publications/Research/Biomass-Solar-Wind/NY-Wind-Energy-Guide-1.pdf, (Accessed 9 Nov. 2020).\n",
    "\n",
    "<span style='color:red'> [4 WT calc] </span> Wind Turbine Power Calculations, RWE npower renewables, https://docplayer.net/17802133-Wind-turbine-power-calculations.html, (Accessed 21 Oct. 2020).\n",
    "\n",
    "<span style='color:red'> [5 Medium nlr] </span> Medium.com, Understanding Non-Linear Regression, https://medium.com/towards-artificial-intelligence/understanding-non-linear-regression-fbef9a396b71 (Accessed 1 Dec. 2020).\n",
    "\n",
    "<span style='color:red'> [6 CourseML] </span> Andrew Ng, Coursera Machine Learning offered by Stanford, https://www.coursera.org/learn/machine-learning, (Completed & certified Sept. 2020).\n",
    "\n",
    "<span style='color:red'> [7 Medium polyReg] </span> Medium.com, Polynomial Regression, https://towardsdatascience.com/polynomial-regression-bbe8b9d97491 (Accessed 7 Dec. 2020).\n",
    "\n",
    "<span style='color:red'> [8 Medium SVRreg] </span> Medium.com, Support Vector Regression in 6 Steps with Python, https://medium.com/pursuitnotes/support-vector-regression-in-6-steps-with-python-c4569acd062d (Accessed 9 Dec. 2020).\n",
    "\n",
    "<span style='color:red'> [9 SVR] </span> Scikit-learn, 1.4. Support Vector Machines, https://scikit-learn.org/stable/modules/svm.html#regression (Accessed 12 Dec. 2020).\n",
    "\n",
    "<span style='color:red'> [10 SKLsvrKer] </span> Scikit-learn, Support Vector Regression (SVR) using linear and non-linear kernels, https://ogrisel.github.io/scikit-learn.org/sklearn-tutorial/auto_examples/svm/plot_svm_regression.html (Accessed 12 Dec. 2020).\n",
    "\n",
    "<span style='color:red'> [11 DFkernel] </span> Data Flair, Kernel Functions-Introduction to SVM Kernel & Examples, https://data-flair.training/blogs/svm-kernel-functions/#:~:text=SVM%20Kernel%20Functions&text=The%20function%20of%20kernel%20is,(RBF)%2C%20and%20sigmoid. (Accessed 12 Dec. 2020).\n",
    "\n",
    "<span style='color:red'> [12 MLMscaler] </span> Machine Learning Mastery, How to Use StandardScaler and MinMaxScaler Transforms in Python, https://machinelearningmastery.com/standardscaler-and-minmaxscaler-transforms-in-python/ (Accessed 12 Dec. 2020).\n",
    "\n",
    "<span style='color:red'> [13 SVRpractical] </span> Scikit-learn, 1.4.5. Tips on Practical Use, https://scikit-learn.org/stable/modules/svm.html#tips-on-practical-use (Accessed 12 Dec. 2020).\n",
    "\n",
    "<span style='color:red'> [14 WikiANN] </span> Wikipedia, Artificial neural network, https://en.wikipedia.org/wiki/Artificial_neural_network (Accessed 16 Dec. 2020).\n",
    "\n",
    "<span style='color:red'> [15 keras] </span> Keras, Introduction to Keras for Engineers, https://keras.io/getting_started/intro_to_keras_for_engineers/ (Accessed 16 Dec. 2020).\n",
    "\n",
    "<span style='color:red'> [16 tf] </span> TensorFlow, https://www.tensorflow.org/ (Accessed 16 Dec. 2020).\n",
    "\n",
    "<span style='color:red'> [17 mediumANN] </span> Medium.com, The Artificial Neural Networks handbook: Part 1, https://medium.com/coinmonks/the-artificial-neural-networks-handbook-part-1-f9ceb0e376b4 (Accessed 17 Dec. 2020).\n",
    "\n",
    "<span style='color:red'> [18 NNWhowto] </span> Machine Learning Mastery, How To Build Multi-Layer Perceptron Neural Network Models with Keras, https://machinelearningmastery.com/build-multi-layer-perceptron-neural-network-models-keras/ (Accessed 16 Dec. 2020).\n",
    "\n",
    "<span style='color:red'> [19 SOkerasIP] </span> Stack Overflow, Keras input explanation: input_shape, units, batch_size, dim, etc, https://stackoverflow.com/questions/44747343/keras-input-explanation-input-shape-units-batch-size-dim-etc (Accessed 17 Dec. 2020).\n",
    "\n",
    "<span style='color:red'> [20 GDvsSGD] </span> Stack Exchange, What is the difference between Gradient Descent and Stochastic Gradient Descent?, https://datascience.stackexchange.com/questions/36450/what-is-the-difference-between-gradient-descent-and-stochastic-gradient-descent#:~:text=In%20Gradient%20Descent%20or%20Batch,of%20training%20data%20per%20epoch (Accessed 16 Dec. 2020).\n",
    "\n",
    "<br>\n",
    "\n",
    "***\n",
    "For deploying ML models:\n",
    "\n",
    "<span style='color:red'> [a] </span> Medium.com, Machine Learning: Trying to predict a numerical value, https://srnghn.medium.com/machine-learning-trying-to-predict-a-numerical-value-8aafb9ad4d36 (Accessed 15 Dec. 2020)\n",
    "\n",
    "<span style='color:red'> [a] </span> The OVERFLOW, How to put machine learning models into production, https://stackoverflow.blog/2020/10/12/how-to-put-machine-learning-models-into-production/ (Accessed 15 Dec. 2020)\n",
    "\n",
    "<span style='color:red'> [a] </span> Towards Data Science, Simple way to deploy machine learning models to cloud, https://towardsdatascience.com/simple-way-to-deploy-machine-learning-models-to-cloud-fd58b771fdcf (Accessed 18 Dec. 2020)\n",
    "\n",
    "For saving and restoring ML models:\n",
    "\n",
    "<span style='color:red'> [a] </span> Machine Learning Mastery, Save and Load Machine Learning Models in Python with scikit-learn, https://machinelearningmastery.com/save-load-machine-learning-models-python-scikit-learn/ (Accessed 19 Dec. 2020)\n",
    "\n",
    "<span style='color:red'> [a] </span> Machine Learning Mastery, How to Save and Reuse Data Preparation Objects in Scikit-Learn, https://machinelearningmastery.com/how-to-save-and-load-models-and-data-preparation-in-scikit-learn-for-later-use/ (Accessed 21 Dec. 2020)\n",
    "\n",
    "<span style='color:red'> [a] </span> Machine Learning Mastery, How to Save and Load Your Keras Deep Learning Model, https://machinelearningmastery.com/save-load-keras-deep-learning-models/ (Accessed 19 Dec. 2020)\n",
    "\n",
    "Python virtual environments & Jupyter kernels\n",
    "\n",
    "<span style='color:red'> [a] </span> QUEIROZF.COM, Jupyter Notebook Kernels: How to Add, Change, Remove, https://queirozf.com/entries/jupyter-kernels-how-to-add-change-remove (Accessed 22 Dec. 2020)\n",
    "\n",
    "<span style='color:red'> [a] </span> Stack Overflow, Could not install packages due to an EnvironmentError: [Errno 2] No such file or directory \\\\METADATA, https://stackoverflow.com/questions/54778630/could-not-install-packages-due-to-an-environmenterror-errno-2-no-such-file-or (Accessed 22 Dec. 2020)\n",
    "\n",
    "Miscellaneous:\n",
    "\n",
    "<span style='color:red'> [a] </span> Wind Turbine FAQ, ENERPOWER Total Energy Solutions, https://enerpower.ie/portfolio/wind-turbine-faq-ireland/, (Accessed 21 Oct. 2020)\n",
    "\n",
    "<span style='color:red'> [a] </span> Machine Learning Mastery, A Gentle Introduction to Model Selection for Machine Learning, https://machinelearningmastery.com/a-gentle-introduction-to-model-selection-for-machine-learning/ (Accessed 30 Nov. 2020)"
   ]
  },
  {
   "cell_type": "markdown",
   "metadata": {},
   "source": [
    "<br>\n",
    "\n",
    "### End"
   ]
  }
 ],
 "metadata": {
  "kernelspec": {
   "display_name": "Python 3",
   "language": "python",
   "name": "python3"
  },
  "language_info": {
   "codemirror_mode": {
    "name": "ipython",
    "version": 3
   },
   "file_extension": ".py",
   "mimetype": "text/x-python",
   "name": "python",
   "nbconvert_exporter": "python",
   "pygments_lexer": "ipython3",
   "version": "3.8.5"
  }
 },
 "nbformat": 4,
 "nbformat_minor": 4
}
