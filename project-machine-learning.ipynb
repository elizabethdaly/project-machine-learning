{
 "cells": [
  {
   "cell_type": "markdown",
   "metadata": {},
   "source": [
    "# Elizabeth Daly\n",
    "# HDip Data Analytics 2020\n",
    "## Machine Learning & Statistics Project\n",
    "***"
   ]
  },
  {
   "cell_type": "markdown",
   "metadata": {},
   "source": [
    "For the module project we must create a web service that uses machine learning to make predictions of wind turbine power output from wind speed values. The web service should respond with predicted power values based on wind speed values sent as HTTP requests. A Dockerfile will be used to build and run the web service in a container. "
   ]
  },
  {
   "cell_type": "markdown",
   "metadata": {},
   "source": [
    "The very first thing to do is to import required packages. I do them all here in one place."
   ]
  },
  {
   "cell_type": "code",
   "execution_count": 1,
   "metadata": {},
   "outputs": [],
   "source": [
    "# For data frames.\n",
    "import pandas as pd\n",
    "\n",
    "# For numerical arrays.\n",
    "import numpy as np\n",
    "\n",
    "# For plotting\n",
    "import matplotlib.pyplot as plt\n",
    "\n",
    "#For maths\n",
    "import math as m\n",
    "\n",
    "# Might use this.\n",
    "import seaborn as sns\n",
    "\n",
    "# For linear regression.\n",
    "from sklearn import linear_model\n",
    "\n",
    "# For evaluating model performance.\n",
    "from sklearn.metrics import mean_squared_error, r2_score\n",
    "\n",
    "# For generating polynomial features in the data.\n",
    "from sklearn.preprocessing import PolynomialFeatures\n",
    "\n",
    "# For splitting data into train / test sets.\n",
    "from sklearn.model_selection import train_test_split\n",
    "\n",
    "# For defining a pipeline. NOT USED\n",
    "# from sklearn.pipeline import Pipeline\n",
    "\n",
    "# For support vector machine regression.\n",
    "from sklearn.svm import SVR\n",
    "\n",
    "# Want to scale the input  for SVR.\n",
    "from sklearn.preprocessing import StandardScaler\n",
    "\n",
    "# For neural networks\n",
    "import tensorflow.keras as kr\n",
    "\n",
    "# For saving/restoring models using pickle\n",
    "import joblib"
   ]
  },
  {
   "cell_type": "code",
   "execution_count": 2,
   "metadata": {},
   "outputs": [],
   "source": [
    "plt.rcParams['figure.figsize'] = (8.0, 6.0) # Make nice big figures"
   ]
  },
  {
   "cell_type": "markdown",
   "metadata": {},
   "source": [
    "## Data exploration\n",
    "Reference <span style='color:red'> [1 Geron] </span> suggests a number of steps to follow when beginning a new machine learning project. The very first is to get the data and explore it, so now I'll import the **powerproduction** dataset provided and have a look at it. I'll also keep an intact copy of the original dataset in a dataframe called dforig. "
   ]
  },
  {
   "cell_type": "code",
   "execution_count": 3,
   "metadata": {},
   "outputs": [
    {
     "name": "stdout",
     "output_type": "stream",
     "text": [
      "Data frame shape (500, 2) r,c\n",
      "speed    500\n",
      "power    500\n",
      "dtype: int64\n"
     ]
    }
   ],
   "source": [
    "# File provided as a txt file. I saved it as a csv file.\n",
    "df = pd.read_csv(\"data\\powerproduction.csv\")\n",
    "\n",
    "# Make a copy of the original dataset in case we need it later.\n",
    "dforig = df\n",
    "\n",
    "# Size?\n",
    "shape = df.shape\n",
    "print(\"Data frame shape\", shape, \"r,c\")\n",
    "\n",
    "# Check for NaNs, missing values etc\n",
    "print(df.count())"
   ]
  },
  {
   "cell_type": "code",
   "execution_count": 4,
   "metadata": {
    "scrolled": true
   },
   "outputs": [
    {
     "data": {
      "text/html": [
       "<div>\n",
       "<style scoped>\n",
       "    .dataframe tbody tr th:only-of-type {\n",
       "        vertical-align: middle;\n",
       "    }\n",
       "\n",
       "    .dataframe tbody tr th {\n",
       "        vertical-align: top;\n",
       "    }\n",
       "\n",
       "    .dataframe thead th {\n",
       "        text-align: right;\n",
       "    }\n",
       "</style>\n",
       "<table border=\"1\" class=\"dataframe\">\n",
       "  <thead>\n",
       "    <tr style=\"text-align: right;\">\n",
       "      <th></th>\n",
       "      <th>speed</th>\n",
       "      <th>power</th>\n",
       "    </tr>\n",
       "  </thead>\n",
       "  <tbody>\n",
       "    <tr>\n",
       "      <th>0</th>\n",
       "      <td>0.000</td>\n",
       "      <td>0.0</td>\n",
       "    </tr>\n",
       "    <tr>\n",
       "      <th>1</th>\n",
       "      <td>0.125</td>\n",
       "      <td>0.0</td>\n",
       "    </tr>\n",
       "    <tr>\n",
       "      <th>2</th>\n",
       "      <td>0.150</td>\n",
       "      <td>0.0</td>\n",
       "    </tr>\n",
       "    <tr>\n",
       "      <th>3</th>\n",
       "      <td>0.225</td>\n",
       "      <td>0.0</td>\n",
       "    </tr>\n",
       "    <tr>\n",
       "      <th>4</th>\n",
       "      <td>0.275</td>\n",
       "      <td>0.0</td>\n",
       "    </tr>\n",
       "    <tr>\n",
       "      <th>...</th>\n",
       "      <td>...</td>\n",
       "      <td>...</td>\n",
       "    </tr>\n",
       "    <tr>\n",
       "      <th>495</th>\n",
       "      <td>24.775</td>\n",
       "      <td>0.0</td>\n",
       "    </tr>\n",
       "    <tr>\n",
       "      <th>496</th>\n",
       "      <td>24.850</td>\n",
       "      <td>0.0</td>\n",
       "    </tr>\n",
       "    <tr>\n",
       "      <th>497</th>\n",
       "      <td>24.875</td>\n",
       "      <td>0.0</td>\n",
       "    </tr>\n",
       "    <tr>\n",
       "      <th>498</th>\n",
       "      <td>24.950</td>\n",
       "      <td>0.0</td>\n",
       "    </tr>\n",
       "    <tr>\n",
       "      <th>499</th>\n",
       "      <td>25.000</td>\n",
       "      <td>0.0</td>\n",
       "    </tr>\n",
       "  </tbody>\n",
       "</table>\n",
       "<p>500 rows × 2 columns</p>\n",
       "</div>"
      ],
      "text/plain": [
       "      speed  power\n",
       "0     0.000    0.0\n",
       "1     0.125    0.0\n",
       "2     0.150    0.0\n",
       "3     0.225    0.0\n",
       "4     0.275    0.0\n",
       "..      ...    ...\n",
       "495  24.775    0.0\n",
       "496  24.850    0.0\n",
       "497  24.875    0.0\n",
       "498  24.950    0.0\n",
       "499  25.000    0.0\n",
       "\n",
       "[500 rows x 2 columns]"
      ]
     },
     "execution_count": 4,
     "metadata": {},
     "output_type": "execute_result"
    }
   ],
   "source": [
    "df"
   ]
  },
  {
   "cell_type": "markdown",
   "metadata": {},
   "source": [
    "The raw data contains a column of wind speed values (in increasing order of wind speed) and a column of associated power values. Looks like the first and last 5 lines contain zeros for power. Is this just a fluke? There's probably a reason for it: one can't generate power with low wind speeds and perhaps one can't operate the turbines at very high wind speeds? Check by printing more of the head of file. No units have been provided with the data, so I will assume units of wind speed are (m/s), and those of power are kilowatts (kW), as that's what seems to make sense for these numbers."
   ]
  },
  {
   "cell_type": "code",
   "execution_count": 5,
   "metadata": {},
   "outputs": [
    {
     "data": {
      "text/html": [
       "<div>\n",
       "<style scoped>\n",
       "    .dataframe tbody tr th:only-of-type {\n",
       "        vertical-align: middle;\n",
       "    }\n",
       "\n",
       "    .dataframe tbody tr th {\n",
       "        vertical-align: top;\n",
       "    }\n",
       "\n",
       "    .dataframe thead th {\n",
       "        text-align: right;\n",
       "    }\n",
       "</style>\n",
       "<table border=\"1\" class=\"dataframe\">\n",
       "  <thead>\n",
       "    <tr style=\"text-align: right;\">\n",
       "      <th></th>\n",
       "      <th>speed</th>\n",
       "      <th>power</th>\n",
       "    </tr>\n",
       "  </thead>\n",
       "  <tbody>\n",
       "    <tr>\n",
       "      <th>0</th>\n",
       "      <td>0.000</td>\n",
       "      <td>0.000</td>\n",
       "    </tr>\n",
       "    <tr>\n",
       "      <th>1</th>\n",
       "      <td>0.125</td>\n",
       "      <td>0.000</td>\n",
       "    </tr>\n",
       "    <tr>\n",
       "      <th>2</th>\n",
       "      <td>0.150</td>\n",
       "      <td>0.000</td>\n",
       "    </tr>\n",
       "    <tr>\n",
       "      <th>3</th>\n",
       "      <td>0.225</td>\n",
       "      <td>0.000</td>\n",
       "    </tr>\n",
       "    <tr>\n",
       "      <th>4</th>\n",
       "      <td>0.275</td>\n",
       "      <td>0.000</td>\n",
       "    </tr>\n",
       "    <tr>\n",
       "      <th>5</th>\n",
       "      <td>0.325</td>\n",
       "      <td>4.331</td>\n",
       "    </tr>\n",
       "    <tr>\n",
       "      <th>6</th>\n",
       "      <td>0.400</td>\n",
       "      <td>5.186</td>\n",
       "    </tr>\n",
       "    <tr>\n",
       "      <th>7</th>\n",
       "      <td>0.450</td>\n",
       "      <td>3.826</td>\n",
       "    </tr>\n",
       "    <tr>\n",
       "      <th>8</th>\n",
       "      <td>0.501</td>\n",
       "      <td>1.048</td>\n",
       "    </tr>\n",
       "    <tr>\n",
       "      <th>9</th>\n",
       "      <td>0.526</td>\n",
       "      <td>5.553</td>\n",
       "    </tr>\n",
       "  </tbody>\n",
       "</table>\n",
       "</div>"
      ],
      "text/plain": [
       "   speed  power\n",
       "0  0.000  0.000\n",
       "1  0.125  0.000\n",
       "2  0.150  0.000\n",
       "3  0.225  0.000\n",
       "4  0.275  0.000\n",
       "5  0.325  4.331\n",
       "6  0.400  5.186\n",
       "7  0.450  3.826\n",
       "8  0.501  1.048\n",
       "9  0.526  5.553"
      ]
     },
     "execution_count": 5,
     "metadata": {},
     "output_type": "execute_result"
    }
   ],
   "source": [
    "df.head(10)"
   ]
  },
  {
   "cell_type": "code",
   "execution_count": 6,
   "metadata": {},
   "outputs": [
    {
     "name": "stdout",
     "output_type": "stream",
     "text": [
      "            speed       power\n",
      "count  500.000000  500.000000\n",
      "mean    12.590398   48.014584\n",
      "std      7.224991   41.614572\n",
      "min      0.000000    0.000000\n",
      "25%      6.324750    5.288000\n",
      "50%     12.550500   41.645500\n",
      "75%     18.775250   93.537000\n",
      "max     25.000000  113.556000\n"
     ]
    }
   ],
   "source": [
    "# Look at some quick descriptive statistics of the numeric data.\n",
    "print(df.describe())"
   ]
  },
  {
   "cell_type": "markdown",
   "metadata": {},
   "source": [
    "Look at the distribution of wind speeds. Why? Our assignment in the Programming for Data Analysis module involved looking at the numpy.random package <span style='color:red'> [2 np random]</span>. I learned that, under certain conditions, wind speed has a Rayleigh distribution, which is not symmetrical. I wonder if the samples in our dataset follow a such distribution? The mean and variance of this distribution are calculated from the scale factor: $\\mu = \\sqrt{\\pi / 2} s$ and $\\sigma^2 = (4 - \\pi)/2 s^2$. This results in $\\mu \\approx 1.25 s$ and $\\sigma^2 \\approx 0.43 s$. From the descriptive statistics above we know that the mean wind speed is 12.6 m/s, so the scale factor to use is $s = \\mu/1.25 \\approx 10$."
   ]
  },
  {
   "cell_type": "code",
   "execution_count": 7,
   "metadata": {},
   "outputs": [
    {
     "name": "stdout",
     "output_type": "stream",
     "text": [
      "Average wind speed is 12.59 m/s\n"
     ]
    },
    {
     "data": {
      "image/png": "[encoded data removed]",
      "text/plain": [
       "<Figure size 576x432 with 1 Axes>"
      ]
     },
     "metadata": {
      "needs_background": "light"
     },
     "output_type": "display_data"
    }
   ],
   "source": [
    "# Wind speeds sampled from a Rayleigh distribution, mean=12.6 m/s\n",
    "# Default: numpy.random.rayleigh(scale=1.0, size=None)\n",
    "data = np.random.rayleigh(10, 1000) \n",
    "plt.hist(data, bins=30, alpha = 0.3, facecolor='blue', edgecolor='black', label=['Rayleigh'])\n",
    "\n",
    "bins = np.arange(0, 30, 2) # fixed bin size\n",
    "plt.hist(df['speed'], bins=bins, alpha=0.5, facecolor='red', label=['Data'])\n",
    "\n",
    "plt.xlabel('Wind speed (m/s)')\n",
    "plt.ylabel('Probability')\n",
    "plt.title('Histogram of wind speed: $\\mu=10 m/s$')\n",
    "plt.legend()\n",
    "w = df['speed'].mean(axis=0)\n",
    "print(f'Average wind speed is {w:.2f} m/s')"
   ]
  },
  {
   "cell_type": "markdown",
   "metadata": {},
   "source": [
    "Well, that was a dead end. Clearly the wind speeds provided do not follow a Rayleigh distribution, rather roughly a uniform distribution."
   ]
  },
  {
   "cell_type": "code",
   "execution_count": 8,
   "metadata": {},
   "outputs": [
    {
     "data": {
      "image/png": "[encoded data removed]",
      "text/plain": [
       "<Figure size 576x432 with 1 Axes>"
      ]
     },
     "metadata": {
      "needs_background": "light"
     },
     "output_type": "display_data"
    }
   ],
   "source": [
    "# Try plotting power as a function of wind speed to check for any obvious relationship between them.\n",
    "plt.plot(df['speed'], df['power'],  '.g')\n",
    "plt.title('Power vs wind speed', fontsize='14')\n",
    "plt.xlabel('speed (m/s)', fontsize='14')\n",
    "plt.ylabel('power', fontsize='14')\n",
    "plt.grid()"
   ]
  },
  {
   "cell_type": "markdown",
   "metadata": {},
   "source": [
    "Clearly there isn't a simple relationship between power and speed. It looks as if little power is generated until some threshold speed is achieved (about 7 m/s), then it increases nearly linearly in a range of wind speeds (10 - 15 m/s), before saturating above a certain wind speed (about 17 m/s). The plot would suggest there is a range of wind speeds where the power seems to increase linearly with wind speed, but we need to consider a model that works outside of this range also. Apart from the zero power values at the top and bottom (more here) of the dataset, there are very occasional zero values for power above about 10 m/s; to me they just look like anomalies."
   ]
  },
  {
   "cell_type": "markdown",
   "metadata": {},
   "source": [
    "### What do we expect?\n",
    "Is this the curve we should expect? I think so. The theoretical power curve for a turbine is specific to each turbine and site; see Figure 2 in <span style='color:red'> [3 WT curve] </span>. I'll include a screengrab here. On the figure:\n",
    "- The cut-in speed is the threshold wind speed that much be reached before the turbine will start to generate electricity. A typical value is about 3 m/s.\n",
    "- The rated output power is achieved at approximately 12 - 13 m/s.\n",
    "- The cut-out speed is the wind speed at which the turbine will stop producing electricity in order to avoid damage; typically 25 m/s."
   ]
  },
  {
   "cell_type": "markdown",
   "metadata": {},
   "source": [
    "<img src=\"img/P-wind-theory.JPG\" height=500 width=500>"
   ]
  },
  {
   "cell_type": "markdown",
   "metadata": {},
   "source": [
    "How is this theoretical curve calculated? I found some formulae which state that the extractable power from the wind is given by:\n",
    "$$P = \\frac{1}{2} \\rho A v^3 C_p$$\n",
    "where $\\rho$ is the density of air, $A$ is the area swept by the turbines, $v$ is the wind speed, and $C_p$ is the power coefficient <span style='color:red'> [4 WT calc] </span>. Looking at this formula I would expect power to depend on $v^3$. However, $C_p$ is not static as it depends on the ratio of blade tip speed to wind speed (called $\\lambda$). That function looks like this:"
   ]
  },
  {
   "cell_type": "markdown",
   "metadata": {},
   "source": [
    "<img src=\"img/Cp-lambda.JPG\">"
   ]
  },
  {
   "cell_type": "markdown",
   "metadata": {},
   "source": [
    "So I would expect the power curve to be a product of $v^3$ and this bump above. I'll try to model it."
   ]
  },
  {
   "cell_type": "code",
   "execution_count": 9,
   "metadata": {},
   "outputs": [
    {
     "name": "stdout",
     "output_type": "stream",
     "text": [
      "Average wind speed in data is 12.59 m/s\n"
     ]
    },
    {
     "data": {
      "image/png": "[encoded data removed]",
      "text/plain": [
       "<Figure size 576x432 with 1 Axes>"
      ]
     },
     "metadata": {
      "needs_background": "light"
     },
     "output_type": "display_data"
    }
   ],
   "source": [
    "# # wind speed\n",
    "x = np.linspace(0, 25, 100)\n",
    "\n",
    "# speed ^3\n",
    "v = np.power(x, 3)\n",
    "\n",
    "# Try a Rayeigh distribution for the power coefficient, need scale factor sc.\n",
    "# w = mean wind speed from our dataset above\n",
    "print(f'Average wind speed in data is {w:.2f} m/s')\n",
    "\n",
    "sc = w / (m.sqrt((m.pi) / 2)) # mode or scale\n",
    "ray = lambda s, x: (x / s ** 2) * ( np.exp( (-x **2) / (2 * s **2) )  )\n",
    "\n",
    "# PLot the product v^3 * Rayleigh and scale it down.\n",
    "plt.plot(x, 0.5 * ray(sc, x)*v, color='b', label='Rayleigh * $v^3$')\n",
    "plt.title('Power curve formula', fontsize='14')\n",
    "plt.xlabel('speed (m/s)', fontsize='14')\n",
    "plt.ylabel('power', fontsize='14')\n",
    "plt.legend()\n",
    "plt.grid()"
   ]
  },
  {
   "cell_type": "markdown",
   "metadata": {},
   "source": [
    " So this is starting to look like our data but I feel it would be difficult to model exactly. I'll start with something simpler."
   ]
  },
  {
   "cell_type": "markdown",
   "metadata": {},
   "source": [
    "## Data preparation\n",
    "The next step in a project is to prepare the dataset <span style='color:red'> [1 Geron] </span>. The first thing I'll do is clean it by removing unwanted zeros. The easiest approach would be to remove all rows where power = 0. I don't really want to do that however, because I feel like the zero power values below about 10 m/s are part of the data, while the ones above about 24 m/s represent some sort of a limit of operation. I can't see how a model would be able to abruptly predict power = 0 at the very high end of speed values unless I hard coded it in as a condition, or constrained the allowed input speed values to a range. I might come back to this here, or place a limit on wind speed input values in the front end of the application.\n",
    "Other steps which could happen now include feature selection and feature scaling. Feature selection is used to drop inputs that provide no useful information; in our case we have only one input (speed) so that step isn't relevant. Feature scaling would be necessary if the scale of an input feature was very big or small compared to other features; again, not relevant here. "
   ]
  },
  {
   "cell_type": "code",
   "execution_count": 10,
   "metadata": {},
   "outputs": [
    {
     "data": {
      "image/png": "[encoded data removed]",
      "text/plain": [
       "<Figure size 576x432 with 1 Axes>"
      ]
     },
     "metadata": {
      "needs_background": "light"
     },
     "output_type": "display_data"
    }
   ],
   "source": [
    "# Where do all the zeros occur?\n",
    "dfz = df[df[\"power\"] == 0]\n",
    "# print(f'There are {dfz.shape} zero values for power')\n",
    "# print(dfz)\n",
    "\n",
    "# Want to keep all rows with power != 0 iff speed > 10\n",
    "# https://www.shanelynn.ie/select-pandas-dataframe-rows-and-columns-using-iloc-loc-and-ix/\n",
    "dfc = df.loc[(df.power == 0) & (df.speed > 10)] # indices where this is true\n",
    "dfc # check 14 rows\n",
    "# I want to remove these rows from my existing dataset.\n",
    "df.drop(df.loc[(df.power == 0) & (df.speed > 10)].index, inplace=True)\n",
    "\n",
    "plt.plot(df['speed'], df['power'],  '.b')\n",
    "plt.title('Power vs wind speed - cleaned', fontsize='14')\n",
    "plt.xlabel('speed (m/s)', fontsize='14')\n",
    "plt.ylabel('power (kW)', fontsize='14')\n",
    "plt.grid()"
   ]
  },
  {
   "cell_type": "markdown",
   "metadata": {},
   "source": [
    "## Identify promising models\n",
    "<span style='color:red'> [1 Geron] </span> now suggests shortlisting promising models. I'll have to think about it. This is a supervised learning problem because we have been provided with a training set which is labeled: we know the power output for each value of input wind speed. Furthermore, it is a regression problem because we have been asked to predict a target numeric value of power given an input wind speed. This is different to classification, where one would be asked to predict what class a particular input belongs to; for example, using the iris data set predict iris species using some/all of the inputs petal length, petal width, sepal length, and sepal width. Some supervised learning algorithms suitable for our task include linear regression, neural networks, and maybe some like Support Vector Machine (SVM) regression and decision trees. I'll probably try the first two and only do more if I have time."
   ]
  },
  {
   "cell_type": "markdown",
   "metadata": {},
   "source": [
    "***\n",
    "### Model 0: Linear Regression\n",
    "Looking at the data, we could probably get away with fitting a straight line to it. That would likely do a very good job of predicting output power over a certain range of input wind speeds (around 10 - 15 m/s). However, it wouldn't do a great job around the places where the power is rising more slowly (< 10 m/s) or where it is leveling off (> 15 m/s). I think I'll start with a linear model and maybe move on to polynomial regression afterwards. "
   ]
  },
  {
   "cell_type": "code",
   "execution_count": 11,
   "metadata": {},
   "outputs": [
    {
     "data": {
      "text/html": [
       "<div>\n",
       "<style scoped>\n",
       "    .dataframe tbody tr th:only-of-type {\n",
       "        vertical-align: middle;\n",
       "    }\n",
       "\n",
       "    .dataframe tbody tr th {\n",
       "        vertical-align: top;\n",
       "    }\n",
       "\n",
       "    .dataframe thead th {\n",
       "        text-align: right;\n",
       "    }\n",
       "</style>\n",
       "<table border=\"1\" class=\"dataframe\">\n",
       "  <thead>\n",
       "    <tr style=\"text-align: right;\">\n",
       "      <th></th>\n",
       "      <th>speed</th>\n",
       "      <th>power</th>\n",
       "    </tr>\n",
       "  </thead>\n",
       "  <tbody>\n",
       "    <tr>\n",
       "      <th>speed</th>\n",
       "      <td>1.000000</td>\n",
       "      <td>0.950026</td>\n",
       "    </tr>\n",
       "    <tr>\n",
       "      <th>power</th>\n",
       "      <td>0.950026</td>\n",
       "      <td>1.000000</td>\n",
       "    </tr>\n",
       "  </tbody>\n",
       "</table>\n",
       "</div>"
      ],
      "text/plain": [
       "          speed     power\n",
       "speed  1.000000  0.950026\n",
       "power  0.950026  1.000000"
      ]
     },
     "execution_count": 11,
     "metadata": {},
     "output_type": "execute_result"
    }
   ],
   "source": [
    "# Take a quick look at the correlation between the dataframe columns\n",
    "df.corr()"
   ]
  },
  {
   "cell_type": "markdown",
   "metadata": {},
   "source": [
    "<span style='color:red'> [Medium nlr] </span> states that a correlation coefficient > 0.7 suggests a strong linear tendency and a nonlinear model would be inappropriate. We see values > 0.9 for the correlation between power and speed, so a straight line might actually be fine. We'll see."
   ]
  },
  {
   "cell_type": "code",
   "execution_count": 12,
   "metadata": {},
   "outputs": [
    {
     "name": "stdout",
     "output_type": "stream",
     "text": [
      "(486, 1)\n",
      "(486,)\n",
      "Coefficients: \n",
      " [5.5509909]\n",
      "Mean squared error: 166.62\n",
      "Coefficient of determination: 0.90\n"
     ]
    },
    {
     "data": {
      "text/plain": [
       "<matplotlib.legend.Legend at 0x1a96d8fa580>"
      ]
     },
     "execution_count": 12,
     "metadata": {},
     "output_type": "execute_result"
    },
    {
     "data": {
      "image/png": "[encoded data removed]",
      "text/plain": [
       "<Figure size 576x432 with 1 Axes>"
      ]
     },
     "metadata": {
      "needs_background": "light"
     },
     "output_type": "display_data"
    }
   ],
   "source": [
    "# From: https://scikit-learn.org/stable/modules/linear_model.html#ordinary-least-squares\n",
    "# and example from\n",
    "# https://scikit-learn.org/stable/auto_examples/linear_model/plot_ols.html#sphx-glr-auto-examples-linear-model-plot-ols-py\n",
    "\n",
    "# Create linear regression object\n",
    "reg = linear_model.LinearRegression()\n",
    "\n",
    "# Need x and y in correct format.\n",
    "X = df[[\"speed\"]] # note dimensions\n",
    "y = df[\"power\"]\n",
    "\n",
    "print(X.shape)\n",
    "print(y.shape)\n",
    "\n",
    "# Split into training and test sets TO DO LATER\n",
    "\n",
    "# Train the model using the training sets\n",
    "reg.fit(X, y)\n",
    "\n",
    "# Make predictions using the testing set\n",
    "y_pred = reg.predict(X)\n",
    "\n",
    "# The coefficients\n",
    "print('Coefficients: \\n', reg.coef_)\n",
    "\n",
    "# The mean squared error\n",
    "print('Mean squared error: %.2f' % mean_squared_error(y, y_pred))\n",
    "\n",
    "# The coefficient of determination: 1 is perfect prediction\n",
    "print('Coefficient of determination: %.2f' % r2_score(y, y_pred))\n",
    "\n",
    "# Inspect the fit\n",
    "plt.plot(df['speed'], df['power'],  '.b', label=\"data\")\n",
    "plt.plot(df['speed'], y_pred, 'k-', label=\"model\")\n",
    "plt.xlabel('speed (m/s)', fontsize='14')\n",
    "plt.ylabel('power (kW)', fontsize='14')\n",
    "plt.title(\"Linear model\")\n",
    "plt.grid()\n",
    "plt.legend()"
   ]
  },
  {
   "cell_type": "markdown",
   "metadata": {},
   "source": [
    "This is an example of *underfitting*, where the model is too simple to learn the structure of the data: a straight line is not a good fit to our data. One solution is to pick a more powerful model which has more parameters, so we will now try fitting a polynomial to our data. There are many possible nonlinear models <span style='color:red'> [5 Medium nlr] </span>. However, as we already know that $ power \\propto speed^3$, a third order polynomial might be a good place to start.\n",
    "\n",
    "First, I'll split the data set into a training and validation part (what we have been calling test) and look at the linear model as a function of training set size. The code that follows is taken directly from <span style='color:red'> [1 Geron] </span> (p. 132) with just some edits specific to this notebook. The plot below shows that the straight line is a good fit to the data (close to zero error) when there are only a few data points in the training set, but when more points are added to the training set, the error increases because a straight line is not a good fit to this data at all. The training error reaches a plateau. On the validation or test set, the model (having being trained on only a few training points) cannot generalize well at all to new data and the error is high. As more points are added to the training set, the model performs better and the validation error comes down, although it too tends towards the same limit. This learning curve is typical of a model that is underfitting. Adding more data will not help to bring down the error, but choosing a more complex model might <span style='color:red'> [6 CourseML] </span> (Week 6 lectures)."
   ]
  },
  {
   "cell_type": "code",
   "execution_count": 13,
   "metadata": {},
   "outputs": [
    {
     "data": {
      "image/png": "[encoded data removed]",
      "text/plain": [
       "<Figure size 576x432 with 1 Axes>"
      ]
     },
     "metadata": {
      "needs_background": "light"
     },
     "output_type": "display_data"
    }
   ],
   "source": [
    "def plot_learning_curves(model, X, y):\n",
    "    X_train, X_val, y_train, y_val = train_test_split(X, y, test_size = 0.2)\n",
    "    train_errors, val_errors = [], []\n",
    "    for m in range (1, len(X_train)):\n",
    "        model.fit(X_train[:m], y_train[:m])\n",
    "        y_train_predict = model.predict(X_train[:m])\n",
    "        y_val_predict = model.predict(X_val)\n",
    "        train_errors.append(mean_squared_error(y_train[:m], y_train_predict))\n",
    "        val_errors.append(mean_squared_error(y_val, y_val_predict))\n",
    "    plt.plot(np.sqrt(train_errors), \"r-+\", label=\"train\")\n",
    "    plt.plot(np.sqrt(val_errors), \"b-.\", label=\"validation\")\n",
    "    plt.legend()\n",
    "    plt.xlabel(\"Size of training set\")\n",
    "    plt.ylabel(\"Root mean squared error\")\n",
    "    plt.grid()\n",
    "    plt.xlim(-10, 100)\n",
    "\n",
    "lin_reg = linear_model.LinearRegression()\n",
    "plot_learning_curves(lin_reg, X, y)"
   ]
  },
  {
   "cell_type": "markdown",
   "metadata": {},
   "source": [
    "***\n",
    "### Model 1: Polynomial Regression"
   ]
  },
  {
   "cell_type": "markdown",
   "metadata": {},
   "source": [
    "We transform our simple linear model $$y = \\theta_0 + \\theta_1 x $$ into a nonlinear one $$ y = \\theta_0 + \\theta_1 (x) + \\theta_2 (x^2) + \\theta_3 (x^3)$$ We can still do linear regression using this model because it is linear in the model parameters $\\theta$: $\\theta_0$ is the bias term (intercept in a straight line) and the remaining $\\theta$ terms are feature weights. <span style='color:red'> [7 Medium polyReg] </span>. The $x$, $x^2$, and $x^3$ are our features, which we obtain by transforming the data we were given. We use the PolynomialFeatures class in Scikit-learn to do this by adding the square and cube of our data to create the two new features <span style='color:red'> [1 Geron] </span> (p. 129). "
   ]
  },
  {
   "cell_type": "code",
   "execution_count": 14,
   "metadata": {},
   "outputs": [
    {
     "name": "stdout",
     "output_type": "stream",
     "text": [
      "(98, 3)\n",
      "Coefficients: [-9.5874175   1.47988547 -0.03909209]\n",
      "Intercept: 14.13\n",
      "Mean squared error: 37.01\n",
      "Coefficient of determination: 0.98\n"
     ]
    }
   ],
   "source": [
    "# Try polynomial order 3\n",
    "poly_features = PolynomialFeatures(degree=3, include_bias=False) #include_bias -> intercept\n",
    "\n",
    "# Split the data set into train/set.\n",
    "X_train, X_test, y_train, y_test = train_test_split(X, y, test_size = 0.2)\n",
    "\n",
    "# Generate the new features (powers of x) for the training data\n",
    "X_train_poly = poly_features.fit_transform(X_train)\n",
    "\n",
    "# Create an instance of the model & train it using the transformed training set.\n",
    "regP = linear_model.LinearRegression()\n",
    "regP.fit(X_train_poly, y_train)\n",
    "\n",
    "# Prediction for y using test data? Transform X_test first.\n",
    "X_test_poly = poly_features.fit_transform(X_test)\n",
    "print(X_test_poly.shape)\n",
    "y_predP = regP.predict(X_test_poly)\n",
    "#print(y_predP)\n",
    "\n",
    "# The coefficients of the fit.\n",
    "print(f'Coefficients: {regP.coef_}')\n",
    "# Don't forget about the intercept - I did initially.\n",
    "print(f'Intercept: {regP.intercept_:.2f}')\n",
    "\n",
    "# The mean squared error\n",
    "print(f'Mean squared error: {mean_squared_error(y_test, y_predP):.2f}')\n",
    "\n",
    "# The coefficient of determination: 1 is perfect prediction\n",
    "print(f'Coefficient of determination: {r2_score(y_test, y_predP):.2f}')"
   ]
  },
  {
   "cell_type": "code",
   "execution_count": 15,
   "metadata": {},
   "outputs": [
    {
     "name": "stdout",
     "output_type": "stream",
     "text": [
      "[  7.908       62.536464   494.53835731]\n",
      "62.536463999999995\n",
      "494.5383573119999\n"
     ]
    }
   ],
   "source": [
    "# Check X_train_poly to see if it's really x, x^2, x^3?\n",
    "# Will need to generate these poly features when calling the model through the front end.\n",
    "print(X_train_poly[0])\n",
    "print(X_train_poly[0][0]**2)\n",
    "print(X_train_poly[0][0]**3)"
   ]
  },
  {
   "cell_type": "code",
   "execution_count": 16,
   "metadata": {},
   "outputs": [
    {
     "name": "stdout",
     "output_type": "stream",
     "text": [
      "[101.6002755]\n",
      "For wind speed: 20.00 polynomial regression predicts power  = 101.60\n"
     ]
    }
   ],
   "source": [
    "# Predict power for a single input speed\n",
    "xin = 20\n",
    "out = regP.predict([[xin, xin ** 2, xin ** 3]])\n",
    "print(out)\n",
    "#out = regP.intercept_ + regP.coef_[0]*xin + regP.coef_[1]*(xin**2) + regP.coef_[2]*(xin**3)\n",
    "print(f'For wind speed: {xin:.2f} polynomial regression predicts power  = {out[0]:.2f}')\n",
    "\n",
    "# Inspect the fit - seems to have a y shift of about -13 (I was forgetting y intercept!)\n",
    "fit = regP.intercept_ + regP.coef_[0]*df['speed'] + regP.coef_[1]*(df['speed']**2) + regP.coef_[2]*(df['speed']**3)"
   ]
  },
  {
   "cell_type": "code",
   "execution_count": 19,
   "metadata": {},
   "outputs": [
    {
     "data": {
      "image/png": "[encoded data removed]",
      "text/plain": [
       "<Figure size 576x432 with 1 Axes>"
      ]
     },
     "metadata": {
      "needs_background": "light"
     },
     "output_type": "display_data"
    }
   ],
   "source": [
    "plt.plot(df['speed'], df['power'],  'b.', label=\"data\")\n",
    "plt.plot(X_test, y_predP, 'k.', label=\"model on test set\")\n",
    "plt.plot(df['speed'], fit, 'r-', label=\"fit\")\n",
    "plt.xlabel('speed (m/s)', fontsize='14')\n",
    "plt.ylabel('power (kW)', fontsize='14')\n",
    "plt.title(\"Polynomial order=3\")\n",
    "plt.grid()\n",
    "plt.legend()\n",
    "#plt.savefig(\"img/poly3.png\")"
   ]
  },
  {
   "cell_type": "markdown",
   "metadata": {},
   "source": [
    "This looks like a reasonably food fit with an $R^2$ value very close to 1. Despite the high $R^2$ value, we can see that the fit is a little off as speed approaches 10 m/s and is greater than about 15 m/s. I'll definitely use it in my final product. I can't plot the test data as a line because the X_test values are randomly selected from the data set so they are not in ascending order - I get a scribble for a curve if I try. I might restrict input values of wind speed in the front end, for example,\n",
    "- speed < 5, power = 0\n",
    "- speed > 20, power = take an average of last 20 values in cleaned data set perhaps.\n",
    "\n",
    "Our model for power output will be:\n",
    "$$ power = 14.13 - 9.65 speed + 1.48 speed^2 - 0.04 speed^3$$"
   ]
  },
  {
   "cell_type": "markdown",
   "metadata": {},
   "source": [
    "### Save the polynomial regression model"
   ]
  },
  {
   "cell_type": "code",
   "execution_count": 22,
   "metadata": {},
   "outputs": [
    {
     "name": "stdout",
     "output_type": "stream",
     "text": [
      "Polynomial regression model saved as poly-reg.pkl\n"
     ]
    }
   ],
   "source": [
    "#joblib.dump(regP, \"models/poly-reg.pkl\")\n",
    "print(\"Polynomial regression model saved as poly-reg.pkl\")"
   ]
  },
  {
   "cell_type": "markdown",
   "metadata": {},
   "source": [
    "***\n",
    "### Model 2: Support Vector Machines\n",
    "\n",
    "I had come across the support vector machine (SVM) for detection of outliers and for logistic regression, where one is trying to do classification by finding a decision boundary which separates classes. SVM is a large margin classifier as it aims to find a decision boundary which has as large a margin as possible around the decision boundary, i.e, the margin does not contain any training data. SVM outputs a prediction (1 or 0) of whether or not an example belongs to a class, whereas logistic regression outputs a probability. Nonlinear decision boundaries can be tackled though choice of an appropriate kernal in the SVM - I'll explain later. I hadn't realised SVM could be used for regression, but Google tells me it can <span style='color:red'> [8 Medium SVRreg] </span>, so I'll give it a go. SVM regression works in the opposite way to what we have just described: the algorithm tries to fit as many training examples as possible inside the margin while limiting the number that fall outside it <span style='color:red'> [1 Geron] </span> (p. 162)."
   ]
  },
  {
   "cell_type": "markdown",
   "metadata": {},
   "source": [
    "### SVM kernels\n",
    "The documentation on SVM in Scikit-learn includes a good basic example of SVM regression performed using different kernels <span style='color:red'> [9 SVR, 10 SKLsvrKer] </span>. The function of the kernel is to transform the input data into the form required for a particular problem <span style='color:red'> [11 DFkernel] </span>. For example, if the decision boundary between two classes is not a simple straight line, one could try using a nonlinear kernel (like polynomial) to better fit the boundary between the classes. As I understand it, this is equivalent to transforming an input feature $x$ to generate polynomial features $x^2, x^3, ..$ as we did above in model 1. It is advisable to try a linear kernel first and then move to the Gaussian radial basis function (RBF) <span style='color:red'> [1 Geron] </span> (p. 161), a good general purpose kernel when there is no prior knowledge about the data <span style='color:red'> [11 DFkernel] </span>. The idea of this type of kernel is to compute new features based on the proximity of training examples to landmarks (their similarity), and the simplest thing to do is chose the landmarks to be the training examples themselves <span style='color:red'> [6 CourseML] </span> (Week 7). The Scikit-learn SVM regression algorithm must do this automatically. I'll play around with the various parameters to find a good fit to our data set.\n",
    "\n",
    "Another thing I see mentioned a lot is that SVMs are sensitive to scaling, so we'll probably have to apply some type of transformation to our input feature before training a model <span style='color:red'> [12 MLMscaler] </span>. "
   ]
  },
  {
   "cell_type": "markdown",
   "metadata": {},
   "source": [
    "I will try a linear kernel first and see how we get on. The parameter C is related to regularization, with default value = 1. Regularization is used to constrain a model to make it more simple, and thus avoiding overfitting. The amount of regularization is usually controlled by a parameter in the machine learning model. Here, small C means lots of regularization, which implies high bias and low variance, or a model that's too simple. Large C means very little regularization, which translates to overfitting as a result of low bias and high variance. I think, regardless of what C I pick below, a linear model will never fit our data, which is clearly nonlinear."
   ]
  },
  {
   "cell_type": "code",
   "execution_count": 23,
   "metadata": {},
   "outputs": [
    {
     "data": {
      "text/plain": [
       "<matplotlib.legend.Legend at 0x1a977e45130>"
      ]
     },
     "execution_count": 23,
     "metadata": {},
     "output_type": "execute_result"
    },
    {
     "data": {
      "image/png": "[encoded data removed]",
      "text/plain": [
       "<Figure size 576x432 with 1 Axes>"
      ]
     },
     "metadata": {
      "needs_background": "light"
     },
     "output_type": "display_data"
    }
   ],
   "source": [
    "# Create an instance of the SVR class\n",
    "# C ~1/reg default = 1. Tiny C bad fit, huge C over fit.\n",
    "svr_lin = SVR(kernel='linear', C=1)\n",
    "\n",
    "# Scale X only\n",
    "sc_X = StandardScaler()\n",
    "X_scale = sc_X.fit_transform(X)\n",
    "\n",
    "# Train model with scaled X and y\n",
    "svr_lin.fit(X_scale, y)\n",
    "\n",
    "# What does the fit look like?\n",
    "plt.plot(X, y, 'm.', label=\"data\") # X, y data\n",
    "plt.plot(X, svr_lin.predict(X_scale), '-r', label=\"SVR linear\") # prediction using scaled X data\n",
    "plt.xlabel('speed (m/s)', fontsize='14')\n",
    "plt.ylabel('power (kW)', fontsize='14')\n",
    "plt.title(\"SVR\")\n",
    "plt.grid()\n",
    "plt.legend()"
   ]
  },
  {
   "cell_type": "markdown",
   "metadata": {},
   "source": [
    "This linear kernel produces much the same result as when we tried simple linear regression above. Lets try a polynomial kernel with degree = 3 as we know the power out has $v^3$ component. Feature x is already scaled from above. coeff0 is the independent term in the kernel function with default value 0. I got a very bad prediction with coef0=0 and found that coef0=1 worked well. Making it even bigger didn't appear to do much to the fit but it took the code a tiny bit longer to run. <span style='color:red'> [13 SVRpractical] </span> gives some explanation of the parameters - gamma defines how much influence a single training example has. The larger gamma is, the closer other examples must be to be affected. I'll leave it at the default value, and same for epsilon. I'll leave the regularization parameter C = 1. If I change C to be 0.1 or something small I end up with an almost linear prediction - so lots of regularization which translates into a too simple model. "
   ]
  },
  {
   "cell_type": "code",
   "execution_count": 24,
   "metadata": {},
   "outputs": [
    {
     "data": {
      "text/plain": [
       "<matplotlib.legend.Legend at 0x1a977ebe670>"
      ]
     },
     "execution_count": 24,
     "metadata": {},
     "output_type": "execute_result"
    },
    {
     "data": {
      "image/png": "[encoded data removed]",
      "text/plain": [
       "<Figure size 576x432 with 1 Axes>"
      ]
     },
     "metadata": {
      "needs_background": "light"
     },
     "output_type": "display_data"
    }
   ],
   "source": [
    "# Create an instance of the SVR class\n",
    "svr_ply = SVR(kernel=\"poly\", degree=3, coef0=1, C=1, epsilon=0.1, gamma='auto') # OK like poly LR\n",
    "# coef0 is ..\n",
    "# epsilon is ..\n",
    "\n",
    "# Train model with scaled X and y\n",
    "svr_ply.fit(X_scale, y)\n",
    "\n",
    "# What does the fit look like?\n",
    "plt.plot(X, y, 'm.', label=\"data\") # X, y data\n",
    "plt.plot(X, svr_ply.predict(X_scale), '-b', label=\"SVR poly3\") # prediction using scaled X data\n",
    "plt.xlabel('speed (m/s)', fontsize='14')\n",
    "plt.ylabel('power (kW)', fontsize='14')\n",
    "plt.title(\"SVR\")\n",
    "plt.grid()\n",
    "plt.legend()"
   ]
  },
  {
   "cell_type": "markdown",
   "metadata": {},
   "source": [
    "Lastly, I'll try the RBF kernel and I'll play around with C. I found that C = 0.1 gives a very bad fit, and as C approaches 1 the fit gets better. I'll end up leaving it at the default of 1. "
   ]
  },
  {
   "cell_type": "code",
   "execution_count": 25,
   "metadata": {},
   "outputs": [
    {
     "name": "stdout",
     "output_type": "stream",
     "text": [
      "C = 0.1, R-squared = 0.5288\n",
      "C = 0.2, R-squared = 0.8592\n",
      "C = 0.5, R-squared = 0.9785\n",
      "C = 1, R-squared = 0.9860\n",
      "C = 5, R-squared = 0.9898\n",
      "C = 10, R-squared = 0.9901\n"
     ]
    }
   ],
   "source": [
    "#Few C values to try.\n",
    "c_vals = [0.1, 0.2, 0.5, 1, 5, 10]\n",
    "r2 = []\n",
    "for c in c_vals:\n",
    "    svr_c = SVR(kernel=\"rbf\", C=c, gamma='auto')\n",
    "    svr_c.fit(X_scale, y)\n",
    "    svr_c.predict(X_scale)\n",
    "    r2.append(svr_c.score(X_scale, y))\n",
    "    print(f'C = {c}, R-squared = {svr_c.score(X_scale, y):.4f}')"
   ]
  },
  {
   "cell_type": "code",
   "execution_count": 26,
   "metadata": {},
   "outputs": [
    {
     "data": {
      "image/png": "[encoded data removed]",
      "text/plain": [
       "<Figure size 576x432 with 1 Axes>"
      ]
     },
     "metadata": {
      "needs_background": "light"
     },
     "output_type": "display_data"
    }
   ],
   "source": [
    "plt.plot(c_vals, r2, 'r+')\n",
    "plt.xlabel('C parameter in rbf kernel', fontsize='14')\n",
    "plt.ylabel('$R^2$', fontsize='14')\n",
    "plt.title(\"Regularization $R^2$ relationship\")\n",
    "plt.grid()"
   ]
  },
  {
   "cell_type": "code",
   "execution_count": 27,
   "metadata": {},
   "outputs": [
    {
     "data": {
      "image/png": "[encoded data removed]",
      "text/plain": [
       "<Figure size 576x432 with 1 Axes>"
      ]
     },
     "metadata": {
      "needs_background": "light"
     },
     "output_type": "display_data"
    }
   ],
   "source": [
    "# Create an instance of the SVR class\n",
    "svr_rbf = SVR(kernel=\"rbf\", C=1, gamma='auto')\n",
    "\n",
    "# Train model with scaled X and y\n",
    "svr_rbf.fit(X_scale, y)\n",
    "\n",
    "# What does the fit look like?\n",
    "plt.plot(X, y, 'm.', label=\"data\") # X, y data\n",
    "plt.plot(X, svr_rbf.predict(X_scale), '-g', label=\"SVR rbf\") # prediction using scaled X data\n",
    "plt.xlabel('speed (m/s)', fontsize='14')\n",
    "plt.ylabel('power (kW)', fontsize='14')\n",
    "plt.title(\"SVR\")\n",
    "plt.grid()\n",
    "plt.legend()\n",
    "#plt.savefig(\"img/SVRrbf.png\")"
   ]
  },
  {
   "cell_type": "markdown",
   "metadata": {},
   "source": [
    "I think this is doing a slightly better job than polynomial SVM regression. Finally, I'll split the data set into a train / test part and evaluate the model on test data."
   ]
  },
  {
   "cell_type": "code",
   "execution_count": 28,
   "metadata": {},
   "outputs": [
    {
     "name": "stdout",
     "output_type": "stream",
     "text": [
      "R-squared on test data = 0.9816\n"
     ]
    },
    {
     "data": {
      "image/png": "[encoded data removed]",
      "text/plain": [
       "<Figure size 576x432 with 1 Axes>"
      ]
     },
     "metadata": {
      "needs_background": "light"
     },
     "output_type": "display_data"
    }
   ],
   "source": [
    "# Split the data set into train/set.  X already scaled but y is not\n",
    "X_train, X_test, y_train, y_test = train_test_split(X_scale, y, test_size = 0.2)\n",
    "\n",
    "# Create an instance of the SVR class\n",
    "svr_final = SVR(kernel=\"rbf\", C=1, gamma='auto')\n",
    "\n",
    "# Train model with training data: y and scaled X.\n",
    "svr_final.fit(X_train, y_train)\n",
    "\n",
    "# Test it on test data, which has been scaled.\n",
    "y_pred = svr_final.predict(X_test)\n",
    "\n",
    "# And plot.\n",
    "plt.plot(X_train, y_train, '.c', label=\"train\") # X, y training data\n",
    "plt.plot(X_test, y_pred, '.m', label=\"SVR rbf on test\") # prediction using scaled X_test data\n",
    "plt.xlabel('Scaled speed (m/s)', fontsize='14')\n",
    "plt.ylabel('power (kW)', fontsize='14')\n",
    "plt.title(\"SVR train/test\")\n",
    "plt.grid()\n",
    "plt.legend()\n",
    "\n",
    "# R-squared.\n",
    "print(f'R-squared on test data = {svr_final.score(X_test, y_test):.4f}')"
   ]
  },
  {
   "cell_type": "markdown",
   "metadata": {},
   "source": [
    "Note that the scaled speed is displayed on this plot. In order to make a prediction of power given wind speed, I'll have to apply the same scaling transform to the input speed before using the predict method."
   ]
  },
  {
   "cell_type": "code",
   "execution_count": 29,
   "metadata": {},
   "outputs": [
    {
     "name": "stdout",
     "output_type": "stream",
     "text": [
      "wind = 1, power = [98.04459203]\n",
      "wind = 23, power = 95.85973554549565\n"
     ]
    }
   ],
   "source": [
    "# Q. How to predict from a single value? A. Need x and the transformer sc_X\n",
    "# Scaling issue? As predictions for -1,0,1 seems to match power.\n",
    "print(f'wind = 1, power = {svr_final.predict([[1]])}')\n",
    "\n",
    "# Apply same scaler to the x value we want to test.\n",
    "xin = [[23]]\n",
    "xin_scale = sc_X.transform(xin)\n",
    "\n",
    "# Make a prediction for this scaled value - seems sensible.\n",
    "yout = svr_final.predict(xin_scale)\n",
    "print(f'wind = {xin[0][0]}, power = {yout[0]}')"
   ]
  },
  {
   "cell_type": "markdown",
   "metadata": {},
   "source": [
    "### Save the support vector machine regression model & scaling preprocessor"
   ]
  },
  {
   "cell_type": "code",
   "execution_count": 30,
   "metadata": {},
   "outputs": [
    {
     "name": "stdout",
     "output_type": "stream",
     "text": [
      "Support vector machine regression model saved as svm-reg.pkl\n",
      "Support vector machine regression X scaler saved as scalerX.pkl\n"
     ]
    }
   ],
   "source": [
    "#joblib.dump(svr_final, \"models/svm-reg.pkl\")\n",
    "print(\"Support vector machine regression model saved as svm-reg.pkl\")\n",
    "\n",
    "#joblib.dump(sc_X, \"models/scalerX.pkl\")\n",
    "print(\"Support vector machine regression X scaler saved as scalerX.pkl\")"
   ]
  },
  {
   "cell_type": "markdown",
   "metadata": {},
   "source": [
    "***\n",
    "### Model 3: Neural Network\n",
    "\n",
    "Both polynomial and SVM regression are doing a reasonably good job of predicting power given wind speed. I think the SVM regression model with rbf kernel does best, but if you look closely, you can still see that the fit (prediction) doesn't always go through the data in a symmetric way. For example, in the last plot above you can see that the prediction is a tiny bit off for scaled speed in the range -1 to 0. I'm now going to investigate if a neural network will do a better job."
   ]
  },
  {
   "cell_type": "markdown",
   "metadata": {},
   "source": [
    "An artificial neural network, or just a neural network, is a machine learning model inspired by the networks of biological neurons found in human brains <span style='color:red'> [14 WikiANN] </span>. Each individual biological neuron is relatively simple, but because each one is connected to many thousands of others, they can perform complicated tasks when working together. With that idea replicated for machine learning, the idea of a an artificial neuron is that its output fires depending on the value of the inputs to it. This is what a *threshold logic unit* is based on: the output of such a unit is the weighted sum of its inputs multiplied by an step function, which acts like an on/off switch. A *perceptron* is a single layer of these units where each unit is connected to all the inputs. If each neuron in a layer is connected to all the neurons in a previous layer, that layer is a *dense* layer. A *bias* is also fed to each unit - I think of it like the intercept in a straight line as it allows one to apply a constant shift to the step function (or activation function in general terms).  Finally, A *multilayer perceptron* (MLP) is obtained by stacking multiple perceptrons. A MLP has a single input layer, one or more hidden layers, and a final output layer. This quick run thorough the terminology is based on Chapter 10 of <span style='color:red'> [1 Geron] </span>. I know this explanation is not necessary but I'm interested in it and don't mind spending a little time on it. \n",
    "\n",
    "For this project, we will use the Keras API to build and train our neural networks, with the heavy computation associated with neural networks done in a backend called TensorFlow [<span style='color:red'> [15 keras, 16 tf] </span>]. We can easily build a MLP model in Keras by stacking neural network layers sequentially. An image of such a neural network is shown below <span style='color:red'> [17 mediumANN] </span>. For neural networks with many hidden layers, each containing many neurons, the number of connections can be huge. The sizes of the weights matrices below reflect this: for example $W_1$ has size 4x5 because there are 5 neurons in hidden layer 1, each connected to four inputs."
   ]
  },
  {
   "cell_type": "markdown",
   "metadata": {},
   "source": [
    "<img src=\"img/ANN.png\" height=400 width=400>"
   ]
  },
  {
   "cell_type": "code",
   "execution_count": 31,
   "metadata": {},
   "outputs": [
    {
     "name": "stdout",
     "output_type": "stream",
     "text": [
      "(291, 1)\n",
      "(291,)\n",
      "(98, 1)\n",
      "(98,)\n",
      "(97, 1)\n",
      "(97,)\n"
     ]
    }
   ],
   "source": [
    "# Refresh our memory re. the data - looks good.\n",
    "#plt.plot(df['speed'], df['power'],  '.g')\n",
    "#plt.plot(X, y,  '-r')\n",
    "\n",
    "# Split the data set into train/set. 80:20 split\n",
    "X_train, X_test, y_train, y_test = train_test_split(X, y, test_size = 0.2)\n",
    "\n",
    "# Take some of the training set to be a validation set. 25% of 80 = 60 \n",
    "# Want train:test:validation = 60:20:20\n",
    "X_train, X_val, y_train, y_val = train_test_split(X_train, y_train, test_size=0.25)\n",
    "print(X_train.shape)\n",
    "print(y_train.shape)\n",
    "print(X_test.shape)\n",
    "print(y_test.shape)\n",
    "print(X_val.shape)\n",
    "print(y_val.shape)"
   ]
  },
  {
   "cell_type": "markdown",
   "metadata": {},
   "source": [
    "Now we construct a neural network consisting of three layers: the input layer, a hidden layer with 50 neurons, and the output layer. The size of the input and output layers is determined by the data we have and what we want to predict. Having one hidden layer is a good default, but if there are more hidden layers, it's recommended to have the same number of neurons in each hidden layer <span style='color:red'> [6 CourseML] </span> (week 5). The more neurons there are in each hidden layer the better, but this must be balanced against increased computation time for more neurons. \n",
    "\n",
    "The steps involved in building such a neural network are outlined nicely here <span style='color:red'> [18 NNWhowto] </span> with a good explanation of sizes etc here <span style='color:red'> [19 SOkerasIP] </span>. \n",
    "- We have one hidden layer with 50 neurons and it's a dense layer. \n",
    "- The input to it is a one-dimensional tensor (like a matrix). \n",
    "- The method of initialization for the weights and biases is also chosen here. It's important that the weights are not all set to zero initially (kernel_initializer parameter). I'll explain this a little later.\n",
    "- The activation function is a sigmoid, like a smoothed out step function that we mentioned above. The fact that it's smooth means it has a derivative, which is important when it comes to calculating loss etc in a while.\n",
    "- Our output layer has just one neuron and the activation function is linear so that the output can have any range of values."
   ]
  },
  {
   "cell_type": "code",
   "execution_count": 32,
   "metadata": {},
   "outputs": [],
   "source": [
    "# Create a Sequential model incrementally via the add() method:\n",
    "# kernel_initializer=\"glorot_uniform\"\n",
    "model = kr.models.Sequential()\n",
    "model.add(kr.layers.Dense(50, input_shape=(1,), activation='sigmoid', kernel_initializer=\"glorot_uniform\", bias_initializer=\"zeros\"))\n",
    "model.add(kr.layers.Dense(1, activation='linear', kernel_initializer=\"glorot_uniform\", bias_initializer=\"glorot_uniform\"))"
   ]
  },
  {
   "cell_type": "markdown",
   "metadata": {},
   "source": [
    "Once the model is designed, we must compile it to specify the *learning rate* and *loss function*, the quantity we are trying to minimize in through training of the network. "
   ]
  },
  {
   "cell_type": "code",
   "execution_count": 33,
   "metadata": {},
   "outputs": [
    {
     "name": "stdout",
     "output_type": "stream",
     "text": [
      "Model: \"sequential\"\n",
      "_________________________________________________________________\n",
      "Layer (type)                 Output Shape              Param #   \n",
      "=================================================================\n",
      "dense (Dense)                (None, 50)                100       \n",
      "_________________________________________________________________\n",
      "dense_1 (Dense)              (None, 1)                 51        \n",
      "=================================================================\n",
      "Total params: 151\n",
      "Trainable params: 151\n",
      "Non-trainable params: 0\n",
      "_________________________________________________________________\n"
     ]
    }
   ],
   "source": [
    "# Compile the model and summarize it.\n",
    "model.compile(kr.optimizers.Adam(lr=0.001), loss=\"mean_squared_error\")\n",
    "model.summary()"
   ]
  },
  {
   "cell_type": "markdown",
   "metadata": {},
   "source": [
    "The hidden layer has 50 neurons plus 50 bias terms giving 100 parameters for this layer. The output layer has 1 neuron with one bias term and 50 inputs feeding to it, so 51 parameters in total. The network has 151 parameters. The aim is to train it and find *good* values for these 151 parameters. How is this training done? \n",
    "\n",
    "**Backpropagation**\n",
    "\n",
    "The algorithm used is called backpropagation, and consists of two passes through the network, one in the forward direction and one backward. Each training example (or batch of them) is passed through each layer to the output, with the output of each layer being calculated at each stage. This is the forward pass. The output error is then calculated in the form of a loss function. The algorithm then goes through each layer in reverse, calculating how much of the error is contributed by each connection. The weights are then adjusted to reduce the error. In the backward pass the error gradient is propagated back through the network, and gradient descent is used to move in the direction of decreasing error in parameter space. The learning rate controls the step size in gradient descent.\n",
    "\n",
    "The sigmoid activation function is used because it has a gradient (unlike the step function) and so gradient descent can work. It is important that all weights are not initialized to zero (kernel_initializer model parameter above) because we want to break symmetry in the network: if all neurons had the same weight then backpropagation would see no difference between them and training would fail. Stochastic gradient descent (SGD) is kind of the default method used to minimize the loss function, but it requires more tuning of the learning rate. The Adam optimizer (extended from SGD) we have used above is an adaptive algorithm (in that it can change the learning rate during training) so we don't need to worry about setting it, just use the default value. Glorot initialization of weights is a technique to ensure that gradients neither vanish nor explode during backpropogation <span style='color:red'> [1 Geron p. 357, 333] </span>. "
   ]
  },
  {
   "cell_type": "markdown",
   "metadata": {},
   "source": [
    "If we apply the predict method to our input X at this stage, using initialized values of biases and weights, we are performing forward propagation of our inputs through an untrained neural network. The network has not learned anything and shouldn't be able to make a sensible prediction yet."
   ]
  },
  {
   "cell_type": "code",
   "execution_count": 34,
   "metadata": {},
   "outputs": [
    {
     "data": {
      "image/png": "[encoded data removed]",
      "text/plain": [
       "<Figure size 576x432 with 1 Axes>"
      ]
     },
     "metadata": {
      "needs_background": "light"
     },
     "output_type": "display_data"
    }
   ],
   "source": [
    "# Look at output with no training.\n",
    "plt.plot(X, y, 'co', label=\"data\")\n",
    "plt.plot(X, model.predict(X), 'b-', label=\"Untrained neural n/w\")\n",
    "plt.xlabel('Speed (m/s)', fontsize='14')\n",
    "plt.ylabel('power (kW)', fontsize='14')\n",
    "plt.title(\"Neural network forward propagation\")\n",
    "plt.legend()\n",
    "plt.grid()"
   ]
  },
  {
   "cell_type": "markdown",
   "metadata": {},
   "source": [
    "Now we train the network over 500 epochs - like number of iterations. We can speed up the training by doing so in batches. The parameter batch_size is the number of samples per gradient update. Gradient descent (or a variant of it) is an algorithm used to minimize the cost function at each epoch. Normal gradient descent involves all samples in the training set being used to calculate the gradient and cost function; it proceeds smoothly towards a minimum of the cost function in parameter space. SGD calculates the gradient and cost for each each epoch using one sample (randomly selected hence stochastic); it proceeds in a jagged way towards a minimum but it does so faster. Mini-batch SGD uses a small random subset of the training examples at each iteration, so it's somewhere in between gradient descent and SGD <span style='color:red'> [6 CourseML (week 10), 20 GDvsSGD] </span>. "
   ]
  },
  {
   "cell_type": "code",
   "execution_count": 36,
   "metadata": {},
   "outputs": [
    {
     "name": "stdout",
     "output_type": "stream",
     "text": [
      "Epoch 1/500\n",
      "30/30 [==============================] - 0s 4ms/step - loss: 19.9844 - val_loss: 20.2036\n",
      "Epoch 2/500\n",
      "30/30 [==============================] - 0s 2ms/step - loss: 19.8630 - val_loss: 20.2658\n",
      "Epoch 3/500\n",
      "30/30 [==============================] - 0s 2ms/step - loss: 19.8596 - val_loss: 20.5557\n",
      "Epoch 4/500\n",
      "30/30 [==============================] - 0s 2ms/step - loss: 19.7439 - val_loss: 20.2145\n",
      "Epoch 5/500\n",
      "30/30 [==============================] - 0s 2ms/step - loss: 19.8895 - val_loss: 20.5617\n",
      "Epoch 6/500\n",
      "30/30 [==============================] - 0s 2ms/step - loss: 19.8404 - val_loss: 20.1164\n",
      "Epoch 7/500\n",
      "30/30 [==============================] - 0s 2ms/step - loss: 20.0399 - val_loss: 20.5556\n",
      "Epoch 8/500\n",
      "30/30 [==============================] - 0s 2ms/step - loss: 19.7984 - val_loss: 20.3759\n",
      "Epoch 9/500\n",
      "30/30 [==============================] - 0s 2ms/step - loss: 19.7175 - val_loss: 20.1705\n",
      "Epoch 10/500\n",
      "30/30 [==============================] - 0s 2ms/step - loss: 19.7270 - val_loss: 20.2123\n",
      "Epoch 11/500\n",
      "30/30 [==============================] - 0s 2ms/step - loss: 19.7786 - val_loss: 20.3475\n",
      "Epoch 12/500\n",
      "30/30 [==============================] - 0s 2ms/step - loss: 19.8642 - val_loss: 20.3748\n",
      "Epoch 13/500\n",
      "30/30 [==============================] - 0s 2ms/step - loss: 19.6461 - val_loss: 20.0742\n",
      "Epoch 14/500\n",
      "30/30 [==============================] - 0s 2ms/step - loss: 19.5703 - val_loss: 20.1985\n",
      "Epoch 15/500\n",
      "30/30 [==============================] - 0s 2ms/step - loss: 19.7315 - val_loss: 20.2889\n",
      "Epoch 16/500\n",
      "30/30 [==============================] - 0s 2ms/step - loss: 20.0957 - val_loss: 19.9300\n",
      "Epoch 17/500\n",
      "30/30 [==============================] - 0s 2ms/step - loss: 19.6491 - val_loss: 20.0318\n",
      "Epoch 18/500\n",
      "30/30 [==============================] - 0s 2ms/step - loss: 19.5089 - val_loss: 19.9416\n",
      "Epoch 19/500\n",
      "30/30 [==============================] - 0s 2ms/step - loss: 19.5767 - val_loss: 19.8965\n",
      "Epoch 20/500\n",
      "30/30 [==============================] - 0s 2ms/step - loss: 19.5279 - val_loss: 20.2312\n",
      "Epoch 21/500\n",
      "30/30 [==============================] - 0s 2ms/step - loss: 19.5101 - val_loss: 19.8892\n",
      "Epoch 22/500\n",
      "30/30 [==============================] - 0s 2ms/step - loss: 19.4253 - val_loss: 19.9351\n",
      "Epoch 23/500\n",
      "30/30 [==============================] - 0s 2ms/step - loss: 19.4593 - val_loss: 20.0968\n",
      "Epoch 24/500\n",
      "30/30 [==============================] - 0s 2ms/step - loss: 19.4735 - val_loss: 20.0075\n",
      "Epoch 25/500\n",
      "30/30 [==============================] - 0s 2ms/step - loss: 19.4704 - val_loss: 20.0447\n",
      "Epoch 26/500\n",
      "30/30 [==============================] - 0s 2ms/step - loss: 19.5608 - val_loss: 19.6818\n",
      "Epoch 27/500\n",
      "30/30 [==============================] - 0s 2ms/step - loss: 19.5321 - val_loss: 20.0561\n",
      "Epoch 28/500\n",
      "30/30 [==============================] - 0s 2ms/step - loss: 19.6191 - val_loss: 19.6775\n",
      "Epoch 29/500\n",
      "30/30 [==============================] - 0s 3ms/step - loss: 19.3266 - val_loss: 19.9393\n",
      "Epoch 30/500\n",
      "30/30 [==============================] - 0s 2ms/step - loss: 19.3643 - val_loss: 19.6323\n",
      "Epoch 31/500\n",
      "30/30 [==============================] - 0s 3ms/step - loss: 19.3247 - val_loss: 19.6038\n",
      "Epoch 32/500\n",
      "30/30 [==============================] - 0s 2ms/step - loss: 19.3770 - val_loss: 19.9814\n",
      "Epoch 33/500\n",
      "30/30 [==============================] - 0s 2ms/step - loss: 19.5209 - val_loss: 19.8902\n",
      "Epoch 34/500\n",
      "30/30 [==============================] - 0s 2ms/step - loss: 19.3822 - val_loss: 19.6612\n",
      "Epoch 35/500\n",
      "30/30 [==============================] - ETA: 0s - loss: 25.72 - 0s 2ms/step - loss: 19.2908 - val_loss: 19.5661\n",
      "Epoch 36/500\n",
      "30/30 [==============================] - 0s 2ms/step - loss: 19.3340 - val_loss: 19.7619\n",
      "Epoch 37/500\n",
      "30/30 [==============================] - 0s 2ms/step - loss: 19.3332 - val_loss: 19.7877\n",
      "Epoch 38/500\n",
      "30/30 [==============================] - 0s 2ms/step - loss: 19.3072 - val_loss: 19.7346\n",
      "Epoch 39/500\n",
      "30/30 [==============================] - 0s 2ms/step - loss: 19.4381 - val_loss: 19.4700\n",
      "Epoch 40/500\n",
      "30/30 [==============================] - 0s 2ms/step - loss: 19.2299 - val_loss: 19.8546\n",
      "Epoch 41/500\n",
      "30/30 [==============================] - 0s 2ms/step - loss: 19.3123 - val_loss: 19.7646\n",
      "Epoch 42/500\n",
      "30/30 [==============================] - 0s 2ms/step - loss: 19.2469 - val_loss: 19.7219\n",
      "Epoch 43/500\n",
      "30/30 [==============================] - 0s 2ms/step - loss: 19.2782 - val_loss: 19.6358\n",
      "Epoch 44/500\n",
      "30/30 [==============================] - 0s 2ms/step - loss: 19.2991 - val_loss: 19.5354\n",
      "Epoch 45/500\n",
      "30/30 [==============================] - 0s 2ms/step - loss: 19.0759 - val_loss: 19.4637\n",
      "Epoch 46/500\n",
      "30/30 [==============================] - 0s 2ms/step - loss: 19.0656 - val_loss: 19.4571\n",
      "Epoch 47/500\n",
      "30/30 [==============================] - 0s 3ms/step - loss: 19.1293 - val_loss: 19.4437\n",
      "Epoch 48/500\n",
      "30/30 [==============================] - 0s 3ms/step - loss: 19.2674 - val_loss: 19.8894\n",
      "Epoch 49/500\n",
      "30/30 [==============================] - 0s 3ms/step - loss: 19.2299 - val_loss: 19.3690\n",
      "Epoch 50/500\n",
      "30/30 [==============================] - 0s 3ms/step - loss: 19.1642 - val_loss: 19.8337\n",
      "Epoch 51/500\n",
      "30/30 [==============================] - 0s 2ms/step - loss: 19.2105 - val_loss: 19.2032\n",
      "Epoch 52/500\n",
      "30/30 [==============================] - 0s 2ms/step - loss: 19.0898 - val_loss: 19.2928\n",
      "Epoch 53/500\n",
      "30/30 [==============================] - 0s 2ms/step - loss: 19.0893 - val_loss: 19.3328\n",
      "Epoch 54/500\n",
      "30/30 [==============================] - 0s 2ms/step - loss: 19.1315 - val_loss: 19.1093\n",
      "Epoch 55/500\n",
      "30/30 [==============================] - 0s 2ms/step - loss: 19.4132 - val_loss: 19.3898\n",
      "Epoch 56/500\n",
      "30/30 [==============================] - 0s 2ms/step - loss: 19.0144 - val_loss: 19.1541\n",
      "Epoch 57/500\n",
      "30/30 [==============================] - 0s 2ms/step - loss: 18.9862 - val_loss: 19.2933\n",
      "Epoch 58/500\n",
      "30/30 [==============================] - 0s 2ms/step - loss: 19.1308 - val_loss: 19.0206\n",
      "Epoch 59/500\n",
      "30/30 [==============================] - 0s 2ms/step - loss: 19.0296 - val_loss: 19.0736\n",
      "Epoch 60/500\n",
      "30/30 [==============================] - 0s 2ms/step - loss: 18.9621 - val_loss: 19.3648\n",
      "Epoch 61/500\n",
      "30/30 [==============================] - 0s 2ms/step - loss: 18.9088 - val_loss: 19.1144\n",
      "Epoch 62/500\n",
      "30/30 [==============================] - 0s 2ms/step - loss: 18.9794 - val_loss: 19.5024\n",
      "Epoch 63/500\n",
      "30/30 [==============================] - ETA: 0s - loss: 14.86 - 0s 2ms/step - loss: 18.9686 - val_loss: 18.9926\n",
      "Epoch 64/500\n",
      "30/30 [==============================] - 0s 2ms/step - loss: 18.9278 - val_loss: 18.9736\n",
      "Epoch 65/500\n",
      "30/30 [==============================] - 0s 2ms/step - loss: 19.3931 - val_loss: 19.0183\n",
      "Epoch 66/500\n",
      "30/30 [==============================] - 0s 2ms/step - loss: 18.9030 - val_loss: 18.9904\n",
      "Epoch 67/500\n",
      "30/30 [==============================] - 0s 2ms/step - loss: 18.8861 - val_loss: 18.9898\n",
      "Epoch 68/500\n",
      "30/30 [==============================] - 0s 2ms/step - loss: 18.9489 - val_loss: 19.2034\n",
      "Epoch 69/500\n",
      "30/30 [==============================] - 0s 3ms/step - loss: 18.7721 - val_loss: 19.0867\n",
      "Epoch 70/500\n",
      "30/30 [==============================] - 0s 2ms/step - loss: 18.8917 - val_loss: 19.0038\n",
      "Epoch 71/500\n",
      "30/30 [==============================] - 0s 2ms/step - loss: 18.7938 - val_loss: 19.2156\n",
      "Epoch 72/500\n",
      "30/30 [==============================] - 0s 2ms/step - loss: 18.8716 - val_loss: 18.9513\n",
      "Epoch 73/500\n",
      "30/30 [==============================] - ETA: 0s - loss: 14.12 - 0s 2ms/step - loss: 18.9007 - val_loss: 19.0593\n",
      "Epoch 74/500\n",
      "30/30 [==============================] - ETA: 0s - loss: 13.54 - 0s 2ms/step - loss: 18.7656 - val_loss: 19.1223\n",
      "Epoch 75/500\n",
      "30/30 [==============================] - 0s 2ms/step - loss: 18.9421 - val_loss: 18.9272\n",
      "Epoch 76/500\n",
      "30/30 [==============================] - 0s 2ms/step - loss: 18.7270 - val_loss: 18.8504\n",
      "Epoch 77/500\n",
      "30/30 [==============================] - 0s 2ms/step - loss: 18.7654 - val_loss: 19.0108\n",
      "Epoch 78/500\n",
      "30/30 [==============================] - ETA: 0s - loss: 9.153 - 0s 2ms/step - loss: 18.6954 - val_loss: 18.9944\n",
      "Epoch 79/500\n",
      "30/30 [==============================] - 0s 2ms/step - loss: 18.6818 - val_loss: 18.9119\n",
      "Epoch 80/500\n"
     ]
    },
    {
     "name": "stdout",
     "output_type": "stream",
     "text": [
      "30/30 [==============================] - 0s 2ms/step - loss: 18.6703 - val_loss: 18.8757\n",
      "Epoch 81/500\n",
      "30/30 [==============================] - 0s 2ms/step - loss: 18.7665 - val_loss: 18.9684\n",
      "Epoch 82/500\n",
      "30/30 [==============================] - 0s 2ms/step - loss: 18.6557 - val_loss: 18.9292\n",
      "Epoch 83/500\n",
      "30/30 [==============================] - 0s 2ms/step - loss: 18.9377 - val_loss: 19.2289\n",
      "Epoch 84/500\n",
      "30/30 [==============================] - 0s 2ms/step - loss: 18.7666 - val_loss: 18.7959\n",
      "Epoch 85/500\n",
      "30/30 [==============================] - 0s 2ms/step - loss: 18.6479 - val_loss: 18.7218\n",
      "Epoch 86/500\n",
      "30/30 [==============================] - 0s 2ms/step - loss: 18.6684 - val_loss: 19.1575\n",
      "Epoch 87/500\n",
      "30/30 [==============================] - 0s 2ms/step - loss: 18.7817 - val_loss: 18.7555\n",
      "Epoch 88/500\n",
      "30/30 [==============================] - 0s 2ms/step - loss: 18.5817 - val_loss: 18.7336\n",
      "Epoch 89/500\n",
      "30/30 [==============================] - 0s 2ms/step - loss: 18.5770 - val_loss: 18.9707\n",
      "Epoch 90/500\n",
      "30/30 [==============================] - 0s 2ms/step - loss: 18.6199 - val_loss: 18.8991\n",
      "Epoch 91/500\n",
      "30/30 [==============================] - 0s 2ms/step - loss: 18.9282 - val_loss: 18.6945\n",
      "Epoch 92/500\n",
      "30/30 [==============================] - 0s 2ms/step - loss: 18.6660 - val_loss: 18.6067\n",
      "Epoch 93/500\n",
      "30/30 [==============================] - 0s 2ms/step - loss: 18.8411 - val_loss: 19.6399\n",
      "Epoch 94/500\n",
      "30/30 [==============================] - 0s 2ms/step - loss: 19.3120 - val_loss: 18.8995\n",
      "Epoch 95/500\n",
      "30/30 [==============================] - 0s 2ms/step - loss: 18.7862 - val_loss: 18.8298\n",
      "Epoch 96/500\n",
      "30/30 [==============================] - 0s 2ms/step - loss: 18.5056 - val_loss: 18.8383\n",
      "Epoch 97/500\n",
      "30/30 [==============================] - 0s 2ms/step - loss: 18.6014 - val_loss: 18.8315\n",
      "Epoch 98/500\n",
      "30/30 [==============================] - 0s 2ms/step - loss: 18.5473 - val_loss: 18.6344\n",
      "Epoch 99/500\n",
      "30/30 [==============================] - 0s 2ms/step - loss: 18.5931 - val_loss: 18.6400\n",
      "Epoch 100/500\n",
      "30/30 [==============================] - 0s 2ms/step - loss: 18.7937 - val_loss: 18.4910\n",
      "Epoch 101/500\n",
      "30/30 [==============================] - 0s 2ms/step - loss: 18.6211 - val_loss: 19.4064\n",
      "Epoch 102/500\n",
      "30/30 [==============================] - 0s 3ms/step - loss: 18.5571 - val_loss: 18.6759\n",
      "Epoch 103/500\n",
      "30/30 [==============================] - 0s 3ms/step - loss: 18.5016 - val_loss: 18.7529\n",
      "Epoch 104/500\n",
      "30/30 [==============================] - 0s 3ms/step - loss: 18.4499 - val_loss: 18.6524\n",
      "Epoch 105/500\n",
      "30/30 [==============================] - 0s 3ms/step - loss: 18.4920 - val_loss: 18.4340\n",
      "Epoch 106/500\n",
      "30/30 [==============================] - 0s 2ms/step - loss: 19.0518 - val_loss: 18.9953\n",
      "Epoch 107/500\n",
      "30/30 [==============================] - 0s 2ms/step - loss: 18.6200 - val_loss: 18.3990\n",
      "Epoch 108/500\n",
      "30/30 [==============================] - 0s 2ms/step - loss: 18.5591 - val_loss: 18.6799\n",
      "Epoch 109/500\n",
      "30/30 [==============================] - 0s 2ms/step - loss: 18.4865 - val_loss: 18.6365\n",
      "Epoch 110/500\n",
      "30/30 [==============================] - 0s 2ms/step - loss: 18.8083 - val_loss: 18.6395\n",
      "Epoch 111/500\n",
      "30/30 [==============================] - 0s 2ms/step - loss: 18.5593 - val_loss: 18.9759\n",
      "Epoch 112/500\n",
      "30/30 [==============================] - 0s 2ms/step - loss: 18.8046 - val_loss: 18.4877\n",
      "Epoch 113/500\n",
      "30/30 [==============================] - 0s 2ms/step - loss: 18.4327 - val_loss: 18.6408\n",
      "Epoch 114/500\n",
      "30/30 [==============================] - 0s 2ms/step - loss: 18.4278 - val_loss: 18.4171\n",
      "Epoch 115/500\n",
      "30/30 [==============================] - 0s 2ms/step - loss: 18.4296 - val_loss: 18.5593\n",
      "Epoch 116/500\n",
      "30/30 [==============================] - ETA: 0s - loss: 16.14 - 0s 2ms/step - loss: 18.3547 - val_loss: 18.4595\n",
      "Epoch 117/500\n",
      "30/30 [==============================] - 0s 2ms/step - loss: 18.3568 - val_loss: 18.6779\n",
      "Epoch 118/500\n",
      "30/30 [==============================] - 0s 2ms/step - loss: 18.3318 - val_loss: 18.4120\n",
      "Epoch 119/500\n",
      "30/30 [==============================] - 0s 2ms/step - loss: 18.6048 - val_loss: 18.4696\n",
      "Epoch 120/500\n",
      "30/30 [==============================] - 0s 3ms/step - loss: 18.3497 - val_loss: 18.5949\n",
      "Epoch 121/500\n",
      "30/30 [==============================] - 0s 2ms/step - loss: 18.3565 - val_loss: 18.4792\n",
      "Epoch 122/500\n",
      "30/30 [==============================] - 0s 2ms/step - loss: 18.5807 - val_loss: 18.7503\n",
      "Epoch 123/500\n",
      "30/30 [==============================] - 0s 2ms/step - loss: 18.3892 - val_loss: 18.2922\n",
      "Epoch 124/500\n",
      "30/30 [==============================] - 0s 2ms/step - loss: 18.6111 - val_loss: 18.8418\n",
      "Epoch 125/500\n",
      "30/30 [==============================] - 0s 2ms/step - loss: 18.3759 - val_loss: 18.2449\n",
      "Epoch 126/500\n",
      "30/30 [==============================] - 0s 2ms/step - loss: 19.0513 - val_loss: 18.7180\n",
      "Epoch 127/500\n",
      "30/30 [==============================] - 0s 2ms/step - loss: 18.2703 - val_loss: 18.2622\n",
      "Epoch 128/500\n",
      "30/30 [==============================] - 0s 3ms/step - loss: 18.2784 - val_loss: 18.3346\n",
      "Epoch 129/500\n",
      "30/30 [==============================] - 0s 3ms/step - loss: 18.2654 - val_loss: 18.4726\n",
      "Epoch 130/500\n",
      "30/30 [==============================] - 0s 3ms/step - loss: 18.2779 - val_loss: 18.6348\n",
      "Epoch 131/500\n",
      "30/30 [==============================] - 0s 2ms/step - loss: 18.5751 - val_loss: 18.6131\n",
      "Epoch 132/500\n",
      "30/30 [==============================] - 0s 2ms/step - loss: 18.2443 - val_loss: 18.3135\n",
      "Epoch 133/500\n",
      "30/30 [==============================] - 0s 2ms/step - loss: 18.2754 - val_loss: 18.5529\n",
      "Epoch 134/500\n",
      "30/30 [==============================] - 0s 2ms/step - loss: 18.3324 - val_loss: 18.3488\n",
      "Epoch 135/500\n",
      "30/30 [==============================] - 0s 2ms/step - loss: 18.2900 - val_loss: 18.4387\n",
      "Epoch 136/500\n",
      "30/30 [==============================] - 0s 2ms/step - loss: 18.2325 - val_loss: 18.2997\n",
      "Epoch 137/500\n",
      "30/30 [==============================] - 0s 2ms/step - loss: 18.2267 - val_loss: 18.5354\n",
      "Epoch 138/500\n",
      "30/30 [==============================] - 0s 2ms/step - loss: 18.2743 - val_loss: 18.4899\n",
      "Epoch 139/500\n",
      "30/30 [==============================] - 0s 2ms/step - loss: 18.1955 - val_loss: 18.3542\n",
      "Epoch 140/500\n",
      "30/30 [==============================] - 0s 2ms/step - loss: 18.3386 - val_loss: 18.4015\n",
      "Epoch 141/500\n",
      "30/30 [==============================] - 0s 2ms/step - loss: 18.2970 - val_loss: 18.4243\n",
      "Epoch 142/500\n",
      "30/30 [==============================] - 0s 2ms/step - loss: 18.2022 - val_loss: 18.8082\n",
      "Epoch 143/500\n",
      "30/30 [==============================] - 0s 3ms/step - loss: 18.3921 - val_loss: 18.5130\n",
      "Epoch 144/500\n",
      "30/30 [==============================] - 0s 3ms/step - loss: 18.1883 - val_loss: 18.3162\n",
      "Epoch 145/500\n",
      "30/30 [==============================] - 0s 2ms/step - loss: 18.2705 - val_loss: 18.6059\n",
      "Epoch 146/500\n",
      "30/30 [==============================] - 0s 2ms/step - loss: 18.3397 - val_loss: 18.1398\n",
      "Epoch 147/500\n",
      "30/30 [==============================] - 0s 2ms/step - loss: 18.1563 - val_loss: 18.1164\n",
      "Epoch 148/500\n",
      "30/30 [==============================] - 0s 2ms/step - loss: 18.1522 - val_loss: 18.0924\n",
      "Epoch 149/500\n",
      "30/30 [==============================] - 0s 2ms/step - loss: 18.1847 - val_loss: 18.2518\n",
      "Epoch 150/500\n",
      "30/30 [==============================] - 0s 3ms/step - loss: 18.1232 - val_loss: 18.1243\n",
      "Epoch 151/500\n",
      "30/30 [==============================] - 0s 3ms/step - loss: 18.7914 - val_loss: 18.1308\n",
      "Epoch 152/500\n",
      "30/30 [==============================] - 0s 2ms/step - loss: 18.1311 - val_loss: 17.9675\n",
      "Epoch 153/500\n",
      "30/30 [==============================] - 0s 2ms/step - loss: 18.2451 - val_loss: 18.0896\n",
      "Epoch 154/500\n",
      "30/30 [==============================] - 0s 2ms/step - loss: 18.1499 - val_loss: 18.4788\n",
      "Epoch 155/500\n",
      "30/30 [==============================] - 0s 2ms/step - loss: 18.2622 - val_loss: 18.5076\n",
      "Epoch 156/500\n",
      "30/30 [==============================] - 0s 2ms/step - loss: 18.3020 - val_loss: 18.0101\n",
      "Epoch 157/500\n",
      "30/30 [==============================] - 0s 2ms/step - loss: 18.1918 - val_loss: 18.1166\n",
      "Epoch 158/500\n",
      "30/30 [==============================] - 0s 2ms/step - loss: 18.2193 - val_loss: 18.3576\n",
      "Epoch 159/500\n"
     ]
    },
    {
     "name": "stdout",
     "output_type": "stream",
     "text": [
      "30/30 [==============================] - 0s 2ms/step - loss: 18.0902 - val_loss: 18.1294\n",
      "Epoch 160/500\n",
      "30/30 [==============================] - 0s 2ms/step - loss: 18.3361 - val_loss: 17.9826\n",
      "Epoch 161/500\n",
      "30/30 [==============================] - 0s 3ms/step - loss: 18.2290 - val_loss: 18.7961\n",
      "Epoch 162/500\n",
      "30/30 [==============================] - 0s 2ms/step - loss: 18.4228 - val_loss: 17.9680\n",
      "Epoch 163/500\n",
      "30/30 [==============================] - 0s 2ms/step - loss: 18.0867 - val_loss: 18.4957\n",
      "Epoch 164/500\n",
      "30/30 [==============================] - 0s 2ms/step - loss: 18.0189 - val_loss: 17.9914\n",
      "Epoch 165/500\n",
      "30/30 [==============================] - 0s 2ms/step - loss: 18.0696 - val_loss: 18.1623\n",
      "Epoch 166/500\n",
      "30/30 [==============================] - 0s 2ms/step - loss: 18.0974 - val_loss: 18.5790\n",
      "Epoch 167/500\n",
      "30/30 [==============================] - 0s 2ms/step - loss: 18.0204 - val_loss: 18.0468\n",
      "Epoch 168/500\n",
      "30/30 [==============================] - 0s 2ms/step - loss: 18.0733 - val_loss: 18.2451\n",
      "Epoch 169/500\n",
      "30/30 [==============================] - 0s 2ms/step - loss: 18.2899 - val_loss: 18.4322\n",
      "Epoch 170/500\n",
      "30/30 [==============================] - 0s 2ms/step - loss: 18.0212 - val_loss: 18.0814\n",
      "Epoch 171/500\n",
      "30/30 [==============================] - 0s 2ms/step - loss: 18.1202 - val_loss: 17.9583\n",
      "Epoch 172/500\n",
      "30/30 [==============================] - 0s 2ms/step - loss: 18.1635 - val_loss: 18.2920\n",
      "Epoch 173/500\n",
      "30/30 [==============================] - 0s 2ms/step - loss: 18.5024 - val_loss: 17.8762\n",
      "Epoch 174/500\n",
      "30/30 [==============================] - 0s 2ms/step - loss: 17.9965 - val_loss: 18.1501\n",
      "Epoch 175/500\n",
      "30/30 [==============================] - 0s 2ms/step - loss: 18.3868 - val_loss: 17.8560\n",
      "Epoch 176/500\n",
      "30/30 [==============================] - 0s 2ms/step - loss: 17.9457 - val_loss: 18.3977\n",
      "Epoch 177/500\n",
      "30/30 [==============================] - 0s 2ms/step - loss: 18.0421 - val_loss: 18.1150\n",
      "Epoch 178/500\n",
      "30/30 [==============================] - 0s 2ms/step - loss: 18.0448 - val_loss: 17.8200\n",
      "Epoch 179/500\n",
      "30/30 [==============================] - 0s 2ms/step - loss: 18.0246 - val_loss: 18.0089\n",
      "Epoch 180/500\n",
      "30/30 [==============================] - 0s 2ms/step - loss: 17.9928 - val_loss: 17.8752\n",
      "Epoch 181/500\n",
      "30/30 [==============================] - 0s 2ms/step - loss: 18.2305 - val_loss: 17.9862\n",
      "Epoch 182/500\n",
      "30/30 [==============================] - 0s 2ms/step - loss: 18.0193 - val_loss: 17.9955\n",
      "Epoch 183/500\n",
      "30/30 [==============================] - 0s 2ms/step - loss: 17.9269 - val_loss: 17.8494\n",
      "Epoch 184/500\n",
      "30/30 [==============================] - 0s 2ms/step - loss: 18.0969 - val_loss: 18.3178\n",
      "Epoch 185/500\n",
      "30/30 [==============================] - 0s 2ms/step - loss: 18.1546 - val_loss: 18.2031\n",
      "Epoch 186/500\n",
      "30/30 [==============================] - 0s 2ms/step - loss: 18.0477 - val_loss: 17.9060\n",
      "Epoch 187/500\n",
      "30/30 [==============================] - 0s 2ms/step - loss: 17.8858 - val_loss: 18.0492\n",
      "Epoch 188/500\n",
      "30/30 [==============================] - 0s 2ms/step - loss: 18.0245 - val_loss: 17.7864\n",
      "Epoch 189/500\n",
      "30/30 [==============================] - 0s 2ms/step - loss: 17.9732 - val_loss: 17.8835\n",
      "Epoch 190/500\n",
      "30/30 [==============================] - 0s 2ms/step - loss: 18.0164 - val_loss: 17.8681\n",
      "Epoch 191/500\n",
      "30/30 [==============================] - 0s 2ms/step - loss: 17.8687 - val_loss: 18.3086\n",
      "Epoch 192/500\n",
      "30/30 [==============================] - 0s 2ms/step - loss: 18.2265 - val_loss: 18.0232\n",
      "Epoch 193/500\n",
      "30/30 [==============================] - 0s 2ms/step - loss: 17.8978 - val_loss: 18.1109\n",
      "Epoch 194/500\n",
      "30/30 [==============================] - 0s 3ms/step - loss: 18.1035 - val_loss: 17.8685\n",
      "Epoch 195/500\n",
      "30/30 [==============================] - 0s 2ms/step - loss: 18.2748 - val_loss: 17.7637\n",
      "Epoch 196/500\n",
      "30/30 [==============================] - 0s 2ms/step - loss: 17.8771 - val_loss: 17.8750\n",
      "Epoch 197/500\n",
      "30/30 [==============================] - 0s 2ms/step - loss: 17.9279 - val_loss: 17.9404\n",
      "Epoch 198/500\n",
      "30/30 [==============================] - 0s 2ms/step - loss: 17.9204 - val_loss: 17.8853\n",
      "Epoch 199/500\n",
      "30/30 [==============================] - ETA: 0s - loss: 17.93 - 0s 2ms/step - loss: 18.0225 - val_loss: 17.6448\n",
      "Epoch 200/500\n",
      "30/30 [==============================] - 0s 2ms/step - loss: 18.2030 - val_loss: 18.4555\n",
      "Epoch 201/500\n",
      "30/30 [==============================] - ETA: 0s - loss: 15.53 - 0s 2ms/step - loss: 18.1202 - val_loss: 17.9474\n",
      "Epoch 202/500\n",
      "30/30 [==============================] - 0s 2ms/step - loss: 17.8548 - val_loss: 17.9532\n",
      "Epoch 203/500\n",
      "30/30 [==============================] - 0s 2ms/step - loss: 17.8723 - val_loss: 17.9563\n",
      "Epoch 204/500\n",
      "30/30 [==============================] - 0s 2ms/step - loss: 18.0207 - val_loss: 17.7050\n",
      "Epoch 205/500\n",
      "30/30 [==============================] - 0s 2ms/step - loss: 18.3592 - val_loss: 17.7248\n",
      "Epoch 206/500\n",
      "30/30 [==============================] - 0s 2ms/step - loss: 17.8687 - val_loss: 17.8214\n",
      "Epoch 207/500\n",
      "30/30 [==============================] - 0s 3ms/step - loss: 17.8898 - val_loss: 17.6514\n",
      "Epoch 208/500\n",
      "30/30 [==============================] - 0s 2ms/step - loss: 17.7692 - val_loss: 17.9886\n",
      "Epoch 209/500\n",
      "30/30 [==============================] - 0s 2ms/step - loss: 18.0264 - val_loss: 17.8495\n",
      "Epoch 210/500\n",
      "30/30 [==============================] - 0s 2ms/step - loss: 17.8221 - val_loss: 17.8228\n",
      "Epoch 211/500\n",
      "30/30 [==============================] - 0s 2ms/step - loss: 17.7908 - val_loss: 17.6314\n",
      "Epoch 212/500\n",
      "30/30 [==============================] - 0s 2ms/step - loss: 17.8346 - val_loss: 17.9515\n",
      "Epoch 213/500\n",
      "30/30 [==============================] - 0s 2ms/step - loss: 18.0823 - val_loss: 18.3065\n",
      "Epoch 214/500\n",
      "30/30 [==============================] - 0s 2ms/step - loss: 17.8461 - val_loss: 17.6832\n",
      "Epoch 215/500\n",
      "30/30 [==============================] - 0s 2ms/step - loss: 17.7851 - val_loss: 18.0840\n",
      "Epoch 216/500\n",
      "30/30 [==============================] - ETA: 0s - loss: 15.80 - 0s 2ms/step - loss: 18.6003 - val_loss: 17.7208\n",
      "Epoch 217/500\n",
      "30/30 [==============================] - 0s 2ms/step - loss: 17.8422 - val_loss: 17.7869\n",
      "Epoch 218/500\n",
      "30/30 [==============================] - 0s 2ms/step - loss: 17.8669 - val_loss: 17.7336\n",
      "Epoch 219/500\n",
      "30/30 [==============================] - 0s 2ms/step - loss: 18.0019 - val_loss: 18.0449\n",
      "Epoch 220/500\n",
      "30/30 [==============================] - 0s 2ms/step - loss: 17.7020 - val_loss: 17.7371\n",
      "Epoch 221/500\n",
      "30/30 [==============================] - 0s 2ms/step - loss: 18.0714 - val_loss: 17.7325\n",
      "Epoch 222/500\n",
      "30/30 [==============================] - 0s 2ms/step - loss: 17.9063 - val_loss: 17.6866\n",
      "Epoch 223/500\n",
      "30/30 [==============================] - 0s 2ms/step - loss: 17.7742 - val_loss: 17.9254\n",
      "Epoch 224/500\n",
      "30/30 [==============================] - 0s 2ms/step - loss: 17.7754 - val_loss: 18.0742\n",
      "Epoch 225/500\n",
      "30/30 [==============================] - 0s 2ms/step - loss: 17.9886 - val_loss: 17.5714\n",
      "Epoch 226/500\n",
      "30/30 [==============================] - 0s 2ms/step - loss: 17.7410 - val_loss: 17.7958\n",
      "Epoch 227/500\n",
      "30/30 [==============================] - 0s 2ms/step - loss: 17.8208 - val_loss: 18.1286\n",
      "Epoch 228/500\n",
      "30/30 [==============================] - ETA: 0s - loss: 13.04 - 0s 2ms/step - loss: 17.8645 - val_loss: 17.5356\n",
      "Epoch 229/500\n",
      "30/30 [==============================] - 0s 2ms/step - loss: 17.8120 - val_loss: 17.9111\n",
      "Epoch 230/500\n",
      "30/30 [==============================] - 0s 2ms/step - loss: 17.9802 - val_loss: 17.4363\n",
      "Epoch 231/500\n",
      "30/30 [==============================] - 0s 2ms/step - loss: 17.6878 - val_loss: 17.7960\n",
      "Epoch 232/500\n",
      "30/30 [==============================] - 0s 2ms/step - loss: 17.7842 - val_loss: 17.5025\n",
      "Epoch 233/500\n",
      "30/30 [==============================] - 0s 2ms/step - loss: 17.8506 - val_loss: 17.7637\n",
      "Epoch 234/500\n",
      "30/30 [==============================] - 0s 2ms/step - loss: 18.0864 - val_loss: 17.7308\n",
      "Epoch 235/500\n",
      "30/30 [==============================] - 0s 2ms/step - loss: 18.2789 - val_loss: 17.7714\n",
      "Epoch 236/500\n",
      "30/30 [==============================] - 0s 2ms/step - loss: 17.6920 - val_loss: 17.7392\n",
      "Epoch 237/500\n"
     ]
    },
    {
     "name": "stdout",
     "output_type": "stream",
     "text": [
      "30/30 [==============================] - 0s 2ms/step - loss: 17.9654 - val_loss: 17.6133\n",
      "Epoch 238/500\n",
      "30/30 [==============================] - 0s 2ms/step - loss: 17.7482 - val_loss: 17.6833\n",
      "Epoch 239/500\n",
      "30/30 [==============================] - 0s 2ms/step - loss: 17.8422 - val_loss: 17.4522\n",
      "Epoch 240/500\n",
      "30/30 [==============================] - 0s 2ms/step - loss: 17.6927 - val_loss: 17.7359\n",
      "Epoch 241/500\n",
      "30/30 [==============================] - 0s 2ms/step - loss: 17.8537 - val_loss: 17.6465\n",
      "Epoch 242/500\n",
      "30/30 [==============================] - 0s 2ms/step - loss: 17.7381 - val_loss: 17.4723\n",
      "Epoch 243/500\n",
      "30/30 [==============================] - 0s 2ms/step - loss: 18.0173 - val_loss: 17.8470\n",
      "Epoch 244/500\n",
      "30/30 [==============================] - 0s 2ms/step - loss: 17.7182 - val_loss: 17.4926\n",
      "Epoch 245/500\n",
      "30/30 [==============================] - ETA: 0s - loss: 15.01 - 0s 2ms/step - loss: 17.6586 - val_loss: 17.6202\n",
      "Epoch 246/500\n",
      "30/30 [==============================] - 0s 2ms/step - loss: 17.7097 - val_loss: 17.7961\n",
      "Epoch 247/500\n",
      "30/30 [==============================] - 0s 2ms/step - loss: 17.6720 - val_loss: 17.6974\n",
      "Epoch 248/500\n",
      "30/30 [==============================] - 0s 2ms/step - loss: 17.9679 - val_loss: 18.1063\n",
      "Epoch 249/500\n",
      "30/30 [==============================] - ETA: 0s - loss: 16.96 - 0s 2ms/step - loss: 17.7259 - val_loss: 17.6259\n",
      "Epoch 250/500\n",
      "30/30 [==============================] - 0s 2ms/step - loss: 17.6856 - val_loss: 17.5541\n",
      "Epoch 251/500\n",
      "30/30 [==============================] - 0s 3ms/step - loss: 17.6996 - val_loss: 17.6394\n",
      "Epoch 252/500\n",
      "30/30 [==============================] - 0s 3ms/step - loss: 17.6225 - val_loss: 17.7057\n",
      "Epoch 253/500\n",
      "30/30 [==============================] - 0s 2ms/step - loss: 17.6456 - val_loss: 17.6182\n",
      "Epoch 254/500\n",
      "30/30 [==============================] - 0s 2ms/step - loss: 17.6482 - val_loss: 17.3488\n",
      "Epoch 255/500\n",
      "30/30 [==============================] - 0s 2ms/step - loss: 17.7467 - val_loss: 17.4769\n",
      "Epoch 256/500\n",
      "30/30 [==============================] - 0s 2ms/step - loss: 17.6478 - val_loss: 17.5112\n",
      "Epoch 257/500\n",
      "30/30 [==============================] - 0s 2ms/step - loss: 17.6627 - val_loss: 17.4368\n",
      "Epoch 258/500\n",
      "30/30 [==============================] - 0s 2ms/step - loss: 17.5986 - val_loss: 17.8623\n",
      "Epoch 259/500\n",
      "30/30 [==============================] - 0s 2ms/step - loss: 19.0410 - val_loss: 17.3703\n",
      "Epoch 260/500\n",
      "30/30 [==============================] - 0s 2ms/step - loss: 17.8347 - val_loss: 17.7982\n",
      "Epoch 261/500\n",
      "30/30 [==============================] - 0s 2ms/step - loss: 17.7566 - val_loss: 17.3404\n",
      "Epoch 262/500\n",
      "30/30 [==============================] - 0s 2ms/step - loss: 17.6081 - val_loss: 17.6489\n",
      "Epoch 263/500\n",
      "30/30 [==============================] - 0s 2ms/step - loss: 17.6583 - val_loss: 17.4359\n",
      "Epoch 264/500\n",
      "30/30 [==============================] - 0s 2ms/step - loss: 17.8892 - val_loss: 17.3453\n",
      "Epoch 265/500\n",
      "30/30 [==============================] - 0s 2ms/step - loss: 17.5982 - val_loss: 17.6966\n",
      "Epoch 266/500\n",
      "30/30 [==============================] - 0s 2ms/step - loss: 17.9361 - val_loss: 17.9984\n",
      "Epoch 267/500\n",
      "30/30 [==============================] - 0s 2ms/step - loss: 17.4737 - val_loss: 17.4291\n",
      "Epoch 268/500\n",
      "30/30 [==============================] - 0s 2ms/step - loss: 17.6200 - val_loss: 17.6399\n",
      "Epoch 269/500\n",
      "30/30 [==============================] - 0s 2ms/step - loss: 17.7141 - val_loss: 17.4732\n",
      "Epoch 270/500\n",
      "30/30 [==============================] - 0s 2ms/step - loss: 17.7405 - val_loss: 17.8971\n",
      "Epoch 271/500\n",
      "30/30 [==============================] - 0s 2ms/step - loss: 17.6864 - val_loss: 17.3586\n",
      "Epoch 272/500\n",
      "30/30 [==============================] - 0s 2ms/step - loss: 17.6513 - val_loss: 17.4558\n",
      "Epoch 273/500\n",
      "30/30 [==============================] - 0s 2ms/step - loss: 17.5337 - val_loss: 17.8530\n",
      "Epoch 274/500\n",
      "30/30 [==============================] - 0s 2ms/step - loss: 17.8469 - val_loss: 17.5522\n",
      "Epoch 275/500\n",
      "30/30 [==============================] - 0s 2ms/step - loss: 17.6867 - val_loss: 17.2828\n",
      "Epoch 276/500\n",
      "30/30 [==============================] - 0s 2ms/step - loss: 17.7683 - val_loss: 17.3985\n",
      "Epoch 277/500\n",
      "30/30 [==============================] - 0s 2ms/step - loss: 17.5611 - val_loss: 17.5144\n",
      "Epoch 278/500\n",
      "30/30 [==============================] - 0s 2ms/step - loss: 17.5490 - val_loss: 17.4151\n",
      "Epoch 279/500\n",
      "30/30 [==============================] - 0s 2ms/step - loss: 17.5430 - val_loss: 17.3678\n",
      "Epoch 280/500\n",
      "30/30 [==============================] - 0s 2ms/step - loss: 17.6685 - val_loss: 17.2780\n",
      "Epoch 281/500\n",
      "30/30 [==============================] - ETA: 0s - loss: 19.94 - 0s 2ms/step - loss: 17.5297 - val_loss: 17.5712\n",
      "Epoch 282/500\n",
      "30/30 [==============================] - 0s 2ms/step - loss: 17.6170 - val_loss: 17.7120\n",
      "Epoch 283/500\n",
      "30/30 [==============================] - 0s 2ms/step - loss: 17.7719 - val_loss: 17.3497\n",
      "Epoch 284/500\n",
      "30/30 [==============================] - 0s 2ms/step - loss: 17.7569 - val_loss: 17.4014\n",
      "Epoch 285/500\n",
      "30/30 [==============================] - 0s 2ms/step - loss: 17.5923 - val_loss: 17.3894\n",
      "Epoch 286/500\n",
      "30/30 [==============================] - 0s 2ms/step - loss: 17.6417 - val_loss: 17.5791\n",
      "Epoch 287/500\n",
      "30/30 [==============================] - 0s 2ms/step - loss: 17.6283 - val_loss: 17.4848\n",
      "Epoch 288/500\n",
      "30/30 [==============================] - 0s 3ms/step - loss: 17.5512 - val_loss: 17.3114\n",
      "Epoch 289/500\n",
      "30/30 [==============================] - 0s 3ms/step - loss: 17.5633 - val_loss: 17.2166\n",
      "Epoch 290/500\n",
      "30/30 [==============================] - 0s 2ms/step - loss: 17.7864 - val_loss: 17.5470\n",
      "Epoch 291/500\n",
      "30/30 [==============================] - 0s 2ms/step - loss: 17.6865 - val_loss: 17.6358\n",
      "Epoch 292/500\n",
      "30/30 [==============================] - 0s 2ms/step - loss: 17.6138 - val_loss: 17.5157\n",
      "Epoch 293/500\n",
      "30/30 [==============================] - 0s 2ms/step - loss: 17.5881 - val_loss: 17.3542\n",
      "Epoch 294/500\n",
      "30/30 [==============================] - 0s 2ms/step - loss: 17.4436 - val_loss: 17.3639\n",
      "Epoch 295/500\n",
      "30/30 [==============================] - 0s 2ms/step - loss: 17.5636 - val_loss: 17.2523\n",
      "Epoch 296/500\n",
      "30/30 [==============================] - ETA: 0s - loss: 16.03 - 0s 2ms/step - loss: 17.5385 - val_loss: 17.4182\n",
      "Epoch 297/500\n",
      "30/30 [==============================] - 0s 2ms/step - loss: 17.5508 - val_loss: 17.5720\n",
      "Epoch 298/500\n",
      "30/30 [==============================] - 0s 2ms/step - loss: 18.3595 - val_loss: 17.2317\n",
      "Epoch 299/500\n",
      "30/30 [==============================] - 0s 2ms/step - loss: 17.5125 - val_loss: 17.2628\n",
      "Epoch 300/500\n",
      "30/30 [==============================] - 0s 2ms/step - loss: 17.5274 - val_loss: 17.3285\n",
      "Epoch 301/500\n",
      "30/30 [==============================] - 0s 2ms/step - loss: 17.6338 - val_loss: 17.1611\n",
      "Epoch 302/500\n",
      "30/30 [==============================] - 0s 2ms/step - loss: 17.5113 - val_loss: 17.2851\n",
      "Epoch 303/500\n",
      "30/30 [==============================] - 0s 2ms/step - loss: 17.4917 - val_loss: 17.3564\n",
      "Epoch 304/500\n",
      "30/30 [==============================] - 0s 2ms/step - loss: 17.4186 - val_loss: 17.2341\n",
      "Epoch 305/500\n",
      "30/30 [==============================] - 0s 2ms/step - loss: 17.5454 - val_loss: 17.4239\n",
      "Epoch 306/500\n",
      "30/30 [==============================] - 0s 2ms/step - loss: 17.3995 - val_loss: 17.3616\n",
      "Epoch 307/500\n",
      "30/30 [==============================] - 0s 2ms/step - loss: 17.5669 - val_loss: 17.6452\n",
      "Epoch 308/500\n",
      "30/30 [==============================] - 0s 2ms/step - loss: 17.4679 - val_loss: 17.3557\n",
      "Epoch 309/500\n",
      "30/30 [==============================] - 0s 2ms/step - loss: 17.4241 - val_loss: 17.3907\n",
      "Epoch 310/500\n",
      "30/30 [==============================] - 0s 2ms/step - loss: 17.4475 - val_loss: 17.4445\n",
      "Epoch 311/500\n",
      "30/30 [==============================] - 0s 2ms/step - loss: 17.4365 - val_loss: 17.2994\n",
      "Epoch 312/500\n",
      "30/30 [==============================] - 0s 2ms/step - loss: 17.5348 - val_loss: 17.5633\n",
      "Epoch 313/500\n",
      "30/30 [==============================] - 0s 2ms/step - loss: 17.7371 - val_loss: 17.6059\n",
      "Epoch 314/500\n",
      "30/30 [==============================] - 0s 3ms/step - loss: 17.5667 - val_loss: 17.3342\n",
      "Epoch 315/500\n"
     ]
    },
    {
     "name": "stdout",
     "output_type": "stream",
     "text": [
      "30/30 [==============================] - 0s 3ms/step - loss: 17.5355 - val_loss: 17.0213\n",
      "Epoch 316/500\n",
      "30/30 [==============================] - 0s 2ms/step - loss: 17.4802 - val_loss: 17.3803\n",
      "Epoch 317/500\n",
      "30/30 [==============================] - 0s 2ms/step - loss: 17.4403 - val_loss: 17.2463\n",
      "Epoch 318/500\n",
      "30/30 [==============================] - 0s 3ms/step - loss: 17.6825 - val_loss: 18.0896\n",
      "Epoch 319/500\n",
      "30/30 [==============================] - 0s 3ms/step - loss: 17.4902 - val_loss: 17.3126\n",
      "Epoch 320/500\n",
      "30/30 [==============================] - 0s 2ms/step - loss: 17.4247 - val_loss: 17.3201\n",
      "Epoch 321/500\n",
      "30/30 [==============================] - 0s 3ms/step - loss: 17.4355 - val_loss: 17.7024\n",
      "Epoch 322/500\n",
      "30/30 [==============================] - 0s 2ms/step - loss: 18.1619 - val_loss: 17.0765\n",
      "Epoch 323/500\n",
      "30/30 [==============================] - 0s 2ms/step - loss: 17.3976 - val_loss: 17.3614\n",
      "Epoch 324/500\n",
      "30/30 [==============================] - 0s 2ms/step - loss: 17.4218 - val_loss: 17.2925\n",
      "Epoch 325/500\n",
      "30/30 [==============================] - 0s 2ms/step - loss: 17.5088 - val_loss: 17.6279\n",
      "Epoch 326/500\n",
      "30/30 [==============================] - 0s 2ms/step - loss: 17.5086 - val_loss: 17.5360\n",
      "Epoch 327/500\n",
      "30/30 [==============================] - 0s 2ms/step - loss: 17.4589 - val_loss: 17.1120\n",
      "Epoch 328/500\n",
      "30/30 [==============================] - 0s 2ms/step - loss: 17.5524 - val_loss: 17.1396\n",
      "Epoch 329/500\n",
      "30/30 [==============================] - 0s 2ms/step - loss: 17.4724 - val_loss: 17.4613\n",
      "Epoch 330/500\n",
      "30/30 [==============================] - 0s 2ms/step - loss: 17.6298 - val_loss: 17.2412\n",
      "Epoch 331/500\n",
      "30/30 [==============================] - 0s 2ms/step - loss: 17.4853 - val_loss: 17.0367\n",
      "Epoch 332/500\n",
      "30/30 [==============================] - ETA: 0s - loss: 12.40 - 0s 2ms/step - loss: 17.5586 - val_loss: 17.6161\n",
      "Epoch 333/500\n",
      "30/30 [==============================] - 0s 2ms/step - loss: 17.3736 - val_loss: 17.2337\n",
      "Epoch 334/500\n",
      "30/30 [==============================] - 0s 2ms/step - loss: 17.4559 - val_loss: 17.5015\n",
      "Epoch 335/500\n",
      "30/30 [==============================] - ETA: 0s - loss: 37.65 - 0s 2ms/step - loss: 17.6833 - val_loss: 17.4996\n",
      "Epoch 336/500\n",
      "30/30 [==============================] - 0s 2ms/step - loss: 17.5516 - val_loss: 16.9471\n",
      "Epoch 337/500\n",
      "30/30 [==============================] - 0s 3ms/step - loss: 17.6192 - val_loss: 17.5803\n",
      "Epoch 338/500\n",
      "30/30 [==============================] - 0s 2ms/step - loss: 17.3179 - val_loss: 17.2499\n",
      "Epoch 339/500\n",
      "30/30 [==============================] - 0s 2ms/step - loss: 17.5194 - val_loss: 17.0930\n",
      "Epoch 340/500\n",
      "30/30 [==============================] - 0s 2ms/step - loss: 17.5327 - val_loss: 17.7106\n",
      "Epoch 341/500\n",
      "30/30 [==============================] - 0s 2ms/step - loss: 17.6084 - val_loss: 17.4614\n",
      "Epoch 342/500\n",
      "30/30 [==============================] - 0s 2ms/step - loss: 17.4499 - val_loss: 17.2111\n",
      "Epoch 343/500\n",
      "30/30 [==============================] - 0s 2ms/step - loss: 17.3672 - val_loss: 17.1283\n",
      "Epoch 344/500\n",
      "30/30 [==============================] - 0s 2ms/step - loss: 17.3593 - val_loss: 17.3273\n",
      "Epoch 345/500\n",
      "30/30 [==============================] - 0s 2ms/step - loss: 17.4812 - val_loss: 16.9880\n",
      "Epoch 346/500\n",
      "30/30 [==============================] - 0s 2ms/step - loss: 17.6010 - val_loss: 17.5254\n",
      "Epoch 347/500\n",
      "30/30 [==============================] - 0s 2ms/step - loss: 17.4496 - val_loss: 17.2261\n",
      "Epoch 348/500\n",
      "30/30 [==============================] - 0s 2ms/step - loss: 17.4160 - val_loss: 17.4392\n",
      "Epoch 349/500\n",
      "30/30 [==============================] - 0s 2ms/step - loss: 17.4334 - val_loss: 17.3014\n",
      "Epoch 350/500\n",
      "30/30 [==============================] - 0s 2ms/step - loss: 17.3267 - val_loss: 17.1011\n",
      "Epoch 351/500\n",
      "30/30 [==============================] - 0s 2ms/step - loss: 17.3341 - val_loss: 17.2219\n",
      "Epoch 352/500\n",
      "30/30 [==============================] - 0s 2ms/step - loss: 17.4793 - val_loss: 17.5901\n",
      "Epoch 353/500\n",
      "30/30 [==============================] - 0s 2ms/step - loss: 17.4540 - val_loss: 17.1546\n",
      "Epoch 354/500\n",
      "30/30 [==============================] - 0s 2ms/step - loss: 17.3259 - val_loss: 17.1529\n",
      "Epoch 355/500\n",
      "30/30 [==============================] - 0s 2ms/step - loss: 17.5682 - val_loss: 17.6503\n",
      "Epoch 356/500\n",
      "30/30 [==============================] - 0s 2ms/step - loss: 17.6509 - val_loss: 17.0252\n",
      "Epoch 357/500\n",
      "30/30 [==============================] - ETA: 0s - loss: 17.83 - 0s 2ms/step - loss: 17.3533 - val_loss: 18.0248\n",
      "Epoch 358/500\n",
      "30/30 [==============================] - 0s 2ms/step - loss: 17.5617 - val_loss: 17.0911\n",
      "Epoch 359/500\n",
      "30/30 [==============================] - 0s 2ms/step - loss: 17.3970 - val_loss: 17.1466\n",
      "Epoch 360/500\n",
      "30/30 [==============================] - 0s 2ms/step - loss: 17.3316 - val_loss: 17.1135\n",
      "Epoch 361/500\n",
      "30/30 [==============================] - 0s 2ms/step - loss: 17.3771 - val_loss: 17.2304\n",
      "Epoch 362/500\n",
      "30/30 [==============================] - 0s 3ms/step - loss: 17.3658 - val_loss: 17.3064\n",
      "Epoch 363/500\n",
      "30/30 [==============================] - 0s 2ms/step - loss: 17.3021 - val_loss: 17.1525\n",
      "Epoch 364/500\n",
      "30/30 [==============================] - 0s 2ms/step - loss: 17.3685 - val_loss: 17.3364\n",
      "Epoch 365/500\n",
      "30/30 [==============================] - 0s 3ms/step - loss: 17.4933 - val_loss: 17.3814\n",
      "Epoch 366/500\n",
      "30/30 [==============================] - 0s 3ms/step - loss: 17.3724 - val_loss: 17.4604\n",
      "Epoch 367/500\n",
      "30/30 [==============================] - 0s 2ms/step - loss: 17.3342 - val_loss: 17.0365\n",
      "Epoch 368/500\n",
      "30/30 [==============================] - 0s 2ms/step - loss: 17.4125 - val_loss: 17.0163\n",
      "Epoch 369/500\n",
      "30/30 [==============================] - 0s 2ms/step - loss: 17.3405 - val_loss: 17.1833\n",
      "Epoch 370/500\n",
      "30/30 [==============================] - 0s 2ms/step - loss: 17.3071 - val_loss: 16.9287\n",
      "Epoch 371/500\n",
      "30/30 [==============================] - ETA: 0s - loss: 24.00 - 0s 2ms/step - loss: 17.4465 - val_loss: 17.2527\n",
      "Epoch 372/500\n",
      "30/30 [==============================] - 0s 2ms/step - loss: 17.3407 - val_loss: 17.1743\n",
      "Epoch 373/500\n",
      "30/30 [==============================] - 0s 2ms/step - loss: 17.3259 - val_loss: 16.8917\n",
      "Epoch 374/500\n",
      "30/30 [==============================] - 0s 2ms/step - loss: 17.5207 - val_loss: 17.1472\n",
      "Epoch 375/500\n",
      "30/30 [==============================] - 0s 2ms/step - loss: 17.3631 - val_loss: 17.2797\n",
      "Epoch 376/500\n",
      "30/30 [==============================] - 0s 2ms/step - loss: 17.5818 - val_loss: 17.0491\n",
      "Epoch 377/500\n",
      "30/30 [==============================] - 0s 2ms/step - loss: 17.2794 - val_loss: 17.1568\n",
      "Epoch 378/500\n",
      "30/30 [==============================] - 0s 2ms/step - loss: 17.3324 - val_loss: 17.2203\n",
      "Epoch 379/500\n",
      "30/30 [==============================] - ETA: 0s - loss: 28.14 - 0s 2ms/step - loss: 17.3698 - val_loss: 16.8526\n",
      "Epoch 380/500\n",
      "30/30 [==============================] - ETA: 0s - loss: 10.07 - 0s 2ms/step - loss: 17.2653 - val_loss: 17.1520\n",
      "Epoch 381/500\n",
      "30/30 [==============================] - 0s 2ms/step - loss: 17.3387 - val_loss: 17.1935\n",
      "Epoch 382/500\n",
      "30/30 [==============================] - 0s 2ms/step - loss: 17.2765 - val_loss: 17.1503\n",
      "Epoch 383/500\n",
      "30/30 [==============================] - 0s 2ms/step - loss: 17.2872 - val_loss: 17.2025\n",
      "Epoch 384/500\n",
      "30/30 [==============================] - 0s 2ms/step - loss: 17.2311 - val_loss: 17.0109\n",
      "Epoch 385/500\n",
      "30/30 [==============================] - 0s 2ms/step - loss: 17.2376 - val_loss: 17.1648\n",
      "Epoch 386/500\n",
      "30/30 [==============================] - 0s 2ms/step - loss: 17.4260 - val_loss: 17.0443\n",
      "Epoch 387/500\n",
      "30/30 [==============================] - 0s 2ms/step - loss: 17.3441 - val_loss: 16.9937\n",
      "Epoch 388/500\n",
      "30/30 [==============================] - 0s 2ms/step - loss: 17.3103 - val_loss: 17.0225\n",
      "Epoch 389/500\n",
      "30/30 [==============================] - 0s 2ms/step - loss: 17.2673 - val_loss: 17.1027\n",
      "Epoch 390/500\n",
      "30/30 [==============================] - 0s 2ms/step - loss: 17.2165 - val_loss: 17.0508\n",
      "Epoch 391/500\n",
      "30/30 [==============================] - 0s 2ms/step - loss: 17.5809 - val_loss: 17.8604\n",
      "Epoch 392/500\n",
      "30/30 [==============================] - 0s 2ms/step - loss: 17.6446 - val_loss: 17.2289\n",
      "Epoch 393/500\n"
     ]
    },
    {
     "name": "stdout",
     "output_type": "stream",
     "text": [
      "30/30 [==============================] - 0s 2ms/step - loss: 17.4179 - val_loss: 17.2695\n",
      "Epoch 394/500\n",
      "30/30 [==============================] - 0s 2ms/step - loss: 17.4330 - val_loss: 17.6517\n",
      "Epoch 395/500\n",
      "30/30 [==============================] - 0s 2ms/step - loss: 17.2220 - val_loss: 16.9837\n",
      "Epoch 396/500\n",
      "30/30 [==============================] - 0s 2ms/step - loss: 17.4009 - val_loss: 17.7363\n",
      "Epoch 397/500\n",
      "30/30 [==============================] - 0s 2ms/step - loss: 17.8798 - val_loss: 16.8380\n",
      "Epoch 398/500\n",
      "30/30 [==============================] - 0s 2ms/step - loss: 17.3744 - val_loss: 17.1304\n",
      "Epoch 399/500\n",
      "30/30 [==============================] - 0s 2ms/step - loss: 17.2868 - val_loss: 17.3868\n",
      "Epoch 400/500\n",
      "30/30 [==============================] - 0s 2ms/step - loss: 17.2914 - val_loss: 17.0435\n",
      "Epoch 401/500\n",
      "30/30 [==============================] - 0s 2ms/step - loss: 17.4681 - val_loss: 16.8452\n",
      "Epoch 402/500\n",
      "30/30 [==============================] - 0s 2ms/step - loss: 17.3878 - val_loss: 17.0787\n",
      "Epoch 403/500\n",
      "30/30 [==============================] - 0s 2ms/step - loss: 17.2159 - val_loss: 17.0124\n",
      "Epoch 404/500\n",
      "30/30 [==============================] - 0s 2ms/step - loss: 17.1803 - val_loss: 17.2080\n",
      "Epoch 405/500\n",
      "30/30 [==============================] - 0s 2ms/step - loss: 17.3153 - val_loss: 17.2577\n",
      "Epoch 406/500\n",
      "30/30 [==============================] - 0s 2ms/step - loss: 17.1710 - val_loss: 16.7973\n",
      "Epoch 407/500\n",
      "30/30 [==============================] - 0s 3ms/step - loss: 17.3061 - val_loss: 16.8485\n",
      "Epoch 408/500\n",
      "30/30 [==============================] - 0s 2ms/step - loss: 17.2548 - val_loss: 17.1675\n",
      "Epoch 409/500\n",
      "30/30 [==============================] - 0s 2ms/step - loss: 17.2025 - val_loss: 16.9975\n",
      "Epoch 410/500\n",
      "30/30 [==============================] - 0s 2ms/step - loss: 17.2153 - val_loss: 16.8458\n",
      "Epoch 411/500\n",
      "30/30 [==============================] - 0s 2ms/step - loss: 17.3561 - val_loss: 16.8701\n",
      "Epoch 412/500\n",
      "30/30 [==============================] - ETA: 0s - loss: 11.88 - 0s 2ms/step - loss: 17.6755 - val_loss: 17.3366\n",
      "Epoch 413/500\n",
      "30/30 [==============================] - 0s 2ms/step - loss: 17.2895 - val_loss: 16.8535\n",
      "Epoch 414/500\n",
      "30/30 [==============================] - 0s 2ms/step - loss: 17.1959 - val_loss: 17.2209\n",
      "Epoch 415/500\n",
      "30/30 [==============================] - 0s 2ms/step - loss: 17.2248 - val_loss: 16.9416\n",
      "Epoch 416/500\n",
      "30/30 [==============================] - 0s 2ms/step - loss: 17.3379 - val_loss: 16.9765\n",
      "Epoch 417/500\n",
      "30/30 [==============================] - 0s 2ms/step - loss: 17.2674 - val_loss: 16.7843\n",
      "Epoch 418/500\n",
      "30/30 [==============================] - 0s 2ms/step - loss: 17.4103 - val_loss: 17.0256\n",
      "Epoch 419/500\n",
      "30/30 [==============================] - 0s 2ms/step - loss: 17.3472 - val_loss: 17.0995\n",
      "Epoch 420/500\n",
      "30/30 [==============================] - 0s 2ms/step - loss: 17.4164 - val_loss: 16.7362\n",
      "Epoch 421/500\n",
      "30/30 [==============================] - 0s 2ms/step - loss: 17.8089 - val_loss: 17.7702\n",
      "Epoch 422/500\n",
      "30/30 [==============================] - 0s 2ms/step - loss: 17.2524 - val_loss: 16.7810\n",
      "Epoch 423/500\n",
      "30/30 [==============================] - 0s 2ms/step - loss: 17.3334 - val_loss: 17.7194\n",
      "Epoch 424/500\n",
      "30/30 [==============================] - 0s 2ms/step - loss: 17.7278 - val_loss: 17.1081\n",
      "Epoch 425/500\n",
      "30/30 [==============================] - 0s 2ms/step - loss: 17.2330 - val_loss: 16.8645\n",
      "Epoch 426/500\n",
      "30/30 [==============================] - 0s 2ms/step - loss: 17.1787 - val_loss: 16.9663\n",
      "Epoch 427/500\n",
      "30/30 [==============================] - 0s 2ms/step - loss: 17.1659 - val_loss: 16.9562\n",
      "Epoch 428/500\n",
      "30/30 [==============================] - 0s 2ms/step - loss: 17.2320 - val_loss: 16.9414\n",
      "Epoch 429/500\n",
      "30/30 [==============================] - 0s 2ms/step - loss: 17.2558 - val_loss: 17.0837\n",
      "Epoch 430/500\n",
      "30/30 [==============================] - 0s 2ms/step - loss: 17.1877 - val_loss: 17.1995\n",
      "Epoch 431/500\n",
      "30/30 [==============================] - 0s 2ms/step - loss: 17.3287 - val_loss: 17.2430\n",
      "Epoch 432/500\n",
      "30/30 [==============================] - 0s 2ms/step - loss: 17.1868 - val_loss: 16.8121\n",
      "Epoch 433/500\n",
      "30/30 [==============================] - 0s 2ms/step - loss: 17.2586 - val_loss: 16.8110\n",
      "Epoch 434/500\n",
      "30/30 [==============================] - 0s 2ms/step - loss: 17.2238 - val_loss: 17.1651\n",
      "Epoch 435/500\n",
      "30/30 [==============================] - ETA: 0s - loss: 21.58 - 0s 2ms/step - loss: 17.2751 - val_loss: 16.7723\n",
      "Epoch 436/500\n",
      "30/30 [==============================] - 0s 2ms/step - loss: 17.1852 - val_loss: 16.9036\n",
      "Epoch 437/500\n",
      "30/30 [==============================] - 0s 3ms/step - loss: 17.3090 - val_loss: 16.7556\n",
      "Epoch 438/500\n",
      "30/30 [==============================] - 0s 3ms/step - loss: 17.9346 - val_loss: 17.7560\n",
      "Epoch 439/500\n",
      "30/30 [==============================] - 0s 3ms/step - loss: 17.3432 - val_loss: 16.7552\n",
      "Epoch 440/500\n",
      "30/30 [==============================] - 0s 2ms/step - loss: 17.2475 - val_loss: 16.8208\n",
      "Epoch 441/500\n",
      "30/30 [==============================] - 0s 2ms/step - loss: 17.1778 - val_loss: 16.7500\n",
      "Epoch 442/500\n",
      "30/30 [==============================] - 0s 3ms/step - loss: 17.2709 - val_loss: 17.0001\n",
      "Epoch 443/500\n",
      "30/30 [==============================] - 0s 3ms/step - loss: 17.1860 - val_loss: 17.0489\n",
      "Epoch 444/500\n",
      "30/30 [==============================] - 0s 2ms/step - loss: 17.4167 - val_loss: 16.8715\n",
      "Epoch 445/500\n",
      "30/30 [==============================] - 0s 2ms/step - loss: 17.2328 - val_loss: 17.2510\n",
      "Epoch 446/500\n",
      "30/30 [==============================] - 0s 2ms/step - loss: 17.2354 - val_loss: 16.8814\n",
      "Epoch 447/500\n",
      "30/30 [==============================] - 0s 2ms/step - loss: 17.1722 - val_loss: 16.9695\n",
      "Epoch 448/500\n",
      "30/30 [==============================] - 0s 2ms/step - loss: 17.1454 - val_loss: 16.9254\n",
      "Epoch 449/500\n",
      "30/30 [==============================] - 0s 2ms/step - loss: 17.1523 - val_loss: 17.0480\n",
      "Epoch 450/500\n",
      "30/30 [==============================] - 0s 2ms/step - loss: 17.6728 - val_loss: 16.9236\n",
      "Epoch 451/500\n",
      "30/30 [==============================] - ETA: 0s - loss: 15.92 - 0s 2ms/step - loss: 17.2952 - val_loss: 16.8377\n",
      "Epoch 452/500\n",
      "30/30 [==============================] - 0s 2ms/step - loss: 17.1993 - val_loss: 17.0576\n",
      "Epoch 453/500\n",
      "30/30 [==============================] - 0s 2ms/step - loss: 17.1795 - val_loss: 16.9765\n",
      "Epoch 454/500\n",
      "30/30 [==============================] - 0s 2ms/step - loss: 17.1884 - val_loss: 16.7295\n",
      "Epoch 455/500\n",
      "30/30 [==============================] - 0s 3ms/step - loss: 17.1359 - val_loss: 17.1393\n",
      "Epoch 456/500\n",
      "30/30 [==============================] - 0s 3ms/step - loss: 17.2746 - val_loss: 16.8803\n",
      "Epoch 457/500\n",
      "30/30 [==============================] - 0s 3ms/step - loss: 17.3941 - val_loss: 16.7156\n",
      "Epoch 458/500\n",
      "30/30 [==============================] - 0s 3ms/step - loss: 17.4312 - val_loss: 16.7064\n",
      "Epoch 459/500\n",
      "30/30 [==============================] - 0s 2ms/step - loss: 17.0482 - val_loss: 17.3332\n",
      "Epoch 460/500\n",
      "30/30 [==============================] - 0s 2ms/step - loss: 17.2844 - val_loss: 16.5857\n",
      "Epoch 461/500\n",
      "30/30 [==============================] - 0s 2ms/step - loss: 17.5380 - val_loss: 16.7443\n",
      "Epoch 462/500\n",
      "30/30 [==============================] - 0s 2ms/step - loss: 17.5271 - val_loss: 17.0023\n",
      "Epoch 463/500\n",
      "30/30 [==============================] - 0s 2ms/step - loss: 17.2047 - val_loss: 16.9855\n",
      "Epoch 464/500\n",
      "30/30 [==============================] - 0s 2ms/step - loss: 17.1494 - val_loss: 16.8993\n",
      "Epoch 465/500\n",
      "30/30 [==============================] - 0s 2ms/step - loss: 17.1609 - val_loss: 16.6512\n",
      "Epoch 466/500\n",
      "30/30 [==============================] - 0s 2ms/step - loss: 17.2319 - val_loss: 16.6949\n",
      "Epoch 467/500\n",
      "30/30 [==============================] - 0s 2ms/step - loss: 17.1777 - val_loss: 17.1445\n",
      "Epoch 468/500\n",
      "30/30 [==============================] - 0s 2ms/step - loss: 17.3941 - val_loss: 17.2955\n",
      "Epoch 469/500\n",
      "30/30 [==============================] - 0s 2ms/step - loss: 17.0437 - val_loss: 16.6162\n",
      "Epoch 470/500\n",
      "30/30 [==============================] - 0s 2ms/step - loss: 17.2306 - val_loss: 16.6749\n",
      "Epoch 471/500\n",
      "30/30 [==============================] - 0s 2ms/step - loss: 17.0961 - val_loss: 17.1823\n"
     ]
    },
    {
     "name": "stdout",
     "output_type": "stream",
     "text": [
      "Epoch 472/500\n",
      "30/30 [==============================] - 0s 2ms/step - loss: 17.1107 - val_loss: 16.7800\n",
      "Epoch 473/500\n",
      "30/30 [==============================] - 0s 3ms/step - loss: 17.0943 - val_loss: 17.1828\n",
      "Epoch 474/500\n",
      "30/30 [==============================] - 0s 3ms/step - loss: 17.1897 - val_loss: 16.9430\n",
      "Epoch 475/500\n",
      "30/30 [==============================] - 0s 3ms/step - loss: 17.0790 - val_loss: 16.7570\n",
      "Epoch 476/500\n",
      "30/30 [==============================] - 0s 2ms/step - loss: 17.1729 - val_loss: 16.7149\n",
      "Epoch 477/500\n",
      "30/30 [==============================] - 0s 2ms/step - loss: 17.1311 - val_loss: 17.0467\n",
      "Epoch 478/500\n",
      "30/30 [==============================] - 0s 2ms/step - loss: 17.1830 - val_loss: 16.7906\n",
      "Epoch 479/500\n",
      "30/30 [==============================] - 0s 2ms/step - loss: 17.0970 - val_loss: 16.8037\n",
      "Epoch 480/500\n",
      "30/30 [==============================] - 0s 3ms/step - loss: 17.2000 - val_loss: 16.5779\n",
      "Epoch 481/500\n",
      "30/30 [==============================] - 0s 3ms/step - loss: 17.5313 - val_loss: 17.1655\n",
      "Epoch 482/500\n",
      "30/30 [==============================] - 0s 2ms/step - loss: 17.1009 - val_loss: 16.7426\n",
      "Epoch 483/500\n",
      "30/30 [==============================] - 0s 2ms/step - loss: 17.1986 - val_loss: 16.8127\n",
      "Epoch 484/500\n",
      "30/30 [==============================] - 0s 3ms/step - loss: 17.1064 - val_loss: 16.9196\n",
      "Epoch 485/500\n",
      "30/30 [==============================] - 0s 3ms/step - loss: 17.2157 - val_loss: 16.9846\n",
      "Epoch 486/500\n",
      "30/30 [==============================] - 0s 3ms/step - loss: 17.2245 - val_loss: 17.1154\n",
      "Epoch 487/500\n",
      "30/30 [==============================] - 0s 3ms/step - loss: 17.2358 - val_loss: 16.6703\n",
      "Epoch 488/500\n",
      "30/30 [==============================] - 0s 3ms/step - loss: 17.0957 - val_loss: 16.8389\n",
      "Epoch 489/500\n",
      "30/30 [==============================] - 0s 3ms/step - loss: 17.0970 - val_loss: 16.7744\n",
      "Epoch 490/500\n",
      "30/30 [==============================] - 0s 3ms/step - loss: 17.1488 - val_loss: 16.7078\n",
      "Epoch 491/500\n",
      "30/30 [==============================] - 0s 3ms/step - loss: 17.2000 - val_loss: 16.8863\n",
      "Epoch 492/500\n",
      "30/30 [==============================] - 0s 3ms/step - loss: 17.1658 - val_loss: 16.7260\n",
      "Epoch 493/500\n",
      "30/30 [==============================] - 0s 2ms/step - loss: 17.0781 - val_loss: 16.7863\n",
      "Epoch 494/500\n",
      "30/30 [==============================] - 0s 2ms/step - loss: 17.0872 - val_loss: 16.6956\n",
      "Epoch 495/500\n",
      "30/30 [==============================] - 0s 2ms/step - loss: 17.1203 - val_loss: 17.0626\n",
      "Epoch 496/500\n",
      "30/30 [==============================] - 0s 2ms/step - loss: 17.1457 - val_loss: 16.7355\n",
      "Epoch 497/500\n",
      "30/30 [==============================] - 0s 2ms/step - loss: 17.1883 - val_loss: 16.7900\n",
      "Epoch 498/500\n",
      "30/30 [==============================] - 0s 2ms/step - loss: 17.2355 - val_loss: 16.8090\n",
      "Epoch 499/500\n",
      "30/30 [==============================] - 0s 2ms/step - loss: 17.3409 - val_loss: 16.7031\n",
      "Epoch 500/500\n",
      "30/30 [==============================] - 0s 3ms/step - loss: 17.3411 - val_loss: 16.9968\n"
     ]
    },
    {
     "data": {
      "text/plain": [
       "<tensorflow.python.keras.callbacks.History at 0x1a97a92c6d0>"
      ]
     },
     "execution_count": 36,
     "metadata": {},
     "output_type": "execute_result"
    }
   ],
   "source": [
    "# Train the network using the training data.\n",
    "# Keep track of loss for validation data too - not being used in training.\n",
    "# Could do history = model.fit(X_train, y_train, epochs=500, batch_size=10, validation_data=(X_val, y_val))\n",
    "model.fit(X_train, y_train, epochs=500, batch_size=10, validation_data=(X_val, y_val))"
   ]
  },
  {
   "cell_type": "markdown",
   "metadata": {},
   "source": [
    "Ideally, the loss calculated from the training data should be close to that calculated using the validation data (which is not used in training the model). If they differ significantly, that's a sign that something is up and some parameters may need to be changed. If the validation error is still reducing, the model hasn't converged yet and one can continue training by just running the above cell again ( I usually ran this cell twice). I hadn't fully appreciated the difference between the train/test data and the validation data, but I see it now: the training data is used to train the model, the validation data is used to measure loss during model training to see if there are problems like under or overfitting. If there are, parameters can be changed and the model re-trained. Finally, after training and tuning of parameters, the test data is used to make predictions. It has had no input to the model training or parameter tuning."
   ]
  },
  {
   "cell_type": "code",
   "execution_count": 37,
   "metadata": {},
   "outputs": [
    {
     "data": {
      "image/png": "[encoded data removed]",
      "text/plain": [
       "<Figure size 576x432 with 1 Axes>"
      ]
     },
     "metadata": {
      "needs_background": "light"
     },
     "output_type": "display_data"
    }
   ],
   "source": [
    "# Look at prediction for the test data - was not used in training.\n",
    "plt.plot(X, y, 'co', label=\"data\")\n",
    "plt.plot(X_test, model.predict(X_test), 'k.', label=\"neural n/w\")\n",
    "plt.xlabel('Speed (m/s)', fontsize='14')\n",
    "plt.ylabel('power (kW)', fontsize='14')\n",
    "plt.title(\"Neural network prediction on test data\")\n",
    "plt.grid()\n",
    "plt.legend()\n",
    "plt.savefig(\"img/neuralnw.png\")"
   ]
  },
  {
   "cell_type": "markdown",
   "metadata": {},
   "source": [
    "This is doing an excellent job, and to be honest, it seems like magic to me. Without knowing a thing about the data - why it looks like it does - we can make predictions. I'm more used to knowing what a quantity should look like in theory, and then fitting experimental data to that theory in order to measure error. "
   ]
  },
  {
   "cell_type": "code",
   "execution_count": 38,
   "metadata": {},
   "outputs": [
    {
     "name": "stdout",
     "output_type": "stream",
     "text": [
      "[[100.89765]]\n"
     ]
    }
   ],
   "source": [
    "# Predict from a single input value - seems sensible.\n",
    "wind = [[23]]\n",
    "print(model.predict(wind))"
   ]
  },
  {
   "cell_type": "markdown",
   "metadata": {},
   "source": [
    "### Save this neural network model"
   ]
  },
  {
   "cell_type": "code",
   "execution_count": 39,
   "metadata": {},
   "outputs": [
    {
     "name": "stdout",
     "output_type": "stream",
     "text": [
      "Neural network model saved as neural-nw.h5\n"
     ]
    }
   ],
   "source": [
    "#model.save(\"models/neural-nw.h5\")\n",
    "print(\"Neural network model saved as neural-nw.h5\")"
   ]
  },
  {
   "cell_type": "markdown",
   "metadata": {},
   "source": [
    "## References\n",
    "<span style='color:red'> [1 Geron] </span> Aurelien Geron, *Hands-on Machine Learning with Scikit-Learn, Keras & TensorFlow*, **2019**, 2nd Edition, O'Reilly Media, Inc., CA\n",
    "\n",
    "<span style='color:red'> [2 np random] </span> numpy.random.rayleigh, NumPy v1.19 Manual, https://numpy.org/doc/stable/reference/random/generated/numpy.random.rayleigh.html\n",
    "\n",
    "<span style='color:red'> [3 WT curve] </span> Wind Energy Basics, New York Wind Energy Guide for Local Decision Makers, www.nyserda.ny.gov/-/media/Files/Publications/Research/Biomass-Solar-Wind/NY-Wind-Energy-Guide-1.pdf, (Accessed 9 Nov. 2020).\n",
    "\n",
    "<span style='color:red'> [4 WT calc] </span> Wind Turbine Power Calculations, RWE npower renewables, https://docplayer.net/17802133-Wind-turbine-power-calculations.html, (Accessed 21 Oct. 2020).\n",
    "\n",
    "<span style='color:red'> [5 Medium nlr] </span> Medium.com, Understanding Non-Linear Regression, https://medium.com/towards-artificial-intelligence/understanding-non-linear-regression-fbef9a396b71 (Accessed 1 Dec. 2020).\n",
    "\n",
    "<span style='color:red'> [6 CourseML] </span> Andrew Ng, Coursera Machine Learning offered by Stanford, https://www.coursera.org/learn/machine-learning, (Completed & certified Sept. 2020).\n",
    "\n",
    "<span style='color:red'> [7 Medium polyReg] </span> Medium.com, Polynomial Regression, https://towardsdatascience.com/polynomial-regression-bbe8b9d97491 (Accessed 7 Dec. 2020).\n",
    "\n",
    "<span style='color:red'> [8 Medium SVRreg] </span> Medium.com, Support Vector Regression in 6 Steps with Python, https://medium.com/pursuitnotes/support-vector-regression-in-6-steps-with-python-c4569acd062d (Accessed 9 Dec. 2020).\n",
    "\n",
    "<span style='color:red'> [9 SVR] </span> Scikit-learn, 1.4. Support Vector Machines, https://scikit-learn.org/stable/modules/svm.html#regression (Accessed 12 Dec. 2020).\n",
    "\n",
    "<span style='color:red'> [10 SKLsvrKer] </span> Scikit-learn, Support Vector Regression (SVR) using linear and non-linear kernels, https://ogrisel.github.io/scikit-learn.org/sklearn-tutorial/auto_examples/svm/plot_svm_regression.html (Accessed 12 Dec. 2020).\n",
    "\n",
    "<span style='color:red'> [11 DFkernel] </span> Data Flair, Kernel Functions-Introduction to SVM Kernel & Examples, https://data-flair.training/blogs/svm-kernel-functions/#:~:text=SVM%20Kernel%20Functions&text=The%20function%20of%20kernel%20is,(RBF)%2C%20and%20sigmoid. (Accessed 12 Dec. 2020).\n",
    "\n",
    "<span style='color:red'> [12 MLMscaler] </span> Machine Learning Mastery, How to Use StandardScaler and MinMaxScaler Transforms in Python, https://machinelearningmastery.com/standardscaler-and-minmaxscaler-transforms-in-python/ (Accessed 12 Dec. 2020).\n",
    "\n",
    "<span style='color:red'> [13 SVRpractical] </span> Scikit-learn, 1.4.5. Tips on Practical Use, https://scikit-learn.org/stable/modules/svm.html#tips-on-practical-use (Accessed 12 Dec. 2020).\n",
    "\n",
    "<span style='color:red'> [14 WikiANN] </span> Wikipedia, Artificial neural network, https://en.wikipedia.org/wiki/Artificial_neural_network (Accessed 16 Dec. 2020).\n",
    "\n",
    "<span style='color:red'> [15 keras] </span> Keras, Introduction to Keras for Engineers, https://keras.io/getting_started/intro_to_keras_for_engineers/ (Accessed 16 Dec. 2020).\n",
    "\n",
    "<span style='color:red'> [16 tf] </span> TensorFlow, https://www.tensorflow.org/ (Accessed 16 Dec. 2020).\n",
    "\n",
    "<span style='color:red'> [17 mediumANN] </span> Medium.com, The Artificial Neural Networks handbook: Part 1, https://medium.com/coinmonks/the-artificial-neural-networks-handbook-part-1-f9ceb0e376b4 (Accessed 17 Dec. 2020).\n",
    "\n",
    "<span style='color:red'> [18 NNWhowto] </span> Machine Learning Mastery, How To Build Multi-Layer Perceptron Neural Network Models with Keras, https://machinelearningmastery.com/build-multi-layer-perceptron-neural-network-models-keras/ (Accessed 16 Dec. 2020).\n",
    "\n",
    "<span style='color:red'> [19 SOkerasIP] </span> Stack Overflow, Keras input explanation: input_shape, units, batch_size, dim, etc, https://stackoverflow.com/questions/44747343/keras-input-explanation-input-shape-units-batch-size-dim-etc (Accessed 17 Dec. 2020).\n",
    "\n",
    "<span style='color:red'> [20 GDvsSGD] </span> Stack Exchange, What is the difference between Gradient Descent and Stochastic Gradient Descent?, https://datascience.stackexchange.com/questions/36450/what-is-the-difference-between-gradient-descent-and-stochastic-gradient-descent#:~:text=In%20Gradient%20Descent%20or%20Batch,of%20training%20data%20per%20epoch (Accessed 16 Dec. 2020).\n",
    "\n",
    "<br>\n",
    "\n",
    "***\n",
    "For deploying ML models:\n",
    "\n",
    "<span style='color:red'> [a] </span> Medium.com, Machine Learning: Trying to predict a numerical value, https://srnghn.medium.com/machine-learning-trying-to-predict-a-numerical-value-8aafb9ad4d36 (Accessed 15 Dec. 2020)\n",
    "\n",
    "<span style='color:red'> [a] </span> The OVERFLOW, How to put machine learning models into production, https://stackoverflow.blog/2020/10/12/how-to-put-machine-learning-models-into-production/ (Accessed 15 Dec. 2020)\n",
    "\n",
    "<span style='color:red'> [a] </span> Towards Data Science, Simple way to deploy machine learning models to cloud, https://towardsdatascience.com/simple-way-to-deploy-machine-learning-models-to-cloud-fd58b771fdcf (Accessed 18 Dec. 2020)\n",
    "\n",
    "For saving and restoring ML models:\n",
    "\n",
    "<span style='color:red'> [a] </span> Machine Learning Mastery, Save and Load Machine Learning Models in Python with scikit-learn, https://machinelearningmastery.com/save-load-machine-learning-models-python-scikit-learn/ (Accessed 19 Dec. 2020)\n",
    "\n",
    "<span style='color:red'> [a] </span> Machine Learning Mastery, How to Save and Reuse Data Preparation Objects in Scikit-Learn, https://machinelearningmastery.com/how-to-save-and-load-models-and-data-preparation-in-scikit-learn-for-later-use/ (Accessed 21 Dec. 2020)\n",
    "\n",
    "<span style='color:red'> [a] </span> Machine Learning Mastery, How to Save and Load Your Keras Deep Learning Model, https://machinelearningmastery.com/save-load-keras-deep-learning-models/ (Accessed 19 Dec. 2020)\n",
    "\n",
    "Python virtual environments & Jupyter kernels\n",
    "\n",
    "<span style='color:red'> [a] </span> QUEIROZF.COM, Jupyter Notebook Kernels: How to Add, Change, Remove, https://queirozf.com/entries/jupyter-kernels-how-to-add-change-remove (Accessed 22 Dec. 2020)\n",
    "\n",
    "<span style='color:red'> [a] </span> Stack Overflow, Could not install packages due to an EnvironmentError: [Errno 2] No such file or directory \\\\METADATA, https://stackoverflow.com/questions/54778630/could-not-install-packages-due-to-an-environmenterror-errno-2-no-such-file-or (Accessed 22 Dec. 2020)\n",
    "\n",
    "Miscellaneous:\n",
    "\n",
    "<span style='color:red'> [a] </span> Wind Turbine FAQ, ENERPOWER Total Energy Solutions, https://enerpower.ie/portfolio/wind-turbine-faq-ireland/, (Accessed 21 Oct. 2020)\n",
    "\n",
    "<span style='color:red'> [a] </span> Machine Learning Mastery, A Gentle Introduction to Model Selection for Machine Learning, https://machinelearningmastery.com/a-gentle-introduction-to-model-selection-for-machine-learning/ (Accessed 30 Nov. 2020)"
   ]
  },
  {
   "cell_type": "markdown",
   "metadata": {},
   "source": [
    "To do:\n",
    "- docker"
   ]
  },
  {
   "cell_type": "markdown",
   "metadata": {},
   "source": [
    "<br>\n",
    "\n",
    "### End"
   ]
  }
 ],
 "metadata": {
  "kernelspec": {
   "display_name": "Python 3",
   "language": "python",
   "name": "python3"
  },
  "language_info": {
   "codemirror_mode": {
    "name": "ipython",
    "version": 3
   },
   "file_extension": ".py",
   "mimetype": "text/x-python",
   "name": "python",
   "nbconvert_exporter": "python",
   "pygments_lexer": "ipython3",
   "version": "3.8.5"
  }
 },
 "nbformat": 4,
 "nbformat_minor": 4
}
