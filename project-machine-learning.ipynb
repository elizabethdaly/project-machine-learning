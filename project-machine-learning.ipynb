{
 "cells": [
  {
   "cell_type": "markdown",
   "metadata": {},
   "source": [
    "# Elizabeth Daly\n",
    "# HDip Data Analytics 2020\n",
    "## Machine Learning & Statistics Project\n",
    "***"
   ]
  },
  {
   "cell_type": "markdown",
   "metadata": {},
   "source": [
    "For the module project we must create a web service that uses machine learning to make predictions of wind turbine power output from wind speed values. The web service should respond with predicted power values based on wind speed values sent as HTTP requests. A Dockerfile will be used to build and run the web service in a container. "
   ]
  },
  {
   "cell_type": "markdown",
   "metadata": {},
   "source": [
    "The very first thing to do is to import required packages."
   ]
  },
  {
   "cell_type": "code",
   "execution_count": 1,
   "metadata": {},
   "outputs": [],
   "source": [
    "# For data frames.\n",
    "import pandas as pd\n",
    "# For numerical arrays.\n",
    "import numpy as np\n",
    "# For plotting\n",
    "import matplotlib.pyplot as plt\n",
    "import seaborn as sns"
   ]
  },
  {
   "cell_type": "markdown",
   "metadata": {},
   "source": [
    "## Data exploration\n",
    "Import the **powerproduction** dataset provided and have a look at it."
   ]
  },
  {
   "cell_type": "code",
   "execution_count": 2,
   "metadata": {},
   "outputs": [
    {
     "name": "stdout",
     "output_type": "stream",
     "text": [
      "Data frame shape (500, 2) r,c\n",
      "speed    500\n",
      "power    500\n",
      "dtype: int64\n"
     ]
    }
   ],
   "source": [
    "# File provided as a txt file. I saved it as a csv file.\n",
    "df = pd.read_csv(\"data\\powerproduction.csv\")\n",
    "\n",
    "# Size?\n",
    "shape = df.shape\n",
    "print(\"Data frame shape\", shape, \"r,c\")\n",
    "\n",
    "# Check for NaNs, missing values etc\n",
    "print(df.count())"
   ]
  },
  {
   "cell_type": "code",
   "execution_count": 3,
   "metadata": {
    "scrolled": true
   },
   "outputs": [
    {
     "data": {
      "text/html": [
       "<div>\n",
       "<style scoped>\n",
       "    .dataframe tbody tr th:only-of-type {\n",
       "        vertical-align: middle;\n",
       "    }\n",
       "\n",
       "    .dataframe tbody tr th {\n",
       "        vertical-align: top;\n",
       "    }\n",
       "\n",
       "    .dataframe thead th {\n",
       "        text-align: right;\n",
       "    }\n",
       "</style>\n",
       "<table border=\"1\" class=\"dataframe\">\n",
       "  <thead>\n",
       "    <tr style=\"text-align: right;\">\n",
       "      <th></th>\n",
       "      <th>speed</th>\n",
       "      <th>power</th>\n",
       "    </tr>\n",
       "  </thead>\n",
       "  <tbody>\n",
       "    <tr>\n",
       "      <th>0</th>\n",
       "      <td>0.000</td>\n",
       "      <td>0.0</td>\n",
       "    </tr>\n",
       "    <tr>\n",
       "      <th>1</th>\n",
       "      <td>0.125</td>\n",
       "      <td>0.0</td>\n",
       "    </tr>\n",
       "    <tr>\n",
       "      <th>2</th>\n",
       "      <td>0.150</td>\n",
       "      <td>0.0</td>\n",
       "    </tr>\n",
       "    <tr>\n",
       "      <th>3</th>\n",
       "      <td>0.225</td>\n",
       "      <td>0.0</td>\n",
       "    </tr>\n",
       "    <tr>\n",
       "      <th>4</th>\n",
       "      <td>0.275</td>\n",
       "      <td>0.0</td>\n",
       "    </tr>\n",
       "    <tr>\n",
       "      <th>...</th>\n",
       "      <td>...</td>\n",
       "      <td>...</td>\n",
       "    </tr>\n",
       "    <tr>\n",
       "      <th>495</th>\n",
       "      <td>24.775</td>\n",
       "      <td>0.0</td>\n",
       "    </tr>\n",
       "    <tr>\n",
       "      <th>496</th>\n",
       "      <td>24.850</td>\n",
       "      <td>0.0</td>\n",
       "    </tr>\n",
       "    <tr>\n",
       "      <th>497</th>\n",
       "      <td>24.875</td>\n",
       "      <td>0.0</td>\n",
       "    </tr>\n",
       "    <tr>\n",
       "      <th>498</th>\n",
       "      <td>24.950</td>\n",
       "      <td>0.0</td>\n",
       "    </tr>\n",
       "    <tr>\n",
       "      <th>499</th>\n",
       "      <td>25.000</td>\n",
       "      <td>0.0</td>\n",
       "    </tr>\n",
       "  </tbody>\n",
       "</table>\n",
       "<p>500 rows × 2 columns</p>\n",
       "</div>"
      ],
      "text/plain": [
       "      speed  power\n",
       "0     0.000    0.0\n",
       "1     0.125    0.0\n",
       "2     0.150    0.0\n",
       "3     0.225    0.0\n",
       "4     0.275    0.0\n",
       "..      ...    ...\n",
       "495  24.775    0.0\n",
       "496  24.850    0.0\n",
       "497  24.875    0.0\n",
       "498  24.950    0.0\n",
       "499  25.000    0.0\n",
       "\n",
       "[500 rows x 2 columns]"
      ]
     },
     "execution_count": 3,
     "metadata": {},
     "output_type": "execute_result"
    }
   ],
   "source": [
    "df"
   ]
  },
  {
   "cell_type": "markdown",
   "metadata": {},
   "source": [
    "The raw data contains a column of wind speed values (in increasing order of wind speed) and a column of associated power values. Looks like the first and last 5 lines contain zeros for power. Is this just a fluke? There's probably a reason for it: one can't generate power with low wind speeds and perhaps one can't operate the turbines at very high wind speeds? Check by printing more of the head of file. No units have been provided with the data, so I will assume units of wind speed are m/s, and those of power are kilowatts (kW)."
   ]
  },
  {
   "cell_type": "code",
   "execution_count": 4,
   "metadata": {},
   "outputs": [
    {
     "data": {
      "text/html": [
       "<div>\n",
       "<style scoped>\n",
       "    .dataframe tbody tr th:only-of-type {\n",
       "        vertical-align: middle;\n",
       "    }\n",
       "\n",
       "    .dataframe tbody tr th {\n",
       "        vertical-align: top;\n",
       "    }\n",
       "\n",
       "    .dataframe thead th {\n",
       "        text-align: right;\n",
       "    }\n",
       "</style>\n",
       "<table border=\"1\" class=\"dataframe\">\n",
       "  <thead>\n",
       "    <tr style=\"text-align: right;\">\n",
       "      <th></th>\n",
       "      <th>speed</th>\n",
       "      <th>power</th>\n",
       "    </tr>\n",
       "  </thead>\n",
       "  <tbody>\n",
       "    <tr>\n",
       "      <th>0</th>\n",
       "      <td>0.000</td>\n",
       "      <td>0.000</td>\n",
       "    </tr>\n",
       "    <tr>\n",
       "      <th>1</th>\n",
       "      <td>0.125</td>\n",
       "      <td>0.000</td>\n",
       "    </tr>\n",
       "    <tr>\n",
       "      <th>2</th>\n",
       "      <td>0.150</td>\n",
       "      <td>0.000</td>\n",
       "    </tr>\n",
       "    <tr>\n",
       "      <th>3</th>\n",
       "      <td>0.225</td>\n",
       "      <td>0.000</td>\n",
       "    </tr>\n",
       "    <tr>\n",
       "      <th>4</th>\n",
       "      <td>0.275</td>\n",
       "      <td>0.000</td>\n",
       "    </tr>\n",
       "    <tr>\n",
       "      <th>5</th>\n",
       "      <td>0.325</td>\n",
       "      <td>4.331</td>\n",
       "    </tr>\n",
       "    <tr>\n",
       "      <th>6</th>\n",
       "      <td>0.400</td>\n",
       "      <td>5.186</td>\n",
       "    </tr>\n",
       "    <tr>\n",
       "      <th>7</th>\n",
       "      <td>0.450</td>\n",
       "      <td>3.826</td>\n",
       "    </tr>\n",
       "    <tr>\n",
       "      <th>8</th>\n",
       "      <td>0.501</td>\n",
       "      <td>1.048</td>\n",
       "    </tr>\n",
       "    <tr>\n",
       "      <th>9</th>\n",
       "      <td>0.526</td>\n",
       "      <td>5.553</td>\n",
       "    </tr>\n",
       "  </tbody>\n",
       "</table>\n",
       "</div>"
      ],
      "text/plain": [
       "   speed  power\n",
       "0  0.000  0.000\n",
       "1  0.125  0.000\n",
       "2  0.150  0.000\n",
       "3  0.225  0.000\n",
       "4  0.275  0.000\n",
       "5  0.325  4.331\n",
       "6  0.400  5.186\n",
       "7  0.450  3.826\n",
       "8  0.501  1.048\n",
       "9  0.526  5.553"
      ]
     },
     "execution_count": 4,
     "metadata": {},
     "output_type": "execute_result"
    }
   ],
   "source": [
    "df.head(10)"
   ]
  },
  {
   "cell_type": "code",
   "execution_count": 5,
   "metadata": {},
   "outputs": [
    {
     "name": "stdout",
     "output_type": "stream",
     "text": [
      "            speed       power\n",
      "count  500.000000  500.000000\n",
      "mean    12.590398   48.014584\n",
      "std      7.224991   41.614572\n",
      "min      0.000000    0.000000\n",
      "25%      6.324750    5.288000\n",
      "50%     12.550500   41.645500\n",
      "75%     18.775250   93.537000\n",
      "max     25.000000  113.556000\n"
     ]
    }
   ],
   "source": [
    "# Look at some quick descriptive statistics of the numeric data.\n",
    "print(df.describe())"
   ]
  },
  {
   "cell_type": "code",
   "execution_count": 6,
   "metadata": {},
   "outputs": [
    {
     "data": {
      "image/png": "[encoded data removed]",
      "text/plain": [
       "<Figure size 432x288 with 1 Axes>"
      ]
     },
     "metadata": {
      "needs_background": "light"
     },
     "output_type": "display_data"
    }
   ],
   "source": [
    "# Try plotting power as a function of wind speed to check for any obvious relationship between them.\n",
    "plt.plot(df['speed'], df['power'],  '.g')\n",
    "plt.title('Power vs wind speed', fontsize='14')\n",
    "plt.xlabel('speed (m/s)', fontsize='14')\n",
    "plt.ylabel('power', fontsize='14')\n",
    "plt.grid()"
   ]
  },
  {
   "cell_type": "markdown",
   "metadata": {},
   "source": [
    "Clearly there isn't a simple relationship between power and speed. It looks as if little power is generated until some threshold speed is achieved (about 7), then it increases nearly linearly in a range of wind speeds (10 - 15), before saturating above a certain wind speed (about 17). The plot would suggest there is a range of wind speeds where the power depends almost linearly on wind speed. There are very occasional zero values for power at higher wind speeds - just anomalies or blips in the data I think.\n",
    "\n",
    "Is this the curve we should expect? I think so. The theoretical dependence of power on wind speed has a curve which is very similar; for example, see Figure 2 in <span style='color:red'> [WT curve] </span>. Explain what's happening in different regimes. Units etc."
   ]
  },
  {
   "cell_type": "markdown",
   "metadata": {},
   "source": [
    "Look at the distribution of wind speeds. Why? Our assignment in the Programming for Data Analysis module involved looking at the numpy.random package <span style='color:red'> [np random] </span>. I learned that under certain conditions, wind speed has a Rayleigh distribution, which is not symmetrical. I wonder if the samples in our dataset follow a such distribution? The mean and variance of this distribution are calculated from the scale factor: $\\mu = \\sqrt{\\pi / 2} s$ and $\\sigma^2 = (4 - \\pi)/2 s^2$. This results in $\\mu \\approx 1.25 s$ and $\\sigma^2 \\approx 0.43 s$. From the descriptive statistics above we know that the mean wind speed is 12.6 m/s, so the scale factor to use is $s = \\mu/1.25 \\approx 10$."
   ]
  },
  {
   "cell_type": "code",
   "execution_count": 7,
   "metadata": {},
   "outputs": [
    {
     "data": {
      "text/plain": [
       "<matplotlib.legend.Legend at 0x191bdd83340>"
      ]
     },
     "execution_count": 7,
     "metadata": {},
     "output_type": "execute_result"
    },
    {
     "data": {
      "image/png": "[encoded data removed]",
      "text/plain": [
       "<Figure size 432x288 with 1 Axes>"
      ]
     },
     "metadata": {
      "needs_background": "light"
     },
     "output_type": "display_data"
    }
   ],
   "source": [
    "# Wind speeds sampled from a Rayleigh distribution, mean=12.6 m/s\n",
    "# Default: numpy.random.rayleigh(scale=1.0, size=None)\n",
    "data = np.random.rayleigh(10, 1000) \n",
    "plt.hist(data, bins=30, alpha = 0.3, facecolor='blue', edgecolor='black', label=['Rayleigh'])\n",
    "\n",
    "bins = np.arange(0, 30, 2) # fixed bin size\n",
    "plt.hist(df['speed'], bins=bins, alpha=0.5, facecolor='red', label=['Data'])\n",
    "\n",
    "plt.xlabel('Wind speed (m/s)')\n",
    "plt.ylabel('Probability')\n",
    "plt.title('Histogram of wind speed: $\\mu=10 m/s$')\n",
    "plt.legend()"
   ]
  },
  {
   "cell_type": "markdown",
   "metadata": {},
   "source": [
    "Well, that was a dead end. Clearly the wind speeds provided do not follow a Rayleigh distribution, rather roughly a uniform distribution."
   ]
  },
  {
   "cell_type": "markdown",
   "metadata": {},
   "source": [
    "## Procedure\n",
    "<span style='color:red'> [Geron] </span> and <span style='color:red'> [CourseML] </span>"
   ]
  },
  {
   "cell_type": "markdown",
   "metadata": {},
   "source": [
    "## References\n",
    "<span style='color:red'> [Geron] </span> Aurelien Geron, *Hands-on Machine Learning with Scikit-Learn, Keras & TensorFlow*, **2019**, 2nd Edition, O'Reilly Media, Inc., CA\n",
    "\n",
    "<span style='color:red'> [CourseML] </span> Andrew Ng, Coursera Machine Learning offered by Stanford, https://www.coursera.org/learn/machine-learning, (Completed & certified Sept. 2020). \n",
    "\n",
    "<span style='color:red'> [np random] </span> numpy.random.rayleigh, NumPy v1.19 Manual, https://numpy.org/doc/stable/reference/random/generated/numpy.random.rayleigh.html\n",
    "\n",
    "<span style='color:red'> [WT FAQ] </span> Wind Turbine FAQ, ENERPOWER Total Energy Solutions, https://enerpower.ie/portfolio/wind-turbine-faq-ireland/, (Accessed 21 Oct. 2020).\n",
    "\n",
    "<span style='color:red'> [WT calc] </span> Wind Turbine Power Calculations, RWE npower renewables, https://docplayer.net/17802133-Wind-turbine-power-calculations.html, (Accessed 21 Oct. 2020).\n",
    "\n",
    "<span style='color:red'> [WT curve] </span> Wind Energy Basics, New York Wind Energy Guide for Local Decision Makers, www.nyserda.ny.gov/-/media/Files/Publications/Research/Biomass-Solar-Wind/NY-Wind-Energy-Guide-1.pdf, (Accessed 9 Nov. 2020).\n",
    "\n",
    "<span style='color:red'> [] </span>\n"
   ]
  },
  {
   "cell_type": "markdown",
   "metadata": {},
   "source": [
    "Notes:\n",
    "- describe power curve\n",
    "- supervised learning as have training set\n",
    "- feature selection, only one here\n",
    "- what about feature scaling etc\n",
    "- algs to use for this problem?\n",
    "- how to measure perf? Test & validation. "
   ]
  }
 ],
 "metadata": {
  "kernelspec": {
   "display_name": "Python 3",
   "language": "python",
   "name": "python3"
  },
  "language_info": {
   "codemirror_mode": {
    "name": "ipython",
    "version": 3
   },
   "file_extension": ".py",
   "mimetype": "text/x-python",
   "name": "python",
   "nbconvert_exporter": "python",
   "pygments_lexer": "ipython3",
   "version": "3.8.3"
  }
 },
 "nbformat": 4,
 "nbformat_minor": 4
}
