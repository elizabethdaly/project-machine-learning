{
 "cells": [
  {
   "cell_type": "markdown",
   "metadata": {},
   "source": [
    "# Elizabeth Daly\n",
    "# HDip Data Analytics 2020\n",
    "## Machine Learning & Statistics Project\n",
    "***"
   ]
  },
  {
   "cell_type": "markdown",
   "metadata": {},
   "source": [
    "For the module project we must create a web service that uses machine learning to make predictions of wind turbine power output from wind speed values. The web service should respond with predicted power values based on wind speed values sent as HTTP requests. A Dockerfile will be used to build and run the web service in a container. "
   ]
  },
  {
   "cell_type": "markdown",
   "metadata": {},
   "source": [
    "The very first thing to do is to import required packages. I do them all here in one place."
   ]
  },
  {
   "cell_type": "code",
   "execution_count": 1,
   "metadata": {},
   "outputs": [],
   "source": [
    "# For data frames.\n",
    "import pandas as pd\n",
    "\n",
    "# For numerical arrays.\n",
    "import numpy as np\n",
    "\n",
    "# For plotting\n",
    "import matplotlib.pyplot as plt\n",
    "\n",
    "#For maths\n",
    "import math as m\n",
    "\n",
    "# Might use this.\n",
    "import seaborn as sns\n",
    "\n",
    "# For linear regression.\n",
    "from sklearn import linear_model\n",
    "\n",
    "# For evaluating model performance.\n",
    "from sklearn.metrics import mean_squared_error, r2_score\n",
    "\n",
    "# For generating polynomial features in the data.\n",
    "from sklearn.preprocessing import PolynomialFeatures\n",
    "\n",
    "# For splitting data into train / test sets.\n",
    "from sklearn.model_selection import train_test_split\n",
    "\n",
    "# For defining a pipeline. NOT USED\n",
    "# from sklearn.pipeline import Pipeline\n",
    "\n",
    "# For support vector machine regression.\n",
    "from sklearn.svm import SVR\n",
    "\n",
    "# Want to scale the input  for SVR.\n",
    "from sklearn.preprocessing import StandardScaler\n",
    "\n",
    "# For neural networks\n",
    "import tensorflow.keras as kr"
   ]
  },
  {
   "cell_type": "code",
   "execution_count": 2,
   "metadata": {},
   "outputs": [],
   "source": [
    "plt.rcParams['figure.figsize'] = (8.0, 6.0) # Make nice big figures"
   ]
  },
  {
   "cell_type": "markdown",
   "metadata": {},
   "source": [
    "## Data exploration\n",
    "Reference <span style='color:red'> [1 Geron] </span> suggests a number of steps to follow when beginning a new machine learning project. The very first is to get the data and explore it, so now I'll import the **powerproduction** dataset provided and have a look at it. I'll also keep an intact copy of the original dataset in a dataframe called dforig. "
   ]
  },
  {
   "cell_type": "code",
   "execution_count": 3,
   "metadata": {},
   "outputs": [
    {
     "name": "stdout",
     "output_type": "stream",
     "text": [
      "Data frame shape (500, 2) r,c\n",
      "speed    500\n",
      "power    500\n",
      "dtype: int64\n"
     ]
    }
   ],
   "source": [
    "# File provided as a txt file. I saved it as a csv file.\n",
    "df = pd.read_csv(\"data\\powerproduction.csv\")\n",
    "\n",
    "# Make a copy of the original dataset in case we need it later.\n",
    "dforig = df\n",
    "\n",
    "# Size?\n",
    "shape = df.shape\n",
    "print(\"Data frame shape\", shape, \"r,c\")\n",
    "\n",
    "# Check for NaNs, missing values etc\n",
    "print(df.count())"
   ]
  },
  {
   "cell_type": "code",
   "execution_count": 4,
   "metadata": {
    "scrolled": true
   },
   "outputs": [
    {
     "data": {
      "text/html": [
       "<div>\n",
       "<style scoped>\n",
       "    .dataframe tbody tr th:only-of-type {\n",
       "        vertical-align: middle;\n",
       "    }\n",
       "\n",
       "    .dataframe tbody tr th {\n",
       "        vertical-align: top;\n",
       "    }\n",
       "\n",
       "    .dataframe thead th {\n",
       "        text-align: right;\n",
       "    }\n",
       "</style>\n",
       "<table border=\"1\" class=\"dataframe\">\n",
       "  <thead>\n",
       "    <tr style=\"text-align: right;\">\n",
       "      <th></th>\n",
       "      <th>speed</th>\n",
       "      <th>power</th>\n",
       "    </tr>\n",
       "  </thead>\n",
       "  <tbody>\n",
       "    <tr>\n",
       "      <th>0</th>\n",
       "      <td>0.000</td>\n",
       "      <td>0.0</td>\n",
       "    </tr>\n",
       "    <tr>\n",
       "      <th>1</th>\n",
       "      <td>0.125</td>\n",
       "      <td>0.0</td>\n",
       "    </tr>\n",
       "    <tr>\n",
       "      <th>2</th>\n",
       "      <td>0.150</td>\n",
       "      <td>0.0</td>\n",
       "    </tr>\n",
       "    <tr>\n",
       "      <th>3</th>\n",
       "      <td>0.225</td>\n",
       "      <td>0.0</td>\n",
       "    </tr>\n",
       "    <tr>\n",
       "      <th>4</th>\n",
       "      <td>0.275</td>\n",
       "      <td>0.0</td>\n",
       "    </tr>\n",
       "    <tr>\n",
       "      <th>...</th>\n",
       "      <td>...</td>\n",
       "      <td>...</td>\n",
       "    </tr>\n",
       "    <tr>\n",
       "      <th>495</th>\n",
       "      <td>24.775</td>\n",
       "      <td>0.0</td>\n",
       "    </tr>\n",
       "    <tr>\n",
       "      <th>496</th>\n",
       "      <td>24.850</td>\n",
       "      <td>0.0</td>\n",
       "    </tr>\n",
       "    <tr>\n",
       "      <th>497</th>\n",
       "      <td>24.875</td>\n",
       "      <td>0.0</td>\n",
       "    </tr>\n",
       "    <tr>\n",
       "      <th>498</th>\n",
       "      <td>24.950</td>\n",
       "      <td>0.0</td>\n",
       "    </tr>\n",
       "    <tr>\n",
       "      <th>499</th>\n",
       "      <td>25.000</td>\n",
       "      <td>0.0</td>\n",
       "    </tr>\n",
       "  </tbody>\n",
       "</table>\n",
       "<p>500 rows × 2 columns</p>\n",
       "</div>"
      ],
      "text/plain": [
       "      speed  power\n",
       "0     0.000    0.0\n",
       "1     0.125    0.0\n",
       "2     0.150    0.0\n",
       "3     0.225    0.0\n",
       "4     0.275    0.0\n",
       "..      ...    ...\n",
       "495  24.775    0.0\n",
       "496  24.850    0.0\n",
       "497  24.875    0.0\n",
       "498  24.950    0.0\n",
       "499  25.000    0.0\n",
       "\n",
       "[500 rows x 2 columns]"
      ]
     },
     "execution_count": 4,
     "metadata": {},
     "output_type": "execute_result"
    }
   ],
   "source": [
    "df"
   ]
  },
  {
   "cell_type": "markdown",
   "metadata": {},
   "source": [
    "The raw data contains a column of wind speed values (in increasing order of wind speed) and a column of associated power values. Looks like the first and last 5 lines contain zeros for power. Is this just a fluke? There's probably a reason for it: one can't generate power with low wind speeds and perhaps one can't operate the turbines at very high wind speeds? Check by printing more of the head of file. No units have been provided with the data, so I will assume units of wind speed are (m/s), and those of power are kilowatts (kW), as that's what seems to make sense for these numbers."
   ]
  },
  {
   "cell_type": "code",
   "execution_count": 5,
   "metadata": {},
   "outputs": [
    {
     "data": {
      "text/html": [
       "<div>\n",
       "<style scoped>\n",
       "    .dataframe tbody tr th:only-of-type {\n",
       "        vertical-align: middle;\n",
       "    }\n",
       "\n",
       "    .dataframe tbody tr th {\n",
       "        vertical-align: top;\n",
       "    }\n",
       "\n",
       "    .dataframe thead th {\n",
       "        text-align: right;\n",
       "    }\n",
       "</style>\n",
       "<table border=\"1\" class=\"dataframe\">\n",
       "  <thead>\n",
       "    <tr style=\"text-align: right;\">\n",
       "      <th></th>\n",
       "      <th>speed</th>\n",
       "      <th>power</th>\n",
       "    </tr>\n",
       "  </thead>\n",
       "  <tbody>\n",
       "    <tr>\n",
       "      <th>0</th>\n",
       "      <td>0.000</td>\n",
       "      <td>0.000</td>\n",
       "    </tr>\n",
       "    <tr>\n",
       "      <th>1</th>\n",
       "      <td>0.125</td>\n",
       "      <td>0.000</td>\n",
       "    </tr>\n",
       "    <tr>\n",
       "      <th>2</th>\n",
       "      <td>0.150</td>\n",
       "      <td>0.000</td>\n",
       "    </tr>\n",
       "    <tr>\n",
       "      <th>3</th>\n",
       "      <td>0.225</td>\n",
       "      <td>0.000</td>\n",
       "    </tr>\n",
       "    <tr>\n",
       "      <th>4</th>\n",
       "      <td>0.275</td>\n",
       "      <td>0.000</td>\n",
       "    </tr>\n",
       "    <tr>\n",
       "      <th>5</th>\n",
       "      <td>0.325</td>\n",
       "      <td>4.331</td>\n",
       "    </tr>\n",
       "    <tr>\n",
       "      <th>6</th>\n",
       "      <td>0.400</td>\n",
       "      <td>5.186</td>\n",
       "    </tr>\n",
       "    <tr>\n",
       "      <th>7</th>\n",
       "      <td>0.450</td>\n",
       "      <td>3.826</td>\n",
       "    </tr>\n",
       "    <tr>\n",
       "      <th>8</th>\n",
       "      <td>0.501</td>\n",
       "      <td>1.048</td>\n",
       "    </tr>\n",
       "    <tr>\n",
       "      <th>9</th>\n",
       "      <td>0.526</td>\n",
       "      <td>5.553</td>\n",
       "    </tr>\n",
       "  </tbody>\n",
       "</table>\n",
       "</div>"
      ],
      "text/plain": [
       "   speed  power\n",
       "0  0.000  0.000\n",
       "1  0.125  0.000\n",
       "2  0.150  0.000\n",
       "3  0.225  0.000\n",
       "4  0.275  0.000\n",
       "5  0.325  4.331\n",
       "6  0.400  5.186\n",
       "7  0.450  3.826\n",
       "8  0.501  1.048\n",
       "9  0.526  5.553"
      ]
     },
     "execution_count": 5,
     "metadata": {},
     "output_type": "execute_result"
    }
   ],
   "source": [
    "df.head(10)"
   ]
  },
  {
   "cell_type": "code",
   "execution_count": 6,
   "metadata": {},
   "outputs": [
    {
     "name": "stdout",
     "output_type": "stream",
     "text": [
      "            speed       power\n",
      "count  500.000000  500.000000\n",
      "mean    12.590398   48.014584\n",
      "std      7.224991   41.614572\n",
      "min      0.000000    0.000000\n",
      "25%      6.324750    5.288000\n",
      "50%     12.550500   41.645500\n",
      "75%     18.775250   93.537000\n",
      "max     25.000000  113.556000\n"
     ]
    }
   ],
   "source": [
    "# Look at some quick descriptive statistics of the numeric data.\n",
    "print(df.describe())"
   ]
  },
  {
   "cell_type": "markdown",
   "metadata": {},
   "source": [
    "Look at the distribution of wind speeds. Why? Our assignment in the Programming for Data Analysis module involved looking at the numpy.random package <span style='color:red'> [2 np random]</span>. I learned that, under certain conditions, wind speed has a Rayleigh distribution, which is not symmetrical. I wonder if the samples in our dataset follow a such distribution? The mean and variance of this distribution are calculated from the scale factor: $\\mu = \\sqrt{\\pi / 2} s$ and $\\sigma^2 = (4 - \\pi)/2 s^2$. This results in $\\mu \\approx 1.25 s$ and $\\sigma^2 \\approx 0.43 s$. From the descriptive statistics above we know that the mean wind speed is 12.6 m/s, so the scale factor to use is $s = \\mu/1.25 \\approx 10$."
   ]
  },
  {
   "cell_type": "code",
   "execution_count": 7,
   "metadata": {},
   "outputs": [
    {
     "name": "stdout",
     "output_type": "stream",
     "text": [
      "Average wind speed is 12.59 m/s\n"
     ]
    },
    {
     "data": {
      "image/png": "[encoded data removed]",
      "text/plain": [
       "<Figure size 576x432 with 1 Axes>"
      ]
     },
     "metadata": {
      "needs_background": "light"
     },
     "output_type": "display_data"
    }
   ],
   "source": [
    "# Wind speeds sampled from a Rayleigh distribution, mean=12.6 m/s\n",
    "# Default: numpy.random.rayleigh(scale=1.0, size=None)\n",
    "data = np.random.rayleigh(10, 1000) \n",
    "plt.hist(data, bins=30, alpha = 0.3, facecolor='blue', edgecolor='black', label=['Rayleigh'])\n",
    "\n",
    "bins = np.arange(0, 30, 2) # fixed bin size\n",
    "plt.hist(df['speed'], bins=bins, alpha=0.5, facecolor='red', label=['Data'])\n",
    "\n",
    "plt.xlabel('Wind speed (m/s)')\n",
    "plt.ylabel('Probability')\n",
    "plt.title('Histogram of wind speed: $\\mu=10 m/s$')\n",
    "plt.legend()\n",
    "w = df['speed'].mean(axis=0)\n",
    "print(f'Average wind speed is {w:.2f} m/s')"
   ]
  },
  {
   "cell_type": "markdown",
   "metadata": {},
   "source": [
    "Well, that was a dead end. Clearly the wind speeds provided do not follow a Rayleigh distribution, rather roughly a uniform distribution."
   ]
  },
  {
   "cell_type": "code",
   "execution_count": 8,
   "metadata": {},
   "outputs": [
    {
     "data": {
      "image/png": "[encoded data removed]",
      "text/plain": [
       "<Figure size 576x432 with 1 Axes>"
      ]
     },
     "metadata": {
      "needs_background": "light"
     },
     "output_type": "display_data"
    }
   ],
   "source": [
    "# Try plotting power as a function of wind speed to check for any obvious relationship between them.\n",
    "plt.plot(df['speed'], df['power'],  '.g')\n",
    "plt.title('Power vs wind speed', fontsize='14')\n",
    "plt.xlabel('speed (m/s)', fontsize='14')\n",
    "plt.ylabel('power', fontsize='14')\n",
    "plt.grid()"
   ]
  },
  {
   "cell_type": "markdown",
   "metadata": {},
   "source": [
    "Clearly there isn't a simple relationship between power and speed. It looks as if little power is generated until some threshold speed is achieved (about 7 m/s), then it increases nearly linearly in a range of wind speeds (10 - 15 m/s), before saturating above a certain wind speed (about 17 m/s). The plot would suggest there is a range of wind speeds where the power seems to increase linearly with wind speed, but we need to consider a model that works outside of this range also. Apart from the zero power values at the top and bottom (more here) of the dataset, there are very occasional zero values for power above about 10 m/s; to me they just look like anomalies."
   ]
  },
  {
   "cell_type": "markdown",
   "metadata": {},
   "source": [
    "### What do we expect?\n",
    "Is this the curve we should expect? I think so. The theoretical power curve for a turbine is specific to each turbine and site; see Figure 2 in <span style='color:red'> [3 WT curve] </span>. I'll include a screengrab here. On the figure:\n",
    "- The cut-in speed is the threshold wind speed that much be reached before the turbine will start to generate electricity. A typical value is about 3 m/s.\n",
    "- The rated output power is achieved at approximately 12 - 13 m/s.\n",
    "- The cut-out speed is the wind speed at which the turbine will stop producing electricity in order to avoid damage; typically 25 m/s."
   ]
  },
  {
   "cell_type": "markdown",
   "metadata": {},
   "source": [
    "<img src=\"img/P-wind-theory.JPG\" height=500 width=500>"
   ]
  },
  {
   "cell_type": "markdown",
   "metadata": {},
   "source": [
    "How is this theoretical curve calculated? I found some formulae which state that the extractable power from the wind is given by:\n",
    "$$P = \\frac{1}{2} \\rho A v^3 C_p$$\n",
    "where $\\rho$ is the density of air, $A$ is the area swept by the turbines, $v$ is the wind speed, and $C_p$ is the power coefficient <span style='color:red'> [4 WT calc] </span>. Looking at this formula I would expect power to depend on $v^3$. However, $C_p$ is not static as it depends on the ratio of blade tip speed to wind speed (called $\\lambda$). That function looks like this:"
   ]
  },
  {
   "cell_type": "markdown",
   "metadata": {},
   "source": [
    "<img src=\"img/Cp-lambda.JPG\">"
   ]
  },
  {
   "cell_type": "code",
   "execution_count": 9,
   "metadata": {},
   "outputs": [
    {
     "name": "stdout",
     "output_type": "stream",
     "text": [
      "Average wind speed in data is 12.59 m/s\n"
     ]
    },
    {
     "data": {
      "image/png": "[encoded data removed]",
      "text/plain": [
       "<Figure size 576x432 with 1 Axes>"
      ]
     },
     "metadata": {
      "needs_background": "light"
     },
     "output_type": "display_data"
    }
   ],
   "source": [
    "# So I would expect the power curve to be a product of $v^3$ and this bump above. I'll try to model it.\n",
    "# wind speed\n",
    "x = np.linspace(0, 25, 100)\n",
    "\n",
    "# speed ^3\n",
    "v = np.power(x, 3)\n",
    "\n",
    "# Try a Rayeigh distribution for the power coefficient, need scale factor sc.\n",
    "# w = mean wind speed from our dataset above\n",
    "print(f'Average wind speed in data is {w:.2f} m/s')\n",
    "\n",
    "sc = w / (m.sqrt((m.pi) / 2)) # mode or scale\n",
    "ray = lambda s, x: (x / s ** 2) * ( np.exp( (-x **2) / (2 * s **2) )  )\n",
    "\n",
    "# PLot the product v^3 * Rayleigh and scale it down.\n",
    "plt.plot(x, 0.5 * ray(sc, x)*v, color='b', label='Rayleigh * $v^3$')\n",
    "plt.title('Power curve formula', fontsize='14')\n",
    "plt.xlabel('speed (m/s)', fontsize='14')\n",
    "plt.ylabel('power', fontsize='14')\n",
    "plt.legend()\n",
    "plt.grid()"
   ]
  },
  {
   "cell_type": "markdown",
   "metadata": {},
   "source": [
    " So this is starting to look like our data but I feel it would be difficult to model exactly. I'll start with something simpler."
   ]
  },
  {
   "cell_type": "markdown",
   "metadata": {},
   "source": [
    "## Data preparation\n",
    "The next step in a project is to prepare the dataset <span style='color:red'> [1 Geron] </span>. The first thing I'll do is clean it by removing unwanted zeros. The easiest approach would be to remove all rows where power = 0. I don't really want to do that however, because I feel like the zero power values below about 10 m/s are part of the data, while the ones above about 24 m/s represent some sort of a limit of operation. I can't see how a model would be able to abruptly predict power = 0 at the very high end of speed values unless I hard coded it in as a condition, or constrained the allowed input speed values to a range. I might come back to this here, or place a limit on wind speed input values in the front end of the application.\n",
    "Other steps which could happen now include feature selection and feature scaling. Feature selection is used to drop inputs that provide no useful information; in our case we have only one input (speed) so that step isn't relevant. Feature scaling would be necessary if the scale of an input feature was very big or small compared to other features; again, not relevant here. "
   ]
  },
  {
   "cell_type": "code",
   "execution_count": 10,
   "metadata": {},
   "outputs": [
    {
     "data": {
      "image/png": "[encoded data removed]",
      "text/plain": [
       "<Figure size 576x432 with 1 Axes>"
      ]
     },
     "metadata": {
      "needs_background": "light"
     },
     "output_type": "display_data"
    }
   ],
   "source": [
    "# Where do all the zeros occur?\n",
    "dfz = df[df[\"power\"] == 0]\n",
    "# print(f'There are {dfz.shape} zero values for power')\n",
    "# print(dfz)\n",
    "\n",
    "# Want to keep all rows with power != 0 iff speed > 10\n",
    "# https://www.shanelynn.ie/select-pandas-dataframe-rows-and-columns-using-iloc-loc-and-ix/\n",
    "dfc = df.loc[(df.power == 0) & (df.speed > 10)] # indices where this is true\n",
    "dfc # check 14 rows\n",
    "# I want to remove these rows from my existing dataset.\n",
    "df.drop(df.loc[(df.power == 0) & (df.speed > 10)].index, inplace=True)\n",
    "\n",
    "plt.plot(df['speed'], df['power'],  '.b')\n",
    "plt.title('Power vs wind speed - cleaned', fontsize='14')\n",
    "plt.xlabel('speed (m/s)', fontsize='14')\n",
    "plt.ylabel('power (kW)', fontsize='14')\n",
    "plt.grid()"
   ]
  },
  {
   "cell_type": "markdown",
   "metadata": {},
   "source": [
    "## Identify promising models\n",
    "<span style='color:red'> [1 Geron] </span> now suggests shortlisting promising models. I'll have to think about it. This is a supervised learning problem because we have been provided with a training set which is labeled: we know the power output for each value of input wind speed. Furthermore, it is a regression problem because we have been asked to predict a target numeric value of power given an input wind speed. This is different to classification, where one would be asked to predict what class a particular input belongs to; for example, using the iris data set predict iris species using some/all of the inputs petal length, petal width, sepal length, and sepal width. Some supervised learning algorithms suitable for our task include linear regression, neural networks, and maybe some like Support Vector Machine (SVM) regression and decision trees. I'll probably try the first two and only do more if I have time.\n",
    "\n",
    "<span style='color:red'> [CourseML] </span> for some of these."
   ]
  },
  {
   "cell_type": "markdown",
   "metadata": {},
   "source": [
    "***\n",
    "### Model 1: Linear Regression\n",
    "Looking at the data, we could probably get away with fitting a straight line to it. That would likely do a very good job of predicting output power over a certain range of input wind speeds (around 10 - 15 m/s). However, it wouldn't do a great job around the places where the power is rising more slowly (< 10 m/s) or where it is leveling off (> 15 m/s). I think I'll start with a linear model and maybe move on to nonlinear regression afterwards. "
   ]
  },
  {
   "cell_type": "code",
   "execution_count": 11,
   "metadata": {},
   "outputs": [
    {
     "data": {
      "text/html": [
       "<div>\n",
       "<style scoped>\n",
       "    .dataframe tbody tr th:only-of-type {\n",
       "        vertical-align: middle;\n",
       "    }\n",
       "\n",
       "    .dataframe tbody tr th {\n",
       "        vertical-align: top;\n",
       "    }\n",
       "\n",
       "    .dataframe thead th {\n",
       "        text-align: right;\n",
       "    }\n",
       "</style>\n",
       "<table border=\"1\" class=\"dataframe\">\n",
       "  <thead>\n",
       "    <tr style=\"text-align: right;\">\n",
       "      <th></th>\n",
       "      <th>speed</th>\n",
       "      <th>power</th>\n",
       "    </tr>\n",
       "  </thead>\n",
       "  <tbody>\n",
       "    <tr>\n",
       "      <th>speed</th>\n",
       "      <td>1.000000</td>\n",
       "      <td>0.950026</td>\n",
       "    </tr>\n",
       "    <tr>\n",
       "      <th>power</th>\n",
       "      <td>0.950026</td>\n",
       "      <td>1.000000</td>\n",
       "    </tr>\n",
       "  </tbody>\n",
       "</table>\n",
       "</div>"
      ],
      "text/plain": [
       "          speed     power\n",
       "speed  1.000000  0.950026\n",
       "power  0.950026  1.000000"
      ]
     },
     "execution_count": 11,
     "metadata": {},
     "output_type": "execute_result"
    }
   ],
   "source": [
    "# Take a quick look at the correlation between the dataframe columns\n",
    "df.corr()"
   ]
  },
  {
   "cell_type": "markdown",
   "metadata": {},
   "source": [
    "<span style='color:red'> [Medium nlr] </span> states that a correlation coefficient > 0.7 suggests a strong linear tendency and a nonlinear model would be inappropriate. We see values > 0.9 for the correlation between power and speed, so a straight line might actually be fine. We'll see."
   ]
  },
  {
   "cell_type": "code",
   "execution_count": 12,
   "metadata": {},
   "outputs": [
    {
     "name": "stdout",
     "output_type": "stream",
     "text": [
      "(486, 1)\n",
      "(486,)\n",
      "Coefficients: \n",
      " [5.5509909]\n",
      "Mean squared error: 166.62\n",
      "Coefficient of determination: 0.90\n"
     ]
    },
    {
     "data": {
      "text/plain": [
       "<matplotlib.legend.Legend at 0x1caa5507b20>"
      ]
     },
     "execution_count": 12,
     "metadata": {},
     "output_type": "execute_result"
    },
    {
     "data": {
      "image/png": "[encoded data removed]",
      "text/plain": [
       "<Figure size 576x432 with 1 Axes>"
      ]
     },
     "metadata": {
      "needs_background": "light"
     },
     "output_type": "display_data"
    }
   ],
   "source": [
    "# From: https://scikit-learn.org/stable/modules/linear_model.html#ordinary-least-squares\n",
    "# and example from\n",
    "# https://scikit-learn.org/stable/auto_examples/linear_model/plot_ols.html#sphx-glr-auto-examples-linear-model-plot-ols-py\n",
    "\n",
    "# Create linear regression object\n",
    "reg = linear_model.LinearRegression()\n",
    "\n",
    "# Need x and y in correct format TO DO restrict x values to be 7-18 & reflect that in front-end that calls model\n",
    "X = df[[\"speed\"]] # note dimensions\n",
    "y = df[\"power\"]\n",
    "\n",
    "print(X.shape)\n",
    "print(y.shape)\n",
    "\n",
    "# Split into training and test sets TO DO LATER\n",
    "\n",
    "# Train the model using the training sets\n",
    "reg.fit(X, y)\n",
    "\n",
    "# Make predictions using the testing set\n",
    "y_pred = reg.predict(X)\n",
    "\n",
    "# The coefficients\n",
    "print('Coefficients: \\n', reg.coef_)\n",
    "\n",
    "# The mean squared error\n",
    "print('Mean squared error: %.2f' % mean_squared_error(y, y_pred))\n",
    "\n",
    "# The coefficient of determination: 1 is perfect prediction\n",
    "print('Coefficient of determination: %.2f' % r2_score(y, y_pred))\n",
    "\n",
    "# Inspect the fit\n",
    "plt.plot(df['speed'], df['power'],  '.b', label=\"data\")\n",
    "plt.plot(df['speed'], y_pred, 'k-', label=\"model\")\n",
    "plt.xlabel('speed (m/s)', fontsize='14')\n",
    "plt.ylabel('power (kW)', fontsize='14')\n",
    "plt.title(\"Linear model\")\n",
    "plt.grid()\n",
    "plt.legend()"
   ]
  },
  {
   "cell_type": "markdown",
   "metadata": {},
   "source": [
    "This is an example of *underfitting*, where the model is too simple to learn the structure of the data: a straight line is not a good fit to our data. One solution is to pick a more powerful model which has more parameters, so we will now try fitting a polynomial to our data. There are many possible nonlinear models <span style='color:red'> [5 Medium nlr] </span>. However, as we already know that $ power \\propto speed^3$, a third order polynomial might be a good place to start.\n",
    "\n",
    "First, I'll split the data set into a training and validation part (what we have been calling test) and look at the linear model as a function of training set size. The code that follows is taken directly from <span style='color:red'> [1 Geron] </span> (p. 132) with just some edits specific to this notebook. The plot below shows that the straight line is a good fit to the data (close to zero error) when there are only a few data points in the training set, but when more points are added to the training set, the error increases because a straight line is not a good fit to this data at all. The training error reaches a plateau. On the validation or test set, the model (having being trained on only a few training points) cannot generalize well at all to new data and the error is high. As more points are added to the training set, the model performs better and the validation error comes down, although it too tends towards the same limit. This learning curve is typical of a model that is underfitting. Adding more data will not help to bring down the error, but choosing a more complex model might <span style='color:red'> [6 CourseML] </span> (Week 6 lectures)."
   ]
  },
  {
   "cell_type": "code",
   "execution_count": 13,
   "metadata": {},
   "outputs": [
    {
     "data": {
      "image/png": "[encoded data removed]",
      "text/plain": [
       "<Figure size 576x432 with 1 Axes>"
      ]
     },
     "metadata": {
      "needs_background": "light"
     },
     "output_type": "display_data"
    }
   ],
   "source": [
    "def plot_learning_curves(model, X, y):\n",
    "    X_train, X_val, y_train, y_val = train_test_split(X, y, test_size = 0.2)\n",
    "    train_errors, val_errors = [], []\n",
    "    for m in range (1, len(X_train)):\n",
    "        model.fit(X_train[:m], y_train[:m])\n",
    "        y_train_predict = model.predict(X_train[:m])\n",
    "        y_val_predict = model.predict(X_val)\n",
    "        train_errors.append(mean_squared_error(y_train[:m], y_train_predict))\n",
    "        val_errors.append(mean_squared_error(y_val, y_val_predict))\n",
    "    plt.plot(np.sqrt(train_errors), \"r-+\", label=\"train\")\n",
    "    plt.plot(np.sqrt(val_errors), \"b-.\", label=\"validation\")\n",
    "    plt.legend()\n",
    "    plt.xlabel(\"Size of training set\")\n",
    "    plt.ylabel(\"Root mean squared error\")\n",
    "    plt.grid()\n",
    "    plt.xlim(-10, 100)\n",
    "\n",
    "lin_reg = linear_model.LinearRegression()\n",
    "plot_learning_curves(lin_reg, X, y)"
   ]
  },
  {
   "cell_type": "markdown",
   "metadata": {},
   "source": [
    "***\n",
    "### Model 2: Polynomial Regression"
   ]
  },
  {
   "cell_type": "markdown",
   "metadata": {},
   "source": [
    "We transform our simple linear model $$y = \\theta_0 + \\theta_1 x $$ into a nonlinear one $$ y = \\theta_0 + \\theta_1 (x) + \\theta_2 (x^2) + \\theta_3 (x^3)$$ We can still do linear regression using this model because it is linear in the model parameters $\\theta$: $\\theta_0$ is the bias term (intercept in a straight line) and the remaining $\\theta$ terms are feature weights. <span style='color:red'> [7 Medium polyReg] </span>. The $x$, $x^2$, and $x^3$ are our features, which we obtain by transforming the data we were given. We use the PolynomialFeatures class in Scikit-learn to do this by adding the square and cube of our data to create two new features <span style='color:red'> [1 Geron] </span> (p. 129). "
   ]
  },
  {
   "cell_type": "code",
   "execution_count": 14,
   "metadata": {},
   "outputs": [
    {
     "name": "stdout",
     "output_type": "stream",
     "text": [
      "Coefficients: [-9.9962085   1.52618241 -0.0403893 ]\n",
      "Intercept: 14.67\n",
      "Mean squared error: 45.71\n",
      "Coefficient of determination: 0.97\n"
     ]
    }
   ],
   "source": [
    "# Try polynomial order 3\n",
    "poly_features = PolynomialFeatures(degree=3, include_bias=False) #include_bias -> intercept\n",
    "\n",
    "# Split the data set into train/set.\n",
    "X_train, X_test, y_train, y_test = train_test_split(X, y, test_size = 0.2)\n",
    "\n",
    "# Generate the new features (powers of x) for the training data\n",
    "X_train_poly = poly_features.fit_transform(X_train)\n",
    "\n",
    "# Create an instance of the model & train it using the transformed training set.\n",
    "regP = linear_model.LinearRegression()\n",
    "regP.fit(X_train_poly, y_train)\n",
    "\n",
    "# Prediction for y using test data?\n",
    "X_test_poly = poly_features.fit_transform(X_test)\n",
    "y_predP = regP.predict(X_test_poly)\n",
    "\n",
    "# The coefficients of the fit.\n",
    "print(f'Coefficients: {regP.coef_}')\n",
    "# Don't forget about the intercept - I did initially.\n",
    "print(f'Intercept: {regP.intercept_:.2f}')\n",
    "\n",
    "# The mean squared error\n",
    "print(f'Mean squared error: {mean_squared_error(y_test, y_predP):.2f}')\n",
    "\n",
    "# The coefficient of determination: 1 is perfect prediction\n",
    "print(f'Coefficient of determination: {r2_score(y_test, y_predP):.2f}')"
   ]
  },
  {
   "cell_type": "code",
   "execution_count": 15,
   "metadata": {},
   "outputs": [
    {
     "name": "stdout",
     "output_type": "stream",
     "text": [
      "For wind speed: 20.00 polynomial regression predicts power  = 102.10\n"
     ]
    }
   ],
   "source": [
    "# Predict power for a single input speed\n",
    "xin = 20\n",
    "out = regP.intercept_ + regP.coef_[0]*xin + regP.coef_[1]*(xin**2) + regP.coef_[2]*(xin**3)\n",
    "print(f'For wind speed: {xin:.2f} polynomial regression predicts power  = {out:.2f}')\n",
    "\n",
    "# Inspect the fit - seems to have a y shift of about -13 (I was forgetting y intercept!)\n",
    "fit = regP.intercept_ + regP.coef_[0]*df['speed'] + regP.coef_[1]*(df['speed']**2) + regP.coef_[2]*(df['speed']**3)"
   ]
  },
  {
   "cell_type": "code",
   "execution_count": 16,
   "metadata": {},
   "outputs": [
    {
     "data": {
      "text/plain": [
       "<matplotlib.legend.Legend at 0x1ca9c4c2610>"
      ]
     },
     "execution_count": 16,
     "metadata": {},
     "output_type": "execute_result"
    },
    {
     "data": {
      "image/png": "[encoded data removed]",
      "text/plain": [
       "<Figure size 576x432 with 1 Axes>"
      ]
     },
     "metadata": {
      "needs_background": "light"
     },
     "output_type": "display_data"
    }
   ],
   "source": [
    "plt.plot(df['speed'], df['power'],  'b.', label=\"data\")\n",
    "plt.plot(X_test, y_predP, 'k.', label=\"model on test set\")\n",
    "plt.plot(df['speed'], fit, 'r-', label=\"fit\")\n",
    "plt.xlabel('speed (m/s)', fontsize='14')\n",
    "plt.ylabel('power (kW)', fontsize='14')\n",
    "plt.title(\"Polynomial order=3\")\n",
    "plt.grid()\n",
    "plt.legend()"
   ]
  },
  {
   "cell_type": "markdown",
   "metadata": {},
   "source": [
    "This looks like a reasonably food fit with an $R^2$ value very close to 1. Despite the high $R^2$ value, we can see that the fit is a little off as speed approaches 10 m/s and is greater than about 15 m/s. I'll definitely use it in my final product. I can't plot the test data as a line because the X_test values are randomly selected from the data set so they are not in ascending order - I get a scribble for a curve if I try. I might restrict input values of wind speed in the front end, for example,\n",
    "- speed < 5, power = 0\n",
    "- speed > 20, power = take an average of last 20 values in cleaned data set perhaps.\n",
    "\n",
    "Our model for power output will be:\n",
    "$$ power = 14.13 - 9.65 speed + 1.48 speed^2 - 0.04 speed^3$$"
   ]
  },
  {
   "cell_type": "markdown",
   "metadata": {},
   "source": [
    "***\n",
    "### Model 3: Support Vector Machines\n",
    "\n",
    "I had come across the support vector machine (SVM) for detection of outliers and for logistic regression, where one is trying to do classification by finding a decision boundary which separates classes. SVM is a large margin classifier as it aims to find a decision boundary which has as large a margin as possible around the decision boundary, i.e, the margin does not contain any training data. SVM outputs a prediction (1 or 0) of whether or not an example belongs to a class, whereas logistic regression outputs a probability. Nonlinear decision boundaries can be tackled though choice of an appropriate kernal in the SVM - I'll explain later. I hadn't realised SVM could be used for regression, but Google tells me it can <span style='color:red'> [8 Medium SVRreg] </span>, so I'll give it a go. SVM regression works in the opposite way to what we have just described: the algorithm tries to fit as many training examples as possible inside the margin while limiting the number that fall outside it <span style='color:red'> [1 Geron] </span> (p. 162)."
   ]
  },
  {
   "cell_type": "markdown",
   "metadata": {},
   "source": [
    "### SVM kernels\n",
    "The documentation on SVM in Scikit-learn includes a good basic example of SVM regression performed using different kernels <span style='color:red'> [9 SVR, 10 SKLsvrKer] </span>. The function of the kernel is to transform the input data into the form required for a particular problem <span style='color:red'> [11 DFkernel] </span>. For example, if the decision boundary between two classes is not a simple straight line, one could try using a nonlinear kernel (like polynomial) to better fit the boundary between the classes. As I understand it, this is equivalent to transforming an input feature $x$ to generate polynomial features $x^2, x^3, ..$ as we did above in model 2. </span> (p. 161) It is advisable to try a linear kernel first and then move to the Gaussian radial basis function (RBF) <span style='color:red'> [1 Geron] </span> (p. 161), a good general purpose kernel when there is no prior knowledge about the data <span style='color:red'> [11 DFkernel] </span>. I think the idea of this type of kernel is to compute new features based on the proximity of training examples to landmarks (their similarity), and the simplest thing to do is chose the landmarks to be the training examples themselves <span style='color:red'> [6 CourseML] </span> (Week 7). The Scikit-learn SVM regression algorithm must do this automatically. I'll play around with the various parameters to find a good fit to our data set.\n",
    "\n",
    "Another thing I see mentioned a lot is that SVMs are sensitive to scaling, so we'll probably have to apply some type of transformation to our input feature before training a model <span style='color:red'> [12 MLMscaler] </span>. "
   ]
  },
  {
   "cell_type": "markdown",
   "metadata": {},
   "source": [
    "I will try a linear kernel first and see how we get on. The parameter C is related to regularization: the default value is 1. Small C means lots of regularization, which implies high bias and low variance, or a model that's too simple. Large C means very little regularization, which translates to overfitting as a result of low bias and high variance. I think, regardless of what C I pick below, a linear model will never fit the data."
   ]
  },
  {
   "cell_type": "code",
   "execution_count": 17,
   "metadata": {},
   "outputs": [
    {
     "data": {
      "text/plain": [
       "<matplotlib.legend.Legend at 0x1caa54c8790>"
      ]
     },
     "execution_count": 17,
     "metadata": {},
     "output_type": "execute_result"
    },
    {
     "data": {
      "image/png": "[encoded data removed]",
      "text/plain": [
       "<Figure size 576x432 with 1 Axes>"
      ]
     },
     "metadata": {
      "needs_background": "light"
     },
     "output_type": "display_data"
    }
   ],
   "source": [
    "# Create an instance of the SVR class\n",
    "# C ~1/reg default = 1. Tiny C bad fit, Huge C over fit\n",
    "svr_lin = SVR(kernel='linear', C=1)\n",
    "\n",
    "# Scale X only\n",
    "sc_X = StandardScaler()\n",
    "X_scale = sc_X.fit_transform(X)\n",
    "\n",
    "# Train model with scaled X and y\n",
    "svr_lin.fit(X_scale, y)\n",
    "\n",
    "# What does the fit look like?\n",
    "plt.plot(X, y, 'm.', label=\"data\") # X, y data\n",
    "plt.plot(X, svr_lin.predict(X_scale), '-r', label=\"SVR linear\") # prediction using scaled X data\n",
    "plt.xlabel('speed (m/s)', fontsize='14')\n",
    "plt.ylabel('power (kW)', fontsize='14')\n",
    "plt.title(\"SVR\")\n",
    "plt.grid()\n",
    "plt.legend()"
   ]
  },
  {
   "cell_type": "markdown",
   "metadata": {},
   "source": [
    "This linear kernel produces much the same result as when we tried simple linear regression above. Lets try a polynomial kernel with degree = 3 as we know the power out has $v^3$ component. Feature x is already scaled from above. coeff0 is the independent term in the kernel function with default value 0. I got a very bad prediction with coef0=0 and found that coef0=1 worked well. Making it even bigger didn't appear to do much to the fit but it took the code a tiny bit longer to run. <span style='color:red'> [13 SVRpractical] </span> gives some explanation of the parameters - gamma defines how much influence a single training example has. The larger gamma is, the closer other examples must be to be affected. I'll leave it at the default value, and same for epsilon. I'll leave the regularization parameter C = 1. If I change C to be 0.1 or something small I end up with an almost linear prediction - so lots of regularization which translates into a too simple model. "
   ]
  },
  {
   "cell_type": "code",
   "execution_count": 18,
   "metadata": {},
   "outputs": [
    {
     "data": {
      "text/plain": [
       "<matplotlib.legend.Legend at 0x1caa43f6100>"
      ]
     },
     "execution_count": 18,
     "metadata": {},
     "output_type": "execute_result"
    },
    {
     "data": {
      "image/png": "[encoded data removed]",
      "text/plain": [
       "<Figure size 576x432 with 1 Axes>"
      ]
     },
     "metadata": {
      "needs_background": "light"
     },
     "output_type": "display_data"
    }
   ],
   "source": [
    "# Create an instance of the SVR class\n",
    "svr_ply = SVR(kernel=\"poly\", degree=3, coef0=1, C=1, epsilon=0.1, gamma='auto') # OK like poly LR\n",
    "# coef0 is ..\n",
    "# epsilon is ..\n",
    "\n",
    "# Train model with scaled X and y\n",
    "svr_ply.fit(X_scale, y)\n",
    "\n",
    "# What does the fit look like?\n",
    "plt.plot(X, y, 'm.', label=\"data\") # X, y data\n",
    "plt.plot(X, svr_ply.predict(X_scale), '-b', label=\"SVR poly3\") # prediction using scaled X data\n",
    "plt.xlabel('speed (m/s)', fontsize='14')\n",
    "plt.ylabel('power (kW)', fontsize='14')\n",
    "plt.title(\"SVR\")\n",
    "plt.grid()\n",
    "plt.legend()"
   ]
  },
  {
   "cell_type": "markdown",
   "metadata": {},
   "source": [
    "Lastly, I'll try the RBF kernel and I'll play around with C. I found that C = 0.1 gives a very bad fit, and as C approaches 1 the fit gets better. I'll end up leaving it at the default of 1. "
   ]
  },
  {
   "cell_type": "code",
   "execution_count": 19,
   "metadata": {},
   "outputs": [
    {
     "name": "stdout",
     "output_type": "stream",
     "text": [
      "C = 0.1, R-squared = 0.5288\n",
      "C = 0.2, R-squared = 0.8592\n",
      "C = 0.5, R-squared = 0.9785\n",
      "C = 1, R-squared = 0.9860\n",
      "C = 5, R-squared = 0.9898\n",
      "C = 10, R-squared = 0.9901\n"
     ]
    }
   ],
   "source": [
    "#Few C values to try.\n",
    "c_vals = [0.1, 0.2, 0.5, 1, 5, 10]\n",
    "r2 = []\n",
    "for c in c_vals:\n",
    "    svr_c = SVR(kernel=\"rbf\", C=c, gamma='auto')\n",
    "    svr_c.fit(X_scale, y)\n",
    "    svr_c.predict(X_scale)\n",
    "    r2.append(svr_c.score(X_scale, y))\n",
    "    print(f'C = {c}, R-squared = {svr_c.score(X_scale, y):.4f}')"
   ]
  },
  {
   "cell_type": "code",
   "execution_count": 20,
   "metadata": {},
   "outputs": [
    {
     "data": {
      "image/png": "[encoded data removed]",
      "text/plain": [
       "<Figure size 576x432 with 1 Axes>"
      ]
     },
     "metadata": {
      "needs_background": "light"
     },
     "output_type": "display_data"
    }
   ],
   "source": [
    "plt.plot(c_vals, r2, 'r+')\n",
    "plt.xlabel('C parameter in rbf kernel', fontsize='14')\n",
    "plt.ylabel('$R^2$', fontsize='14')\n",
    "plt.title(\"Regularization $R^2$ relationship\")\n",
    "plt.grid()"
   ]
  },
  {
   "cell_type": "code",
   "execution_count": 21,
   "metadata": {},
   "outputs": [
    {
     "data": {
      "text/plain": [
       "<matplotlib.legend.Legend at 0x1caa42783d0>"
      ]
     },
     "execution_count": 21,
     "metadata": {},
     "output_type": "execute_result"
    },
    {
     "data": {
      "image/png": "[encoded data removed]",
      "text/plain": [
       "<Figure size 576x432 with 1 Axes>"
      ]
     },
     "metadata": {
      "needs_background": "light"
     },
     "output_type": "display_data"
    }
   ],
   "source": [
    "# Create an instance of the SVR class\n",
    "svr_kbf = SVR(kernel=\"rbf\", C=1, gamma='auto')\n",
    "\n",
    "# Train model with scaled X and y\n",
    "svr_kbf.fit(X_scale, y)\n",
    "\n",
    "# What does the fit look like?\n",
    "plt.plot(X, y, 'm.', label=\"data\") # X, y data\n",
    "plt.plot(X, svr_kbf.predict(X_scale), '-g', label=\"SVR rbf\") # prediction using scaled X data\n",
    "plt.xlabel('speed (m/s)', fontsize='14')\n",
    "plt.ylabel('power (kW)', fontsize='14')\n",
    "plt.title(\"SVR\")\n",
    "plt.grid()\n",
    "plt.legend()"
   ]
  },
  {
   "cell_type": "markdown",
   "metadata": {},
   "source": [
    "I think this is doing a slightly better job than polynomial SVM regression. Finally, I'll split the data set into a train / test part and evaluate the model on test data."
   ]
  },
  {
   "cell_type": "code",
   "execution_count": 22,
   "metadata": {},
   "outputs": [
    {
     "name": "stdout",
     "output_type": "stream",
     "text": [
      "R-squared on test data = 0.9828\n"
     ]
    },
    {
     "data": {
      "image/png": "[encoded data removed]",
      "text/plain": [
       "<Figure size 576x432 with 1 Axes>"
      ]
     },
     "metadata": {
      "needs_background": "light"
     },
     "output_type": "display_data"
    }
   ],
   "source": [
    "# Split the data set into train/set.  X already scaled but y is not\n",
    "X_train, X_test, y_train, y_test = train_test_split(X_scale, y, test_size = 0.2)\n",
    "\n",
    "# Create an instance of the SVR class\n",
    "svr_final = SVR(kernel=\"rbf\", C=1, gamma='auto')\n",
    "\n",
    "# Train model with training data scaled X and y.\n",
    "svr_final.fit(X_train, y_train)\n",
    "\n",
    "# Test it on test data.\n",
    "y_pred = svr_final.predict(X_test)\n",
    "\n",
    "# And plot.\n",
    "plt.plot(X_train, y_train, '.c', label=\"train\") # X, y training data\n",
    "plt.plot(X_test, y_pred, '.m', label=\"SVR rbf on test\") # prediction using scaled X_test data\n",
    "plt.xlabel('Scaled speed (m/s)', fontsize='14')\n",
    "plt.ylabel('power (kW)', fontsize='14')\n",
    "plt.title(\"SVR train/test\")\n",
    "plt.grid()\n",
    "plt.legend()\n",
    "\n",
    "# R-squared.\n",
    "print(f'R-squared on test data = {svr_final.score(X_test, y_test):.4f}')"
   ]
  },
  {
   "cell_type": "markdown",
   "metadata": {},
   "source": [
    "Note that the scaled speed is displayed on this plot. In order to make a prediction of power given wind speed, I'll have to apply the same scaling transform to the input speed before using the predict method."
   ]
  },
  {
   "cell_type": "code",
   "execution_count": 23,
   "metadata": {},
   "outputs": [
    {
     "name": "stdout",
     "output_type": "stream",
     "text": [
      "wind = 1, power = [97.77889873]\n",
      "wind = 15, power = 73.21701985315008\n"
     ]
    }
   ],
   "source": [
    "# Q. How to predict from a single value? A. Need x and the transformer sc_X\n",
    "# Scaling issue? As predictions for -1,0,1 seems to match power.\n",
    "print(f'wind = 1, power = {svr_final.predict([[1]])}')\n",
    "\n",
    "# Apply same scaler to the x value we want to test.\n",
    "xin = [[15]]\n",
    "xin_scale = sc_X.transform(xin)\n",
    "\n",
    "# Make a prediction for this scaled value - seems sensible.\n",
    "yout = svr_final.predict(xin_scale)\n",
    "print(f'wind = {xin[0][0]}, power = {yout[0]}')"
   ]
  },
  {
   "cell_type": "markdown",
   "metadata": {},
   "source": [
    "***\n",
    "### Model 4: Neural Network\n",
    "\n",
    "Both polynomial and SVM regression are doing a reasonably good job of predicting power given wind speed. I think the SVM regression model with rbf kernel does best, but if you look closely, you can still see that the fit (prediction) doesn't always go through the data in a symmetric way. For example, in the last plot above you can see that the prediction is a tiny bit off for scaled speed in the range -1 to 0. I'm now going to investigate if a neural network will do a better job."
   ]
  },
  {
   "cell_type": "markdown",
   "metadata": {},
   "source": [
    "An artificial neural network, or just a neural network, is a machine learning model inspired by the networks of biological neurons found in human brains <span style='color:red'> [14 WikiANN] </span>. Each individual biological neuron is relatively simple, but because each one is connected to many thousands of others, they can perform complicated tasks when working together. With that idea replicated for machine learning, the idea of a an artificial neuron is that its output fires depending on the value of the inputs to it. This is what a *threshold logic unit* is based on: the output of such a unit is the weighted sum of its inputs multiplied by an step function. A *perceptron* is a single layer of these units where each unit is connected to all the inputs. If each neuron in a layer is connected to all the neurons in a previous layer, that layer is a *dense* layer. A *bias* is also fed to each unit - I think of it like the intercept in a straight line as it allows one to apply a constant shift.  Finally, A *multilayer perceptron* (MLP) is obtained by stacking multiple perceptrons. A MLP has a single input layer, one or more hidden layers, and a final output layer. This quick run thorough the terminology is based on Chapter 10 of <span style='color:red'> [1 Geron] </span>. I know this explanation is not necessary but I'm interested in it and don't mind spending a little time on it. For this project, we will use the Keras API to build and train our neural networks, with the heavy computation associated with neural networks done in a backend called TensorFlow [<span style='color:red'> [15 keras, 16 tf] </span>]. We can easily build a MLP model in Keras by stacking neural network layers sequentially.  "
   ]
  },
  {
   "cell_type": "markdown",
   "metadata": {},
   "source": [
    "<img src=\"img/neural_network.png\" height=300 width=300>"
   ]
  },
  {
   "cell_type": "code",
   "execution_count": 24,
   "metadata": {},
   "outputs": [],
   "source": [
    "# Refresh our memory re. the data - looks good.\n",
    "#plt.plot(df['speed'], df['power'],  '.g')\n",
    "#plt.plot(X, y,  '-r')\n",
    "\n",
    "# Split the data set into train/set.\n",
    "X_train, X_test, y_train, y_test = train_test_split(X, y, test_size = 0.2)"
   ]
  },
  {
   "cell_type": "markdown",
   "metadata": {},
   "source": [
    "Now we construct a neural network consisting of three layers: the input layer, a hidden layer with 50 neurons, and the output layer. Having one hidden layer is a good default, but if there are more hidden layers, it's recommended to have the same number of neurons in each hidden layer <span style='color:red'> [6 CourseML] </span> (week 5). The more neurons there are in each hidden layer the better, but it must balance against increased computation time for more neurons. \n",
    "\n",
    "The steps involved are outlined nicely here <span style='color:red'> [17 NNWhowto] </span>. activation, bias, weights explain."
   ]
  },
  {
   "cell_type": "code",
   "execution_count": 25,
   "metadata": {},
   "outputs": [],
   "source": [
    "# Create a Sequential model incrementally via the add() method:\n",
    "model = kr.models.Sequential()\n",
    "model.add(kr.layers.Dense(50, input_shape=(1,), activation='sigmoid', kernel_initializer=\"glorot_uniform\", bias_initializer=\"zeros\"))\n",
    "model.add(kr.layers.Dense(1, activation='linear', kernel_initializer=\"glorot_uniform\", bias_initializer=\"glorot_uniform\"))"
   ]
  },
  {
   "cell_type": "markdown",
   "metadata": {},
   "source": [
    "Types of optimizer & back prop alg. p 291 loss fun"
   ]
  },
  {
   "cell_type": "code",
   "execution_count": 26,
   "metadata": {},
   "outputs": [],
   "source": [
    "# Compile the model. p 302\n",
    "model.compile(kr.optimizers.Adam(lr=0.001), loss=\"mean_squared_error\")"
   ]
  },
  {
   "cell_type": "markdown",
   "metadata": {},
   "source": [
    "If we apply the predict method to our input X at this stage, using initialized values of biases and weights, we are performing forward propagation of our inputs through an untrained neural network. The network has not learned anything and shouldn't be able to make a sensible prediction yet."
   ]
  },
  {
   "cell_type": "code",
   "execution_count": 27,
   "metadata": {},
   "outputs": [
    {
     "data": {
      "image/png": "[encoded data removed]",
      "text/plain": [
       "<Figure size 576x432 with 1 Axes>"
      ]
     },
     "metadata": {
      "needs_background": "light"
     },
     "output_type": "display_data"
    }
   ],
   "source": [
    "# Look at output with no training.\n",
    "plt.plot(X, y, 'co', label=\"data\")\n",
    "plt.plot(X, model.predict(X), 'b-', label=\"Untrained neural n/w\")\n",
    "plt.xlabel('Speed (m/s)', fontsize='14')\n",
    "plt.ylabel('power (kW)', fontsize='14')\n",
    "plt.title(\"Neural network forward propagation\")\n",
    "plt.legend()\n",
    "plt.grid()"
   ]
  },
  {
   "cell_type": "markdown",
   "metadata": {},
   "source": [
    "Now train the network over 500 epochs - like number of iterations. We can speed up the training by doing so in batches. The parameter batch_size is the number of samples per gradient update. Gradient descent is an algorithm used to minimize the cost function at each epoch. Normal gradient descent involves all samples in the training set being used to calculate the gradient and cost function; it proceeds smoothly towards a minimum of the cost function in parameter space. Stochastic gradient descent (SGD) calculates the gradient and cost for each each epoch using one sample (randomly selected hence stochastic; it proceeds in a jagged way towards a minimum but it does so faster. Mini-batch SGD uses a small random subset of the training examples at each iteration, so it's somewhere in between gradient descent and SGD <span style='color:red'> [6 CourseML (week 10), x GDvsSGD] </span>. "
   ]
  },
  {
   "cell_type": "code",
   "execution_count": 28,
   "metadata": {},
   "outputs": [
    {
     "name": "stdout",
     "output_type": "stream",
     "text": [
      "Epoch 1/500\n",
      "49/49 [==============================] - 0s 694us/step - loss: 4141.6255\n",
      "Epoch 2/500\n",
      "49/49 [==============================] - 0s 714us/step - loss: 3973.5281\n",
      "Epoch 3/500\n",
      "49/49 [==============================] - 0s 735us/step - loss: 3794.7100\n",
      "Epoch 4/500\n",
      "49/49 [==============================] - 0s 694us/step - loss: 3601.0527\n",
      "Epoch 5/500\n",
      "49/49 [==============================] - 0s 755us/step - loss: 3396.4763\n",
      "Epoch 6/500\n",
      "49/49 [==============================] - 0s 722us/step - loss: 3217.7646\n",
      "Epoch 7/500\n",
      "49/49 [==============================] - 0s 715us/step - loss: 3073.9583\n",
      "Epoch 8/500\n",
      "49/49 [==============================] - 0s 719us/step - loss: 2941.2312\n",
      "Epoch 9/500\n",
      "49/49 [==============================] - ETA: 0s - loss: 1705.77 - 0s 664us/step - loss: 2810.6316\n",
      "Epoch 10/500\n",
      "49/49 [==============================] - 0s 741us/step - loss: 2693.9065\n",
      "Epoch 11/500\n",
      "49/49 [==============================] - 0s 775us/step - loss: 2586.3748\n",
      "Epoch 12/500\n",
      "49/49 [==============================] - 0s 772us/step - loss: 2484.9934\n",
      "Epoch 13/500\n",
      "49/49 [==============================] - 0s 601us/step - loss: 2388.4788\n",
      "Epoch 14/500\n",
      "49/49 [==============================] - 0s 729us/step - loss: 2297.3379\n",
      "Epoch 15/500\n",
      "49/49 [==============================] - 0s 681us/step - loss: 2210.7058\n",
      "Epoch 16/500\n",
      "49/49 [==============================] - 0s 685us/step - loss: 2128.8613\n",
      "Epoch 17/500\n",
      "49/49 [==============================] - 0s 721us/step - loss: 2050.4473\n",
      "Epoch 18/500\n",
      "49/49 [==============================] - 0s 687us/step - loss: 1975.4005\n",
      "Epoch 19/500\n",
      "49/49 [==============================] - 0s 736us/step - loss: 1904.0620\n",
      "Epoch 20/500\n",
      "49/49 [==============================] - 0s 715us/step - loss: 1834.2986\n",
      "Epoch 21/500\n",
      "49/49 [==============================] - 0s 661us/step - loss: 1766.3431\n",
      "Epoch 22/500\n",
      "49/49 [==============================] - 0s 856us/step - loss: 1700.0480\n",
      "Epoch 23/500\n",
      "49/49 [==============================] - 0s 798us/step - loss: 1635.3832\n",
      "Epoch 24/500\n",
      "49/49 [==============================] - 0s 662us/step - loss: 1573.3074\n",
      "Epoch 25/500\n",
      "49/49 [==============================] - 0s 702us/step - loss: 1513.7446\n",
      "Epoch 26/500\n",
      "49/49 [==============================] - 0s 692us/step - loss: 1456.8793\n",
      "Epoch 27/500\n",
      "49/49 [==============================] - 0s 707us/step - loss: 1401.2881\n",
      "Epoch 28/500\n",
      "49/49 [==============================] - 0s 721us/step - loss: 1347.9148\n",
      "Epoch 29/500\n",
      "49/49 [==============================] - 0s 718us/step - loss: 1296.0756\n",
      "Epoch 30/500\n",
      "49/49 [==============================] - 0s 690us/step - loss: 1246.5016\n",
      "Epoch 31/500\n",
      "49/49 [==============================] - 0s 704us/step - loss: 1198.5986\n",
      "Epoch 32/500\n",
      "49/49 [==============================] - 0s 720us/step - loss: 1152.1720\n",
      "Epoch 33/500\n",
      "49/49 [==============================] - 0s 731us/step - loss: 1107.5350\n",
      "Epoch 34/500\n",
      "49/49 [==============================] - 0s 607us/step - loss: 1064.7003\n",
      "Epoch 35/500\n",
      "49/49 [==============================] - 0s 717us/step - loss: 1022.8037\n",
      "Epoch 36/500\n",
      "49/49 [==============================] - 0s 916us/step - loss: 982.7055\n",
      "Epoch 37/500\n",
      "49/49 [==============================] - 0s 735us/step - loss: 944.3259\n",
      "Epoch 38/500\n",
      "49/49 [==============================] - 0s 755us/step - loss: 906.8772\n",
      "Epoch 39/500\n",
      "49/49 [==============================] - 0s 714us/step - loss: 870.6008\n",
      "Epoch 40/500\n",
      "49/49 [==============================] - 0s 714us/step - loss: 836.1898\n",
      "Epoch 41/500\n",
      "49/49 [==============================] - 0s 714us/step - loss: 802.7703\n",
      "Epoch 42/500\n",
      "49/49 [==============================] - 0s 694us/step - loss: 771.1616\n",
      "Epoch 43/500\n",
      "49/49 [==============================] - 0s 653us/step - loss: 739.9684\n",
      "Epoch 44/500\n",
      "49/49 [==============================] - 0s 735us/step - loss: 710.7731\n",
      "Epoch 45/500\n",
      "49/49 [==============================] - 0s 653us/step - loss: 682.8060\n",
      "Epoch 46/500\n",
      "49/49 [==============================] - 0s 633us/step - loss: 654.8932\n",
      "Epoch 47/500\n",
      "49/49 [==============================] - 0s 686us/step - loss: 628.7651\n",
      "Epoch 48/500\n",
      "49/49 [==============================] - 0s 673us/step - loss: 603.7561\n",
      "Epoch 49/500\n",
      "49/49 [==============================] - 0s 651us/step - loss: 580.1442\n",
      "Epoch 50/500\n",
      "49/49 [==============================] - 0s 697us/step - loss: 556.3325\n",
      "Epoch 51/500\n",
      "49/49 [==============================] - 0s 712us/step - loss: 534.4366\n",
      "Epoch 52/500\n",
      "49/49 [==============================] - 0s 652us/step - loss: 513.0239\n",
      "Epoch 53/500\n",
      "49/49 [==============================] - 0s 724us/step - loss: 492.2109\n",
      "Epoch 54/500\n",
      "49/49 [==============================] - 0s 644us/step - loss: 473.3727\n",
      "Epoch 55/500\n",
      "49/49 [==============================] - 0s 585us/step - loss: 454.1859\n",
      "Epoch 56/500\n",
      "49/49 [==============================] - 0s 650us/step - loss: 436.4685\n",
      "Epoch 57/500\n",
      "49/49 [==============================] - 0s 659us/step - loss: 418.7386\n",
      "Epoch 58/500\n",
      "49/49 [==============================] - 0s 667us/step - loss: 402.5151\n",
      "Epoch 59/500\n",
      "49/49 [==============================] - 0s 680us/step - loss: 386.9585\n",
      "Epoch 60/500\n",
      "49/49 [==============================] - 0s 746us/step - loss: 371.6914\n",
      "Epoch 61/500\n",
      "49/49 [==============================] - 0s 671us/step - loss: 357.0616\n",
      "Epoch 62/500\n",
      "49/49 [==============================] - 0s 682us/step - loss: 343.1271\n",
      "Epoch 63/500\n",
      "49/49 [==============================] - 0s 685us/step - loss: 330.1075\n",
      "Epoch 64/500\n",
      "49/49 [==============================] - 0s 667us/step - loss: 317.6500\n",
      "Epoch 65/500\n",
      "49/49 [==============================] - 0s 629us/step - loss: 305.3165\n",
      "Epoch 66/500\n",
      "49/49 [==============================] - 0s 678us/step - loss: 293.8512\n",
      "Epoch 67/500\n",
      "49/49 [==============================] - 0s 650us/step - loss: 282.6690\n",
      "Epoch 68/500\n",
      "49/49 [==============================] - 0s 597us/step - loss: 272.0378\n",
      "Epoch 69/500\n",
      "49/49 [==============================] - 0s 635us/step - loss: 261.8244\n",
      "Epoch 70/500\n",
      "49/49 [==============================] - 0s 630us/step - loss: 251.9730\n",
      "Epoch 71/500\n",
      "49/49 [==============================] - 0s 685us/step - loss: 243.4252\n",
      "Epoch 72/500\n",
      "49/49 [==============================] - 0s 657us/step - loss: 234.6056\n",
      "Epoch 73/500\n",
      "49/49 [==============================] - 0s 663us/step - loss: 225.7678\n",
      "Epoch 74/500\n",
      "49/49 [==============================] - 0s 883us/step - loss: 217.5117\n",
      "Epoch 75/500\n",
      "49/49 [==============================] - 0s 878us/step - loss: 209.8309\n",
      "Epoch 76/500\n",
      "49/49 [==============================] - 0s 877us/step - loss: 202.6304\n",
      "Epoch 77/500\n",
      "49/49 [==============================] - 0s 776us/step - loss: 195.1785\n",
      "Epoch 78/500\n",
      "49/49 [==============================] - 0s 775us/step - loss: 188.5291\n",
      "Epoch 79/500\n",
      "49/49 [==============================] - 0s 714us/step - loss: 182.0688\n",
      "Epoch 80/500\n",
      "49/49 [==============================] - 0s 756us/step - loss: 176.0155\n",
      "Epoch 81/500\n",
      "49/49 [==============================] - 0s 694us/step - loss: 170.0231\n",
      "Epoch 82/500\n",
      "49/49 [==============================] - 0s 694us/step - loss: 164.5103\n",
      "Epoch 83/500\n",
      "49/49 [==============================] - 0s 673us/step - loss: 159.2185\n",
      "Epoch 84/500\n",
      "49/49 [==============================] - 0s 714us/step - loss: 154.7963\n",
      "Epoch 85/500\n",
      "49/49 [==============================] - 0s 694us/step - loss: 149.2036\n",
      "Epoch 86/500\n",
      "49/49 [==============================] - 0s 735us/step - loss: 144.9428\n",
      "Epoch 87/500\n",
      "49/49 [==============================] - 0s 694us/step - loss: 140.7700\n",
      "Epoch 88/500\n",
      "49/49 [==============================] - 0s 735us/step - loss: 136.2909\n",
      "Epoch 89/500\n",
      "49/49 [==============================] - 0s 693us/step - loss: 131.8632\n",
      "Epoch 90/500\n",
      "49/49 [==============================] - 0s 694us/step - loss: 128.0682\n",
      "Epoch 91/500\n",
      "49/49 [==============================] - 0s 735us/step - loss: 124.4590\n",
      "Epoch 92/500\n",
      "49/49 [==============================] - 0s 694us/step - loss: 121.1122\n",
      "Epoch 93/500\n",
      "49/49 [==============================] - 0s 679us/step - loss: 117.8144\n",
      "Epoch 94/500\n",
      "49/49 [==============================] - 0s 677us/step - loss: 114.5963\n",
      "Epoch 95/500\n",
      "49/49 [==============================] - 0s 648us/step - loss: 111.9682\n",
      "Epoch 96/500\n"
     ]
    },
    {
     "name": "stdout",
     "output_type": "stream",
     "text": [
      "49/49 [==============================] - 0s 642us/step - loss: 108.6904\n",
      "Epoch 97/500\n",
      "49/49 [==============================] - 0s 796us/step - loss: 106.0052\n",
      "Epoch 98/500\n",
      "49/49 [==============================] - 0s 776us/step - loss: 102.8913\n",
      "Epoch 99/500\n",
      "49/49 [==============================] - 0s 796us/step - loss: 101.0419\n",
      "Epoch 100/500\n",
      "49/49 [==============================] - 0s 775us/step - loss: 98.1026\n",
      "Epoch 101/500\n",
      "49/49 [==============================] - 0s 784us/step - loss: 96.9418\n",
      "Epoch 102/500\n",
      "49/49 [==============================] - 0s 680us/step - loss: 93.5403\n",
      "Epoch 103/500\n",
      "49/49 [==============================] - 0s 694us/step - loss: 91.7980\n",
      "Epoch 104/500\n",
      "49/49 [==============================] - 0s 655us/step - loss: 89.6509\n",
      "Epoch 105/500\n",
      "49/49 [==============================] - 0s 633us/step - loss: 87.8912\n",
      "Epoch 106/500\n",
      "49/49 [==============================] - 0s 628us/step - loss: 86.2988\n",
      "Epoch 107/500\n",
      "49/49 [==============================] - 0s 648us/step - loss: 84.5535\n",
      "Epoch 108/500\n",
      "49/49 [==============================] - 0s 655us/step - loss: 83.2084\n",
      "Epoch 109/500\n",
      "49/49 [==============================] - 0s 640us/step - loss: 81.3398\n",
      "Epoch 110/500\n",
      "49/49 [==============================] - 0s 655us/step - loss: 79.8152\n",
      "Epoch 111/500\n",
      "49/49 [==============================] - 0s 605us/step - loss: 77.7463\n",
      "Epoch 112/500\n",
      "49/49 [==============================] - 0s 603us/step - loss: 76.6867\n",
      "Epoch 113/500\n",
      "49/49 [==============================] - 0s 636us/step - loss: 75.3175\n",
      "Epoch 114/500\n",
      "49/49 [==============================] - 0s 600us/step - loss: 73.7870\n",
      "Epoch 115/500\n",
      "49/49 [==============================] - 0s 621us/step - loss: 72.8961\n",
      "Epoch 116/500\n",
      "49/49 [==============================] - 0s 604us/step - loss: 71.4316\n",
      "Epoch 117/500\n",
      "49/49 [==============================] - 0s 613us/step - loss: 70.8396\n",
      "Epoch 118/500\n",
      "49/49 [==============================] - 0s 682us/step - loss: 69.2476\n",
      "Epoch 119/500\n",
      "49/49 [==============================] - 0s 673us/step - loss: 68.0018\n",
      "Epoch 120/500\n",
      "49/49 [==============================] - 0s 673us/step - loss: 67.3180\n",
      "Epoch 121/500\n",
      "49/49 [==============================] - 0s 700us/step - loss: 66.2398\n",
      "Epoch 122/500\n",
      "49/49 [==============================] - 0s 653us/step - loss: 65.4392\n",
      "Epoch 123/500\n",
      "49/49 [==============================] - 0s 647us/step - loss: 64.4314\n",
      "Epoch 124/500\n",
      "49/49 [==============================] - 0s 643us/step - loss: 63.2829\n",
      "Epoch 125/500\n",
      "49/49 [==============================] - 0s 601us/step - loss: 62.6819\n",
      "Epoch 126/500\n",
      "49/49 [==============================] - 0s 628us/step - loss: 62.1537\n",
      "Epoch 127/500\n",
      "49/49 [==============================] - 0s 671us/step - loss: 60.9723\n",
      "Epoch 128/500\n",
      "49/49 [==============================] - 0s 653us/step - loss: 60.1088\n",
      "Epoch 129/500\n",
      "49/49 [==============================] - 0s 621us/step - loss: 59.5762\n",
      "Epoch 130/500\n",
      "49/49 [==============================] - 0s 660us/step - loss: 59.1390\n",
      "Epoch 131/500\n",
      "49/49 [==============================] - 0s 658us/step - loss: 58.0444\n",
      "Epoch 132/500\n",
      "49/49 [==============================] - 0s 639us/step - loss: 57.2420\n",
      "Epoch 133/500\n",
      "49/49 [==============================] - 0s 692us/step - loss: 56.8592\n",
      "Epoch 134/500\n",
      "49/49 [==============================] - 0s 694us/step - loss: 56.0425\n",
      "Epoch 135/500\n",
      "49/49 [==============================] - 0s 728us/step - loss: 55.6679\n",
      "Epoch 136/500\n",
      "49/49 [==============================] - 0s 668us/step - loss: 54.7716\n",
      "Epoch 137/500\n",
      "49/49 [==============================] - 0s 704us/step - loss: 54.1542\n",
      "Epoch 138/500\n",
      "49/49 [==============================] - 0s 713us/step - loss: 53.6532\n",
      "Epoch 139/500\n",
      "49/49 [==============================] - 0s 750us/step - loss: 54.0782\n",
      "Epoch 140/500\n",
      "49/49 [==============================] - 0s 732us/step - loss: 52.3148\n",
      "Epoch 141/500\n",
      "49/49 [==============================] - 0s 675us/step - loss: 51.9777\n",
      "Epoch 142/500\n",
      "49/49 [==============================] - 0s 746us/step - loss: 51.7793\n",
      "Epoch 143/500\n",
      "49/49 [==============================] - 0s 758us/step - loss: 51.0584\n",
      "Epoch 144/500\n",
      "49/49 [==============================] - 0s 726us/step - loss: 50.0923\n",
      "Epoch 145/500\n",
      "49/49 [==============================] - 0s 654us/step - loss: 49.5900\n",
      "Epoch 146/500\n",
      "49/49 [==============================] - 0s 720us/step - loss: 49.2652\n",
      "Epoch 147/500\n",
      "49/49 [==============================] - 0s 766us/step - loss: 48.5875\n",
      "Epoch 148/500\n",
      "49/49 [==============================] - 0s 741us/step - loss: 48.1562\n",
      "Epoch 149/500\n",
      "49/49 [==============================] - 0s 707us/step - loss: 47.5908\n",
      "Epoch 150/500\n",
      "49/49 [==============================] - 0s 795us/step - loss: 47.3088\n",
      "Epoch 151/500\n",
      "49/49 [==============================] - ETA: 0s - loss: 38.29 - 0s 693us/step - loss: 46.7810\n",
      "Epoch 152/500\n",
      "49/49 [==============================] - 0s 691us/step - loss: 46.2611\n",
      "Epoch 153/500\n",
      "49/49 [==============================] - 0s 714us/step - loss: 45.6347\n",
      "Epoch 154/500\n",
      "49/49 [==============================] - 0s 704us/step - loss: 45.5009\n",
      "Epoch 155/500\n",
      "49/49 [==============================] - 0s 700us/step - loss: 44.9507\n",
      "Epoch 156/500\n",
      "49/49 [==============================] - 0s 711us/step - loss: 44.4152\n",
      "Epoch 157/500\n",
      "49/49 [==============================] - 0s 706us/step - loss: 43.9072\n",
      "Epoch 158/500\n",
      "49/49 [==============================] - 0s 731us/step - loss: 43.6083\n",
      "Epoch 159/500\n",
      "49/49 [==============================] - 0s 724us/step - loss: 42.9635\n",
      "Epoch 160/500\n",
      "49/49 [==============================] - 0s 756us/step - loss: 42.3721\n",
      "Epoch 161/500\n",
      "49/49 [==============================] - 0s 743us/step - loss: 42.2768\n",
      "Epoch 162/500\n",
      "49/49 [==============================] - 0s 725us/step - loss: 41.7082\n",
      "Epoch 163/500\n",
      "49/49 [==============================] - 0s 730us/step - loss: 41.9317\n",
      "Epoch 164/500\n",
      "49/49 [==============================] - 0s 746us/step - loss: 40.8097\n",
      "Epoch 165/500\n",
      "49/49 [==============================] - 0s 735us/step - loss: 40.4323\n",
      "Epoch 166/500\n",
      "49/49 [==============================] - 0s 728us/step - loss: 40.4350\n",
      "Epoch 167/500\n",
      "49/49 [==============================] - 0s 707us/step - loss: 40.0556\n",
      "Epoch 168/500\n",
      "49/49 [==============================] - 0s 665us/step - loss: 39.2065\n",
      "Epoch 169/500\n",
      "49/49 [==============================] - 0s 696us/step - loss: 38.8069\n",
      "Epoch 170/500\n",
      "49/49 [==============================] - 0s 639us/step - loss: 38.2852\n",
      "Epoch 171/500\n",
      "49/49 [==============================] - 0s 644us/step - loss: 38.0951\n",
      "Epoch 172/500\n",
      "49/49 [==============================] - 0s 697us/step - loss: 37.7066\n",
      "Epoch 173/500\n",
      "49/49 [==============================] - 0s 703us/step - loss: 37.2107\n",
      "Epoch 174/500\n",
      "49/49 [==============================] - 0s 726us/step - loss: 36.9298\n",
      "Epoch 175/500\n",
      "49/49 [==============================] - 0s 714us/step - loss: 36.9548\n",
      "Epoch 176/500\n",
      "49/49 [==============================] - 0s 687us/step - loss: 36.2722\n",
      "Epoch 177/500\n",
      "49/49 [==============================] - 0s 658us/step - loss: 35.8451\n",
      "Epoch 178/500\n",
      "49/49 [==============================] - 0s 717us/step - loss: 35.3029\n",
      "Epoch 179/500\n",
      "49/49 [==============================] - 0s 749us/step - loss: 35.2384\n",
      "Epoch 180/500\n",
      "49/49 [==============================] - 0s 716us/step - loss: 34.6800\n",
      "Epoch 181/500\n",
      "49/49 [==============================] - 0s 680us/step - loss: 34.2215\n",
      "Epoch 182/500\n",
      "49/49 [==============================] - 0s 645us/step - loss: 34.3911\n",
      "Epoch 183/500\n",
      "49/49 [==============================] - 0s 689us/step - loss: 33.7275\n",
      "Epoch 184/500\n",
      "49/49 [==============================] - 0s 656us/step - loss: 33.5843\n",
      "Epoch 185/500\n",
      "49/49 [==============================] - 0s 682us/step - loss: 33.2852\n",
      "Epoch 186/500\n",
      "49/49 [==============================] - 0s 718us/step - loss: 32.8801\n",
      "Epoch 187/500\n",
      "49/49 [==============================] - 0s 682us/step - loss: 32.8959\n",
      "Epoch 188/500\n",
      "49/49 [==============================] - 0s 630us/step - loss: 32.2900\n",
      "Epoch 189/500\n",
      "49/49 [==============================] - 0s 669us/step - loss: 31.8933\n",
      "Epoch 190/500\n",
      "49/49 [==============================] - 0s 669us/step - loss: 32.1955\n",
      "Epoch 191/500\n",
      "49/49 [==============================] - 0s 621us/step - loss: 31.5308\n",
      "Epoch 192/500\n"
     ]
    },
    {
     "name": "stdout",
     "output_type": "stream",
     "text": [
      "49/49 [==============================] - 0s 646us/step - loss: 31.1519\n",
      "Epoch 193/500\n",
      "49/49 [==============================] - 0s 669us/step - loss: 30.7441\n",
      "Epoch 194/500\n",
      "49/49 [==============================] - 0s 679us/step - loss: 30.7112\n",
      "Epoch 195/500\n",
      "49/49 [==============================] - 0s 662us/step - loss: 30.0083\n",
      "Epoch 196/500\n",
      "49/49 [==============================] - 0s 639us/step - loss: 30.4472\n",
      "Epoch 197/500\n",
      "49/49 [==============================] - 0s 645us/step - loss: 29.5406\n",
      "Epoch 198/500\n",
      "49/49 [==============================] - 0s 532us/step - loss: 29.7775\n",
      "Epoch 199/500\n",
      "49/49 [==============================] - 0s 562us/step - loss: 29.3194\n",
      "Epoch 200/500\n",
      "49/49 [==============================] - 0s 661us/step - loss: 29.2264\n",
      "Epoch 201/500\n",
      "49/49 [==============================] - 0s 857us/step - loss: 28.7198\n",
      "Epoch 202/500\n",
      "49/49 [==============================] - 0s 627us/step - loss: 28.4591\n",
      "Epoch 203/500\n",
      "49/49 [==============================] - 0s 592us/step - loss: 28.1270\n",
      "Epoch 204/500\n",
      "49/49 [==============================] - 0s 606us/step - loss: 28.0291\n",
      "Epoch 205/500\n",
      "49/49 [==============================] - 0s 566us/step - loss: 28.1038\n",
      "Epoch 206/500\n",
      "49/49 [==============================] - 0s 603us/step - loss: 27.9321\n",
      "Epoch 207/500\n",
      "49/49 [==============================] - 0s 642us/step - loss: 27.9166\n",
      "Epoch 208/500\n",
      "49/49 [==============================] - 0s 612us/step - loss: 27.2703\n",
      "Epoch 209/500\n",
      "49/49 [==============================] - 0s 624us/step - loss: 27.2368\n",
      "Epoch 210/500\n",
      "49/49 [==============================] - 0s 626us/step - loss: 26.7563\n",
      "Epoch 211/500\n",
      "49/49 [==============================] - 0s 703us/step - loss: 26.6007\n",
      "Epoch 212/500\n",
      "49/49 [==============================] - 0s 602us/step - loss: 26.5284\n",
      "Epoch 213/500\n",
      "49/49 [==============================] - 0s 590us/step - loss: 26.1967\n",
      "Epoch 214/500\n",
      "49/49 [==============================] - 0s 588us/step - loss: 26.2863\n",
      "Epoch 215/500\n",
      "49/49 [==============================] - 0s 636us/step - loss: 26.1446\n",
      "Epoch 216/500\n",
      "49/49 [==============================] - 0s 647us/step - loss: 25.6661\n",
      "Epoch 217/500\n",
      "49/49 [==============================] - 0s 692us/step - loss: 25.7677\n",
      "Epoch 218/500\n",
      "49/49 [==============================] - 0s 636us/step - loss: 25.3652\n",
      "Epoch 219/500\n",
      "49/49 [==============================] - 0s 649us/step - loss: 25.1733\n",
      "Epoch 220/500\n",
      "49/49 [==============================] - 0s 725us/step - loss: 24.9132\n",
      "Epoch 221/500\n",
      "49/49 [==============================] - 0s 681us/step - loss: 24.8855\n",
      "Epoch 222/500\n",
      "49/49 [==============================] - 0s 682us/step - loss: 24.5501\n",
      "Epoch 223/500\n",
      "49/49 [==============================] - 0s 606us/step - loss: 24.4620\n",
      "Epoch 224/500\n",
      "49/49 [==============================] - 0s 672us/step - loss: 24.5424\n",
      "Epoch 225/500\n",
      "49/49 [==============================] - 0s 670us/step - loss: 24.3428\n",
      "Epoch 226/500\n",
      "49/49 [==============================] - 0s 665us/step - loss: 24.0240\n",
      "Epoch 227/500\n",
      "49/49 [==============================] - 0s 649us/step - loss: 23.9646\n",
      "Epoch 228/500\n",
      "49/49 [==============================] - 0s 571us/step - loss: 23.6551\n",
      "Epoch 229/500\n",
      "49/49 [==============================] - 0s 579us/step - loss: 23.6877\n",
      "Epoch 230/500\n",
      "49/49 [==============================] - 0s 645us/step - loss: 23.6804\n",
      "Epoch 231/500\n",
      "49/49 [==============================] - 0s 644us/step - loss: 23.6025\n",
      "Epoch 232/500\n",
      "49/49 [==============================] - 0s 639us/step - loss: 23.2892\n",
      "Epoch 233/500\n",
      "49/49 [==============================] - 0s 659us/step - loss: 23.4475\n",
      "Epoch 234/500\n",
      "49/49 [==============================] - 0s 655us/step - loss: 22.9224\n",
      "Epoch 235/500\n",
      "49/49 [==============================] - 0s 633us/step - loss: 22.8835\n",
      "Epoch 236/500\n",
      "49/49 [==============================] - 0s 615us/step - loss: 22.7683\n",
      "Epoch 237/500\n",
      "49/49 [==============================] - 0s 626us/step - loss: 22.6789\n",
      "Epoch 238/500\n",
      "49/49 [==============================] - 0s 748us/step - loss: 22.5447\n",
      "Epoch 239/500\n",
      "49/49 [==============================] - 0s 658us/step - loss: 22.9377\n",
      "Epoch 240/500\n",
      "49/49 [==============================] - 0s 625us/step - loss: 22.4243\n",
      "Epoch 241/500\n",
      "49/49 [==============================] - 0s 638us/step - loss: 22.4471\n",
      "Epoch 242/500\n",
      "49/49 [==============================] - 0s 662us/step - loss: 22.4103\n",
      "Epoch 243/500\n",
      "49/49 [==============================] - 0s 604us/step - loss: 22.1511\n",
      "Epoch 244/500\n",
      "49/49 [==============================] - 0s 637us/step - loss: 22.1239\n",
      "Epoch 245/500\n",
      "49/49 [==============================] - 0s 669us/step - loss: 22.1913\n",
      "Epoch 246/500\n",
      "49/49 [==============================] - 0s 659us/step - loss: 21.9336\n",
      "Epoch 247/500\n",
      "49/49 [==============================] - 0s 648us/step - loss: 22.0284\n",
      "Epoch 248/500\n",
      "49/49 [==============================] - 0s 686us/step - loss: 21.6609\n",
      "Epoch 249/500\n",
      "49/49 [==============================] - 0s 645us/step - loss: 21.6580\n",
      "Epoch 250/500\n",
      "49/49 [==============================] - 0s 643us/step - loss: 22.0236\n",
      "Epoch 251/500\n",
      "49/49 [==============================] - 0s 629us/step - loss: 21.4429\n",
      "Epoch 252/500\n",
      "49/49 [==============================] - 0s 620us/step - loss: 21.4167\n",
      "Epoch 253/500\n",
      "49/49 [==============================] - 0s 646us/step - loss: 21.4059\n",
      "Epoch 254/500\n",
      "49/49 [==============================] - 0s 653us/step - loss: 21.3504\n",
      "Epoch 255/500\n",
      "49/49 [==============================] - 0s 627us/step - loss: 21.4257\n",
      "Epoch 256/500\n",
      "49/49 [==============================] - 0s 593us/step - loss: 21.3511\n",
      "Epoch 257/500\n",
      "49/49 [==============================] - 0s 543us/step - loss: 21.3437\n",
      "Epoch 258/500\n",
      "49/49 [==============================] - 0s 559us/step - loss: 21.2113\n",
      "Epoch 259/500\n",
      "49/49 [==============================] - 0s 588us/step - loss: 21.0119\n",
      "Epoch 260/500\n",
      "49/49 [==============================] - 0s 668us/step - loss: 20.9590\n",
      "Epoch 261/500\n",
      "49/49 [==============================] - 0s 632us/step - loss: 21.1739\n",
      "Epoch 262/500\n",
      "49/49 [==============================] - 0s 654us/step - loss: 20.9168\n",
      "Epoch 263/500\n",
      "49/49 [==============================] - 0s 630us/step - loss: 20.7584\n",
      "Epoch 264/500\n",
      "49/49 [==============================] - 0s 625us/step - loss: 20.6687\n",
      "Epoch 265/500\n",
      "49/49 [==============================] - 0s 676us/step - loss: 20.6916\n",
      "Epoch 266/500\n",
      "49/49 [==============================] - 0s 626us/step - loss: 20.6465\n",
      "Epoch 267/500\n",
      "49/49 [==============================] - 0s 620us/step - loss: 20.5595\n",
      "Epoch 268/500\n",
      "49/49 [==============================] - 0s 611us/step - loss: 20.3545\n",
      "Epoch 269/500\n",
      "49/49 [==============================] - 0s 629us/step - loss: 20.6686\n",
      "Epoch 270/500\n",
      "49/49 [==============================] - 0s 640us/step - loss: 20.4613\n",
      "Epoch 271/500\n",
      "49/49 [==============================] - 0s 608us/step - loss: 20.5198\n",
      "Epoch 272/500\n",
      "49/49 [==============================] - 0s 637us/step - loss: 20.4815\n",
      "Epoch 273/500\n",
      "49/49 [==============================] - 0s 593us/step - loss: 20.2521\n",
      "Epoch 274/500\n",
      "49/49 [==============================] - 0s 589us/step - loss: 20.3953\n",
      "Epoch 275/500\n",
      "49/49 [==============================] - 0s 660us/step - loss: 20.2319\n",
      "Epoch 276/500\n",
      "49/49 [==============================] - 0s 665us/step - loss: 20.2083\n",
      "Epoch 277/500\n",
      "49/49 [==============================] - 0s 671us/step - loss: 20.0084\n",
      "Epoch 278/500\n",
      "49/49 [==============================] - 0s 670us/step - loss: 20.1205\n",
      "Epoch 279/500\n",
      "49/49 [==============================] - 0s 635us/step - loss: 19.9770\n",
      "Epoch 280/500\n",
      "49/49 [==============================] - 0s 725us/step - loss: 20.1028\n",
      "Epoch 281/500\n",
      "49/49 [==============================] - 0s 735us/step - loss: 19.9487\n",
      "Epoch 282/500\n",
      "49/49 [==============================] - 0s 755us/step - loss: 19.8790\n",
      "Epoch 283/500\n",
      "49/49 [==============================] - 0s 650us/step - loss: 19.7455\n",
      "Epoch 284/500\n",
      "49/49 [==============================] - 0s 632us/step - loss: 20.0636\n",
      "Epoch 285/500\n",
      "49/49 [==============================] - 0s 645us/step - loss: 19.7264\n",
      "Epoch 286/500\n",
      "49/49 [==============================] - 0s 614us/step - loss: 19.6639\n",
      "Epoch 287/500\n",
      "49/49 [==============================] - 0s 680us/step - loss: 19.6437\n",
      "Epoch 288/500\n"
     ]
    },
    {
     "name": "stdout",
     "output_type": "stream",
     "text": [
      "49/49 [==============================] - 0s 622us/step - loss: 19.6206\n",
      "Epoch 289/500\n",
      "49/49 [==============================] - 0s 606us/step - loss: 19.8715\n",
      "Epoch 290/500\n",
      "49/49 [==============================] - 0s 918us/step - loss: 19.6400\n",
      "Epoch 291/500\n",
      "49/49 [==============================] - 0s 735us/step - loss: 19.6031\n",
      "Epoch 292/500\n",
      "49/49 [==============================] - 0s 633us/step - loss: 19.6390\n",
      "Epoch 293/500\n",
      "49/49 [==============================] - 0s 606us/step - loss: 19.4084\n",
      "Epoch 294/500\n",
      "49/49 [==============================] - 0s 647us/step - loss: 19.6351\n",
      "Epoch 295/500\n",
      "49/49 [==============================] - 0s 628us/step - loss: 19.5620\n",
      "Epoch 296/500\n",
      "49/49 [==============================] - 0s 618us/step - loss: 19.4426\n",
      "Epoch 297/500\n",
      "49/49 [==============================] - 0s 621us/step - loss: 19.4724\n",
      "Epoch 298/500\n",
      "49/49 [==============================] - 0s 669us/step - loss: 19.3962\n",
      "Epoch 299/500\n",
      "49/49 [==============================] - 0s 670us/step - loss: 19.5799\n",
      "Epoch 300/500\n",
      "49/49 [==============================] - 0s 669us/step - loss: 19.2857\n",
      "Epoch 301/500\n",
      "49/49 [==============================] - 0s 657us/step - loss: 19.2374\n",
      "Epoch 302/500\n",
      "49/49 [==============================] - 0s 623us/step - loss: 19.2340\n",
      "Epoch 303/500\n",
      "49/49 [==============================] - 0s 630us/step - loss: 19.2106\n",
      "Epoch 304/500\n",
      "49/49 [==============================] - 0s 562us/step - loss: 19.3658\n",
      "Epoch 305/500\n",
      "49/49 [==============================] - 0s 694us/step - loss: 19.2258\n",
      "Epoch 306/500\n",
      "49/49 [==============================] - 0s 664us/step - loss: 19.0858\n",
      "Epoch 307/500\n",
      "49/49 [==============================] - 0s 665us/step - loss: 19.2018\n",
      "Epoch 308/500\n",
      "49/49 [==============================] - 0s 627us/step - loss: 19.2767\n",
      "Epoch 309/500\n",
      "49/49 [==============================] - 0s 679us/step - loss: 19.3025\n",
      "Epoch 310/500\n",
      "49/49 [==============================] - 0s 659us/step - loss: 19.1045\n",
      "Epoch 311/500\n",
      "49/49 [==============================] - 0s 680us/step - loss: 19.0065\n",
      "Epoch 312/500\n",
      "49/49 [==============================] - 0s 658us/step - loss: 19.0387\n",
      "Epoch 313/500\n",
      "49/49 [==============================] - 0s 618us/step - loss: 18.9656\n",
      "Epoch 314/500\n",
      "49/49 [==============================] - 0s 640us/step - loss: 18.9371\n",
      "Epoch 315/500\n",
      "49/49 [==============================] - 0s 681us/step - loss: 19.1846\n",
      "Epoch 316/500\n",
      "49/49 [==============================] - 0s 648us/step - loss: 18.9923\n",
      "Epoch 317/500\n",
      "49/49 [==============================] - 0s 651us/step - loss: 18.9173\n",
      "Epoch 318/500\n",
      "49/49 [==============================] - 0s 615us/step - loss: 19.2483\n",
      "Epoch 319/500\n",
      "49/49 [==============================] - 0s 616us/step - loss: 18.9191\n",
      "Epoch 320/500\n",
      "49/49 [==============================] - 0s 611us/step - loss: 18.8131\n",
      "Epoch 321/500\n",
      "49/49 [==============================] - 0s 604us/step - loss: 18.9572\n",
      "Epoch 322/500\n",
      "49/49 [==============================] - 0s 638us/step - loss: 18.7403\n",
      "Epoch 323/500\n",
      "49/49 [==============================] - 0s 616us/step - loss: 18.7349\n",
      "Epoch 324/500\n",
      "49/49 [==============================] - 0s 647us/step - loss: 18.7727\n",
      "Epoch 325/500\n",
      "49/49 [==============================] - 0s 614us/step - loss: 18.8364\n",
      "Epoch 326/500\n",
      "49/49 [==============================] - 0s 646us/step - loss: 18.6992\n",
      "Epoch 327/500\n",
      "49/49 [==============================] - 0s 670us/step - loss: 18.7926\n",
      "Epoch 328/500\n",
      "49/49 [==============================] - 0s 627us/step - loss: 18.7413\n",
      "Epoch 329/500\n",
      "49/49 [==============================] - 0s 649us/step - loss: 18.7629\n",
      "Epoch 330/500\n",
      "49/49 [==============================] - 0s 664us/step - loss: 18.5068\n",
      "Epoch 331/500\n",
      "49/49 [==============================] - 0s 693us/step - loss: 18.6768\n",
      "Epoch 332/500\n",
      "49/49 [==============================] - 0s 624us/step - loss: 18.6046\n",
      "Epoch 333/500\n",
      "49/49 [==============================] - 0s 619us/step - loss: 18.8088\n",
      "Epoch 334/500\n",
      "49/49 [==============================] - 0s 673us/step - loss: 18.4238\n",
      "Epoch 335/500\n",
      "49/49 [==============================] - 0s 601us/step - loss: 18.5503\n",
      "Epoch 336/500\n",
      "49/49 [==============================] - 0s 613us/step - loss: 18.4888\n",
      "Epoch 337/500\n",
      "49/49 [==============================] - 0s 661us/step - loss: 18.6254\n",
      "Epoch 338/500\n",
      "49/49 [==============================] - 0s 658us/step - loss: 18.4563\n",
      "Epoch 339/500\n",
      "49/49 [==============================] - 0s 624us/step - loss: 18.5548\n",
      "Epoch 340/500\n",
      "49/49 [==============================] - 0s 645us/step - loss: 18.6164\n",
      "Epoch 341/500\n",
      "49/49 [==============================] - 0s 681us/step - loss: 18.4929\n",
      "Epoch 342/500\n",
      "49/49 [==============================] - 0s 687us/step - loss: 18.5001\n",
      "Epoch 343/500\n",
      "49/49 [==============================] - 0s 778us/step - loss: 18.4575\n",
      "Epoch 344/500\n",
      "49/49 [==============================] - 0s 720us/step - loss: 18.3921\n",
      "Epoch 345/500\n",
      "49/49 [==============================] - 0s 708us/step - loss: 18.2945\n",
      "Epoch 346/500\n",
      "49/49 [==============================] - 0s 700us/step - loss: 18.4275\n",
      "Epoch 347/500\n",
      "49/49 [==============================] - 0s 656us/step - loss: 18.3041\n",
      "Epoch 348/500\n",
      "49/49 [==============================] - 0s 718us/step - loss: 18.5487\n",
      "Epoch 349/500\n",
      "49/49 [==============================] - 0s 763us/step - loss: 18.2282\n",
      "Epoch 350/500\n",
      "49/49 [==============================] - 0s 719us/step - loss: 18.2804\n",
      "Epoch 351/500\n",
      "49/49 [==============================] - 0s 728us/step - loss: 18.2982\n",
      "Epoch 352/500\n",
      "49/49 [==============================] - 0s 741us/step - loss: 18.5908\n",
      "Epoch 353/500\n",
      "49/49 [==============================] - 0s 721us/step - loss: 18.2465\n",
      "Epoch 354/500\n",
      "49/49 [==============================] - 0s 673us/step - loss: 18.2799\n",
      "Epoch 355/500\n",
      "49/49 [==============================] - 0s 624us/step - loss: 18.2078\n",
      "Epoch 356/500\n",
      "49/49 [==============================] - 0s 649us/step - loss: 18.2959\n",
      "Epoch 357/500\n",
      "49/49 [==============================] - 0s 608us/step - loss: 18.3106\n",
      "Epoch 358/500\n",
      "49/49 [==============================] - 0s 614us/step - loss: 18.4011\n",
      "Epoch 359/500\n",
      "49/49 [==============================] - 0s 677us/step - loss: 18.1101\n",
      "Epoch 360/500\n",
      "49/49 [==============================] - 0s 651us/step - loss: 18.1451\n",
      "Epoch 361/500\n",
      "49/49 [==============================] - 0s 724us/step - loss: 18.1574\n",
      "Epoch 362/500\n",
      "49/49 [==============================] - 0s 656us/step - loss: 18.1293\n",
      "Epoch 363/500\n",
      "49/49 [==============================] - 0s 571us/step - loss: 18.2119\n",
      "Epoch 364/500\n",
      "49/49 [==============================] - 0s 616us/step - loss: 18.0051\n",
      "Epoch 365/500\n",
      "49/49 [==============================] - 0s 580us/step - loss: 18.2005\n",
      "Epoch 366/500\n",
      "49/49 [==============================] - 0s 636us/step - loss: 17.8393\n",
      "Epoch 367/500\n",
      "49/49 [==============================] - 0s 678us/step - loss: 18.3270\n",
      "Epoch 368/500\n",
      "49/49 [==============================] - 0s 632us/step - loss: 18.0123\n",
      "Epoch 369/500\n",
      "49/49 [==============================] - 0s 628us/step - loss: 18.0629\n",
      "Epoch 370/500\n",
      "49/49 [==============================] - 0s 610us/step - loss: 18.2634\n",
      "Epoch 371/500\n",
      "49/49 [==============================] - 0s 628us/step - loss: 18.1433\n",
      "Epoch 372/500\n",
      "49/49 [==============================] - 0s 670us/step - loss: 17.9445\n",
      "Epoch 373/500\n",
      "49/49 [==============================] - 0s 646us/step - loss: 17.9862\n",
      "Epoch 374/500\n",
      "49/49 [==============================] - 0s 605us/step - loss: 18.0422\n",
      "Epoch 375/500\n",
      "49/49 [==============================] - 0s 569us/step - loss: 18.0047\n",
      "Epoch 376/500\n",
      "49/49 [==============================] - 0s 621us/step - loss: 17.9048\n",
      "Epoch 377/500\n",
      "49/49 [==============================] - 0s 625us/step - loss: 17.9726\n",
      "Epoch 378/500\n",
      "49/49 [==============================] - 0s 665us/step - loss: 17.9946\n",
      "Epoch 379/500\n",
      "49/49 [==============================] - 0s 661us/step - loss: 18.0680\n",
      "Epoch 380/500\n",
      "49/49 [==============================] - 0s 587us/step - loss: 18.0278\n",
      "Epoch 381/500\n",
      "49/49 [==============================] - 0s 623us/step - loss: 17.9879\n",
      "Epoch 382/500\n",
      "49/49 [==============================] - 0s 622us/step - loss: 17.9218\n",
      "Epoch 383/500\n",
      "49/49 [==============================] - 0s 612us/step - loss: 17.8718\n",
      "Epoch 384/500\n"
     ]
    },
    {
     "name": "stdout",
     "output_type": "stream",
     "text": [
      "49/49 [==============================] - 0s 699us/step - loss: 17.8075\n",
      "Epoch 385/500\n",
      "49/49 [==============================] - 0s 651us/step - loss: 17.9215\n",
      "Epoch 386/500\n",
      "49/49 [==============================] - 0s 603us/step - loss: 17.9945\n",
      "Epoch 387/500\n",
      "49/49 [==============================] - 0s 594us/step - loss: 17.8738\n",
      "Epoch 388/500\n",
      "49/49 [==============================] - 0s 630us/step - loss: 17.8617\n",
      "Epoch 389/500\n",
      "49/49 [==============================] - 0s 603us/step - loss: 17.8294\n",
      "Epoch 390/500\n",
      "49/49 [==============================] - 0s 635us/step - loss: 17.8920\n",
      "Epoch 391/500\n",
      "49/49 [==============================] - 0s 641us/step - loss: 17.8322\n",
      "Epoch 392/500\n",
      "49/49 [==============================] - 0s 668us/step - loss: 17.8837\n",
      "Epoch 393/500\n",
      "49/49 [==============================] - 0s 689us/step - loss: 17.7386\n",
      "Epoch 394/500\n",
      "49/49 [==============================] - 0s 651us/step - loss: 17.7914\n",
      "Epoch 395/500\n",
      "49/49 [==============================] - 0s 630us/step - loss: 17.7956\n",
      "Epoch 396/500\n",
      "49/49 [==============================] - 0s 711us/step - loss: 18.1046\n",
      "Epoch 397/500\n",
      "49/49 [==============================] - 0s 708us/step - loss: 17.9214\n",
      "Epoch 398/500\n",
      "49/49 [==============================] - 0s 638us/step - loss: 17.8686\n",
      "Epoch 399/500\n",
      "49/49 [==============================] - 0s 669us/step - loss: 17.6488\n",
      "Epoch 400/500\n",
      "49/49 [==============================] - 0s 656us/step - loss: 18.0975\n",
      "Epoch 401/500\n",
      "49/49 [==============================] - 0s 707us/step - loss: 17.9064\n",
      "Epoch 402/500\n",
      "49/49 [==============================] - 0s 652us/step - loss: 17.6906\n",
      "Epoch 403/500\n",
      "49/49 [==============================] - 0s 655us/step - loss: 17.7731\n",
      "Epoch 404/500\n",
      "49/49 [==============================] - 0s 604us/step - loss: 17.6182\n",
      "Epoch 405/500\n",
      "49/49 [==============================] - 0s 639us/step - loss: 17.6716\n",
      "Epoch 406/500\n",
      "49/49 [==============================] - 0s 654us/step - loss: 17.8014\n",
      "Epoch 407/500\n",
      "49/49 [==============================] - 0s 633us/step - loss: 17.4874\n",
      "Epoch 408/500\n",
      "49/49 [==============================] - 0s 613us/step - loss: 17.7771\n",
      "Epoch 409/500\n",
      "49/49 [==============================] - 0s 654us/step - loss: 17.6694\n",
      "Epoch 410/500\n",
      "49/49 [==============================] - 0s 587us/step - loss: 17.8517\n",
      "Epoch 411/500\n",
      "49/49 [==============================] - 0s 646us/step - loss: 17.6711\n",
      "Epoch 412/500\n",
      "49/49 [==============================] - 0s 668us/step - loss: 17.7478\n",
      "Epoch 413/500\n",
      "49/49 [==============================] - 0s 621us/step - loss: 17.6040\n",
      "Epoch 414/500\n",
      "49/49 [==============================] - 0s 656us/step - loss: 17.6465\n",
      "Epoch 415/500\n",
      "49/49 [==============================] - 0s 675us/step - loss: 17.7413\n",
      "Epoch 416/500\n",
      "49/49 [==============================] - 0s 654us/step - loss: 17.6193\n",
      "Epoch 417/500\n",
      "49/49 [==============================] - 0s 588us/step - loss: 17.6499\n",
      "Epoch 418/500\n",
      "49/49 [==============================] - 0s 611us/step - loss: 17.5806\n",
      "Epoch 419/500\n",
      "49/49 [==============================] - 0s 659us/step - loss: 17.6495\n",
      "Epoch 420/500\n",
      "49/49 [==============================] - 0s 633us/step - loss: 17.6703\n",
      "Epoch 421/500\n",
      "49/49 [==============================] - 0s 641us/step - loss: 17.6233\n",
      "Epoch 422/500\n",
      "49/49 [==============================] - 0s 623us/step - loss: 17.8502\n",
      "Epoch 423/500\n",
      "49/49 [==============================] - 0s 583us/step - loss: 17.9239\n",
      "Epoch 424/500\n",
      "49/49 [==============================] - 0s 639us/step - loss: 17.5622\n",
      "Epoch 425/500\n",
      "49/49 [==============================] - 0s 632us/step - loss: 17.5526\n",
      "Epoch 426/500\n",
      "49/49 [==============================] - 0s 572us/step - loss: 17.7570\n",
      "Epoch 427/500\n",
      "49/49 [==============================] - 0s 633us/step - loss: 17.5077\n",
      "Epoch 428/500\n",
      "49/49 [==============================] - 0s 622us/step - loss: 17.6195\n",
      "Epoch 429/500\n",
      "49/49 [==============================] - 0s 627us/step - loss: 17.5247\n",
      "Epoch 430/500\n",
      "49/49 [==============================] - 0s 688us/step - loss: 17.5542\n",
      "Epoch 431/500\n",
      "49/49 [==============================] - 0s 702us/step - loss: 17.4056\n",
      "Epoch 432/500\n",
      "49/49 [==============================] - 0s 642us/step - loss: 17.6465\n",
      "Epoch 433/500\n",
      "49/49 [==============================] - 0s 748us/step - loss: 17.6013\n",
      "Epoch 434/500\n",
      "49/49 [==============================] - 0s 683us/step - loss: 17.7066\n",
      "Epoch 435/500\n",
      "49/49 [==============================] - 0s 661us/step - loss: 17.3619\n",
      "Epoch 436/500\n",
      "49/49 [==============================] - 0s 660us/step - loss: 17.4428\n",
      "Epoch 437/500\n",
      "49/49 [==============================] - 0s 677us/step - loss: 17.3985\n",
      "Epoch 438/500\n",
      "49/49 [==============================] - 0s 689us/step - loss: 17.5247\n",
      "Epoch 439/500\n",
      "49/49 [==============================] - 0s 634us/step - loss: 17.6658\n",
      "Epoch 440/500\n",
      "49/49 [==============================] - 0s 673us/step - loss: 17.6052\n",
      "Epoch 441/500\n",
      "49/49 [==============================] - 0s 610us/step - loss: 17.4204\n",
      "Epoch 442/500\n",
      "49/49 [==============================] - 0s 681us/step - loss: 17.5123\n",
      "Epoch 443/500\n",
      "49/49 [==============================] - 0s 658us/step - loss: 17.4567\n",
      "Epoch 444/500\n",
      "49/49 [==============================] - 0s 668us/step - loss: 17.6435\n",
      "Epoch 445/500\n",
      "49/49 [==============================] - 0s 755us/step - loss: 17.3816\n",
      "Epoch 446/500\n",
      "49/49 [==============================] - 0s 804us/step - loss: 17.6952\n",
      "Epoch 447/500\n",
      "49/49 [==============================] - 0s 659us/step - loss: 17.5319\n",
      "Epoch 448/500\n",
      "49/49 [==============================] - 0s 664us/step - loss: 17.4991\n",
      "Epoch 449/500\n",
      "49/49 [==============================] - 0s 671us/step - loss: 17.4049\n",
      "Epoch 450/500\n",
      "49/49 [==============================] - 0s 647us/step - loss: 17.3790\n",
      "Epoch 451/500\n",
      "49/49 [==============================] - 0s 677us/step - loss: 17.4277\n",
      "Epoch 452/500\n",
      "49/49 [==============================] - 0s 660us/step - loss: 17.4560\n",
      "Epoch 453/500\n",
      "49/49 [==============================] - 0s 694us/step - loss: 17.5844\n",
      "Epoch 454/500\n",
      "49/49 [==============================] - 0s 637us/step - loss: 17.3728\n",
      "Epoch 455/500\n",
      "49/49 [==============================] - 0s 601us/step - loss: 17.2856\n",
      "Epoch 456/500\n",
      "49/49 [==============================] - 0s 558us/step - loss: 17.5136\n",
      "Epoch 457/500\n",
      "49/49 [==============================] - 0s 642us/step - loss: 17.3189\n",
      "Epoch 458/500\n",
      "49/49 [==============================] - 0s 649us/step - loss: 17.3808\n",
      "Epoch 459/500\n",
      "49/49 [==============================] - 0s 693us/step - loss: 17.4336\n",
      "Epoch 460/500\n",
      "49/49 [==============================] - 0s 766us/step - loss: 17.4228\n",
      "Epoch 461/500\n",
      "49/49 [==============================] - 0s 739us/step - loss: 17.2815\n",
      "Epoch 462/500\n",
      "49/49 [==============================] - 0s 726us/step - loss: 17.6883\n",
      "Epoch 463/500\n",
      "49/49 [==============================] - 0s 741us/step - loss: 17.2635\n",
      "Epoch 464/500\n",
      "49/49 [==============================] - 0s 691us/step - loss: 17.3553\n",
      "Epoch 465/500\n",
      "49/49 [==============================] - 0s 722us/step - loss: 17.5874\n",
      "Epoch 466/500\n",
      "49/49 [==============================] - 0s 718us/step - loss: 17.3246\n",
      "Epoch 467/500\n",
      "49/49 [==============================] - ETA: 0s - loss: 7.794 - 0s 731us/step - loss: 17.4952\n",
      "Epoch 468/500\n",
      "49/49 [==============================] - 0s 714us/step - loss: 17.3421\n",
      "Epoch 469/500\n",
      "49/49 [==============================] - 0s 699us/step - loss: 17.3585\n",
      "Epoch 470/500\n",
      "49/49 [==============================] - 0s 714us/step - loss: 17.2076\n",
      "Epoch 471/500\n",
      "49/49 [==============================] - 0s 728us/step - loss: 17.2829\n",
      "Epoch 472/500\n",
      "49/49 [==============================] - 0s 718us/step - loss: 17.3172\n",
      "Epoch 473/500\n",
      "49/49 [==============================] - 0s 722us/step - loss: 17.4363\n",
      "Epoch 474/500\n",
      "49/49 [==============================] - 0s 734us/step - loss: 17.2170\n",
      "Epoch 475/500\n",
      "49/49 [==============================] - 0s 652us/step - loss: 17.3270\n",
      "Epoch 476/500\n",
      "49/49 [==============================] - 0s 742us/step - loss: 17.3423\n",
      "Epoch 477/500\n",
      "49/49 [==============================] - 0s 702us/step - loss: 17.4204\n",
      "Epoch 478/500\n",
      "49/49 [==============================] - 0s 766us/step - loss: 17.3174\n",
      "Epoch 479/500\n",
      "49/49 [==============================] - 0s 707us/step - loss: 17.1356\n",
      "Epoch 480/500\n"
     ]
    },
    {
     "name": "stdout",
     "output_type": "stream",
     "text": [
      "49/49 [==============================] - 0s 710us/step - loss: 17.3528\n",
      "Epoch 481/500\n",
      "49/49 [==============================] - 0s 714us/step - loss: 17.5120\n",
      "Epoch 482/500\n",
      "49/49 [==============================] - 0s 745us/step - loss: 17.3343\n",
      "Epoch 483/500\n",
      "49/49 [==============================] - 0s 666us/step - loss: 17.6753\n",
      "Epoch 484/500\n",
      "49/49 [==============================] - ETA: 0s - loss: 17.23 - 0s 687us/step - loss: 17.2835\n",
      "Epoch 485/500\n",
      "49/49 [==============================] - 0s 712us/step - loss: 17.2395\n",
      "Epoch 486/500\n",
      "49/49 [==============================] - 0s 716us/step - loss: 17.2938\n",
      "Epoch 487/500\n",
      "49/49 [==============================] - 0s 662us/step - loss: 17.1814\n",
      "Epoch 488/500\n",
      "49/49 [==============================] - 0s 603us/step - loss: 17.1658\n",
      "Epoch 489/500\n",
      "49/49 [==============================] - 0s 643us/step - loss: 17.2548\n",
      "Epoch 490/500\n",
      "49/49 [==============================] - 0s 655us/step - loss: 17.1910\n",
      "Epoch 491/500\n",
      "49/49 [==============================] - 0s 629us/step - loss: 17.2777\n",
      "Epoch 492/500\n",
      "49/49 [==============================] - 0s 623us/step - loss: 17.1736\n",
      "Epoch 493/500\n",
      "49/49 [==============================] - 0s 664us/step - loss: 17.7602\n",
      "Epoch 494/500\n",
      "49/49 [==============================] - 0s 656us/step - loss: 17.3950\n",
      "Epoch 495/500\n",
      "49/49 [==============================] - 0s 670us/step - loss: 17.2358\n",
      "Epoch 496/500\n",
      "49/49 [==============================] - 0s 602us/step - loss: 17.4339\n",
      "Epoch 497/500\n",
      "49/49 [==============================] - 0s 612us/step - loss: 17.1385\n",
      "Epoch 498/500\n",
      "49/49 [==============================] - 0s 651us/step - loss: 17.3838\n",
      "Epoch 499/500\n",
      "49/49 [==============================] - 0s 678us/step - loss: 17.2369\n",
      "Epoch 500/500\n",
      "49/49 [==============================] - 0s 678us/step - loss: 17.2815\n"
     ]
    },
    {
     "data": {
      "text/plain": [
       "<tensorflow.python.keras.callbacks.History at 0x1caa735adf0>"
      ]
     },
     "execution_count": 28,
     "metadata": {},
     "output_type": "execute_result"
    }
   ],
   "source": [
    "# Train the network.\n",
    "model.fit(X, y, epochs=500, batch_size=10)"
   ]
  },
  {
   "cell_type": "code",
   "execution_count": 29,
   "metadata": {},
   "outputs": [
    {
     "data": {
      "text/plain": [
       "<matplotlib.legend.Legend at 0x1caa762c940>"
      ]
     },
     "execution_count": 29,
     "metadata": {},
     "output_type": "execute_result"
    },
    {
     "data": {
      "image/png": "[encoded data removed]",
      "text/plain": [
       "<Figure size 576x432 with 1 Axes>"
      ]
     },
     "metadata": {
      "needs_background": "light"
     },
     "output_type": "display_data"
    }
   ],
   "source": [
    "# Look at prediction vs data.\n",
    "plt.plot(X, y, 'co', label=\"data\")\n",
    "plt.plot(X, model.predict(X), 'k-', label=\"neural n/w\")\n",
    "plt.xlabel('Speed (m/s)', fontsize='14')\n",
    "plt.ylabel('power (kW)', fontsize='14')\n",
    "plt.title(\"Neural network\")\n",
    "plt.grid()\n",
    "plt.legend()"
   ]
  },
  {
   "cell_type": "markdown",
   "metadata": {},
   "source": [
    "## References\n",
    "<span style='color:red'> [1 Geron] </span> Aurelien Geron, *Hands-on Machine Learning with Scikit-Learn, Keras & TensorFlow*, **2019**, 2nd Edition, O'Reilly Media, Inc., CA\n",
    "\n",
    "<span style='color:red'> [2 np random] </span> numpy.random.rayleigh, NumPy v1.19 Manual, https://numpy.org/doc/stable/reference/random/generated/numpy.random.rayleigh.html\n",
    "\n",
    "<span style='color:red'> [3 WT curve] </span> Wind Energy Basics, New York Wind Energy Guide for Local Decision Makers, www.nyserda.ny.gov/-/media/Files/Publications/Research/Biomass-Solar-Wind/NY-Wind-Energy-Guide-1.pdf, (Accessed 9 Nov. 2020).\n",
    "\n",
    "<span style='color:red'> [4 WT calc] </span> Wind Turbine Power Calculations, RWE npower renewables, https://docplayer.net/17802133-Wind-turbine-power-calculations.html, (Accessed 21 Oct. 2020).\n",
    "\n",
    "<span style='color:red'> [5 Medium nlr] </span> Medium.com, Understanding Non-Linear Regression, https://medium.com/towards-artificial-intelligence/understanding-non-linear-regression-fbef9a396b71 (Accessed 1 Dec. 2020).\n",
    "\n",
    "<span style='color:red'> [6 CourseML] </span> Andrew Ng, Coursera Machine Learning offered by Stanford, https://www.coursera.org/learn/machine-learning, (Completed & certified Sept. 2020).\n",
    "\n",
    "<span style='color:red'> [7 Medium polyReg] </span> Medium.com, Polynomial Regression, https://towardsdatascience.com/polynomial-regression-bbe8b9d97491 (Accessed 7 Dec. 2020).\n",
    "\n",
    "<span style='color:red'> [8 Medium SVRreg] </span> Medium.com, Support Vector Regression in 6 Steps with Python, https://medium.com/pursuitnotes/support-vector-regression-in-6-steps-with-python-c4569acd062d (Accessed 9 Dec. 2020).\n",
    "\n",
    "<span style='color:red'> [9 SVR] </span> Scikit-learn, 1.4. Support Vector Machines, https://scikit-learn.org/stable/modules/svm.html#regression (Accessed 12 Dec. 2020).\n",
    "\n",
    "<span style='color:red'> [10 SKLsvrKer] </span> Scikit-learn, Support Vector Regression (SVR) using linear and non-linear kernels, https://ogrisel.github.io/scikit-learn.org/sklearn-tutorial/auto_examples/svm/plot_svm_regression.html (Accessed 12 Dec. 2020).\n",
    "\n",
    "<span style='color:red'> [11 DFkernel] </span> Data Flair, Kernel Functions-Introduction to SVM Kernel & Examples, https://data-flair.training/blogs/svm-kernel-functions/#:~:text=SVM%20Kernel%20Functions&text=The%20function%20of%20kernel%20is,(RBF)%2C%20and%20sigmoid. (Accessed 12 Dec. 2020).\n",
    "\n",
    "<span style='color:red'> [12 MLMscaler] </span> Machine Learning Mastery, How to Use StandardScaler and MinMaxScaler Transforms in Python, https://machinelearningmastery.com/standardscaler-and-minmaxscaler-transforms-in-python/ (Accessed 12 Dec. 2020).\n",
    "\n",
    "<span style='color:red'> [13 SVRpractical] </span> Scikit-learn, 1.4.5. Tips on Practical Use, https://scikit-learn.org/stable/modules/svm.html#tips-on-practical-use (Accessed 12 Dec. 2020).\n",
    "\n",
    "<span style='color:red'> [14 WikiANN] </span> Wikipedia, Artificial neural network, https://en.wikipedia.org/wiki/Artificial_neural_network (Accessed 16 Dec. 2020).\n",
    "\n",
    "<span style='color:red'> [15 keras] </span> Keras, Introduction to Keras for Engineers, https://keras.io/getting_started/intro_to_keras_for_engineers/ (Accessed 16 Dec. 2020).\n",
    "\n",
    "<span style='color:red'> [16 tf] </span> TensorFlow, https://www.tensorflow.org/ (Accessed 16 Dec. 2020).\n",
    "\n",
    "<span style='color:red'> [17 NNWhowto] </span> Machine Learning Mastery, How To Build Multi-Layer Perceptron Neural Network Models with Keras, https://machinelearningmastery.com/build-multi-layer-perceptron-neural-network-models-keras/ (Accessed 16 Dec. 2020).\n",
    "\n",
    "<span style='color:red'> [x GDvsSGD] </span> Stack Exchange, What is the difference between Gradient Descent and Stochastic Gradient Descent?, https://datascience.stackexchange.com/questions/36450/what-is-the-difference-between-gradient-descent-and-stochastic-gradient-descent#:~:text=In%20Gradient%20Descent%20or%20Batch,of%20training%20data%20per%20epoch (Accessed 16 Dec. 2020).\n",
    "\n",
    "\n",
    "\n",
    "https://srnghn.medium.com/machine-learning-trying-to-predict-a-numerical-value-8aafb9ad4d36\n",
    "\n",
    "https://stackoverflow.blog/2020/10/12/how-to-put-machine-learning-models-into-production/\n",
    "\n",
    "https://towardsdatascience.com/simple-way-to-deploy-machine-learning-models-to-cloud-fd58b771fdcf\n",
    "\n",
    "Not used:\n",
    "***\n",
    "<span style='color:red'> [WT FAQ] </span> Wind Turbine FAQ, ENERPOWER Total Energy Solutions, https://enerpower.ie/portfolio/wind-turbine-faq-ireland/, (Accessed 21 Oct. 2020).\n",
    "\n",
    "<span style='color:red'> [MLM select] </span> Machine Learning Mastery, A Gentle Introduction to Model Selection for Machine Learning, https://machinelearningmastery.com/a-gentle-introduction-to-model-selection-for-machine-learning/ (Accessed 30 Nov. 2020)"
   ]
  },
  {
   "cell_type": "markdown",
   "metadata": {},
   "source": [
    "Notes:\n",
    "- describe power curve\n",
    "- supervised learning as have training set\n",
    "- feature selection, only one here\n",
    "- what about feature scaling etc\n",
    "- algs to use for this problem?\n",
    "- how to measure perf? Test & validation. \n",
    "- all imports into one cell at top when done\n",
    "- explain neural n/w\n",
    "- why 1 hidden layer?\n",
    "- why 50 neurons?\n",
    "- choice of initial weights and biases?\n",
    "- choice of learning rate?\n",
    "- forward propagation and back prop explain."
   ]
  },
  {
   "cell_type": "markdown",
   "metadata": {},
   "source": [
    "<br>\n",
    "\n",
    "### End"
   ]
  }
 ],
 "metadata": {
  "kernelspec": {
   "display_name": "Python 3",
   "language": "python",
   "name": "python3"
  },
  "language_info": {
   "codemirror_mode": {
    "name": "ipython",
    "version": 3
   },
   "file_extension": ".py",
   "mimetype": "text/x-python",
   "name": "python",
   "nbconvert_exporter": "python",
   "pygments_lexer": "ipython3",
   "version": "3.8.5"
  }
 },
 "nbformat": 4,
 "nbformat_minor": 4
}
