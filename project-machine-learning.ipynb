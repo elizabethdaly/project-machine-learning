{
 "cells": [
  {
   "cell_type": "markdown",
   "metadata": {},
   "source": [
    "# Elizabeth Daly\n",
    "# HDip Data Analytics 2020\n",
    "## Machine Learning & Statistics Project\n",
    "***"
   ]
  },
  {
   "cell_type": "markdown",
   "metadata": {},
   "source": [
    "For the module project we must create a web service that uses machine learning to make predictions of wind turbine power output from wind speed values. The web service should respond with predicted power values based on wind speed values sent as HTTP requests. A Dockerfile will be used to build and run the web service in a container. "
   ]
  },
  {
   "cell_type": "markdown",
   "metadata": {},
   "source": [
    "The very first thing to do is to import required packages. I do them all here in one place."
   ]
  },
  {
   "cell_type": "code",
   "execution_count": 1,
   "metadata": {},
   "outputs": [],
   "source": [
    "# For data frames.\n",
    "import pandas as pd\n",
    "\n",
    "# For numerical arrays.\n",
    "import numpy as np\n",
    "\n",
    "# For plotting\n",
    "import matplotlib.pyplot as plt\n",
    "\n",
    "#For maths\n",
    "import math as m\n",
    "\n",
    "# Might use this.\n",
    "import seaborn as sns\n",
    "\n",
    "# For linear regression.\n",
    "from sklearn import linear_model\n",
    "\n",
    "# For evaluating model performance.\n",
    "from sklearn.metrics import mean_squared_error, r2_score\n",
    "\n",
    "# For generating polynomial features in the data.\n",
    "from sklearn.preprocessing import PolynomialFeatures\n",
    "\n",
    "# For splitting data into train / test sets.\n",
    "from sklearn.model_selection import train_test_split\n",
    "\n",
    "# For defining a pipeline. NOT USED\n",
    "# from sklearn.pipeline import Pipeline\n",
    "\n",
    "# For support vector machine regression.\n",
    "from sklearn.svm import SVR\n",
    "\n",
    "# Want to scale the input  for SVR.\n",
    "from sklearn.preprocessing import StandardScaler\n",
    "\n",
    "# For neural networks\n",
    "import tensorflow.keras as kr\n",
    "\n",
    "# For saving/restoring models using pickle\n",
    "import joblib"
   ]
  },
  {
   "cell_type": "code",
   "execution_count": 2,
   "metadata": {},
   "outputs": [],
   "source": [
    "plt.rcParams['figure.figsize'] = (8.0, 6.0) # Make nice big figures"
   ]
  },
  {
   "cell_type": "markdown",
   "metadata": {},
   "source": [
    "## Data exploration\n",
    "Reference <span style='color:red'> [1 Geron] </span> suggests a number of steps to follow when beginning a new machine learning project. The very first is to get the data and explore it, so now I'll import the **powerproduction** dataset provided and have a look at it. I'll also keep an intact copy of the original dataset in a dataframe called dforig. "
   ]
  },
  {
   "cell_type": "code",
   "execution_count": 3,
   "metadata": {},
   "outputs": [
    {
     "name": "stdout",
     "output_type": "stream",
     "text": [
      "Data frame shape (500, 2) r,c\n",
      "speed    500\n",
      "power    500\n",
      "dtype: int64\n"
     ]
    }
   ],
   "source": [
    "# File provided as a txt file. I saved it as a csv file.\n",
    "df = pd.read_csv(\"data\\powerproduction.csv\")\n",
    "\n",
    "# Make a copy of the original dataset in case we need it later.\n",
    "dforig = df\n",
    "\n",
    "# Size?\n",
    "shape = df.shape\n",
    "print(\"Data frame shape\", shape, \"r,c\")\n",
    "\n",
    "# Check for NaNs, missing values etc\n",
    "print(df.count())"
   ]
  },
  {
   "cell_type": "code",
   "execution_count": 4,
   "metadata": {
    "scrolled": true
   },
   "outputs": [
    {
     "data": {
      "text/html": [
       "<div>\n",
       "<style scoped>\n",
       "    .dataframe tbody tr th:only-of-type {\n",
       "        vertical-align: middle;\n",
       "    }\n",
       "\n",
       "    .dataframe tbody tr th {\n",
       "        vertical-align: top;\n",
       "    }\n",
       "\n",
       "    .dataframe thead th {\n",
       "        text-align: right;\n",
       "    }\n",
       "</style>\n",
       "<table border=\"1\" class=\"dataframe\">\n",
       "  <thead>\n",
       "    <tr style=\"text-align: right;\">\n",
       "      <th></th>\n",
       "      <th>speed</th>\n",
       "      <th>power</th>\n",
       "    </tr>\n",
       "  </thead>\n",
       "  <tbody>\n",
       "    <tr>\n",
       "      <th>0</th>\n",
       "      <td>0.000</td>\n",
       "      <td>0.0</td>\n",
       "    </tr>\n",
       "    <tr>\n",
       "      <th>1</th>\n",
       "      <td>0.125</td>\n",
       "      <td>0.0</td>\n",
       "    </tr>\n",
       "    <tr>\n",
       "      <th>2</th>\n",
       "      <td>0.150</td>\n",
       "      <td>0.0</td>\n",
       "    </tr>\n",
       "    <tr>\n",
       "      <th>3</th>\n",
       "      <td>0.225</td>\n",
       "      <td>0.0</td>\n",
       "    </tr>\n",
       "    <tr>\n",
       "      <th>4</th>\n",
       "      <td>0.275</td>\n",
       "      <td>0.0</td>\n",
       "    </tr>\n",
       "    <tr>\n",
       "      <th>...</th>\n",
       "      <td>...</td>\n",
       "      <td>...</td>\n",
       "    </tr>\n",
       "    <tr>\n",
       "      <th>495</th>\n",
       "      <td>24.775</td>\n",
       "      <td>0.0</td>\n",
       "    </tr>\n",
       "    <tr>\n",
       "      <th>496</th>\n",
       "      <td>24.850</td>\n",
       "      <td>0.0</td>\n",
       "    </tr>\n",
       "    <tr>\n",
       "      <th>497</th>\n",
       "      <td>24.875</td>\n",
       "      <td>0.0</td>\n",
       "    </tr>\n",
       "    <tr>\n",
       "      <th>498</th>\n",
       "      <td>24.950</td>\n",
       "      <td>0.0</td>\n",
       "    </tr>\n",
       "    <tr>\n",
       "      <th>499</th>\n",
       "      <td>25.000</td>\n",
       "      <td>0.0</td>\n",
       "    </tr>\n",
       "  </tbody>\n",
       "</table>\n",
       "<p>500 rows × 2 columns</p>\n",
       "</div>"
      ],
      "text/plain": [
       "      speed  power\n",
       "0     0.000    0.0\n",
       "1     0.125    0.0\n",
       "2     0.150    0.0\n",
       "3     0.225    0.0\n",
       "4     0.275    0.0\n",
       "..      ...    ...\n",
       "495  24.775    0.0\n",
       "496  24.850    0.0\n",
       "497  24.875    0.0\n",
       "498  24.950    0.0\n",
       "499  25.000    0.0\n",
       "\n",
       "[500 rows x 2 columns]"
      ]
     },
     "execution_count": 4,
     "metadata": {},
     "output_type": "execute_result"
    }
   ],
   "source": [
    "df"
   ]
  },
  {
   "cell_type": "markdown",
   "metadata": {},
   "source": [
    "The raw data contains a column of wind speed values (in increasing order of wind speed) and a column of associated power values. Looks like the first and last 5 lines contain zeros for power. Is this just a fluke? There's probably a reason for it: one can't generate power with low wind speeds and perhaps one can't operate the turbines at very high wind speeds? Check by printing more of the head of file. No units have been provided with the data, so I will assume units of wind speed are (m/s), and those of power are kilowatts (kW), as that's what seems to make sense for these numbers."
   ]
  },
  {
   "cell_type": "code",
   "execution_count": 5,
   "metadata": {},
   "outputs": [
    {
     "data": {
      "text/html": [
       "<div>\n",
       "<style scoped>\n",
       "    .dataframe tbody tr th:only-of-type {\n",
       "        vertical-align: middle;\n",
       "    }\n",
       "\n",
       "    .dataframe tbody tr th {\n",
       "        vertical-align: top;\n",
       "    }\n",
       "\n",
       "    .dataframe thead th {\n",
       "        text-align: right;\n",
       "    }\n",
       "</style>\n",
       "<table border=\"1\" class=\"dataframe\">\n",
       "  <thead>\n",
       "    <tr style=\"text-align: right;\">\n",
       "      <th></th>\n",
       "      <th>speed</th>\n",
       "      <th>power</th>\n",
       "    </tr>\n",
       "  </thead>\n",
       "  <tbody>\n",
       "    <tr>\n",
       "      <th>0</th>\n",
       "      <td>0.000</td>\n",
       "      <td>0.000</td>\n",
       "    </tr>\n",
       "    <tr>\n",
       "      <th>1</th>\n",
       "      <td>0.125</td>\n",
       "      <td>0.000</td>\n",
       "    </tr>\n",
       "    <tr>\n",
       "      <th>2</th>\n",
       "      <td>0.150</td>\n",
       "      <td>0.000</td>\n",
       "    </tr>\n",
       "    <tr>\n",
       "      <th>3</th>\n",
       "      <td>0.225</td>\n",
       "      <td>0.000</td>\n",
       "    </tr>\n",
       "    <tr>\n",
       "      <th>4</th>\n",
       "      <td>0.275</td>\n",
       "      <td>0.000</td>\n",
       "    </tr>\n",
       "    <tr>\n",
       "      <th>5</th>\n",
       "      <td>0.325</td>\n",
       "      <td>4.331</td>\n",
       "    </tr>\n",
       "    <tr>\n",
       "      <th>6</th>\n",
       "      <td>0.400</td>\n",
       "      <td>5.186</td>\n",
       "    </tr>\n",
       "    <tr>\n",
       "      <th>7</th>\n",
       "      <td>0.450</td>\n",
       "      <td>3.826</td>\n",
       "    </tr>\n",
       "    <tr>\n",
       "      <th>8</th>\n",
       "      <td>0.501</td>\n",
       "      <td>1.048</td>\n",
       "    </tr>\n",
       "    <tr>\n",
       "      <th>9</th>\n",
       "      <td>0.526</td>\n",
       "      <td>5.553</td>\n",
       "    </tr>\n",
       "  </tbody>\n",
       "</table>\n",
       "</div>"
      ],
      "text/plain": [
       "   speed  power\n",
       "0  0.000  0.000\n",
       "1  0.125  0.000\n",
       "2  0.150  0.000\n",
       "3  0.225  0.000\n",
       "4  0.275  0.000\n",
       "5  0.325  4.331\n",
       "6  0.400  5.186\n",
       "7  0.450  3.826\n",
       "8  0.501  1.048\n",
       "9  0.526  5.553"
      ]
     },
     "execution_count": 5,
     "metadata": {},
     "output_type": "execute_result"
    }
   ],
   "source": [
    "df.head(10)"
   ]
  },
  {
   "cell_type": "code",
   "execution_count": 6,
   "metadata": {},
   "outputs": [
    {
     "name": "stdout",
     "output_type": "stream",
     "text": [
      "            speed       power\n",
      "count  500.000000  500.000000\n",
      "mean    12.590398   48.014584\n",
      "std      7.224991   41.614572\n",
      "min      0.000000    0.000000\n",
      "25%      6.324750    5.288000\n",
      "50%     12.550500   41.645500\n",
      "75%     18.775250   93.537000\n",
      "max     25.000000  113.556000\n"
     ]
    }
   ],
   "source": [
    "# Look at some quick descriptive statistics of the numeric data.\n",
    "print(df.describe())"
   ]
  },
  {
   "cell_type": "markdown",
   "metadata": {},
   "source": [
    "Look at the distribution of wind speeds. Why? Our assignment in the Programming for Data Analysis module involved looking at the numpy.random package <span style='color:red'> [2 np random]</span>. I learned that, under certain conditions, wind speed has a Rayleigh distribution, which is not symmetrical. I wonder if the samples in our dataset follow a such distribution? The mean and variance of this distribution are calculated from the scale factor: $\\mu = \\sqrt{\\pi / 2} s$ and $\\sigma^2 = (4 - \\pi)/2 s^2$. This results in $\\mu \\approx 1.25 s$ and $\\sigma^2 \\approx 0.43 s$. From the descriptive statistics above we know that the mean wind speed is 12.6 m/s, so the scale factor to use is $s = \\mu/1.25 \\approx 10$."
   ]
  },
  {
   "cell_type": "code",
   "execution_count": 7,
   "metadata": {},
   "outputs": [
    {
     "name": "stdout",
     "output_type": "stream",
     "text": [
      "Average wind speed is 12.59 m/s\n"
     ]
    },
    {
     "data": {
      "image/png": "[encoded data removed]",
      "text/plain": [
       "<Figure size 576x432 with 1 Axes>"
      ]
     },
     "metadata": {
      "needs_background": "light"
     },
     "output_type": "display_data"
    }
   ],
   "source": [
    "# Wind speeds sampled from a Rayleigh distribution, mean=12.6 m/s\n",
    "# Default: numpy.random.rayleigh(scale=1.0, size=None)\n",
    "data = np.random.rayleigh(10, 1000) \n",
    "plt.hist(data, bins=30, alpha = 0.3, facecolor='blue', edgecolor='black', label=['Rayleigh'])\n",
    "\n",
    "bins = np.arange(0, 30, 2) # fixed bin size\n",
    "plt.hist(df['speed'], bins=bins, alpha=0.5, facecolor='red', label=['Data'])\n",
    "\n",
    "plt.xlabel('Wind speed (m/s)')\n",
    "plt.ylabel('Probability')\n",
    "plt.title('Histogram of wind speed: $\\mu=10 m/s$')\n",
    "plt.legend()\n",
    "w = df['speed'].mean(axis=0)\n",
    "print(f'Average wind speed is {w:.2f} m/s')"
   ]
  },
  {
   "cell_type": "markdown",
   "metadata": {},
   "source": [
    "Well, that was a dead end. Clearly the wind speeds provided do not follow a Rayleigh distribution, rather roughly a uniform distribution."
   ]
  },
  {
   "cell_type": "code",
   "execution_count": 8,
   "metadata": {},
   "outputs": [
    {
     "data": {
      "image/png": "[encoded data removed]",
      "text/plain": [
       "<Figure size 576x432 with 1 Axes>"
      ]
     },
     "metadata": {
      "needs_background": "light"
     },
     "output_type": "display_data"
    }
   ],
   "source": [
    "# Try plotting power as a function of wind speed to check for any obvious relationship between them.\n",
    "plt.plot(df['speed'], df['power'],  '.g')\n",
    "plt.title('Power vs wind speed', fontsize='14')\n",
    "plt.xlabel('speed (m/s)', fontsize='14')\n",
    "plt.ylabel('power', fontsize='14')\n",
    "plt.grid()"
   ]
  },
  {
   "cell_type": "markdown",
   "metadata": {},
   "source": [
    "Clearly there isn't a simple relationship between power and speed. It looks as if little power is generated until some threshold speed is achieved (about 7 m/s), then it increases nearly linearly in a range of wind speeds (10 - 15 m/s), before saturating above a certain wind speed (about 17 m/s). The plot would suggest there is a range of wind speeds where the power seems to increase linearly with wind speed, but we need to consider a model that works outside of this range also. Apart from the zero power values at the top and bottom (more here) of the dataset, there are very occasional zero values for power above about 10 m/s; to me they just look like anomalies."
   ]
  },
  {
   "cell_type": "markdown",
   "metadata": {},
   "source": [
    "### What do we expect?\n",
    "Is this the curve we should expect? I think so. The theoretical power curve for a turbine is specific to each turbine and site; see Figure 2 in <span style='color:red'> [3 WT curve] </span>. I'll include a screengrab here. On the figure:\n",
    "- The cut-in speed is the threshold wind speed that much be reached before the turbine will start to generate electricity. A typical value is about 3 m/s.\n",
    "- The rated output power is achieved at approximately 12 - 13 m/s.\n",
    "- The cut-out speed is the wind speed at which the turbine will stop producing electricity in order to avoid damage; typically 25 m/s."
   ]
  },
  {
   "cell_type": "markdown",
   "metadata": {},
   "source": [
    "<img src=\"img/P-wind-theory.JPG\" height=500 width=500>"
   ]
  },
  {
   "cell_type": "markdown",
   "metadata": {},
   "source": [
    "How is this theoretical curve calculated? I found some formulae which state that the extractable power from the wind is given by:\n",
    "$$P = \\frac{1}{2} \\rho A v^3 C_p$$\n",
    "where $\\rho$ is the density of air, $A$ is the area swept by the turbines, $v$ is the wind speed, and $C_p$ is the power coefficient <span style='color:red'> [4 WT calc] </span>. Looking at this formula I would expect power to depend on $v^3$. However, $C_p$ is not static as it depends on the ratio of blade tip speed to wind speed (called $\\lambda$). That function looks like this:"
   ]
  },
  {
   "cell_type": "markdown",
   "metadata": {},
   "source": [
    "<img src=\"img/Cp-lambda.JPG\">"
   ]
  },
  {
   "cell_type": "code",
   "execution_count": 9,
   "metadata": {},
   "outputs": [
    {
     "name": "stdout",
     "output_type": "stream",
     "text": [
      "Average wind speed in data is 12.59 m/s\n"
     ]
    },
    {
     "data": {
      "image/png": "[encoded data removed]",
      "text/plain": [
       "<Figure size 576x432 with 1 Axes>"
      ]
     },
     "metadata": {
      "needs_background": "light"
     },
     "output_type": "display_data"
    }
   ],
   "source": [
    "# So I would expect the power curve to be a product of $v^3$ and this bump above. I'll try to model it.\n",
    "# wind speed\n",
    "x = np.linspace(0, 25, 100)\n",
    "\n",
    "# speed ^3\n",
    "v = np.power(x, 3)\n",
    "\n",
    "# Try a Rayeigh distribution for the power coefficient, need scale factor sc.\n",
    "# w = mean wind speed from our dataset above\n",
    "print(f'Average wind speed in data is {w:.2f} m/s')\n",
    "\n",
    "sc = w / (m.sqrt((m.pi) / 2)) # mode or scale\n",
    "ray = lambda s, x: (x / s ** 2) * ( np.exp( (-x **2) / (2 * s **2) )  )\n",
    "\n",
    "# PLot the product v^3 * Rayleigh and scale it down.\n",
    "plt.plot(x, 0.5 * ray(sc, x)*v, color='b', label='Rayleigh * $v^3$')\n",
    "plt.title('Power curve formula', fontsize='14')\n",
    "plt.xlabel('speed (m/s)', fontsize='14')\n",
    "plt.ylabel('power', fontsize='14')\n",
    "plt.legend()\n",
    "plt.grid()"
   ]
  },
  {
   "cell_type": "markdown",
   "metadata": {},
   "source": [
    " So this is starting to look like our data but I feel it would be difficult to model exactly. I'll start with something simpler."
   ]
  },
  {
   "cell_type": "markdown",
   "metadata": {},
   "source": [
    "## Data preparation\n",
    "The next step in a project is to prepare the dataset <span style='color:red'> [1 Geron] </span>. The first thing I'll do is clean it by removing unwanted zeros. The easiest approach would be to remove all rows where power = 0. I don't really want to do that however, because I feel like the zero power values below about 10 m/s are part of the data, while the ones above about 24 m/s represent some sort of a limit of operation. I can't see how a model would be able to abruptly predict power = 0 at the very high end of speed values unless I hard coded it in as a condition, or constrained the allowed input speed values to a range. I might come back to this here, or place a limit on wind speed input values in the front end of the application.\n",
    "Other steps which could happen now include feature selection and feature scaling. Feature selection is used to drop inputs that provide no useful information; in our case we have only one input (speed) so that step isn't relevant. Feature scaling would be necessary if the scale of an input feature was very big or small compared to other features; again, not relevant here. "
   ]
  },
  {
   "cell_type": "code",
   "execution_count": 10,
   "metadata": {},
   "outputs": [
    {
     "data": {
      "image/png": "[encoded data removed]",
      "text/plain": [
       "<Figure size 576x432 with 1 Axes>"
      ]
     },
     "metadata": {
      "needs_background": "light"
     },
     "output_type": "display_data"
    }
   ],
   "source": [
    "# Where do all the zeros occur?\n",
    "dfz = df[df[\"power\"] == 0]\n",
    "# print(f'There are {dfz.shape} zero values for power')\n",
    "# print(dfz)\n",
    "\n",
    "# Want to keep all rows with power != 0 iff speed > 10\n",
    "# https://www.shanelynn.ie/select-pandas-dataframe-rows-and-columns-using-iloc-loc-and-ix/\n",
    "dfc = df.loc[(df.power == 0) & (df.speed > 10)] # indices where this is true\n",
    "dfc # check 14 rows\n",
    "# I want to remove these rows from my existing dataset.\n",
    "df.drop(df.loc[(df.power == 0) & (df.speed > 10)].index, inplace=True)\n",
    "\n",
    "plt.plot(df['speed'], df['power'],  '.b')\n",
    "plt.title('Power vs wind speed - cleaned', fontsize='14')\n",
    "plt.xlabel('speed (m/s)', fontsize='14')\n",
    "plt.ylabel('power (kW)', fontsize='14')\n",
    "plt.grid()"
   ]
  },
  {
   "cell_type": "markdown",
   "metadata": {},
   "source": [
    "## Identify promising models\n",
    "<span style='color:red'> [1 Geron] </span> now suggests shortlisting promising models. I'll have to think about it. This is a supervised learning problem because we have been provided with a training set which is labeled: we know the power output for each value of input wind speed. Furthermore, it is a regression problem because we have been asked to predict a target numeric value of power given an input wind speed. This is different to classification, where one would be asked to predict what class a particular input belongs to; for example, using the iris data set predict iris species using some/all of the inputs petal length, petal width, sepal length, and sepal width. Some supervised learning algorithms suitable for our task include linear regression, neural networks, and maybe some like Support Vector Machine (SVM) regression and decision trees. I'll probably try the first two and only do more if I have time.\n",
    "\n",
    "<span style='color:red'> [CourseML] </span> for some of these."
   ]
  },
  {
   "cell_type": "markdown",
   "metadata": {},
   "source": [
    "***\n",
    "### Model 0: Linear Regression\n",
    "Looking at the data, we could probably get away with fitting a straight line to it. That would likely do a very good job of predicting output power over a certain range of input wind speeds (around 10 - 15 m/s). However, it wouldn't do a great job around the places where the power is rising more slowly (< 10 m/s) or where it is leveling off (> 15 m/s). I think I'll start with a linear model and maybe move on to nonlinear regression afterwards. "
   ]
  },
  {
   "cell_type": "code",
   "execution_count": 11,
   "metadata": {},
   "outputs": [
    {
     "data": {
      "text/html": [
       "<div>\n",
       "<style scoped>\n",
       "    .dataframe tbody tr th:only-of-type {\n",
       "        vertical-align: middle;\n",
       "    }\n",
       "\n",
       "    .dataframe tbody tr th {\n",
       "        vertical-align: top;\n",
       "    }\n",
       "\n",
       "    .dataframe thead th {\n",
       "        text-align: right;\n",
       "    }\n",
       "</style>\n",
       "<table border=\"1\" class=\"dataframe\">\n",
       "  <thead>\n",
       "    <tr style=\"text-align: right;\">\n",
       "      <th></th>\n",
       "      <th>speed</th>\n",
       "      <th>power</th>\n",
       "    </tr>\n",
       "  </thead>\n",
       "  <tbody>\n",
       "    <tr>\n",
       "      <th>speed</th>\n",
       "      <td>1.000000</td>\n",
       "      <td>0.950026</td>\n",
       "    </tr>\n",
       "    <tr>\n",
       "      <th>power</th>\n",
       "      <td>0.950026</td>\n",
       "      <td>1.000000</td>\n",
       "    </tr>\n",
       "  </tbody>\n",
       "</table>\n",
       "</div>"
      ],
      "text/plain": [
       "          speed     power\n",
       "speed  1.000000  0.950026\n",
       "power  0.950026  1.000000"
      ]
     },
     "execution_count": 11,
     "metadata": {},
     "output_type": "execute_result"
    }
   ],
   "source": [
    "# Take a quick look at the correlation between the dataframe columns\n",
    "df.corr()"
   ]
  },
  {
   "cell_type": "markdown",
   "metadata": {},
   "source": [
    "<span style='color:red'> [Medium nlr] </span> states that a correlation coefficient > 0.7 suggests a strong linear tendency and a nonlinear model would be inappropriate. We see values > 0.9 for the correlation between power and speed, so a straight line might actually be fine. We'll see."
   ]
  },
  {
   "cell_type": "code",
   "execution_count": 12,
   "metadata": {},
   "outputs": [
    {
     "name": "stdout",
     "output_type": "stream",
     "text": [
      "(486, 1)\n",
      "(486,)\n",
      "Coefficients: \n",
      " [5.5509909]\n",
      "Mean squared error: 166.62\n",
      "Coefficient of determination: 0.90\n"
     ]
    },
    {
     "data": {
      "text/plain": [
       "<matplotlib.legend.Legend at 0x17a975816d0>"
      ]
     },
     "execution_count": 12,
     "metadata": {},
     "output_type": "execute_result"
    },
    {
     "data": {
      "image/png": "[encoded data removed]",
      "text/plain": [
       "<Figure size 576x432 with 1 Axes>"
      ]
     },
     "metadata": {
      "needs_background": "light"
     },
     "output_type": "display_data"
    }
   ],
   "source": [
    "# From: https://scikit-learn.org/stable/modules/linear_model.html#ordinary-least-squares\n",
    "# and example from\n",
    "# https://scikit-learn.org/stable/auto_examples/linear_model/plot_ols.html#sphx-glr-auto-examples-linear-model-plot-ols-py\n",
    "\n",
    "# Create linear regression object\n",
    "reg = linear_model.LinearRegression()\n",
    "\n",
    "# Need x and y in correct format TO DO restrict x values to be 7-18 & reflect that in front-end that calls model\n",
    "X = df[[\"speed\"]] # note dimensions\n",
    "y = df[\"power\"]\n",
    "\n",
    "print(X.shape)\n",
    "print(y.shape)\n",
    "\n",
    "# Split into training and test sets TO DO LATER\n",
    "\n",
    "# Train the model using the training sets\n",
    "reg.fit(X, y)\n",
    "\n",
    "# Make predictions using the testing set\n",
    "y_pred = reg.predict(X)\n",
    "\n",
    "# The coefficients\n",
    "print('Coefficients: \\n', reg.coef_)\n",
    "\n",
    "# The mean squared error\n",
    "print('Mean squared error: %.2f' % mean_squared_error(y, y_pred))\n",
    "\n",
    "# The coefficient of determination: 1 is perfect prediction\n",
    "print('Coefficient of determination: %.2f' % r2_score(y, y_pred))\n",
    "\n",
    "# Inspect the fit\n",
    "plt.plot(df['speed'], df['power'],  '.b', label=\"data\")\n",
    "plt.plot(df['speed'], y_pred, 'k-', label=\"model\")\n",
    "plt.xlabel('speed (m/s)', fontsize='14')\n",
    "plt.ylabel('power (kW)', fontsize='14')\n",
    "plt.title(\"Linear model\")\n",
    "plt.grid()\n",
    "plt.legend()"
   ]
  },
  {
   "cell_type": "markdown",
   "metadata": {},
   "source": [
    "This is an example of *underfitting*, where the model is too simple to learn the structure of the data: a straight line is not a good fit to our data. One solution is to pick a more powerful model which has more parameters, so we will now try fitting a polynomial to our data. There are many possible nonlinear models <span style='color:red'> [5 Medium nlr] </span>. However, as we already know that $ power \\propto speed^3$, a third order polynomial might be a good place to start.\n",
    "\n",
    "First, I'll split the data set into a training and validation part (what we have been calling test) and look at the linear model as a function of training set size. The code that follows is taken directly from <span style='color:red'> [1 Geron] </span> (p. 132) with just some edits specific to this notebook. The plot below shows that the straight line is a good fit to the data (close to zero error) when there are only a few data points in the training set, but when more points are added to the training set, the error increases because a straight line is not a good fit to this data at all. The training error reaches a plateau. On the validation or test set, the model (having being trained on only a few training points) cannot generalize well at all to new data and the error is high. As more points are added to the training set, the model performs better and the validation error comes down, although it too tends towards the same limit. This learning curve is typical of a model that is underfitting. Adding more data will not help to bring down the error, but choosing a more complex model might <span style='color:red'> [6 CourseML] </span> (Week 6 lectures)."
   ]
  },
  {
   "cell_type": "code",
   "execution_count": 13,
   "metadata": {},
   "outputs": [
    {
     "data": {
      "image/png": "[encoded data removed]",
      "text/plain": [
       "<Figure size 576x432 with 1 Axes>"
      ]
     },
     "metadata": {
      "needs_background": "light"
     },
     "output_type": "display_data"
    }
   ],
   "source": [
    "def plot_learning_curves(model, X, y):\n",
    "    X_train, X_val, y_train, y_val = train_test_split(X, y, test_size = 0.2)\n",
    "    train_errors, val_errors = [], []\n",
    "    for m in range (1, len(X_train)):\n",
    "        model.fit(X_train[:m], y_train[:m])\n",
    "        y_train_predict = model.predict(X_train[:m])\n",
    "        y_val_predict = model.predict(X_val)\n",
    "        train_errors.append(mean_squared_error(y_train[:m], y_train_predict))\n",
    "        val_errors.append(mean_squared_error(y_val, y_val_predict))\n",
    "    plt.plot(np.sqrt(train_errors), \"r-+\", label=\"train\")\n",
    "    plt.plot(np.sqrt(val_errors), \"b-.\", label=\"validation\")\n",
    "    plt.legend()\n",
    "    plt.xlabel(\"Size of training set\")\n",
    "    plt.ylabel(\"Root mean squared error\")\n",
    "    plt.grid()\n",
    "    plt.xlim(-10, 100)\n",
    "\n",
    "lin_reg = linear_model.LinearRegression()\n",
    "plot_learning_curves(lin_reg, X, y)"
   ]
  },
  {
   "cell_type": "markdown",
   "metadata": {},
   "source": [
    "***\n",
    "### Model 1: Polynomial Regression"
   ]
  },
  {
   "cell_type": "markdown",
   "metadata": {},
   "source": [
    "We transform our simple linear model $$y = \\theta_0 + \\theta_1 x $$ into a nonlinear one $$ y = \\theta_0 + \\theta_1 (x) + \\theta_2 (x^2) + \\theta_3 (x^3)$$ We can still do linear regression using this model because it is linear in the model parameters $\\theta$: $\\theta_0$ is the bias term (intercept in a straight line) and the remaining $\\theta$ terms are feature weights. <span style='color:red'> [7 Medium polyReg] </span>. The $x$, $x^2$, and $x^3$ are our features, which we obtain by transforming the data we were given. We use the PolynomialFeatures class in Scikit-learn to do this by adding the square and cube of our data to create two new features <span style='color:red'> [1 Geron] </span> (p. 129). "
   ]
  },
  {
   "cell_type": "code",
   "execution_count": 14,
   "metadata": {},
   "outputs": [
    {
     "name": "stdout",
     "output_type": "stream",
     "text": [
      "(98, 3)\n",
      "Coefficients: [-9.73400228  1.49501894 -0.03951543]\n",
      "Intercept: 14.24\n",
      "Mean squared error: 36.09\n",
      "Coefficient of determination: 0.98\n"
     ]
    }
   ],
   "source": [
    "# Try polynomial order 3\n",
    "poly_features = PolynomialFeatures(degree=3, include_bias=False) #include_bias -> intercept\n",
    "\n",
    "# Split the data set into train/set.\n",
    "X_train, X_test, y_train, y_test = train_test_split(X, y, test_size = 0.2)\n",
    "\n",
    "# Generate the new features (powers of x) for the training data\n",
    "X_train_poly = poly_features.fit_transform(X_train)\n",
    "\n",
    "# Create an instance of the model & train it using the transformed training set.\n",
    "regP = linear_model.LinearRegression()\n",
    "regP.fit(X_train_poly, y_train)\n",
    "\n",
    "# Prediction for y using test data?\n",
    "X_test_poly = poly_features.fit_transform(X_test)\n",
    "print(X_test_poly.shape)\n",
    "y_predP = regP.predict(X_test_poly)\n",
    "\n",
    "# The coefficients of the fit.\n",
    "print(f'Coefficients: {regP.coef_}')\n",
    "# Don't forget about the intercept - I did initially.\n",
    "print(f'Intercept: {regP.intercept_:.2f}')\n",
    "\n",
    "# The mean squared error\n",
    "print(f'Mean squared error: {mean_squared_error(y_test, y_predP):.2f}')\n",
    "\n",
    "# The coefficient of determination: 1 is perfect prediction\n",
    "print(f'Coefficient of determination: {r2_score(y_test, y_predP):.2f}')"
   ]
  },
  {
   "cell_type": "code",
   "execution_count": 15,
   "metadata": {},
   "outputs": [
    {
     "name": "stdout",
     "output_type": "stream",
     "text": [
      "For wind speed: 20.00 polynomial regression predicts power  = 101.45\n"
     ]
    }
   ],
   "source": [
    "# Predict power for a single input speed\n",
    "xin = 20\n",
    "out = regP.intercept_ + regP.coef_[0]*xin + regP.coef_[1]*(xin**2) + regP.coef_[2]*(xin**3)\n",
    "print(f'For wind speed: {xin:.2f} polynomial regression predicts power  = {out:.2f}')\n",
    "\n",
    "# Inspect the fit - seems to have a y shift of about -13 (I was forgetting y intercept!)\n",
    "fit = regP.intercept_ + regP.coef_[0]*df['speed'] + regP.coef_[1]*(df['speed']**2) + regP.coef_[2]*(df['speed']**3)"
   ]
  },
  {
   "cell_type": "code",
   "execution_count": 16,
   "metadata": {},
   "outputs": [
    {
     "data": {
      "text/plain": [
       "<matplotlib.legend.Legend at 0x17a8e5522b0>"
      ]
     },
     "execution_count": 16,
     "metadata": {},
     "output_type": "execute_result"
    },
    {
     "data": {
      "image/png": "[encoded data removed]",
      "text/plain": [
       "<Figure size 576x432 with 1 Axes>"
      ]
     },
     "metadata": {
      "needs_background": "light"
     },
     "output_type": "display_data"
    }
   ],
   "source": [
    "plt.plot(df['speed'], df['power'],  'b.', label=\"data\")\n",
    "plt.plot(X_test, y_predP, 'k.', label=\"model on test set\")\n",
    "plt.plot(df['speed'], fit, 'r-', label=\"fit\")\n",
    "plt.xlabel('speed (m/s)', fontsize='14')\n",
    "plt.ylabel('power (kW)', fontsize='14')\n",
    "plt.title(\"Polynomial order=3\")\n",
    "plt.grid()\n",
    "plt.legend()"
   ]
  },
  {
   "cell_type": "markdown",
   "metadata": {},
   "source": [
    "This looks like a reasonably food fit with an $R^2$ value very close to 1. Despite the high $R^2$ value, we can see that the fit is a little off as speed approaches 10 m/s and is greater than about 15 m/s. I'll definitely use it in my final product. I can't plot the test data as a line because the X_test values are randomly selected from the data set so they are not in ascending order - I get a scribble for a curve if I try. I might restrict input values of wind speed in the front end, for example,\n",
    "- speed < 5, power = 0\n",
    "- speed > 20, power = take an average of last 20 values in cleaned data set perhaps.\n",
    "\n",
    "Our model for power output will be:\n",
    "$$ power = 14.13 - 9.65 speed + 1.48 speed^2 - 0.04 speed^3$$"
   ]
  },
  {
   "cell_type": "markdown",
   "metadata": {},
   "source": [
    "### Save the polynomial regression model "
   ]
  },
  {
   "cell_type": "code",
   "execution_count": 17,
   "metadata": {},
   "outputs": [
    {
     "name": "stdout",
     "output_type": "stream",
     "text": [
      "Polynomial regression model saved as poly-reg.pkl\n"
     ]
    }
   ],
   "source": [
    "joblib.dump(regP, \"poly-reg.pkl\")\n",
    "print(\"Polynomial regression model saved as poly-reg.pkl\")"
   ]
  },
  {
   "cell_type": "markdown",
   "metadata": {},
   "source": [
    "***\n",
    "### Model 2: Support Vector Machines\n",
    "\n",
    "I had come across the support vector machine (SVM) for detection of outliers and for logistic regression, where one is trying to do classification by finding a decision boundary which separates classes. SVM is a large margin classifier as it aims to find a decision boundary which has as large a margin as possible around the decision boundary, i.e, the margin does not contain any training data. SVM outputs a prediction (1 or 0) of whether or not an example belongs to a class, whereas logistic regression outputs a probability. Nonlinear decision boundaries can be tackled though choice of an appropriate kernal in the SVM - I'll explain later. I hadn't realised SVM could be used for regression, but Google tells me it can <span style='color:red'> [8 Medium SVRreg] </span>, so I'll give it a go. SVM regression works in the opposite way to what we have just described: the algorithm tries to fit as many training examples as possible inside the margin while limiting the number that fall outside it <span style='color:red'> [1 Geron] </span> (p. 162)."
   ]
  },
  {
   "cell_type": "markdown",
   "metadata": {},
   "source": [
    "### SVM kernels\n",
    "The documentation on SVM in Scikit-learn includes a good basic example of SVM regression performed using different kernels <span style='color:red'> [9 SVR, 10 SKLsvrKer] </span>. The function of the kernel is to transform the input data into the form required for a particular problem <span style='color:red'> [11 DFkernel] </span>. For example, if the decision boundary between two classes is not a simple straight line, one could try using a nonlinear kernel (like polynomial) to better fit the boundary between the classes. As I understand it, this is equivalent to transforming an input feature $x$ to generate polynomial features $x^2, x^3, ..$ as we did above in model 2. It is advisable to try a linear kernel first and then move to the Gaussian radial basis function (RBF) <span style='color:red'> [1 Geron] </span> (p. 161), a good general purpose kernel when there is no prior knowledge about the data <span style='color:red'> [11 DFkernel] </span>. The idea of this type of kernel is to compute new features based on the proximity of training examples to landmarks (their similarity), and the simplest thing to do is chose the landmarks to be the training examples themselves <span style='color:red'> [6 CourseML] </span> (Week 7). The Scikit-learn SVM regression algorithm must do this automatically. I'll play around with the various parameters to find a good fit to our data set.\n",
    "\n",
    "Another thing I see mentioned a lot is that SVMs are sensitive to scaling, so we'll probably have to apply some type of transformation to our input feature before training a model <span style='color:red'> [12 MLMscaler] </span>. "
   ]
  },
  {
   "cell_type": "markdown",
   "metadata": {},
   "source": [
    "I will try a linear kernel first and see how we get on. The parameter C is related to regularization, with default value = 1. Regularization is used to constrain a model to make it more simple, and thus avoiding overfitting. The amount of regularization is usually controlled by a parameter in the machine learning model. Here, small C means lots of regularization, which implies high bias and low variance, or a model that's too simple. Large C means very little regularization, which translates to overfitting as a result of low bias and high variance. I think, regardless of what C I pick below, a linear model will never fit the data which is clearly nonlinear."
   ]
  },
  {
   "cell_type": "code",
   "execution_count": 18,
   "metadata": {},
   "outputs": [
    {
     "data": {
      "text/plain": [
       "<matplotlib.legend.Legend at 0x17a9753e6d0>"
      ]
     },
     "execution_count": 18,
     "metadata": {},
     "output_type": "execute_result"
    },
    {
     "data": {
      "image/png": "[encoded data removed]",
      "text/plain": [
       "<Figure size 576x432 with 1 Axes>"
      ]
     },
     "metadata": {
      "needs_background": "light"
     },
     "output_type": "display_data"
    }
   ],
   "source": [
    "# Create an instance of the SVR class\n",
    "# C ~1/reg default = 1. Tiny C bad fit, Huge C over fit\n",
    "svr_lin = SVR(kernel='linear', C=1)\n",
    "\n",
    "# Scale X only\n",
    "sc_X = StandardScaler()\n",
    "X_scale = sc_X.fit_transform(X)\n",
    "\n",
    "# Train model with scaled X and y\n",
    "svr_lin.fit(X_scale, y)\n",
    "\n",
    "# What does the fit look like?\n",
    "plt.plot(X, y, 'm.', label=\"data\") # X, y data\n",
    "plt.plot(X, svr_lin.predict(X_scale), '-r', label=\"SVR linear\") # prediction using scaled X data\n",
    "plt.xlabel('speed (m/s)', fontsize='14')\n",
    "plt.ylabel('power (kW)', fontsize='14')\n",
    "plt.title(\"SVR\")\n",
    "plt.grid()\n",
    "plt.legend()"
   ]
  },
  {
   "cell_type": "markdown",
   "metadata": {},
   "source": [
    "This linear kernel produces much the same result as when we tried simple linear regression above. Lets try a polynomial kernel with degree = 3 as we know the power out has $v^3$ component. Feature x is already scaled from above. coeff0 is the independent term in the kernel function with default value 0. I got a very bad prediction with coef0=0 and found that coef0=1 worked well. Making it even bigger didn't appear to do much to the fit but it took the code a tiny bit longer to run. <span style='color:red'> [13 SVRpractical] </span> gives some explanation of the parameters - gamma defines how much influence a single training example has. The larger gamma is, the closer other examples must be to be affected. I'll leave it at the default value, and same for epsilon. I'll leave the regularization parameter C = 1. If I change C to be 0.1 or something small I end up with an almost linear prediction - so lots of regularization which translates into a too simple model. "
   ]
  },
  {
   "cell_type": "code",
   "execution_count": 19,
   "metadata": {},
   "outputs": [
    {
     "data": {
      "text/plain": [
       "<matplotlib.legend.Legend at 0x17a96422880>"
      ]
     },
     "execution_count": 19,
     "metadata": {},
     "output_type": "execute_result"
    },
    {
     "data": {
      "image/png": "[encoded data removed]",
      "text/plain": [
       "<Figure size 576x432 with 1 Axes>"
      ]
     },
     "metadata": {
      "needs_background": "light"
     },
     "output_type": "display_data"
    }
   ],
   "source": [
    "# Create an instance of the SVR class\n",
    "svr_ply = SVR(kernel=\"poly\", degree=3, coef0=1, C=1, epsilon=0.1, gamma='auto') # OK like poly LR\n",
    "# coef0 is ..\n",
    "# epsilon is ..\n",
    "\n",
    "# Train model with scaled X and y\n",
    "svr_ply.fit(X_scale, y)\n",
    "\n",
    "# What does the fit look like?\n",
    "plt.plot(X, y, 'm.', label=\"data\") # X, y data\n",
    "plt.plot(X, svr_ply.predict(X_scale), '-b', label=\"SVR poly3\") # prediction using scaled X data\n",
    "plt.xlabel('speed (m/s)', fontsize='14')\n",
    "plt.ylabel('power (kW)', fontsize='14')\n",
    "plt.title(\"SVR\")\n",
    "plt.grid()\n",
    "plt.legend()"
   ]
  },
  {
   "cell_type": "markdown",
   "metadata": {},
   "source": [
    "Lastly, I'll try the RBF kernel and I'll play around with C. I found that C = 0.1 gives a very bad fit, and as C approaches 1 the fit gets better. I'll end up leaving it at the default of 1. "
   ]
  },
  {
   "cell_type": "code",
   "execution_count": 20,
   "metadata": {},
   "outputs": [
    {
     "name": "stdout",
     "output_type": "stream",
     "text": [
      "C = 0.1, R-squared = 0.5288\n",
      "C = 0.2, R-squared = 0.8592\n",
      "C = 0.5, R-squared = 0.9785\n",
      "C = 1, R-squared = 0.9860\n",
      "C = 5, R-squared = 0.9898\n",
      "C = 10, R-squared = 0.9901\n"
     ]
    }
   ],
   "source": [
    "#Few C values to try.\n",
    "c_vals = [0.1, 0.2, 0.5, 1, 5, 10]\n",
    "r2 = []\n",
    "for c in c_vals:\n",
    "    svr_c = SVR(kernel=\"rbf\", C=c, gamma='auto')\n",
    "    svr_c.fit(X_scale, y)\n",
    "    svr_c.predict(X_scale)\n",
    "    r2.append(svr_c.score(X_scale, y))\n",
    "    print(f'C = {c}, R-squared = {svr_c.score(X_scale, y):.4f}')"
   ]
  },
  {
   "cell_type": "code",
   "execution_count": 21,
   "metadata": {},
   "outputs": [
    {
     "data": {
      "image/png": "[encoded data removed]",
      "text/plain": [
       "<Figure size 576x432 with 1 Axes>"
      ]
     },
     "metadata": {
      "needs_background": "light"
     },
     "output_type": "display_data"
    }
   ],
   "source": [
    "plt.plot(c_vals, r2, 'r+')\n",
    "plt.xlabel('C parameter in rbf kernel', fontsize='14')\n",
    "plt.ylabel('$R^2$', fontsize='14')\n",
    "plt.title(\"Regularization $R^2$ relationship\")\n",
    "plt.grid()"
   ]
  },
  {
   "cell_type": "code",
   "execution_count": 22,
   "metadata": {},
   "outputs": [
    {
     "data": {
      "text/plain": [
       "<matplotlib.legend.Legend at 0x17a975367c0>"
      ]
     },
     "execution_count": 22,
     "metadata": {},
     "output_type": "execute_result"
    },
    {
     "data": {
      "image/png": "[encoded data removed]",
      "text/plain": [
       "<Figure size 576x432 with 1 Axes>"
      ]
     },
     "metadata": {
      "needs_background": "light"
     },
     "output_type": "display_data"
    }
   ],
   "source": [
    "# Create an instance of the SVR class\n",
    "svr_rbf = SVR(kernel=\"rbf\", C=1, gamma='auto')\n",
    "\n",
    "# Train model with scaled X and y\n",
    "svr_rbf.fit(X_scale, y)\n",
    "\n",
    "# What does the fit look like?\n",
    "plt.plot(X, y, 'm.', label=\"data\") # X, y data\n",
    "plt.plot(X, svr_rbf.predict(X_scale), '-g', label=\"SVR rbf\") # prediction using scaled X data\n",
    "plt.xlabel('speed (m/s)', fontsize='14')\n",
    "plt.ylabel('power (kW)', fontsize='14')\n",
    "plt.title(\"SVR\")\n",
    "plt.grid()\n",
    "plt.legend()"
   ]
  },
  {
   "cell_type": "markdown",
   "metadata": {},
   "source": [
    "I think this is doing a slightly better job than polynomial SVM regression. Finally, I'll split the data set into a train / test part and evaluate the model on test data."
   ]
  },
  {
   "cell_type": "code",
   "execution_count": 23,
   "metadata": {},
   "outputs": [
    {
     "name": "stdout",
     "output_type": "stream",
     "text": [
      "R-squared on test data = 0.9864\n"
     ]
    },
    {
     "data": {
      "image/png": "[encoded data removed]",
      "text/plain": [
       "<Figure size 576x432 with 1 Axes>"
      ]
     },
     "metadata": {
      "needs_background": "light"
     },
     "output_type": "display_data"
    }
   ],
   "source": [
    "# Split the data set into train/set.  X already scaled but y is not\n",
    "X_train, X_test, y_train, y_test = train_test_split(X_scale, y, test_size = 0.2)\n",
    "\n",
    "# Create an instance of the SVR class\n",
    "svr_final = SVR(kernel=\"rbf\", C=1, gamma='auto')\n",
    "\n",
    "# Train model with training data scaled X and y.\n",
    "svr_final.fit(X_train, y_train)\n",
    "\n",
    "# Test it on test data.\n",
    "y_pred = svr_final.predict(X_test)\n",
    "\n",
    "# And plot.\n",
    "plt.plot(X_train, y_train, '.c', label=\"train\") # X, y training data\n",
    "plt.plot(X_test, y_pred, '.m', label=\"SVR rbf on test\") # prediction using scaled X_test data\n",
    "plt.xlabel('Scaled speed (m/s)', fontsize='14')\n",
    "plt.ylabel('power (kW)', fontsize='14')\n",
    "plt.title(\"SVR train/test\")\n",
    "plt.grid()\n",
    "plt.legend()\n",
    "\n",
    "# R-squared.\n",
    "print(f'R-squared on test data = {svr_final.score(X_test, y_test):.4f}')"
   ]
  },
  {
   "cell_type": "markdown",
   "metadata": {},
   "source": [
    "Note that the scaled speed is displayed on this plot. In order to make a prediction of power given wind speed, I'll have to apply the same scaling transform to the input speed before using the predict method."
   ]
  },
  {
   "cell_type": "code",
   "execution_count": 24,
   "metadata": {},
   "outputs": [
    {
     "name": "stdout",
     "output_type": "stream",
     "text": [
      "wind = 1, power = [97.88052108]\n",
      "wind = 15, power = 73.3172777044485\n"
     ]
    }
   ],
   "source": [
    "# Q. How to predict from a single value? A. Need x and the transformer sc_X\n",
    "# Scaling issue? As predictions for -1,0,1 seems to match power.\n",
    "print(f'wind = 1, power = {svr_final.predict([[1]])}')\n",
    "\n",
    "# Apply same scaler to the x value we want to test.\n",
    "xin = [[15]]\n",
    "xin_scale = sc_X.transform(xin)\n",
    "\n",
    "# Make a prediction for this scaled value - seems sensible.\n",
    "yout = svr_final.predict(xin_scale)\n",
    "print(f'wind = {xin[0][0]}, power = {yout[0]}')"
   ]
  },
  {
   "cell_type": "markdown",
   "metadata": {},
   "source": [
    "### Save the support vector machine regression model"
   ]
  },
  {
   "cell_type": "code",
   "execution_count": 25,
   "metadata": {},
   "outputs": [
    {
     "name": "stdout",
     "output_type": "stream",
     "text": [
      "Support vector machine regression model saved as svm-reg.pkl\n"
     ]
    }
   ],
   "source": [
    "joblib.dump(svr_final, \"svm-reg.pkl\")\n",
    "print(\"Support vector machine regression model saved as svm-reg.pkl\")"
   ]
  },
  {
   "cell_type": "markdown",
   "metadata": {},
   "source": [
    "***\n",
    "### Model 3: Neural Network\n",
    "\n",
    "Both polynomial and SVM regression are doing a reasonably good job of predicting power given wind speed. I think the SVM regression model with rbf kernel does best, but if you look closely, you can still see that the fit (prediction) doesn't always go through the data in a symmetric way. For example, in the last plot above you can see that the prediction is a tiny bit off for scaled speed in the range -1 to 0. I'm now going to investigate if a neural network will do a better job."
   ]
  },
  {
   "cell_type": "markdown",
   "metadata": {},
   "source": [
    "An artificial neural network, or just a neural network, is a machine learning model inspired by the networks of biological neurons found in human brains <span style='color:red'> [14 WikiANN] </span>. Each individual biological neuron is relatively simple, but because each one is connected to many thousands of others, they can perform complicated tasks when working together. With that idea replicated for machine learning, the idea of a an artificial neuron is that its output fires depending on the value of the inputs to it. This is what a *threshold logic unit* is based on: the output of such a unit is the weighted sum of its inputs multiplied by an step function, which acts like an on/off switch. A *perceptron* is a single layer of these units where each unit is connected to all the inputs. If each neuron in a layer is connected to all the neurons in a previous layer, that layer is a *dense* layer. A *bias* is also fed to each unit - I think of it like the intercept in a straight line as it allows one to apply a constant shift to the step function (or activation function in general terms).  Finally, A *multilayer perceptron* (MLP) is obtained by stacking multiple perceptrons. A MLP has a single input layer, one or more hidden layers, and a final output layer. This quick run thorough the terminology is based on Chapter 10 of <span style='color:red'> [1 Geron] </span>. I know this explanation is not necessary but I'm interested in it and don't mind spending a little time on it. For this project, we will use the Keras API to build and train our neural networks, with the heavy computation associated with neural networks done in a backend called TensorFlow [<span style='color:red'> [15 keras, 16 tf] </span>]. We can easily build a MLP model in Keras by stacking neural network layers sequentially. An image of such a neural network is shown below <span style='color:red'> [17 mediumANN] </span>. For neural networks with many hidden layers, each containing many neurons, the number of connections can be huge. The sizes of the weights matrices below reflect this: for example $W_1$ has size 4x5 because there are 5 neurons in hidden layer 1, each connected to four inputs."
   ]
  },
  {
   "cell_type": "markdown",
   "metadata": {},
   "source": [
    "<img src=\"img/ANN.png\" height=400 width=400>"
   ]
  },
  {
   "cell_type": "code",
   "execution_count": 26,
   "metadata": {},
   "outputs": [
    {
     "name": "stdout",
     "output_type": "stream",
     "text": [
      "(291, 1)\n",
      "(291,)\n",
      "(98, 1)\n",
      "(98,)\n",
      "(97, 1)\n",
      "(97,)\n"
     ]
    }
   ],
   "source": [
    "# Refresh our memory re. the data - looks good.\n",
    "#plt.plot(df['speed'], df['power'],  '.g')\n",
    "#plt.plot(X, y,  '-r')\n",
    "\n",
    "# Split the data set into train/set. (not yet using)\n",
    "X_train, X_test, y_train, y_test = train_test_split(X, y, test_size = 0.2)\n",
    "\n",
    "# Take some of the training set to be a validation set. \n",
    "# Want train:test:validation = 60:20:20\n",
    "X_train, X_val, y_train, y_val = train_test_split(X_train, y_train, test_size=0.25)\n",
    "print(X_train.shape)\n",
    "print(y_train.shape)\n",
    "print(X_test.shape)\n",
    "print(y_test.shape)\n",
    "print(X_val.shape)\n",
    "print(y_val.shape)"
   ]
  },
  {
   "cell_type": "markdown",
   "metadata": {},
   "source": [
    "Now we construct a neural network consisting of three layers: the input layer, a hidden layer with 50 neurons, and the output layer. The size of the input and output layers is determined by the data we have and what we want to predict. Having one hidden layer is a good default, but if there are more hidden layers, it's recommended to have the same number of neurons in each hidden layer <span style='color:red'> [6 CourseML] </span> (week 5). The more neurons there are in each hidden layer the better, but this must be balanced against increased computation time for more neurons. \n",
    "\n",
    "The steps involved in building such a neural network are outlined nicely here <span style='color:red'> [18 NNWhowto] </span> with a good explanation of sizes etc here <span style='color:red'> [19 SOkerasIP] </span>. \n",
    "- We have one hidden layer with 50 neurons and it's a dense layer. \n",
    "- The input to it is a one-dimensional tensor (like a matrix). \n",
    "- The method of initialization for the weights and biases is also chosen here. It's important that the weights are not all set to zero initially (kernel_initializer parameter). I'll explain this a little later.\n",
    "- The activation function is a sigmoid, like a smoothed out step function that we mentioned above. The fact that it's smooth means it has a derivative, which is important when it comes to calculating loss etc in a while.\n",
    "- Our output layer has just one neuron and the activation function is linear so that the output can have any range of values."
   ]
  },
  {
   "cell_type": "code",
   "execution_count": 27,
   "metadata": {},
   "outputs": [],
   "source": [
    "# Create a Sequential model incrementally via the add() method:\n",
    "# kernel_initializer=\"glorot_uniform\"\n",
    "model = kr.models.Sequential()\n",
    "model.add(kr.layers.Dense(50, input_shape=(1,), activation='sigmoid', kernel_initializer=\"glorot_uniform\", bias_initializer=\"zeros\"))\n",
    "model.add(kr.layers.Dense(1, activation='linear', kernel_initializer=\"glorot_uniform\", bias_initializer=\"glorot_uniform\"))"
   ]
  },
  {
   "cell_type": "markdown",
   "metadata": {},
   "source": [
    "Once the model is designed, we must compile it to specify the *learning rate* and *loss function*, the quantity we are trying to minimize in through training of the network. "
   ]
  },
  {
   "cell_type": "code",
   "execution_count": 28,
   "metadata": {},
   "outputs": [
    {
     "name": "stdout",
     "output_type": "stream",
     "text": [
      "Model: \"sequential\"\n",
      "_________________________________________________________________\n",
      "Layer (type)                 Output Shape              Param #   \n",
      "=================================================================\n",
      "dense (Dense)                (None, 50)                100       \n",
      "_________________________________________________________________\n",
      "dense_1 (Dense)              (None, 1)                 51        \n",
      "=================================================================\n",
      "Total params: 151\n",
      "Trainable params: 151\n",
      "Non-trainable params: 0\n",
      "_________________________________________________________________\n"
     ]
    }
   ],
   "source": [
    "# Compile the model and summarize it.\n",
    "model.compile(kr.optimizers.Adam(lr=0.001), loss=\"mean_squared_error\")\n",
    "model.summary()"
   ]
  },
  {
   "cell_type": "markdown",
   "metadata": {},
   "source": [
    "The hidden layer has 50 neurons plus 50 bias terms giving 100 parameters for this layer. The output layer has 1 neuron with one bias term and 50 inputs feeding to it, so 51 parameters in total. The network has 151 parameters. The aim is to train it and find *good* values for these 151 parameters. How is this training done? \n",
    "\n",
    "**Backpropagation**\n",
    "\n",
    "The algorithm used is called backpropagation, and consists of two passes through the network, one in the forward direction and one backward. Each training example (or batch of them) is passed through the each layer to the output, with the output of each layer being calculated at each stage. This is the forward pass. The output error is then calculated in the form of a loss function. The algorithm then goes through each layer in reverse, calculating how much of the error is contributed by each connection. The weights are then adjusted to reduce the error. In the backward pass the error gradient is propagated back through the network, and gradient descent is used to move in the direction of decreasing error in parameter space. The learning rate controls the step size in gradient descent.\n",
    "\n",
    "The sigmoid activation function is used because it has a gradient (unlike the step function) and so gradient descent can work. It is important that all weights are not initialized to zero (kernel_initializer model parameter above) because we want to break symmetry in the network: if all neurons had the same weight then backpropagation would see no difference between them and training would fail. Stochastic gradient descent (SGD) is kind of the default method used to minimize the loss function, but it requires more tuning of the learning rate. The Adam optimizer (extended from SGD) we have used above is an adaptive algorithm (in that it can change the learning rate during training) so we don't need to worry about setting it, just use the default value. Glorot initialization of weights is a technique to ensure that gradients neither vanish nor explode during backpropogation <span style='color:red'> [1 Geron p. 357, 333] </span>. "
   ]
  },
  {
   "cell_type": "markdown",
   "metadata": {},
   "source": [
    "If we apply the predict method to our input X at this stage, using initialized values of biases and weights, we are performing forward propagation of our inputs through an untrained neural network. The network has not learned anything and shouldn't be able to make a sensible prediction yet."
   ]
  },
  {
   "cell_type": "code",
   "execution_count": 29,
   "metadata": {},
   "outputs": [
    {
     "data": {
      "image/png": "[encoded data removed]",
      "text/plain": [
       "<Figure size 576x432 with 1 Axes>"
      ]
     },
     "metadata": {
      "needs_background": "light"
     },
     "output_type": "display_data"
    }
   ],
   "source": [
    "# Look at output with no training.\n",
    "plt.plot(X, y, 'co', label=\"data\")\n",
    "plt.plot(X, model.predict(X), 'b-', label=\"Untrained neural n/w\")\n",
    "plt.xlabel('Speed (m/s)', fontsize='14')\n",
    "plt.ylabel('power (kW)', fontsize='14')\n",
    "plt.title(\"Neural network forward propagation\")\n",
    "plt.legend()\n",
    "plt.grid()"
   ]
  },
  {
   "cell_type": "markdown",
   "metadata": {},
   "source": [
    "Now we train the network over 500 epochs - like number of iterations. We can speed up the training by doing so in batches. The parameter batch_size is the number of samples per gradient update. Gradient descent (or a variant of it) is an algorithm used to minimize the cost function at each epoch. Normal gradient descent involves all samples in the training set being used to calculate the gradient and cost function; it proceeds smoothly towards a minimum of the cost function in parameter space. SGD calculates the gradient and cost for each each epoch using one sample (randomly selected hence stochastic); it proceeds in a jagged way towards a minimum but it does so faster. Mini-batch SGD uses a small random subset of the training examples at each iteration, so it's somewhere in between gradient descent and SGD <span style='color:red'> [6 CourseML (week 10), x GDvsSGD] </span>. "
   ]
  },
  {
   "cell_type": "code",
   "execution_count": 30,
   "metadata": {},
   "outputs": [
    {
     "name": "stdout",
     "output_type": "stream",
     "text": [
      "Epoch 1/500\n",
      "30/30 [==============================] - 0s 7ms/step - loss: 3952.5667 - val_loss: 4363.8154\n",
      "Epoch 2/500\n",
      "30/30 [==============================] - 0s 1ms/step - loss: 3851.5344 - val_loss: 4248.2173\n",
      "Epoch 3/500\n",
      "30/30 [==============================] - 0s 1ms/step - loss: 3746.9531 - val_loss: 4122.4380\n",
      "Epoch 4/500\n",
      "30/30 [==============================] - 0s 2ms/step - loss: 3633.9382 - val_loss: 3992.3850\n",
      "Epoch 5/500\n",
      "30/30 [==============================] - 0s 2ms/step - loss: 3516.9075 - val_loss: 3847.3420\n",
      "Epoch 6/500\n",
      "30/30 [==============================] - 0s 1ms/step - loss: 3380.1545 - val_loss: 3686.2588\n",
      "Epoch 7/500\n",
      "30/30 [==============================] - 0s 1ms/step - loss: 3246.0557 - val_loss: 3537.9155\n",
      "Epoch 8/500\n",
      "30/30 [==============================] - 0s 2ms/step - loss: 3129.6897 - val_loss: 3423.1636\n",
      "Epoch 9/500\n",
      "30/30 [==============================] - 0s 2ms/step - loss: 3035.7161 - val_loss: 3317.8022\n",
      "Epoch 10/500\n",
      "30/30 [==============================] - 0s 2ms/step - loss: 2941.1580 - val_loss: 3208.6130\n",
      "Epoch 11/500\n",
      "30/30 [==============================] - 0s 2ms/step - loss: 2853.8083 - val_loss: 3111.4136\n",
      "Epoch 12/500\n",
      "30/30 [==============================] - 0s 2ms/step - loss: 2776.8503 - val_loss: 3025.8718\n",
      "Epoch 13/500\n",
      "30/30 [==============================] - 0s 1ms/step - loss: 2705.2659 - val_loss: 2946.6775\n",
      "Epoch 14/500\n",
      "30/30 [==============================] - 0s 1ms/step - loss: 2639.9080 - val_loss: 2867.3511\n",
      "Epoch 15/500\n",
      "30/30 [==============================] - 0s 1ms/step - loss: 2571.6619 - val_loss: 2792.8486\n",
      "Epoch 16/500\n",
      "30/30 [==============================] - 0s 1ms/step - loss: 2509.7754 - val_loss: 2720.0774\n",
      "Epoch 17/500\n",
      "30/30 [==============================] - 0s 2ms/step - loss: 2447.4424 - val_loss: 2649.0496\n",
      "Epoch 18/500\n",
      "30/30 [==============================] - 0s 1ms/step - loss: 2388.1941 - val_loss: 2582.1755\n",
      "Epoch 19/500\n",
      "30/30 [==============================] - 0s 1ms/step - loss: 2331.2981 - val_loss: 2516.6404\n",
      "Epoch 20/500\n",
      "30/30 [==============================] - ETA: 0s - loss: 1753.87 - 0s 1ms/step - loss: 2279.3779 - val_loss: 2456.1963\n",
      "Epoch 21/500\n",
      "30/30 [==============================] - 0s 1ms/step - loss: 2229.5291 - val_loss: 2401.4136\n",
      "Epoch 22/500\n",
      "30/30 [==============================] - 0s 1ms/step - loss: 2182.5767 - val_loss: 2347.3975\n",
      "Epoch 23/500\n",
      "30/30 [==============================] - 0s 1ms/step - loss: 2136.2441 - val_loss: 2296.1787\n",
      "Epoch 24/500\n",
      "30/30 [==============================] - 0s 2ms/step - loss: 2089.2830 - val_loss: 2241.0093\n",
      "Epoch 25/500\n",
      "30/30 [==============================] - 0s 1ms/step - loss: 2043.1892 - val_loss: 2186.0188\n",
      "Epoch 26/500\n",
      "30/30 [==============================] - 0s 1ms/step - loss: 1999.4714 - val_loss: 2138.9724\n",
      "Epoch 27/500\n",
      "30/30 [==============================] - 0s 1ms/step - loss: 1957.1156 - val_loss: 2088.8638\n",
      "Epoch 28/500\n",
      "30/30 [==============================] - 0s 1ms/step - loss: 1916.3612 - val_loss: 2042.0352\n",
      "Epoch 29/500\n",
      "30/30 [==============================] - 0s 1ms/step - loss: 1874.7461 - val_loss: 1996.8567\n",
      "Epoch 30/500\n",
      "30/30 [==============================] - 0s 1ms/step - loss: 1836.6497 - val_loss: 1951.8488\n",
      "Epoch 31/500\n",
      "30/30 [==============================] - 0s 1ms/step - loss: 1798.5563 - val_loss: 1910.8245\n",
      "Epoch 32/500\n",
      "30/30 [==============================] - 0s 1ms/step - loss: 1760.6952 - val_loss: 1867.9325\n",
      "Epoch 33/500\n",
      "30/30 [==============================] - 0s 2ms/step - loss: 1724.6927 - val_loss: 1827.2393\n",
      "Epoch 34/500\n",
      "30/30 [==============================] - 0s 1ms/step - loss: 1687.4509 - val_loss: 1785.6896\n",
      "Epoch 35/500\n",
      "30/30 [==============================] - 0s 1ms/step - loss: 1652.6719 - val_loss: 1743.7454\n",
      "Epoch 36/500\n",
      "30/30 [==============================] - 0s 1ms/step - loss: 1616.5743 - val_loss: 1707.1643\n",
      "Epoch 37/500\n",
      "30/30 [==============================] - 0s 1ms/step - loss: 1583.4094 - val_loss: 1671.0891\n",
      "Epoch 38/500\n",
      "30/30 [==============================] - 0s 1ms/step - loss: 1551.1655 - val_loss: 1635.7222\n",
      "Epoch 39/500\n",
      "30/30 [==============================] - 0s 1ms/step - loss: 1519.3059 - val_loss: 1603.7009\n",
      "Epoch 40/500\n",
      "30/30 [==============================] - 0s 1ms/step - loss: 1488.1290 - val_loss: 1567.1992\n",
      "Epoch 41/500\n",
      "30/30 [==============================] - 0s 1ms/step - loss: 1457.1924 - val_loss: 1528.3907\n",
      "Epoch 42/500\n",
      "30/30 [==============================] - 0s 1ms/step - loss: 1423.2679 - val_loss: 1494.5112\n",
      "Epoch 43/500\n",
      "30/30 [==============================] - 0s 2ms/step - loss: 1392.6575 - val_loss: 1461.7260\n",
      "Epoch 44/500\n",
      "30/30 [==============================] - 0s 1ms/step - loss: 1363.6207 - val_loss: 1431.1576\n",
      "Epoch 45/500\n",
      "30/30 [==============================] - 0s 1ms/step - loss: 1336.0520 - val_loss: 1399.1693\n",
      "Epoch 46/500\n",
      "30/30 [==============================] - 0s 1ms/step - loss: 1305.8586 - val_loss: 1367.0825\n",
      "Epoch 47/500\n",
      "30/30 [==============================] - 0s 1ms/step - loss: 1277.0607 - val_loss: 1333.7635\n",
      "Epoch 48/500\n",
      "30/30 [==============================] - 0s 2ms/step - loss: 1248.4265 - val_loss: 1302.6158\n",
      "Epoch 49/500\n",
      "30/30 [==============================] - 0s 2ms/step - loss: 1221.1627 - val_loss: 1275.5277\n",
      "Epoch 50/500\n",
      "30/30 [==============================] - 0s 1ms/step - loss: 1195.1160 - val_loss: 1247.5437\n",
      "Epoch 51/500\n",
      "30/30 [==============================] - ETA: 0s - loss: 896.490 - 0s 1ms/step - loss: 1169.6433 - val_loss: 1221.5350\n",
      "Epoch 52/500\n",
      "30/30 [==============================] - 0s 1ms/step - loss: 1144.1029 - val_loss: 1190.2461\n",
      "Epoch 53/500\n",
      "30/30 [==============================] - 0s 1ms/step - loss: 1117.8669 - val_loss: 1163.5063\n",
      "Epoch 54/500\n",
      "30/30 [==============================] - ETA: 0s - loss: 1042.17 - 0s 1ms/step - loss: 1092.8112 - val_loss: 1136.2571\n",
      "Epoch 55/500\n",
      "30/30 [==============================] - 0s 1ms/step - loss: 1068.1460 - val_loss: 1109.2897\n",
      "Epoch 56/500\n",
      "30/30 [==============================] - 0s 1ms/step - loss: 1043.9102 - val_loss: 1084.0616\n",
      "Epoch 57/500\n",
      "30/30 [==============================] - 0s 1ms/step - loss: 1020.6496 - val_loss: 1056.7625\n",
      "Epoch 58/500\n",
      "30/30 [==============================] - 0s 1ms/step - loss: 997.2100 - val_loss: 1035.1783\n",
      "Epoch 59/500\n",
      "30/30 [==============================] - 0s 1ms/step - loss: 975.9784 - val_loss: 1012.4730\n",
      "Epoch 60/500\n",
      "30/30 [==============================] - 0s 1ms/step - loss: 953.3211 - val_loss: 986.5514\n",
      "Epoch 61/500\n",
      "30/30 [==============================] - 0s 1ms/step - loss: 932.2618 - val_loss: 965.7132\n",
      "Epoch 62/500\n",
      "30/30 [==============================] - 0s 1ms/step - loss: 912.8004 - val_loss: 945.9355\n",
      "Epoch 63/500\n",
      "30/30 [==============================] - 0s 1ms/step - loss: 890.9227 - val_loss: 920.8573\n",
      "Epoch 64/500\n",
      "30/30 [==============================] - 0s 1ms/step - loss: 871.0274 - val_loss: 900.9948\n",
      "Epoch 65/500\n",
      "30/30 [==============================] - 0s 1ms/step - loss: 850.6693 - val_loss: 877.0615\n",
      "Epoch 66/500\n",
      "30/30 [==============================] - 0s 1ms/step - loss: 831.7346 - val_loss: 855.7123\n",
      "Epoch 67/500\n",
      "30/30 [==============================] - 0s 2ms/step - loss: 813.4167 - val_loss: 839.7767\n",
      "Epoch 68/500\n",
      "30/30 [==============================] - 0s 1ms/step - loss: 794.7785 - val_loss: 817.4005\n",
      "Epoch 69/500\n",
      "30/30 [==============================] - 0s 1ms/step - loss: 777.0087 - val_loss: 797.6202\n",
      "Epoch 70/500\n",
      "30/30 [==============================] - 0s 1ms/step - loss: 758.6143 - val_loss: 780.0300\n",
      "Epoch 71/500\n",
      "30/30 [==============================] - 0s 1ms/step - loss: 741.4513 - val_loss: 763.5498\n",
      "Epoch 72/500\n",
      "30/30 [==============================] - 0s 1ms/step - loss: 724.4471 - val_loss: 743.5856\n",
      "Epoch 73/500\n",
      "30/30 [==============================] - 0s 1ms/step - loss: 707.4416 - val_loss: 724.4539\n",
      "Epoch 74/500\n",
      "30/30 [==============================] - 0s 2ms/step - loss: 690.9481 - val_loss: 706.4913\n",
      "Epoch 75/500\n",
      "30/30 [==============================] - 0s 3ms/step - loss: 674.4177 - val_loss: 689.1346\n",
      "Epoch 76/500\n",
      "30/30 [==============================] - 0s 1ms/step - loss: 659.0543 - val_loss: 674.4999\n",
      "Epoch 77/500\n",
      "30/30 [==============================] - 0s 1ms/step - loss: 644.3430 - val_loss: 657.9506\n"
     ]
    },
    {
     "name": "stdout",
     "output_type": "stream",
     "text": [
      "Epoch 78/500\n",
      "30/30 [==============================] - 0s 1ms/step - loss: 629.9993 - val_loss: 643.7997\n",
      "Epoch 79/500\n",
      "30/30 [==============================] - 0s 1ms/step - loss: 615.5993 - val_loss: 627.1385\n",
      "Epoch 80/500\n",
      "30/30 [==============================] - 0s 1ms/step - loss: 601.1567 - val_loss: 612.5013\n",
      "Epoch 81/500\n",
      "30/30 [==============================] - 0s 1ms/step - loss: 587.8127 - val_loss: 598.5310\n",
      "Epoch 82/500\n",
      "30/30 [==============================] - 0s 1ms/step - loss: 575.6727 - val_loss: 586.4557\n",
      "Epoch 83/500\n",
      "30/30 [==============================] - 0s 1ms/step - loss: 561.5877 - val_loss: 570.3225\n",
      "Epoch 84/500\n",
      "30/30 [==============================] - 0s 1ms/step - loss: 550.2225 - val_loss: 557.0301\n",
      "Epoch 85/500\n",
      "30/30 [==============================] - 0s 1ms/step - loss: 536.6845 - val_loss: 545.2086\n",
      "Epoch 86/500\n",
      "30/30 [==============================] - 0s 1ms/step - loss: 524.1185 - val_loss: 530.0533\n",
      "Epoch 87/500\n",
      "30/30 [==============================] - 0s 1ms/step - loss: 511.3987 - val_loss: 517.0317\n",
      "Epoch 88/500\n",
      "30/30 [==============================] - 0s 1ms/step - loss: 498.9477 - val_loss: 504.7200\n",
      "Epoch 89/500\n",
      "30/30 [==============================] - 0s 1ms/step - loss: 487.3321 - val_loss: 493.2831\n",
      "Epoch 90/500\n",
      "30/30 [==============================] - 0s 1ms/step - loss: 478.4728 - val_loss: 482.3885\n",
      "Epoch 91/500\n",
      "30/30 [==============================] - 0s 1ms/step - loss: 466.3695 - val_loss: 470.0219\n",
      "Epoch 92/500\n",
      "30/30 [==============================] - ETA: 0s - loss: 383.676 - 0s 2ms/step - loss: 455.5308 - val_loss: 458.7631\n",
      "Epoch 93/500\n",
      "30/30 [==============================] - 0s 2ms/step - loss: 446.0406 - val_loss: 450.6029\n",
      "Epoch 94/500\n",
      "30/30 [==============================] - 0s 1ms/step - loss: 435.2914 - val_loss: 437.7890\n",
      "Epoch 95/500\n",
      "30/30 [==============================] - 0s 1ms/step - loss: 425.6591 - val_loss: 428.1343\n",
      "Epoch 96/500\n",
      "30/30 [==============================] - 0s 1ms/step - loss: 416.3365 - val_loss: 418.9475\n",
      "Epoch 97/500\n",
      "30/30 [==============================] - 0s 1ms/step - loss: 407.6354 - val_loss: 407.3387\n",
      "Epoch 98/500\n",
      "30/30 [==============================] - ETA: 0s - loss: 309.296 - 0s 1ms/step - loss: 397.5593 - val_loss: 399.4201\n",
      "Epoch 99/500\n",
      "30/30 [==============================] - 0s 1ms/step - loss: 389.6682 - val_loss: 391.0385\n",
      "Epoch 100/500\n",
      "30/30 [==============================] - 0s 1ms/step - loss: 380.9604 - val_loss: 380.0117\n",
      "Epoch 101/500\n",
      "30/30 [==============================] - 0s 1ms/step - loss: 372.1029 - val_loss: 372.1438\n",
      "Epoch 102/500\n",
      "30/30 [==============================] - ETA: 0s - loss: 294.132 - 0s 1ms/step - loss: 364.5891 - val_loss: 363.5420\n",
      "Epoch 103/500\n",
      "30/30 [==============================] - 0s 1ms/step - loss: 356.6666 - val_loss: 356.1712\n",
      "Epoch 104/500\n",
      "30/30 [==============================] - 0s 1ms/step - loss: 350.0848 - val_loss: 348.2350\n",
      "Epoch 105/500\n",
      "30/30 [==============================] - 0s 1ms/step - loss: 341.5938 - val_loss: 341.0539\n",
      "Epoch 106/500\n",
      "30/30 [==============================] - 0s 1ms/step - loss: 335.3795 - val_loss: 332.7699\n",
      "Epoch 107/500\n",
      "30/30 [==============================] - 0s 1ms/step - loss: 327.1564 - val_loss: 325.3958\n",
      "Epoch 108/500\n",
      "30/30 [==============================] - 0s 1ms/step - loss: 320.2719 - val_loss: 319.0547\n",
      "Epoch 109/500\n",
      "30/30 [==============================] - 0s 1ms/step - loss: 313.7873 - val_loss: 312.3615\n",
      "Epoch 110/500\n",
      "30/30 [==============================] - 0s 1ms/step - loss: 307.1033 - val_loss: 303.5243\n",
      "Epoch 111/500\n",
      "30/30 [==============================] - 0s 1ms/step - loss: 300.0489 - val_loss: 297.1534\n",
      "Epoch 112/500\n",
      "30/30 [==============================] - 0s 1ms/step - loss: 293.8717 - val_loss: 291.2594\n",
      "Epoch 113/500\n",
      "30/30 [==============================] - 0s 1ms/step - loss: 287.8723 - val_loss: 284.1094\n",
      "Epoch 114/500\n",
      "30/30 [==============================] - 0s 1ms/step - loss: 281.5639 - val_loss: 278.6679\n",
      "Epoch 115/500\n",
      "30/30 [==============================] - 0s 1ms/step - loss: 276.5636 - val_loss: 272.9263\n",
      "Epoch 116/500\n",
      "30/30 [==============================] - 0s 2ms/step - loss: 271.7826 - val_loss: 268.2823\n",
      "Epoch 117/500\n",
      "30/30 [==============================] - 0s 2ms/step - loss: 264.0995 - val_loss: 260.5266\n",
      "Epoch 118/500\n",
      "30/30 [==============================] - 0s 1ms/step - loss: 258.4216 - val_loss: 254.4466\n",
      "Epoch 119/500\n",
      "30/30 [==============================] - 0s 1ms/step - loss: 253.7334 - val_loss: 248.6454\n",
      "Epoch 120/500\n",
      "30/30 [==============================] - 0s 2ms/step - loss: 247.5635 - val_loss: 243.0227\n",
      "Epoch 121/500\n",
      "30/30 [==============================] - 0s 2ms/step - loss: 242.0777 - val_loss: 237.4878\n",
      "Epoch 122/500\n",
      "30/30 [==============================] - 0s 1ms/step - loss: 236.9161 - val_loss: 232.4203\n",
      "Epoch 123/500\n",
      "30/30 [==============================] - 0s 2ms/step - loss: 232.5499 - val_loss: 228.0371\n",
      "Epoch 124/500\n",
      "30/30 [==============================] - 0s 3ms/step - loss: 228.0749 - val_loss: 222.9543\n",
      "Epoch 125/500\n",
      "30/30 [==============================] - 0s 2ms/step - loss: 222.9913 - val_loss: 219.0131\n",
      "Epoch 126/500\n",
      "30/30 [==============================] - 0s 2ms/step - loss: 219.0688 - val_loss: 214.2361\n",
      "Epoch 127/500\n",
      "30/30 [==============================] - 0s 1ms/step - loss: 214.8573 - val_loss: 209.4874\n",
      "Epoch 128/500\n",
      "30/30 [==============================] - 0s 2ms/step - loss: 210.5194 - val_loss: 205.2563\n",
      "Epoch 129/500\n",
      "30/30 [==============================] - 0s 2ms/step - loss: 206.3389 - val_loss: 202.0881\n",
      "Epoch 130/500\n",
      "30/30 [==============================] - 0s 1ms/step - loss: 203.6429 - val_loss: 197.3298\n",
      "Epoch 131/500\n",
      "30/30 [==============================] - 0s 2ms/step - loss: 198.8982 - val_loss: 194.1668\n",
      "Epoch 132/500\n",
      "30/30 [==============================] - 0s 2ms/step - loss: 195.9571 - val_loss: 189.7855\n",
      "Epoch 133/500\n",
      "30/30 [==============================] - 0s 1ms/step - loss: 191.8562 - val_loss: 187.3027\n",
      "Epoch 134/500\n",
      "30/30 [==============================] - 0s 2ms/step - loss: 188.1207 - val_loss: 182.2186\n",
      "Epoch 135/500\n",
      "30/30 [==============================] - 0s 2ms/step - loss: 185.3940 - val_loss: 179.4386\n",
      "Epoch 136/500\n",
      "30/30 [==============================] - 0s 1ms/step - loss: 180.9554 - val_loss: 175.6013\n",
      "Epoch 137/500\n",
      "30/30 [==============================] - 0s 2ms/step - loss: 177.9622 - val_loss: 172.0598\n",
      "Epoch 138/500\n",
      "30/30 [==============================] - 0s 2ms/step - loss: 173.9563 - val_loss: 168.7064\n",
      "Epoch 139/500\n",
      "30/30 [==============================] - 0s 2ms/step - loss: 171.5962 - val_loss: 165.5454\n",
      "Epoch 140/500\n",
      "30/30 [==============================] - 0s 2ms/step - loss: 168.8570 - val_loss: 162.6486\n",
      "Epoch 141/500\n",
      "30/30 [==============================] - 0s 2ms/step - loss: 165.6953 - val_loss: 160.3345\n",
      "Epoch 142/500\n",
      "30/30 [==============================] - 0s 2ms/step - loss: 162.8594 - val_loss: 156.7203\n",
      "Epoch 143/500\n",
      "30/30 [==============================] - 0s 2ms/step - loss: 159.7953 - val_loss: 154.0739\n",
      "Epoch 144/500\n",
      "30/30 [==============================] - 0s 2ms/step - loss: 156.9107 - val_loss: 151.4328\n",
      "Epoch 145/500\n",
      "30/30 [==============================] - 0s 1ms/step - loss: 153.6735 - val_loss: 149.1369\n",
      "Epoch 146/500\n",
      "30/30 [==============================] - ETA: 0s - loss: 145.252 - 0s 2ms/step - loss: 151.1791 - val_loss: 146.1518\n",
      "Epoch 147/500\n",
      "30/30 [==============================] - 0s 3ms/step - loss: 148.8655 - val_loss: 143.6230\n",
      "Epoch 148/500\n",
      "30/30 [==============================] - 0s 3ms/step - loss: 146.8352 - val_loss: 141.1020\n",
      "Epoch 149/500\n",
      "30/30 [==============================] - 0s 3ms/step - loss: 143.7034 - val_loss: 139.1909\n",
      "Epoch 150/500\n",
      "30/30 [==============================] - 0s 3ms/step - loss: 142.6050 - val_loss: 136.5110\n",
      "Epoch 151/500\n",
      "30/30 [==============================] - 0s 3ms/step - loss: 139.4991 - val_loss: 134.2301\n",
      "Epoch 152/500\n",
      "30/30 [==============================] - 0s 2ms/step - loss: 137.1286 - val_loss: 132.1549\n",
      "Epoch 153/500\n",
      "30/30 [==============================] - 0s 2ms/step - loss: 134.8693 - val_loss: 130.0494\n",
      "Epoch 154/500\n",
      "30/30 [==============================] - 0s 2ms/step - loss: 132.5000 - val_loss: 128.2185\n",
      "Epoch 155/500\n"
     ]
    },
    {
     "name": "stdout",
     "output_type": "stream",
     "text": [
      "30/30 [==============================] - 0s 1ms/step - loss: 130.4722 - val_loss: 126.0319\n",
      "Epoch 156/500\n",
      "30/30 [==============================] - 0s 1ms/step - loss: 129.5098 - val_loss: 124.2301\n",
      "Epoch 157/500\n",
      "30/30 [==============================] - 0s 1ms/step - loss: 126.4072 - val_loss: 122.1590\n",
      "Epoch 158/500\n",
      "30/30 [==============================] - 0s 2ms/step - loss: 125.0160 - val_loss: 120.1255\n",
      "Epoch 159/500\n",
      "30/30 [==============================] - 0s 1ms/step - loss: 122.6397 - val_loss: 118.2764\n",
      "Epoch 160/500\n",
      "30/30 [==============================] - 0s 1ms/step - loss: 120.8608 - val_loss: 116.6196\n",
      "Epoch 161/500\n",
      "30/30 [==============================] - 0s 1ms/step - loss: 119.7678 - val_loss: 114.9535\n",
      "Epoch 162/500\n",
      "30/30 [==============================] - 0s 2ms/step - loss: 118.2520 - val_loss: 113.2350\n",
      "Epoch 163/500\n",
      "30/30 [==============================] - 0s 2ms/step - loss: 115.6340 - val_loss: 111.5375\n",
      "Epoch 164/500\n",
      "30/30 [==============================] - 0s 1ms/step - loss: 114.0159 - val_loss: 109.9612\n",
      "Epoch 165/500\n",
      "30/30 [==============================] - 0s 1ms/step - loss: 112.6745 - val_loss: 108.3960\n",
      "Epoch 166/500\n",
      "30/30 [==============================] - 0s 1ms/step - loss: 111.7288 - val_loss: 106.9955\n",
      "Epoch 167/500\n",
      "30/30 [==============================] - 0s 1ms/step - loss: 109.6574 - val_loss: 105.3828\n",
      "Epoch 168/500\n",
      "30/30 [==============================] - 0s 1ms/step - loss: 108.2925 - val_loss: 104.0514\n",
      "Epoch 169/500\n",
      "30/30 [==============================] - 0s 2ms/step - loss: 107.8456 - val_loss: 102.9236\n",
      "Epoch 170/500\n",
      "30/30 [==============================] - 0s 1ms/step - loss: 104.8806 - val_loss: 101.3110\n",
      "Epoch 171/500\n",
      "30/30 [==============================] - 0s 1ms/step - loss: 103.6587 - val_loss: 99.9443\n",
      "Epoch 172/500\n",
      "30/30 [==============================] - 0s 1ms/step - loss: 102.1349 - val_loss: 98.6655\n",
      "Epoch 173/500\n",
      "30/30 [==============================] - 0s 1ms/step - loss: 100.9520 - val_loss: 97.5196\n",
      "Epoch 174/500\n",
      "30/30 [==============================] - 0s 1ms/step - loss: 99.5495 - val_loss: 96.3393\n",
      "Epoch 175/500\n",
      "30/30 [==============================] - 0s 1ms/step - loss: 98.5302 - val_loss: 95.1290\n",
      "Epoch 176/500\n",
      "30/30 [==============================] - 0s 1ms/step - loss: 97.8557 - val_loss: 93.9929\n",
      "Epoch 177/500\n",
      "30/30 [==============================] - 0s 1ms/step - loss: 95.7482 - val_loss: 92.8896\n",
      "Epoch 178/500\n",
      "30/30 [==============================] - 0s 1ms/step - loss: 94.8451 - val_loss: 91.7382\n",
      "Epoch 179/500\n",
      "30/30 [==============================] - 0s 1ms/step - loss: 93.5744 - val_loss: 90.6402\n",
      "Epoch 180/500\n",
      "30/30 [==============================] - 0s 1ms/step - loss: 92.3198 - val_loss: 89.6558\n",
      "Epoch 181/500\n",
      "30/30 [==============================] - 0s 1ms/step - loss: 91.3139 - val_loss: 88.4522\n",
      "Epoch 182/500\n",
      "30/30 [==============================] - 0s 1ms/step - loss: 90.7245 - val_loss: 87.4110\n",
      "Epoch 183/500\n",
      "30/30 [==============================] - 0s 1ms/step - loss: 89.3571 - val_loss: 86.4041\n",
      "Epoch 184/500\n",
      "30/30 [==============================] - 0s 1ms/step - loss: 88.2923 - val_loss: 85.5021\n",
      "Epoch 185/500\n",
      "30/30 [==============================] - 0s 1ms/step - loss: 86.9398 - val_loss: 84.5515\n",
      "Epoch 186/500\n",
      "30/30 [==============================] - 0s 1ms/step - loss: 85.9457 - val_loss: 83.7211\n",
      "Epoch 187/500\n",
      "30/30 [==============================] - 0s 1ms/step - loss: 85.5203 - val_loss: 82.7887\n",
      "Epoch 188/500\n",
      "30/30 [==============================] - 0s 1ms/step - loss: 84.0776 - val_loss: 82.0380\n",
      "Epoch 189/500\n",
      "30/30 [==============================] - 0s 2ms/step - loss: 82.9754 - val_loss: 80.9194\n",
      "Epoch 190/500\n",
      "30/30 [==============================] - 0s 1ms/step - loss: 82.3056 - val_loss: 80.0919\n",
      "Epoch 191/500\n",
      "30/30 [==============================] - 0s 1ms/step - loss: 81.0014 - val_loss: 79.2332\n",
      "Epoch 192/500\n",
      "30/30 [==============================] - 0s 1ms/step - loss: 80.1975 - val_loss: 78.5437\n",
      "Epoch 193/500\n",
      "30/30 [==============================] - 0s 1ms/step - loss: 79.4297 - val_loss: 77.8107\n",
      "Epoch 194/500\n",
      "30/30 [==============================] - 0s 1ms/step - loss: 78.5229 - val_loss: 77.1064\n",
      "Epoch 195/500\n",
      "30/30 [==============================] - 0s 1ms/step - loss: 77.6417 - val_loss: 76.2468\n",
      "Epoch 196/500\n",
      "30/30 [==============================] - 0s 2ms/step - loss: 76.6961 - val_loss: 75.4299\n",
      "Epoch 197/500\n",
      "30/30 [==============================] - 0s 2ms/step - loss: 75.9253 - val_loss: 74.7382\n",
      "Epoch 198/500\n",
      "30/30 [==============================] - 0s 2ms/step - loss: 75.3384 - val_loss: 74.0566\n",
      "Epoch 199/500\n",
      "30/30 [==============================] - 0s 2ms/step - loss: 74.9615 - val_loss: 73.3472\n",
      "Epoch 200/500\n",
      "30/30 [==============================] - 0s 2ms/step - loss: 73.5759 - val_loss: 72.5967\n",
      "Epoch 201/500\n",
      "30/30 [==============================] - 0s 1ms/step - loss: 72.9643 - val_loss: 71.9781\n",
      "Epoch 202/500\n",
      "30/30 [==============================] - 0s 1ms/step - loss: 72.5545 - val_loss: 71.2206\n",
      "Epoch 203/500\n",
      "30/30 [==============================] - 0s 2ms/step - loss: 71.4454 - val_loss: 70.5949\n",
      "Epoch 204/500\n",
      "30/30 [==============================] - 0s 2ms/step - loss: 70.9634 - val_loss: 70.0487\n",
      "Epoch 205/500\n",
      "30/30 [==============================] - 0s 2ms/step - loss: 69.6424 - val_loss: 69.3413\n",
      "Epoch 206/500\n",
      "30/30 [==============================] - 0s 2ms/step - loss: 69.0442 - val_loss: 68.6860\n",
      "Epoch 207/500\n",
      "30/30 [==============================] - 0s 2ms/step - loss: 68.4231 - val_loss: 68.1142\n",
      "Epoch 208/500\n",
      "30/30 [==============================] - 0s 2ms/step - loss: 67.6526 - val_loss: 67.7803\n",
      "Epoch 209/500\n",
      "30/30 [==============================] - 0s 2ms/step - loss: 67.6668 - val_loss: 67.1655\n",
      "Epoch 210/500\n",
      "30/30 [==============================] - 0s 2ms/step - loss: 66.4414 - val_loss: 66.4512\n",
      "Epoch 211/500\n",
      "30/30 [==============================] - 0s 2ms/step - loss: 65.7630 - val_loss: 65.8837\n",
      "Epoch 212/500\n",
      "30/30 [==============================] - 0s 2ms/step - loss: 65.0391 - val_loss: 65.3776\n",
      "Epoch 213/500\n",
      "30/30 [==============================] - 0s 2ms/step - loss: 64.6123 - val_loss: 64.8532\n",
      "Epoch 214/500\n",
      "30/30 [==============================] - 0s 2ms/step - loss: 63.7709 - val_loss: 64.3468\n",
      "Epoch 215/500\n",
      "30/30 [==============================] - 0s 2ms/step - loss: 63.4384 - val_loss: 63.8911\n",
      "Epoch 216/500\n",
      "30/30 [==============================] - 0s 2ms/step - loss: 62.6191 - val_loss: 63.3339\n",
      "Epoch 217/500\n",
      "30/30 [==============================] - 0s 2ms/step - loss: 62.5192 - val_loss: 62.9558\n",
      "Epoch 218/500\n",
      "30/30 [==============================] - 0s 2ms/step - loss: 61.9209 - val_loss: 62.4710\n",
      "Epoch 219/500\n",
      "30/30 [==============================] - 0s 2ms/step - loss: 61.4384 - val_loss: 62.0642\n",
      "Epoch 220/500\n",
      "30/30 [==============================] - 0s 2ms/step - loss: 60.5685 - val_loss: 61.4912\n",
      "Epoch 221/500\n",
      "30/30 [==============================] - 0s 1ms/step - loss: 60.1993 - val_loss: 61.2859\n",
      "Epoch 222/500\n",
      "30/30 [==============================] - 0s 2ms/step - loss: 59.4349 - val_loss: 60.7639\n",
      "Epoch 223/500\n",
      "30/30 [==============================] - 0s 2ms/step - loss: 59.3997 - val_loss: 60.2067\n",
      "Epoch 224/500\n",
      "30/30 [==============================] - 0s 2ms/step - loss: 58.4091 - val_loss: 59.7538\n",
      "Epoch 225/500\n",
      "30/30 [==============================] - 0s 2ms/step - loss: 57.8426 - val_loss: 59.5485\n",
      "Epoch 226/500\n",
      "30/30 [==============================] - 0s 2ms/step - loss: 57.6294 - val_loss: 58.9054\n",
      "Epoch 227/500\n",
      "30/30 [==============================] - 0s 2ms/step - loss: 57.1939 - val_loss: 58.7472\n",
      "Epoch 228/500\n",
      "30/30 [==============================] - 0s 2ms/step - loss: 56.3329 - val_loss: 58.1098\n",
      "Epoch 229/500\n",
      "30/30 [==============================] - 0s 2ms/step - loss: 56.0626 - val_loss: 57.6869\n",
      "Epoch 230/500\n",
      "30/30 [==============================] - 0s 1ms/step - loss: 55.6669 - val_loss: 57.3601\n",
      "Epoch 231/500\n",
      "30/30 [==============================] - 0s 1ms/step - loss: 55.0113 - val_loss: 56.8987\n",
      "Epoch 232/500\n",
      "30/30 [==============================] - 0s 2ms/step - loss: 54.5634 - val_loss: 56.5085\n",
      "Epoch 233/500\n",
      "30/30 [==============================] - ETA: 0s - loss: 55.45 - 0s 2ms/step - loss: 54.2888 - val_loss: 56.1645\n",
      "Epoch 234/500\n"
     ]
    },
    {
     "name": "stdout",
     "output_type": "stream",
     "text": [
      "30/30 [==============================] - 0s 2ms/step - loss: 53.9011 - val_loss: 55.7531\n",
      "Epoch 235/500\n",
      "30/30 [==============================] - 0s 2ms/step - loss: 53.3477 - val_loss: 55.3891\n",
      "Epoch 236/500\n",
      "30/30 [==============================] - 0s 2ms/step - loss: 53.0467 - val_loss: 55.0566\n",
      "Epoch 237/500\n",
      "30/30 [==============================] - ETA: 0s - loss: 44.79 - 0s 1ms/step - loss: 52.5815 - val_loss: 54.6317\n",
      "Epoch 238/500\n",
      "30/30 [==============================] - 0s 1ms/step - loss: 52.2739 - val_loss: 54.3226\n",
      "Epoch 239/500\n",
      "30/30 [==============================] - 0s 1ms/step - loss: 52.0480 - val_loss: 53.9581\n",
      "Epoch 240/500\n",
      "30/30 [==============================] - 0s 1ms/step - loss: 51.1885 - val_loss: 53.6622\n",
      "Epoch 241/500\n",
      "30/30 [==============================] - 0s 1ms/step - loss: 50.9841 - val_loss: 53.3138\n",
      "Epoch 242/500\n",
      "30/30 [==============================] - 0s 1ms/step - loss: 50.4928 - val_loss: 52.9755\n",
      "Epoch 243/500\n",
      "30/30 [==============================] - 0s 1ms/step - loss: 51.4317 - val_loss: 52.6580\n",
      "Epoch 244/500\n",
      "30/30 [==============================] - 0s 2ms/step - loss: 50.7909 - val_loss: 52.2318\n",
      "Epoch 245/500\n",
      "30/30 [==============================] - 0s 1ms/step - loss: 50.1031 - val_loss: 51.9396\n",
      "Epoch 246/500\n",
      "30/30 [==============================] - 0s 1ms/step - loss: 49.2175 - val_loss: 51.9004\n",
      "Epoch 247/500\n",
      "30/30 [==============================] - 0s 1ms/step - loss: 50.8741 - val_loss: 51.2742\n",
      "Epoch 248/500\n",
      "30/30 [==============================] - 0s 1ms/step - loss: 48.1868 - val_loss: 51.0276\n",
      "Epoch 249/500\n",
      "30/30 [==============================] - 0s 1ms/step - loss: 48.0004 - val_loss: 50.6807\n",
      "Epoch 250/500\n",
      "30/30 [==============================] - 0s 1ms/step - loss: 47.8313 - val_loss: 50.5415\n",
      "Epoch 251/500\n",
      "30/30 [==============================] - 0s 1ms/step - loss: 47.3079 - val_loss: 50.0777\n",
      "Epoch 252/500\n",
      "30/30 [==============================] - ETA: 0s - loss: 60.81 - 0s 1ms/step - loss: 47.0712 - val_loss: 49.9649\n",
      "Epoch 253/500\n",
      "30/30 [==============================] - 0s 1ms/step - loss: 47.0274 - val_loss: 49.5914\n",
      "Epoch 254/500\n",
      "30/30 [==============================] - 0s 1ms/step - loss: 46.4342 - val_loss: 49.2039\n",
      "Epoch 255/500\n",
      "30/30 [==============================] - 0s 1ms/step - loss: 46.0039 - val_loss: 49.0269\n",
      "Epoch 256/500\n",
      "30/30 [==============================] - 0s 1ms/step - loss: 45.9612 - val_loss: 48.6354\n",
      "Epoch 257/500\n",
      "30/30 [==============================] - 0s 1ms/step - loss: 45.5767 - val_loss: 48.6055\n",
      "Epoch 258/500\n",
      "30/30 [==============================] - 0s 1ms/step - loss: 45.2272 - val_loss: 48.1071\n",
      "Epoch 259/500\n",
      "30/30 [==============================] - 0s 1ms/step - loss: 45.8672 - val_loss: 48.4796\n",
      "Epoch 260/500\n",
      "30/30 [==============================] - 0s 2ms/step - loss: 45.4377 - val_loss: 47.5725\n",
      "Epoch 261/500\n",
      "30/30 [==============================] - 0s 2ms/step - loss: 44.5179 - val_loss: 47.3179\n",
      "Epoch 262/500\n",
      "30/30 [==============================] - 0s 2ms/step - loss: 44.3872 - val_loss: 47.4784\n",
      "Epoch 263/500\n",
      "30/30 [==============================] - 0s 2ms/step - loss: 43.7062 - val_loss: 46.7986\n",
      "Epoch 264/500\n",
      "30/30 [==============================] - 0s 1ms/step - loss: 43.2330 - val_loss: 46.5499\n",
      "Epoch 265/500\n",
      "30/30 [==============================] - 0s 1ms/step - loss: 43.0842 - val_loss: 46.1936\n",
      "Epoch 266/500\n",
      "30/30 [==============================] - 0s 1ms/step - loss: 42.9883 - val_loss: 45.9290\n",
      "Epoch 267/500\n",
      "30/30 [==============================] - 0s 1ms/step - loss: 42.4710 - val_loss: 45.7033\n",
      "Epoch 268/500\n",
      "30/30 [==============================] - 0s 1ms/step - loss: 42.1543 - val_loss: 45.4270\n",
      "Epoch 269/500\n",
      "30/30 [==============================] - 0s 1ms/step - loss: 42.0774 - val_loss: 45.2519\n",
      "Epoch 270/500\n",
      "30/30 [==============================] - 0s 1ms/step - loss: 41.9360 - val_loss: 45.1302\n",
      "Epoch 271/500\n",
      "30/30 [==============================] - 0s 1ms/step - loss: 42.2779 - val_loss: 44.7969\n",
      "Epoch 272/500\n",
      "30/30 [==============================] - 0s 1ms/step - loss: 41.0820 - val_loss: 44.4219\n",
      "Epoch 273/500\n",
      "30/30 [==============================] - 0s 1ms/step - loss: 40.9612 - val_loss: 44.1746\n",
      "Epoch 274/500\n",
      "30/30 [==============================] - 0s 1ms/step - loss: 40.8786 - val_loss: 43.9988\n",
      "Epoch 275/500\n",
      "30/30 [==============================] - 0s 1ms/step - loss: 40.5495 - val_loss: 43.7053\n",
      "Epoch 276/500\n",
      "30/30 [==============================] - 0s 1ms/step - loss: 40.0590 - val_loss: 43.5057\n",
      "Epoch 277/500\n",
      "30/30 [==============================] - 0s 1ms/step - loss: 39.7805 - val_loss: 43.2162\n",
      "Epoch 278/500\n",
      "30/30 [==============================] - 0s 1ms/step - loss: 39.7535 - val_loss: 42.9909\n",
      "Epoch 279/500\n",
      "30/30 [==============================] - 0s 1ms/step - loss: 39.3898 - val_loss: 42.7679\n",
      "Epoch 280/500\n",
      "30/30 [==============================] - 0s 1ms/step - loss: 39.2310 - val_loss: 42.5164\n",
      "Epoch 281/500\n",
      "30/30 [==============================] - 0s 1ms/step - loss: 38.7706 - val_loss: 42.2801\n",
      "Epoch 282/500\n",
      "30/30 [==============================] - 0s 1ms/step - loss: 38.7421 - val_loss: 42.0597\n",
      "Epoch 283/500\n",
      "30/30 [==============================] - 0s 1ms/step - loss: 38.4679 - val_loss: 41.9909\n",
      "Epoch 284/500\n",
      "30/30 [==============================] - 0s 1ms/step - loss: 38.1913 - val_loss: 41.7416\n",
      "Epoch 285/500\n",
      "30/30 [==============================] - 0s 1ms/step - loss: 37.9688 - val_loss: 41.4573\n",
      "Epoch 286/500\n",
      "30/30 [==============================] - 0s 1ms/step - loss: 37.8529 - val_loss: 41.1501\n",
      "Epoch 287/500\n",
      "30/30 [==============================] - 0s 2ms/step - loss: 37.5181 - val_loss: 40.9206\n",
      "Epoch 288/500\n",
      "30/30 [==============================] - 0s 1ms/step - loss: 38.2785 - val_loss: 41.3449\n",
      "Epoch 289/500\n",
      "30/30 [==============================] - 0s 1ms/step - loss: 37.1205 - val_loss: 40.4575\n",
      "Epoch 290/500\n",
      "30/30 [==============================] - 0s 1ms/step - loss: 36.7896 - val_loss: 40.2463\n",
      "Epoch 291/500\n",
      "30/30 [==============================] - 0s 1ms/step - loss: 36.7204 - val_loss: 40.0513\n",
      "Epoch 292/500\n",
      "30/30 [==============================] - 0s 1ms/step - loss: 36.4371 - val_loss: 39.9235\n",
      "Epoch 293/500\n",
      "30/30 [==============================] - 0s 1ms/step - loss: 36.1713 - val_loss: 39.5985\n",
      "Epoch 294/500\n",
      "30/30 [==============================] - 0s 1ms/step - loss: 35.9163 - val_loss: 39.3882\n",
      "Epoch 295/500\n",
      "30/30 [==============================] - 0s 1ms/step - loss: 35.9283 - val_loss: 39.3365\n",
      "Epoch 296/500\n",
      "30/30 [==============================] - 0s 1ms/step - loss: 35.5252 - val_loss: 38.9344\n",
      "Epoch 297/500\n",
      "30/30 [==============================] - 0s 1ms/step - loss: 35.4898 - val_loss: 38.7697\n",
      "Epoch 298/500\n",
      "30/30 [==============================] - 0s 1ms/step - loss: 35.4589 - val_loss: 38.5118\n",
      "Epoch 299/500\n",
      "30/30 [==============================] - 0s 1ms/step - loss: 35.3998 - val_loss: 38.2771\n",
      "Epoch 300/500\n",
      "30/30 [==============================] - 0s 1ms/step - loss: 34.9517 - val_loss: 38.2577\n",
      "Epoch 301/500\n",
      "30/30 [==============================] - 0s 1ms/step - loss: 34.7751 - val_loss: 37.8967\n",
      "Epoch 302/500\n",
      "30/30 [==============================] - 0s 1ms/step - loss: 34.2930 - val_loss: 37.7148\n",
      "Epoch 303/500\n",
      "30/30 [==============================] - 0s 1ms/step - loss: 34.2001 - val_loss: 37.7128\n",
      "Epoch 304/500\n",
      "30/30 [==============================] - 0s 1ms/step - loss: 34.1527 - val_loss: 37.2826\n",
      "Epoch 305/500\n",
      "30/30 [==============================] - 0s 1ms/step - loss: 35.1938 - val_loss: 37.0692\n",
      "Epoch 306/500\n",
      "30/30 [==============================] - 0s 1ms/step - loss: 33.9465 - val_loss: 36.9236\n",
      "Epoch 307/500\n",
      "30/30 [==============================] - 0s 1ms/step - loss: 33.3216 - val_loss: 36.6615\n",
      "Epoch 308/500\n",
      "30/30 [==============================] - 0s 1ms/step - loss: 34.0284 - val_loss: 36.4635\n",
      "Epoch 309/500\n",
      "30/30 [==============================] - 0s 1ms/step - loss: 32.8648 - val_loss: 36.2803\n",
      "Epoch 310/500\n",
      "30/30 [==============================] - 0s 1ms/step - loss: 32.9292 - val_loss: 36.1467\n",
      "Epoch 311/500\n",
      "30/30 [==============================] - 0s 1ms/step - loss: 32.5779 - val_loss: 36.0839\n",
      "Epoch 312/500\n",
      "30/30 [==============================] - 0s 1ms/step - loss: 32.3999 - val_loss: 35.7606\n",
      "Epoch 313/500\n"
     ]
    },
    {
     "name": "stdout",
     "output_type": "stream",
     "text": [
      "30/30 [==============================] - 0s 1ms/step - loss: 32.3081 - val_loss: 35.8049\n",
      "Epoch 314/500\n",
      "30/30 [==============================] - ETA: 0s - loss: 24.37 - 0s 1ms/step - loss: 32.2243 - val_loss: 35.4637\n",
      "Epoch 315/500\n",
      "30/30 [==============================] - 0s 1ms/step - loss: 31.9256 - val_loss: 35.2128\n",
      "Epoch 316/500\n",
      "30/30 [==============================] - 0s 1ms/step - loss: 31.6422 - val_loss: 35.0376\n",
      "Epoch 317/500\n",
      "30/30 [==============================] - 0s 1ms/step - loss: 31.5196 - val_loss: 34.8654\n",
      "Epoch 318/500\n",
      "30/30 [==============================] - 0s 2ms/step - loss: 31.7793 - val_loss: 34.7641\n",
      "Epoch 319/500\n",
      "30/30 [==============================] - 0s 2ms/step - loss: 31.9488 - val_loss: 34.5346\n",
      "Epoch 320/500\n",
      "30/30 [==============================] - 0s 1ms/step - loss: 31.4190 - val_loss: 34.3361\n",
      "Epoch 321/500\n",
      "30/30 [==============================] - 0s 1ms/step - loss: 30.9323 - val_loss: 34.2060\n",
      "Epoch 322/500\n",
      "30/30 [==============================] - 0s 1ms/step - loss: 30.6833 - val_loss: 34.0385\n",
      "Epoch 323/500\n",
      "30/30 [==============================] - 0s 1ms/step - loss: 30.9051 - val_loss: 33.8703\n",
      "Epoch 324/500\n",
      "30/30 [==============================] - 0s 1ms/step - loss: 30.5890 - val_loss: 33.6996\n",
      "Epoch 325/500\n",
      "30/30 [==============================] - 0s 1ms/step - loss: 30.1940 - val_loss: 33.7596\n",
      "Epoch 326/500\n",
      "30/30 [==============================] - 0s 1ms/step - loss: 30.0665 - val_loss: 33.4939\n",
      "Epoch 327/500\n",
      "30/30 [==============================] - 0s 1ms/step - loss: 29.9784 - val_loss: 33.4102\n",
      "Epoch 328/500\n",
      "30/30 [==============================] - ETA: 0s - loss: 35.18 - 0s 1ms/step - loss: 29.7638 - val_loss: 33.1048\n",
      "Epoch 329/500\n",
      "30/30 [==============================] - 0s 1ms/step - loss: 29.8242 - val_loss: 32.9632\n",
      "Epoch 330/500\n",
      "30/30 [==============================] - 0s 1ms/step - loss: 29.6710 - val_loss: 32.8386\n",
      "Epoch 331/500\n",
      "30/30 [==============================] - 0s 1ms/step - loss: 29.6860 - val_loss: 32.7211\n",
      "Epoch 332/500\n",
      "30/30 [==============================] - 0s 2ms/step - loss: 29.4066 - val_loss: 32.5949\n",
      "Epoch 333/500\n",
      "30/30 [==============================] - 0s 2ms/step - loss: 29.7048 - val_loss: 32.4392\n",
      "Epoch 334/500\n",
      "30/30 [==============================] - 0s 1ms/step - loss: 29.0268 - val_loss: 32.2589\n",
      "Epoch 335/500\n",
      "30/30 [==============================] - 0s 2ms/step - loss: 28.8607 - val_loss: 32.2555\n",
      "Epoch 336/500\n",
      "30/30 [==============================] - 0s 2ms/step - loss: 29.2428 - val_loss: 32.0046\n",
      "Epoch 337/500\n",
      "30/30 [==============================] - 0s 2ms/step - loss: 28.5438 - val_loss: 31.8691\n",
      "Epoch 338/500\n",
      "30/30 [==============================] - 0s 2ms/step - loss: 28.6844 - val_loss: 32.1146\n",
      "Epoch 339/500\n",
      "30/30 [==============================] - 0s 2ms/step - loss: 28.7250 - val_loss: 31.6213\n",
      "Epoch 340/500\n",
      "30/30 [==============================] - 0s 2ms/step - loss: 28.1364 - val_loss: 31.5856\n",
      "Epoch 341/500\n",
      "30/30 [==============================] - 0s 2ms/step - loss: 28.1619 - val_loss: 31.5047\n",
      "Epoch 342/500\n",
      "30/30 [==============================] - 0s 1ms/step - loss: 27.9441 - val_loss: 31.2800\n",
      "Epoch 343/500\n",
      "30/30 [==============================] - 0s 1ms/step - loss: 28.1123 - val_loss: 31.1865\n",
      "Epoch 344/500\n",
      "30/30 [==============================] - 0s 1ms/step - loss: 27.6871 - val_loss: 31.0401\n",
      "Epoch 345/500\n",
      "30/30 [==============================] - 0s 2ms/step - loss: 27.6052 - val_loss: 30.7730\n",
      "Epoch 346/500\n",
      "30/30 [==============================] - 0s 1ms/step - loss: 28.2805 - val_loss: 30.7500\n",
      "Epoch 347/500\n",
      "30/30 [==============================] - 0s 1ms/step - loss: 27.4074 - val_loss: 30.5970\n",
      "Epoch 348/500\n",
      "30/30 [==============================] - 0s 1ms/step - loss: 27.6128 - val_loss: 30.3959\n",
      "Epoch 349/500\n",
      "30/30 [==============================] - 0s 1ms/step - loss: 27.0939 - val_loss: 30.5084\n",
      "Epoch 350/500\n",
      "30/30 [==============================] - 0s 1ms/step - loss: 26.9916 - val_loss: 30.2445\n",
      "Epoch 351/500\n",
      "30/30 [==============================] - 0s 1ms/step - loss: 27.0056 - val_loss: 30.2749\n",
      "Epoch 352/500\n",
      "30/30 [==============================] - 0s 1ms/step - loss: 27.1429 - val_loss: 29.9318\n",
      "Epoch 353/500\n",
      "30/30 [==============================] - 0s 1ms/step - loss: 26.6796 - val_loss: 29.8103\n",
      "Epoch 354/500\n",
      "30/30 [==============================] - 0s 1ms/step - loss: 26.6810 - val_loss: 29.7754\n",
      "Epoch 355/500\n",
      "30/30 [==============================] - 0s 1ms/step - loss: 26.6193 - val_loss: 29.6664\n",
      "Epoch 356/500\n",
      "30/30 [==============================] - 0s 1ms/step - loss: 26.3850 - val_loss: 29.6244\n",
      "Epoch 357/500\n",
      "30/30 [==============================] - 0s 1ms/step - loss: 26.3215 - val_loss: 29.4306\n",
      "Epoch 358/500\n",
      "30/30 [==============================] - 0s 1ms/step - loss: 26.2039 - val_loss: 29.3386\n",
      "Epoch 359/500\n",
      "30/30 [==============================] - 0s 1ms/step - loss: 26.2092 - val_loss: 29.3123\n",
      "Epoch 360/500\n",
      "30/30 [==============================] - 0s 1ms/step - loss: 25.8972 - val_loss: 29.3495\n",
      "Epoch 361/500\n",
      "30/30 [==============================] - 0s 1ms/step - loss: 25.9279 - val_loss: 29.0956\n",
      "Epoch 362/500\n",
      "30/30 [==============================] - 0s 1ms/step - loss: 25.6994 - val_loss: 28.8671\n",
      "Epoch 363/500\n",
      "30/30 [==============================] - 0s 1ms/step - loss: 25.7018 - val_loss: 28.9661\n",
      "Epoch 364/500\n",
      "30/30 [==============================] - 0s 1ms/step - loss: 25.7103 - val_loss: 28.7957\n",
      "Epoch 365/500\n",
      "30/30 [==============================] - 0s 1ms/step - loss: 25.3792 - val_loss: 28.5839\n",
      "Epoch 366/500\n",
      "30/30 [==============================] - 0s 1ms/step - loss: 25.6012 - val_loss: 28.5202\n",
      "Epoch 367/500\n",
      "30/30 [==============================] - 0s 1ms/step - loss: 25.1867 - val_loss: 28.3128\n",
      "Epoch 368/500\n",
      "30/30 [==============================] - 0s 1ms/step - loss: 25.4321 - val_loss: 28.4475\n",
      "Epoch 369/500\n",
      "30/30 [==============================] - 0s 1ms/step - loss: 25.1744 - val_loss: 28.2641\n",
      "Epoch 370/500\n",
      "30/30 [==============================] - 0s 1ms/step - loss: 25.0570 - val_loss: 28.3091\n",
      "Epoch 371/500\n",
      "30/30 [==============================] - 0s 1ms/step - loss: 24.8547 - val_loss: 27.9910\n",
      "Epoch 372/500\n",
      "30/30 [==============================] - 0s 1ms/step - loss: 24.9595 - val_loss: 27.9400\n",
      "Epoch 373/500\n",
      "30/30 [==============================] - 0s 1ms/step - loss: 24.6828 - val_loss: 28.0496\n",
      "Epoch 374/500\n",
      "30/30 [==============================] - 0s 1ms/step - loss: 24.6681 - val_loss: 27.7689\n",
      "Epoch 375/500\n",
      "30/30 [==============================] - 0s 1ms/step - loss: 24.6064 - val_loss: 27.6301\n",
      "Epoch 376/500\n",
      "30/30 [==============================] - 0s 1ms/step - loss: 24.7170 - val_loss: 27.7940\n",
      "Epoch 377/500\n",
      "30/30 [==============================] - 0s 1ms/step - loss: 24.5521 - val_loss: 27.5217\n",
      "Epoch 378/500\n",
      "30/30 [==============================] - 0s 1ms/step - loss: 24.3760 - val_loss: 28.0355\n",
      "Epoch 379/500\n",
      "30/30 [==============================] - 0s 2ms/step - loss: 24.3442 - val_loss: 27.2959\n",
      "Epoch 380/500\n",
      "30/30 [==============================] - 0s 2ms/step - loss: 24.0893 - val_loss: 27.5920\n",
      "Epoch 381/500\n",
      "30/30 [==============================] - 0s 2ms/step - loss: 24.1422 - val_loss: 27.2205\n",
      "Epoch 382/500\n",
      "30/30 [==============================] - 0s 2ms/step - loss: 24.0478 - val_loss: 27.2204\n",
      "Epoch 383/500\n",
      "30/30 [==============================] - 0s 2ms/step - loss: 24.2224 - val_loss: 26.9767\n",
      "Epoch 384/500\n",
      "30/30 [==============================] - 0s 1ms/step - loss: 24.0464 - val_loss: 26.9019\n",
      "Epoch 385/500\n",
      "30/30 [==============================] - 0s 2ms/step - loss: 23.8331 - val_loss: 27.0223\n",
      "Epoch 386/500\n",
      "30/30 [==============================] - 0s 2ms/step - loss: 23.7605 - val_loss: 26.7240\n",
      "Epoch 387/500\n",
      "30/30 [==============================] - 0s 2ms/step - loss: 23.6723 - val_loss: 26.8051\n",
      "Epoch 388/500\n",
      "30/30 [==============================] - 0s 2ms/step - loss: 23.5047 - val_loss: 26.6298\n",
      "Epoch 389/500\n",
      "30/30 [==============================] - 0s 2ms/step - loss: 23.4047 - val_loss: 26.7249\n",
      "Epoch 390/500\n",
      "30/30 [==============================] - 0s 2ms/step - loss: 23.4463 - val_loss: 26.4220\n",
      "Epoch 391/500\n",
      "30/30 [==============================] - 0s 2ms/step - loss: 23.7344 - val_loss: 26.3199\n",
      "Epoch 392/500\n"
     ]
    },
    {
     "name": "stdout",
     "output_type": "stream",
     "text": [
      "30/30 [==============================] - 0s 2ms/step - loss: 23.5555 - val_loss: 26.2616\n",
      "Epoch 393/500\n",
      "30/30 [==============================] - 0s 2ms/step - loss: 23.4471 - val_loss: 26.2304\n",
      "Epoch 394/500\n",
      "30/30 [==============================] - 0s 2ms/step - loss: 23.0917 - val_loss: 26.4382\n",
      "Epoch 395/500\n",
      "30/30 [==============================] - 0s 1ms/step - loss: 23.0227 - val_loss: 26.0106\n",
      "Epoch 396/500\n",
      "30/30 [==============================] - 0s 2ms/step - loss: 22.9292 - val_loss: 26.3662\n",
      "Epoch 397/500\n",
      "30/30 [==============================] - 0s 2ms/step - loss: 23.1660 - val_loss: 26.1222\n",
      "Epoch 398/500\n",
      "30/30 [==============================] - 0s 2ms/step - loss: 22.9880 - val_loss: 25.8319\n",
      "Epoch 399/500\n",
      "30/30 [==============================] - 0s 1ms/step - loss: 23.0883 - val_loss: 25.8434\n",
      "Epoch 400/500\n",
      "30/30 [==============================] - 0s 1ms/step - loss: 22.6527 - val_loss: 25.9250\n",
      "Epoch 401/500\n",
      "30/30 [==============================] - 0s 2ms/step - loss: 22.6949 - val_loss: 25.5603\n",
      "Epoch 402/500\n",
      "30/30 [==============================] - 0s 2ms/step - loss: 22.6910 - val_loss: 25.6743\n",
      "Epoch 403/500\n",
      "30/30 [==============================] - 0s 1ms/step - loss: 22.9299 - val_loss: 25.5349\n",
      "Epoch 404/500\n",
      "30/30 [==============================] - 0s 2ms/step - loss: 22.5860 - val_loss: 25.4303\n",
      "Epoch 405/500\n",
      "30/30 [==============================] - 0s 2ms/step - loss: 22.3531 - val_loss: 25.3897\n",
      "Epoch 406/500\n",
      "30/30 [==============================] - 0s 1ms/step - loss: 22.3462 - val_loss: 25.4968\n",
      "Epoch 407/500\n",
      "30/30 [==============================] - 0s 1ms/step - loss: 22.7867 - val_loss: 25.1902\n",
      "Epoch 408/500\n",
      "30/30 [==============================] - 0s 1ms/step - loss: 22.6164 - val_loss: 25.5419\n",
      "Epoch 409/500\n",
      "30/30 [==============================] - 0s 1ms/step - loss: 22.2481 - val_loss: 25.0331\n",
      "Epoch 410/500\n",
      "30/30 [==============================] - 0s 2ms/step - loss: 22.0849 - val_loss: 25.0648\n",
      "Epoch 411/500\n",
      "30/30 [==============================] - 0s 1ms/step - loss: 22.0290 - val_loss: 25.0687\n",
      "Epoch 412/500\n",
      "30/30 [==============================] - 0s 1ms/step - loss: 22.0903 - val_loss: 25.0587\n",
      "Epoch 413/500\n",
      "30/30 [==============================] - 0s 1ms/step - loss: 21.8983 - val_loss: 24.9404\n",
      "Epoch 414/500\n",
      "30/30 [==============================] - 0s 1ms/step - loss: 22.2316 - val_loss: 24.7904\n",
      "Epoch 415/500\n",
      "30/30 [==============================] - 0s 1ms/step - loss: 22.0809 - val_loss: 24.8311\n",
      "Epoch 416/500\n",
      "30/30 [==============================] - 0s 1ms/step - loss: 21.8105 - val_loss: 24.6998\n",
      "Epoch 417/500\n",
      "30/30 [==============================] - 0s 1ms/step - loss: 21.7265 - val_loss: 24.6199\n",
      "Epoch 418/500\n",
      "30/30 [==============================] - 0s 1ms/step - loss: 21.7658 - val_loss: 24.5502\n",
      "Epoch 419/500\n",
      "30/30 [==============================] - 0s 1ms/step - loss: 21.6073 - val_loss: 24.9894\n",
      "Epoch 420/500\n",
      "30/30 [==============================] - 0s 1ms/step - loss: 21.8067 - val_loss: 24.5196\n",
      "Epoch 421/500\n",
      "30/30 [==============================] - 0s 1ms/step - loss: 21.6436 - val_loss: 24.6286\n",
      "Epoch 422/500\n",
      "30/30 [==============================] - 0s 1ms/step - loss: 21.5965 - val_loss: 24.3338\n",
      "Epoch 423/500\n",
      "30/30 [==============================] - 0s 1ms/step - loss: 21.6178 - val_loss: 24.4320\n",
      "Epoch 424/500\n",
      "30/30 [==============================] - 0s 1ms/step - loss: 21.3137 - val_loss: 24.2446\n",
      "Epoch 425/500\n",
      "30/30 [==============================] - 0s 1ms/step - loss: 21.3014 - val_loss: 24.2709\n",
      "Epoch 426/500\n",
      "30/30 [==============================] - 0s 1ms/step - loss: 21.2296 - val_loss: 24.2281\n",
      "Epoch 427/500\n",
      "30/30 [==============================] - 0s 1ms/step - loss: 21.2782 - val_loss: 24.1159\n",
      "Epoch 428/500\n",
      "30/30 [==============================] - 0s 1ms/step - loss: 21.1706 - val_loss: 24.1489\n",
      "Epoch 429/500\n",
      "30/30 [==============================] - 0s 1ms/step - loss: 21.0909 - val_loss: 24.0158\n",
      "Epoch 430/500\n",
      "30/30 [==============================] - 0s 1ms/step - loss: 21.2730 - val_loss: 24.2268\n",
      "Epoch 431/500\n",
      "30/30 [==============================] - 0s 1ms/step - loss: 21.4429 - val_loss: 24.2912\n",
      "Epoch 432/500\n",
      "30/30 [==============================] - 0s 1ms/step - loss: 21.1148 - val_loss: 24.1139\n",
      "Epoch 433/500\n",
      "30/30 [==============================] - 0s 1ms/step - loss: 21.5263 - val_loss: 23.8885\n",
      "Epoch 434/500\n",
      "30/30 [==============================] - 0s 1ms/step - loss: 21.3264 - val_loss: 23.8136\n",
      "Epoch 435/500\n",
      "30/30 [==============================] - 0s 1ms/step - loss: 20.9571 - val_loss: 23.8430\n",
      "Epoch 436/500\n",
      "30/30 [==============================] - 0s 1ms/step - loss: 21.0123 - val_loss: 23.8064\n",
      "Epoch 437/500\n",
      "30/30 [==============================] - 0s 1ms/step - loss: 20.8132 - val_loss: 23.6595\n",
      "Epoch 438/500\n",
      "30/30 [==============================] - 0s 1ms/step - loss: 21.0542 - val_loss: 23.5930\n",
      "Epoch 439/500\n",
      "30/30 [==============================] - 0s 1ms/step - loss: 20.8198 - val_loss: 23.5647\n",
      "Epoch 440/500\n",
      "30/30 [==============================] - 0s 1ms/step - loss: 20.7950 - val_loss: 23.6833\n",
      "Epoch 441/500\n",
      "30/30 [==============================] - 0s 1ms/step - loss: 20.7612 - val_loss: 23.4775\n",
      "Epoch 442/500\n",
      "30/30 [==============================] - 0s 2ms/step - loss: 20.8153 - val_loss: 23.4353\n",
      "Epoch 443/500\n",
      "30/30 [==============================] - 0s 2ms/step - loss: 20.7040 - val_loss: 23.6028\n",
      "Epoch 444/500\n",
      "30/30 [==============================] - 0s 2ms/step - loss: 20.7366 - val_loss: 23.4061\n",
      "Epoch 445/500\n",
      "30/30 [==============================] - 0s 2ms/step - loss: 20.4923 - val_loss: 23.3564\n",
      "Epoch 446/500\n",
      "30/30 [==============================] - 0s 2ms/step - loss: 20.5747 - val_loss: 23.3419\n",
      "Epoch 447/500\n",
      "30/30 [==============================] - 0s 2ms/step - loss: 20.8919 - val_loss: 23.8859\n",
      "Epoch 448/500\n",
      "30/30 [==============================] - 0s 2ms/step - loss: 20.4701 - val_loss: 23.2366\n",
      "Epoch 449/500\n",
      "30/30 [==============================] - 0s 2ms/step - loss: 20.5289 - val_loss: 23.6005\n",
      "Epoch 450/500\n",
      "30/30 [==============================] - 0s 2ms/step - loss: 20.4082 - val_loss: 23.2804\n",
      "Epoch 451/500\n",
      "30/30 [==============================] - 0s 1ms/step - loss: 20.3314 - val_loss: 23.2295\n",
      "Epoch 452/500\n",
      "30/30 [==============================] - 0s 1ms/step - loss: 20.2939 - val_loss: 23.1089\n",
      "Epoch 453/500\n",
      "30/30 [==============================] - 0s 1ms/step - loss: 20.2827 - val_loss: 23.1571\n",
      "Epoch 454/500\n",
      "30/30 [==============================] - 0s 1ms/step - loss: 20.2038 - val_loss: 23.1659\n",
      "Epoch 455/500\n",
      "30/30 [==============================] - 0s 1ms/step - loss: 21.1088 - val_loss: 23.0127\n",
      "Epoch 456/500\n",
      "30/30 [==============================] - 0s 1ms/step - loss: 20.6432 - val_loss: 23.0090\n",
      "Epoch 457/500\n",
      "30/30 [==============================] - 0s 1ms/step - loss: 20.3257 - val_loss: 22.9194\n",
      "Epoch 458/500\n",
      "30/30 [==============================] - 0s 1ms/step - loss: 20.5421 - val_loss: 23.0087\n",
      "Epoch 459/500\n",
      "30/30 [==============================] - 0s 1ms/step - loss: 20.1102 - val_loss: 22.9090\n",
      "Epoch 460/500\n",
      "30/30 [==============================] - 0s 1ms/step - loss: 20.2147 - val_loss: 23.1984\n",
      "Epoch 461/500\n",
      "30/30 [==============================] - 0s 1ms/step - loss: 20.0591 - val_loss: 22.8385\n",
      "Epoch 462/500\n",
      "30/30 [==============================] - 0s 1ms/step - loss: 20.1520 - val_loss: 23.0526\n",
      "Epoch 463/500\n",
      "30/30 [==============================] - 0s 1ms/step - loss: 19.9738 - val_loss: 23.0413\n",
      "Epoch 464/500\n",
      "30/30 [==============================] - 0s 1ms/step - loss: 20.2006 - val_loss: 23.0060\n",
      "Epoch 465/500\n",
      "30/30 [==============================] - 0s 1ms/step - loss: 20.0164 - val_loss: 22.7037\n",
      "Epoch 466/500\n",
      "30/30 [==============================] - 0s 1ms/step - loss: 20.7231 - val_loss: 22.9175\n",
      "Epoch 467/500\n",
      "30/30 [==============================] - 0s 1ms/step - loss: 19.9323 - val_loss: 22.9104\n",
      "Epoch 468/500\n",
      "30/30 [==============================] - 0s 1ms/step - loss: 19.9738 - val_loss: 22.7085\n",
      "Epoch 469/500\n",
      "30/30 [==============================] - 0s 1ms/step - loss: 19.9429 - val_loss: 22.5079\n",
      "Epoch 470/500\n",
      "30/30 [==============================] - 0s 1ms/step - loss: 19.7837 - val_loss: 22.6744\n",
      "Epoch 471/500\n"
     ]
    },
    {
     "name": "stdout",
     "output_type": "stream",
     "text": [
      "30/30 [==============================] - 0s 1ms/step - loss: 19.8404 - val_loss: 22.5010\n",
      "Epoch 472/500\n",
      "30/30 [==============================] - 0s 1ms/step - loss: 19.8146 - val_loss: 22.4420\n",
      "Epoch 473/500\n",
      "30/30 [==============================] - 0s 1ms/step - loss: 19.8214 - val_loss: 22.5917\n",
      "Epoch 474/500\n",
      "30/30 [==============================] - 0s 1ms/step - loss: 19.7357 - val_loss: 22.4644\n",
      "Epoch 475/500\n",
      "30/30 [==============================] - 0s 1ms/step - loss: 19.7166 - val_loss: 22.8050\n",
      "Epoch 476/500\n",
      "30/30 [==============================] - 0s 1ms/step - loss: 19.6195 - val_loss: 22.4949\n",
      "Epoch 477/500\n",
      "30/30 [==============================] - 0s 1ms/step - loss: 19.7282 - val_loss: 22.4166\n",
      "Epoch 478/500\n",
      "30/30 [==============================] - 0s 1ms/step - loss: 19.6250 - val_loss: 22.5641\n",
      "Epoch 479/500\n",
      "30/30 [==============================] - 0s 1ms/step - loss: 19.5359 - val_loss: 22.6555\n",
      "Epoch 480/500\n",
      "30/30 [==============================] - 0s 1ms/step - loss: 19.5389 - val_loss: 22.2382\n",
      "Epoch 481/500\n",
      "30/30 [==============================] - 0s 1ms/step - loss: 19.4988 - val_loss: 22.6558\n",
      "Epoch 482/500\n",
      "30/30 [==============================] - 0s 1ms/step - loss: 20.2107 - val_loss: 22.3406\n",
      "Epoch 483/500\n",
      "30/30 [==============================] - 0s 1ms/step - loss: 19.6454 - val_loss: 22.3440\n",
      "Epoch 484/500\n",
      "30/30 [==============================] - 0s 1ms/step - loss: 19.5121 - val_loss: 22.2167\n",
      "Epoch 485/500\n",
      "30/30 [==============================] - 0s 1ms/step - loss: 19.5052 - val_loss: 22.1657\n",
      "Epoch 486/500\n",
      "30/30 [==============================] - 0s 1ms/step - loss: 19.5197 - val_loss: 22.3947\n",
      "Epoch 487/500\n",
      "30/30 [==============================] - 0s 1ms/step - loss: 19.4972 - val_loss: 22.2314\n",
      "Epoch 488/500\n",
      "30/30 [==============================] - 0s 1ms/step - loss: 19.5342 - val_loss: 22.2128\n",
      "Epoch 489/500\n",
      "30/30 [==============================] - 0s 1ms/step - loss: 19.3892 - val_loss: 22.4810\n",
      "Epoch 490/500\n",
      "30/30 [==============================] - 0s 3ms/step - loss: 19.4015 - val_loss: 22.0857\n",
      "Epoch 491/500\n",
      "30/30 [==============================] - 0s 1ms/step - loss: 19.4001 - val_loss: 22.0881\n",
      "Epoch 492/500\n",
      "30/30 [==============================] - 0s 1ms/step - loss: 19.2727 - val_loss: 22.1342\n",
      "Epoch 493/500\n",
      "30/30 [==============================] - 0s 1ms/step - loss: 19.3024 - val_loss: 22.1084\n",
      "Epoch 494/500\n",
      "30/30 [==============================] - 0s 1ms/step - loss: 19.2326 - val_loss: 21.9613\n",
      "Epoch 495/500\n",
      "30/30 [==============================] - 0s 1ms/step - loss: 19.3381 - val_loss: 21.9433\n",
      "Epoch 496/500\n",
      "30/30 [==============================] - 0s 1ms/step - loss: 19.2115 - val_loss: 22.0794\n",
      "Epoch 497/500\n",
      "30/30 [==============================] - 0s 1ms/step - loss: 19.1612 - val_loss: 22.1174\n",
      "Epoch 498/500\n",
      "30/30 [==============================] - 0s 1ms/step - loss: 19.1759 - val_loss: 21.9882\n",
      "Epoch 499/500\n",
      "30/30 [==============================] - 0s 1ms/step - loss: 19.2390 - val_loss: 22.1382\n",
      "Epoch 500/500\n",
      "30/30 [==============================] - 0s 1ms/step - loss: 19.3043 - val_loss: 22.0924\n"
     ]
    },
    {
     "data": {
      "text/plain": [
       "<tensorflow.python.keras.callbacks.History at 0x17a993dc3d0>"
      ]
     },
     "execution_count": 30,
     "metadata": {},
     "output_type": "execute_result"
    }
   ],
   "source": [
    "# Train the network using the training data.\n",
    "# Keep track of loss for validation data too - not being used in training.\n",
    "# Could do history = model.fit(X_train, y_train, epochs=500, batch_size=10, validation_data=(X_val, y_val))\n",
    "model.fit(X_train, y_train, epochs=500, batch_size=10, validation_data=(X_val, y_val))"
   ]
  },
  {
   "cell_type": "markdown",
   "metadata": {},
   "source": [
    "Ideally, the loss calculated from the training data should be close to that calculated using the validation data (which was not used in training the model). If they differ significantly, that's a sign that something is up. Some parameters may need to be changed. If the validation error is still reducing, the model hasn't converged yet and one can continue training by just running the above cell again. I hadn't fully appreciated the difference between the train/test data and the validation data, but I see it now: the training data is used to train the model, the validation data is used to measure loss during model training to see if there are problems like under or overfitting. If there are, parameters can be changed and the model re-trained. Finally, after training and tuning of parameters, the test data is used to make predictions. It has had no input to the model training."
   ]
  },
  {
   "cell_type": "code",
   "execution_count": 31,
   "metadata": {},
   "outputs": [
    {
     "data": {
      "text/plain": [
       "<matplotlib.legend.Legend at 0x17a9975e0a0>"
      ]
     },
     "execution_count": 31,
     "metadata": {},
     "output_type": "execute_result"
    },
    {
     "data": {
      "image/png": "[encoded data removed]",
      "text/plain": [
       "<Figure size 576x432 with 1 Axes>"
      ]
     },
     "metadata": {
      "needs_background": "light"
     },
     "output_type": "display_data"
    }
   ],
   "source": [
    "# Look at prediction for the test data - was not used in training.\n",
    "plt.plot(X, y, 'co', label=\"data\")\n",
    "plt.plot(X_test, model.predict(X_test), 'k.', label=\"neural n/w\")\n",
    "plt.xlabel('Speed (m/s)', fontsize='14')\n",
    "plt.ylabel('power (kW)', fontsize='14')\n",
    "plt.title(\"Neural network prediction on test data\")\n",
    "plt.grid()\n",
    "plt.legend()"
   ]
  },
  {
   "cell_type": "markdown",
   "metadata": {},
   "source": [
    "This is doing an excellent job, and to be honest, it seems like magic to me. Without knowing a thing about the data - why it looks like it does - we can make predictions. I'm more used to knowing what a quantity should look like in theory, and then fitting experimental data to that theory in order to measure error. "
   ]
  },
  {
   "cell_type": "code",
   "execution_count": 32,
   "metadata": {},
   "outputs": [
    {
     "name": "stdout",
     "output_type": "stream",
     "text": [
      "[[101.81816]]\n"
     ]
    }
   ],
   "source": [
    "# Predict from a single input value - seems sensible.\n",
    "wind = [[23]]\n",
    "print(model.predict(wind))"
   ]
  },
  {
   "cell_type": "markdown",
   "metadata": {},
   "source": [
    "### Save this neural network model"
   ]
  },
  {
   "cell_type": "code",
   "execution_count": 33,
   "metadata": {},
   "outputs": [
    {
     "name": "stdout",
     "output_type": "stream",
     "text": [
      "Neural network model saved as neural-nw.h5\n"
     ]
    }
   ],
   "source": [
    "model.save(\"neural-nw.h5\")\n",
    "print(\"Neural network model saved as neural-nw.h5\")"
   ]
  },
  {
   "cell_type": "markdown",
   "metadata": {},
   "source": [
    "## References\n",
    "<span style='color:red'> [1 Geron] </span> Aurelien Geron, *Hands-on Machine Learning with Scikit-Learn, Keras & TensorFlow*, **2019**, 2nd Edition, O'Reilly Media, Inc., CA\n",
    "\n",
    "<span style='color:red'> [2 np random] </span> numpy.random.rayleigh, NumPy v1.19 Manual, https://numpy.org/doc/stable/reference/random/generated/numpy.random.rayleigh.html\n",
    "\n",
    "<span style='color:red'> [3 WT curve] </span> Wind Energy Basics, New York Wind Energy Guide for Local Decision Makers, www.nyserda.ny.gov/-/media/Files/Publications/Research/Biomass-Solar-Wind/NY-Wind-Energy-Guide-1.pdf, (Accessed 9 Nov. 2020).\n",
    "\n",
    "<span style='color:red'> [4 WT calc] </span> Wind Turbine Power Calculations, RWE npower renewables, https://docplayer.net/17802133-Wind-turbine-power-calculations.html, (Accessed 21 Oct. 2020).\n",
    "\n",
    "<span style='color:red'> [5 Medium nlr] </span> Medium.com, Understanding Non-Linear Regression, https://medium.com/towards-artificial-intelligence/understanding-non-linear-regression-fbef9a396b71 (Accessed 1 Dec. 2020).\n",
    "\n",
    "<span style='color:red'> [6 CourseML] </span> Andrew Ng, Coursera Machine Learning offered by Stanford, https://www.coursera.org/learn/machine-learning, (Completed & certified Sept. 2020).\n",
    "\n",
    "<span style='color:red'> [7 Medium polyReg] </span> Medium.com, Polynomial Regression, https://towardsdatascience.com/polynomial-regression-bbe8b9d97491 (Accessed 7 Dec. 2020).\n",
    "\n",
    "<span style='color:red'> [8 Medium SVRreg] </span> Medium.com, Support Vector Regression in 6 Steps with Python, https://medium.com/pursuitnotes/support-vector-regression-in-6-steps-with-python-c4569acd062d (Accessed 9 Dec. 2020).\n",
    "\n",
    "<span style='color:red'> [9 SVR] </span> Scikit-learn, 1.4. Support Vector Machines, https://scikit-learn.org/stable/modules/svm.html#regression (Accessed 12 Dec. 2020).\n",
    "\n",
    "<span style='color:red'> [10 SKLsvrKer] </span> Scikit-learn, Support Vector Regression (SVR) using linear and non-linear kernels, https://ogrisel.github.io/scikit-learn.org/sklearn-tutorial/auto_examples/svm/plot_svm_regression.html (Accessed 12 Dec. 2020).\n",
    "\n",
    "<span style='color:red'> [11 DFkernel] </span> Data Flair, Kernel Functions-Introduction to SVM Kernel & Examples, https://data-flair.training/blogs/svm-kernel-functions/#:~:text=SVM%20Kernel%20Functions&text=The%20function%20of%20kernel%20is,(RBF)%2C%20and%20sigmoid. (Accessed 12 Dec. 2020).\n",
    "\n",
    "<span style='color:red'> [12 MLMscaler] </span> Machine Learning Mastery, How to Use StandardScaler and MinMaxScaler Transforms in Python, https://machinelearningmastery.com/standardscaler-and-minmaxscaler-transforms-in-python/ (Accessed 12 Dec. 2020).\n",
    "\n",
    "<span style='color:red'> [13 SVRpractical] </span> Scikit-learn, 1.4.5. Tips on Practical Use, https://scikit-learn.org/stable/modules/svm.html#tips-on-practical-use (Accessed 12 Dec. 2020).\n",
    "\n",
    "<span style='color:red'> [14 WikiANN] </span> Wikipedia, Artificial neural network, https://en.wikipedia.org/wiki/Artificial_neural_network (Accessed 16 Dec. 2020).\n",
    "\n",
    "<span style='color:red'> [15 keras] </span> Keras, Introduction to Keras for Engineers, https://keras.io/getting_started/intro_to_keras_for_engineers/ (Accessed 16 Dec. 2020).\n",
    "\n",
    "<span style='color:red'> [16 tf] </span> TensorFlow, https://www.tensorflow.org/ (Accessed 16 Dec. 2020).\n",
    "\n",
    "<span style='color:red'> [17 mediumANN] </span> Medium.com, The Artificial Neural Networks handbook: Part 1, https://medium.com/coinmonks/the-artificial-neural-networks-handbook-part-1-f9ceb0e376b4 (Accessed 17 Dec. 2020).\n",
    "\n",
    "<span style='color:red'> [18 NNWhowto] </span> Machine Learning Mastery, How To Build Multi-Layer Perceptron Neural Network Models with Keras, https://machinelearningmastery.com/build-multi-layer-perceptron-neural-network-models-keras/ (Accessed 16 Dec. 2020).\n",
    "\n",
    "<span style='color:red'> [19 SOkerasIP] </span> Stack Overflow, Keras input explanation: input_shape, units, batch_size, dim, etc, https://stackoverflow.com/questions/44747343/keras-input-explanation-input-shape-units-batch-size-dim-etc (Accessed 17 Dec. 2020).\n",
    "\n",
    "https://machinelearningmastery.com/save-load-machine-learning-models-python-scikit-learn/ BASIC pickle\n",
    "\n",
    "https://machinelearningmastery.com/how-to-save-and-load-models-and-data-preparation-in-scikit-learn-for-later-use/ scaler\n",
    "\n",
    "https://machinelearningmastery.com/save-load-keras-deep-learning-models/ GOOD\n",
    "\n",
    "\n",
    "https://srnghn.medium.com/machine-learning-trying-to-predict-a-numerical-value-8aafb9ad4d36\n",
    "\n",
    "https://stackoverflow.blog/2020/10/12/how-to-put-machine-learning-models-into-production/\n",
    "\n",
    "https://towardsdatascience.com/simple-way-to-deploy-machine-learning-models-to-cloud-fd58b771fdcf\n",
    "\n",
    "Consulted:\n",
    "***\n",
    "<span style='color:red'> [WT FAQ] </span> Wind Turbine FAQ, ENERPOWER Total Energy Solutions, https://enerpower.ie/portfolio/wind-turbine-faq-ireland/, (Accessed 21 Oct. 2020).\n",
    "\n",
    "<span style='color:red'> [MLM select] </span> Machine Learning Mastery, A Gentle Introduction to Model Selection for Machine Learning, https://machinelearningmastery.com/a-gentle-introduction-to-model-selection-for-machine-learning/ (Accessed 30 Nov. 2020)\n",
    "\n",
    "<span style='color:red'> [x GDvsSGD] </span> Stack Exchange, What is the difference between Gradient Descent and Stochastic Gradient Descent?, https://datascience.stackexchange.com/questions/36450/what-is-the-difference-between-gradient-descent-and-stochastic-gradient-descent#:~:text=In%20Gradient%20Descent%20or%20Batch,of%20training%20data%20per%20epoch (Accessed 16 Dec. 2020)."
   ]
  },
  {
   "cell_type": "markdown",
   "metadata": {},
   "source": [
    "To do:\n",
    "- saving models\n",
    "- restoring models\n",
    "- saving scalers\n",
    "- saving poly features transform if need be."
   ]
  },
  {
   "cell_type": "markdown",
   "metadata": {},
   "source": [
    "<br>\n",
    "\n",
    "### End"
   ]
  }
 ],
 "metadata": {
  "kernelspec": {
   "display_name": "Python 3",
   "language": "python",
   "name": "python3"
  },
  "language_info": {
   "codemirror_mode": {
    "name": "ipython",
    "version": 3
   },
   "file_extension": ".py",
   "mimetype": "text/x-python",
   "name": "python",
   "nbconvert_exporter": "python",
   "pygments_lexer": "ipython3",
   "version": "3.8.5"
  }
 },
 "nbformat": 4,
 "nbformat_minor": 4
}
